{
 "cells": [
  {
   "cell_type": "markdown",
   "metadata": {},
   "source": [
    "___\n",
    "\n",
    "<a href='http://www.pieriandata.com'> <img src='../Pierian_Data_Logo.png' /></a>\n",
    "___\n",
    "# Plotly and Cufflinks"
   ]
  },
  {
   "cell_type": "markdown",
   "metadata": {},
   "source": [
    "Plotly is a library that allows you to create interactive plots that you can use in dashboards or websites (you can save them as html files or static images).\n",
    "\n",
    "## Installation\n",
    "\n",
    "In order for this all to work, you'll need to install plotly and cufflinks to call plots directly off of a pandas dataframe. These libraries are not currently available through **conda** but are available through **pip**. Install the libraries at your command line/terminal using:\n",
    "\n",
    "    pip install plotly\n",
    "    pip install cufflinks\n",
    "\n",
    "** NOTE: Make sure you only have one installation of Python on your computer when you do this, otherwise the installation may not work. **\n",
    "\n",
    "## Imports and Set-up"
   ]
  },
  {
   "cell_type": "code",
   "execution_count": 7,
   "metadata": {},
   "outputs": [],
   "source": [
    "import pandas as pd\n",
    "import numpy as np\n",
    "%matplotlib inline"
   ]
  },
  {
   "cell_type": "code",
   "execution_count": 8,
   "metadata": {},
   "outputs": [
    {
     "name": "stdout",
     "output_type": "stream",
     "text": [
      "4.8.1\n"
     ]
    }
   ],
   "source": [
    "from plotly import __version__\n",
    "from plotly.offline import download_plotlyjs, init_notebook_mode, plot, iplot\n",
    "\n",
    "print(__version__) # requires version >= 1.9.0"
   ]
  },
  {
   "cell_type": "code",
   "execution_count": 9,
   "metadata": {},
   "outputs": [],
   "source": [
    "import cufflinks as cf"
   ]
  },
  {
   "cell_type": "code",
   "execution_count": 10,
   "metadata": {},
   "outputs": [
    {
     "data": {
      "text/html": [
       "        <script type=\"text/javascript\">\n",
       "        window.PlotlyConfig = {MathJaxConfig: 'local'};\n",
       "        if (window.MathJax) {MathJax.Hub.Config({SVG: {font: \"STIX-Web\"}});}\n",
       "        if (typeof require !== 'undefined') {\n",
       "        require.undef(\"plotly\");\n",
       "        requirejs.config({\n",
       "            paths: {\n",
       "                'plotly': ['https://cdn.plot.ly/plotly-latest.min']\n",
       "            }\n",
       "        });\n",
       "        require(['plotly'], function(Plotly) {\n",
       "            window._Plotly = Plotly;\n",
       "        });\n",
       "        }\n",
       "        </script>\n",
       "        "
      ]
     },
     "metadata": {},
     "output_type": "display_data"
    }
   ],
   "source": [
    "# For Notebooks\n",
    "init_notebook_mode(connected=True)"
   ]
  },
  {
   "cell_type": "code",
   "execution_count": 11,
   "metadata": {},
   "outputs": [
    {
     "data": {
      "text/html": [
       "        <script type=\"text/javascript\">\n",
       "        window.PlotlyConfig = {MathJaxConfig: 'local'};\n",
       "        if (window.MathJax) {MathJax.Hub.Config({SVG: {font: \"STIX-Web\"}});}\n",
       "        if (typeof require !== 'undefined') {\n",
       "        require.undef(\"plotly\");\n",
       "        requirejs.config({\n",
       "            paths: {\n",
       "                'plotly': ['https://cdn.plot.ly/plotly-latest.min']\n",
       "            }\n",
       "        });\n",
       "        require(['plotly'], function(Plotly) {\n",
       "            window._Plotly = Plotly;\n",
       "        });\n",
       "        }\n",
       "        </script>\n",
       "        "
      ]
     },
     "metadata": {},
     "output_type": "display_data"
    }
   ],
   "source": [
    "# For offline use\n",
    "cf.go_offline()"
   ]
  },
  {
   "cell_type": "markdown",
   "metadata": {},
   "source": [
    "### Fake Data"
   ]
  },
  {
   "cell_type": "code",
   "execution_count": 12,
   "metadata": {},
   "outputs": [],
   "source": [
    "df = pd.DataFrame(np.random.randn(100,4),columns='A B C D'.split())"
   ]
  },
  {
   "cell_type": "code",
   "execution_count": 13,
   "metadata": {},
   "outputs": [
    {
     "data": {
      "text/html": [
       "<div>\n",
       "<style scoped>\n",
       "    .dataframe tbody tr th:only-of-type {\n",
       "        vertical-align: middle;\n",
       "    }\n",
       "\n",
       "    .dataframe tbody tr th {\n",
       "        vertical-align: top;\n",
       "    }\n",
       "\n",
       "    .dataframe thead th {\n",
       "        text-align: right;\n",
       "    }\n",
       "</style>\n",
       "<table border=\"1\" class=\"dataframe\">\n",
       "  <thead>\n",
       "    <tr style=\"text-align: right;\">\n",
       "      <th></th>\n",
       "      <th>A</th>\n",
       "      <th>B</th>\n",
       "      <th>C</th>\n",
       "      <th>D</th>\n",
       "    </tr>\n",
       "  </thead>\n",
       "  <tbody>\n",
       "    <tr>\n",
       "      <th>0</th>\n",
       "      <td>-1.413815</td>\n",
       "      <td>0.630775</td>\n",
       "      <td>-0.463404</td>\n",
       "      <td>0.518973</td>\n",
       "    </tr>\n",
       "    <tr>\n",
       "      <th>1</th>\n",
       "      <td>0.084550</td>\n",
       "      <td>2.116565</td>\n",
       "      <td>-1.245808</td>\n",
       "      <td>-0.091297</td>\n",
       "    </tr>\n",
       "    <tr>\n",
       "      <th>2</th>\n",
       "      <td>1.547198</td>\n",
       "      <td>-0.134025</td>\n",
       "      <td>-1.254487</td>\n",
       "      <td>0.123245</td>\n",
       "    </tr>\n",
       "    <tr>\n",
       "      <th>3</th>\n",
       "      <td>1.696764</td>\n",
       "      <td>-1.098062</td>\n",
       "      <td>0.799280</td>\n",
       "      <td>-1.169858</td>\n",
       "    </tr>\n",
       "    <tr>\n",
       "      <th>4</th>\n",
       "      <td>-0.750705</td>\n",
       "      <td>-2.434586</td>\n",
       "      <td>-0.692054</td>\n",
       "      <td>-0.049348</td>\n",
       "    </tr>\n",
       "  </tbody>\n",
       "</table>\n",
       "</div>"
      ],
      "text/plain": [
       "          A         B         C         D\n",
       "0 -1.413815  0.630775 -0.463404  0.518973\n",
       "1  0.084550  2.116565 -1.245808 -0.091297\n",
       "2  1.547198 -0.134025 -1.254487  0.123245\n",
       "3  1.696764 -1.098062  0.799280 -1.169858\n",
       "4 -0.750705 -2.434586 -0.692054 -0.049348"
      ]
     },
     "execution_count": 13,
     "metadata": {},
     "output_type": "execute_result"
    }
   ],
   "source": [
    "df.head()"
   ]
  },
  {
   "cell_type": "code",
   "execution_count": 14,
   "metadata": {},
   "outputs": [],
   "source": [
    "df2 = pd.DataFrame({'Category':['A','B','C'],'Values':[32,43,50]})"
   ]
  },
  {
   "cell_type": "code",
   "execution_count": 15,
   "metadata": {},
   "outputs": [
    {
     "data": {
      "text/html": [
       "<div>\n",
       "<style scoped>\n",
       "    .dataframe tbody tr th:only-of-type {\n",
       "        vertical-align: middle;\n",
       "    }\n",
       "\n",
       "    .dataframe tbody tr th {\n",
       "        vertical-align: top;\n",
       "    }\n",
       "\n",
       "    .dataframe thead th {\n",
       "        text-align: right;\n",
       "    }\n",
       "</style>\n",
       "<table border=\"1\" class=\"dataframe\">\n",
       "  <thead>\n",
       "    <tr style=\"text-align: right;\">\n",
       "      <th></th>\n",
       "      <th>Category</th>\n",
       "      <th>Values</th>\n",
       "    </tr>\n",
       "  </thead>\n",
       "  <tbody>\n",
       "    <tr>\n",
       "      <th>0</th>\n",
       "      <td>A</td>\n",
       "      <td>32</td>\n",
       "    </tr>\n",
       "    <tr>\n",
       "      <th>1</th>\n",
       "      <td>B</td>\n",
       "      <td>43</td>\n",
       "    </tr>\n",
       "    <tr>\n",
       "      <th>2</th>\n",
       "      <td>C</td>\n",
       "      <td>50</td>\n",
       "    </tr>\n",
       "  </tbody>\n",
       "</table>\n",
       "</div>"
      ],
      "text/plain": [
       "  Category  Values\n",
       "0        A      32\n",
       "1        B      43\n",
       "2        C      50"
      ]
     },
     "execution_count": 15,
     "metadata": {},
     "output_type": "execute_result"
    }
   ],
   "source": [
    "df2.head()"
   ]
  },
  {
   "cell_type": "markdown",
   "metadata": {},
   "source": [
    "## Using Cufflinks and iplot()\n",
    "\n",
    "* scatter\n",
    "* bar\n",
    "* box\n",
    "* spread\n",
    "* ratio\n",
    "* heatmap\n",
    "* surface\n",
    "* histogram\n",
    "* bubble"
   ]
  },
  {
   "cell_type": "markdown",
   "metadata": {},
   "source": [
    "## Scatter"
   ]
  },
  {
   "cell_type": "code",
   "execution_count": 16,
   "metadata": {},
   "outputs": [
    {
     "data": {
      "application/vnd.plotly.v1+json": {
       "config": {
        "linkText": "Export to plot.ly",
        "plotlyServerURL": "https://plot.ly",
        "showLink": true
       },
       "data": [
        {
         "line": {
          "color": "rgba(255, 153, 51, 1.0)",
          "dash": "solid",
          "shape": "linear",
          "width": 1.3
         },
         "marker": {
          "size": 10,
          "symbol": "circle"
         },
         "mode": "markers",
         "name": "B",
         "text": "",
         "type": "scatter",
         "x": [
          -1.4138153976580274,
          0.08455022128887005,
          1.5471984510871117,
          1.6967637029976672,
          -0.7507050193197625,
          0.6144492892274529,
          0.10523618232753329,
          1.207121390424313,
          1.7326766078557791,
          -0.21328491944561068,
          2.008579499791018,
          0.21547481593456028,
          0.3808402686537413,
          -0.06092935790697329,
          0.8370766754499239,
          0.8274287807229304,
          -0.4126127693231269,
          -0.16929922544402398,
          0.7208595301409876,
          0.7733136383374829,
          -0.28892514206321673,
          -0.8762071774130635,
          -0.80619652439963,
          1.2305229116274847,
          -0.38858088186267853,
          0.7897841741518612,
          -0.8489199189374191,
          -1.3654506088764375,
          0.48549328430965677,
          0.35924680412438875,
          1.1114054429854745,
          0.0886027064970111,
          -0.4636103442398656,
          -0.20840951954222545,
          0.1405922012276346,
          -0.24064485943761077,
          -0.8334111091782375,
          1.842590317603657,
          -0.3371466088321572,
          -0.2034175748337479,
          -2.3459567831821633,
          -0.4017961959202484,
          0.4723198933313565,
          0.7501448239663938,
          -1.0693669073862617,
          1.5986290804606074,
          -0.24461314844453189,
          0.10368147740607012,
          -1.4969890118186504,
          -0.12435682418267893,
          1.274839898045271,
          -0.5169915646947392,
          -1.0712305609778643,
          -0.48659733893741813,
          0.3587922256913342,
          1.0999910285647592,
          0.9149839476261293,
          -0.486099575812348,
          -0.7608301228828495,
          -0.43453947979910407,
          -0.4378707689182603,
          0.01856409953642223,
          0.3832610655005692,
          -2.0933524665046948,
          1.7283265223487883,
          0.9869190365137367,
          0.40571454260259016,
          -0.5152470857611197,
          0.8786939279620871,
          0.4279175871191947,
          -2.601024184701134,
          -0.683284735855935,
          0.849927363712278,
          0.8857275580349077,
          1.2882816361582505,
          -0.519059352346447,
          -0.6904750615623734,
          0.8241614462286408,
          -0.46459047977908063,
          0.11913998254705363,
          0.13758868739779878,
          0.24332496851049237,
          0.018205797429998904,
          0.358933107643315,
          1.1315519087511798,
          -0.7637852405135656,
          0.3135604813218632,
          0.2377824938105682,
          1.2657677242286454,
          0.7290062940756441,
          0.6480948280599899,
          -0.1565135938137894,
          0.4133359631767297,
          0.7647690463317591,
          -1.4126303876542592,
          -0.24760521350475748,
          1.5285367941102805,
          -1.1365724953019072,
          0.21258239309873145,
          1.4010067851622496
         ],
         "y": [
          0.6307750025445071,
          2.1165649393990944,
          -0.13402531428069492,
          -1.0980616376530266,
          -2.434586496069079,
          -1.3053078896558565,
          -0.07090686858487011,
          0.2058256171970834,
          -0.399262838679452,
          -0.14038606848181132,
          0.9187536646281099,
          -0.8442053961123566,
          -0.2203312366099077,
          0.6148352056947539,
          0.5487157074264113,
          -0.8815647579995127,
          -0.34319730713674246,
          -1.0520874575465975,
          -0.5654422884296576,
          -0.09868497816887367,
          -0.4968289089377307,
          0.2716017943118359,
          0.9226989164424838,
          -0.5239432560546522,
          -0.8805108560299565,
          1.0291913615050854,
          -0.09431283356381821,
          -0.9703360343139987,
          0.47166862549484884,
          -1.2700349012817091,
          0.413275586679944,
          -0.04254191220658984,
          -0.3338980359576901,
          -0.675195513492032,
          1.550294420863555,
          1.1516766730039087,
          0.6535287491249111,
          0.6144648993585563,
          0.789565666569126,
          -0.3433168130690615,
          -0.05275694170220859,
          0.3020462133498991,
          -0.06943522706603063,
          -0.35192362829665536,
          0.6126596333884724,
          1.5578365933599612,
          -0.1253060804619179,
          -1.3902002070743285,
          -0.8174637537749673,
          0.11333678312936613,
          1.3356891122813224,
          0.19964929894159641,
          0.08236990727602006,
          1.2201019912024953,
          -0.5511844759854739,
          -0.8289846840857326,
          0.33884864688721744,
          1.0881768989607006,
          -0.7703403348773846,
          -0.2946516470282624,
          0.06536745681673374,
          0.7892622385305326,
          1.6351318760725766,
          -0.3738887659267329,
          0.5705852579762929,
          1.7567400703602254,
          1.5658507756576097,
          -0.32738934219238813,
          -3.4188171677438355,
          -0.8446793972616198,
          -0.0745933598454902,
          0.9009946023546918,
          0.04500369804380455,
          -0.16211529173578793,
          -1.612928599166473,
          -0.010132569394765995,
          0.17953472500659787,
          0.0064179642326903244,
          0.1326959809776376,
          1.946233101865483,
          0.03252092127965211,
          -0.5130179934757979,
          0.1429766964487547,
          -1.0395116288148776,
          -1.160703594319139,
          0.4435732597243696,
          1.5891745109922495,
          0.31166755938333734,
          -0.9900532640822058,
          0.6440787128368036,
          0.5558862615610557,
          0.2982157252903566,
          0.653861307961139,
          -0.9103614368183744,
          -0.20579788187733009,
          1.2582778382184772,
          -0.8122835465461327,
          -0.2767951603430714,
          -1.3958080501251722,
          0.6847098823556407
         ]
        }
       ],
       "layout": {
        "legend": {
         "bgcolor": "#F5F6F9",
         "font": {
          "color": "#4D5663"
         }
        },
        "paper_bgcolor": "#F5F6F9",
        "plot_bgcolor": "#F5F6F9",
        "template": {
         "data": {
          "bar": [
           {
            "error_x": {
             "color": "#2a3f5f"
            },
            "error_y": {
             "color": "#2a3f5f"
            },
            "marker": {
             "line": {
              "color": "#E5ECF6",
              "width": 0.5
             }
            },
            "type": "bar"
           }
          ],
          "barpolar": [
           {
            "marker": {
             "line": {
              "color": "#E5ECF6",
              "width": 0.5
             }
            },
            "type": "barpolar"
           }
          ],
          "carpet": [
           {
            "aaxis": {
             "endlinecolor": "#2a3f5f",
             "gridcolor": "white",
             "linecolor": "white",
             "minorgridcolor": "white",
             "startlinecolor": "#2a3f5f"
            },
            "baxis": {
             "endlinecolor": "#2a3f5f",
             "gridcolor": "white",
             "linecolor": "white",
             "minorgridcolor": "white",
             "startlinecolor": "#2a3f5f"
            },
            "type": "carpet"
           }
          ],
          "choropleth": [
           {
            "colorbar": {
             "outlinewidth": 0,
             "ticks": ""
            },
            "type": "choropleth"
           }
          ],
          "contour": [
           {
            "colorbar": {
             "outlinewidth": 0,
             "ticks": ""
            },
            "colorscale": [
             [
              0,
              "#0d0887"
             ],
             [
              0.1111111111111111,
              "#46039f"
             ],
             [
              0.2222222222222222,
              "#7201a8"
             ],
             [
              0.3333333333333333,
              "#9c179e"
             ],
             [
              0.4444444444444444,
              "#bd3786"
             ],
             [
              0.5555555555555556,
              "#d8576b"
             ],
             [
              0.6666666666666666,
              "#ed7953"
             ],
             [
              0.7777777777777778,
              "#fb9f3a"
             ],
             [
              0.8888888888888888,
              "#fdca26"
             ],
             [
              1,
              "#f0f921"
             ]
            ],
            "type": "contour"
           }
          ],
          "contourcarpet": [
           {
            "colorbar": {
             "outlinewidth": 0,
             "ticks": ""
            },
            "type": "contourcarpet"
           }
          ],
          "heatmap": [
           {
            "colorbar": {
             "outlinewidth": 0,
             "ticks": ""
            },
            "colorscale": [
             [
              0,
              "#0d0887"
             ],
             [
              0.1111111111111111,
              "#46039f"
             ],
             [
              0.2222222222222222,
              "#7201a8"
             ],
             [
              0.3333333333333333,
              "#9c179e"
             ],
             [
              0.4444444444444444,
              "#bd3786"
             ],
             [
              0.5555555555555556,
              "#d8576b"
             ],
             [
              0.6666666666666666,
              "#ed7953"
             ],
             [
              0.7777777777777778,
              "#fb9f3a"
             ],
             [
              0.8888888888888888,
              "#fdca26"
             ],
             [
              1,
              "#f0f921"
             ]
            ],
            "type": "heatmap"
           }
          ],
          "heatmapgl": [
           {
            "colorbar": {
             "outlinewidth": 0,
             "ticks": ""
            },
            "colorscale": [
             [
              0,
              "#0d0887"
             ],
             [
              0.1111111111111111,
              "#46039f"
             ],
             [
              0.2222222222222222,
              "#7201a8"
             ],
             [
              0.3333333333333333,
              "#9c179e"
             ],
             [
              0.4444444444444444,
              "#bd3786"
             ],
             [
              0.5555555555555556,
              "#d8576b"
             ],
             [
              0.6666666666666666,
              "#ed7953"
             ],
             [
              0.7777777777777778,
              "#fb9f3a"
             ],
             [
              0.8888888888888888,
              "#fdca26"
             ],
             [
              1,
              "#f0f921"
             ]
            ],
            "type": "heatmapgl"
           }
          ],
          "histogram": [
           {
            "marker": {
             "colorbar": {
              "outlinewidth": 0,
              "ticks": ""
             }
            },
            "type": "histogram"
           }
          ],
          "histogram2d": [
           {
            "colorbar": {
             "outlinewidth": 0,
             "ticks": ""
            },
            "colorscale": [
             [
              0,
              "#0d0887"
             ],
             [
              0.1111111111111111,
              "#46039f"
             ],
             [
              0.2222222222222222,
              "#7201a8"
             ],
             [
              0.3333333333333333,
              "#9c179e"
             ],
             [
              0.4444444444444444,
              "#bd3786"
             ],
             [
              0.5555555555555556,
              "#d8576b"
             ],
             [
              0.6666666666666666,
              "#ed7953"
             ],
             [
              0.7777777777777778,
              "#fb9f3a"
             ],
             [
              0.8888888888888888,
              "#fdca26"
             ],
             [
              1,
              "#f0f921"
             ]
            ],
            "type": "histogram2d"
           }
          ],
          "histogram2dcontour": [
           {
            "colorbar": {
             "outlinewidth": 0,
             "ticks": ""
            },
            "colorscale": [
             [
              0,
              "#0d0887"
             ],
             [
              0.1111111111111111,
              "#46039f"
             ],
             [
              0.2222222222222222,
              "#7201a8"
             ],
             [
              0.3333333333333333,
              "#9c179e"
             ],
             [
              0.4444444444444444,
              "#bd3786"
             ],
             [
              0.5555555555555556,
              "#d8576b"
             ],
             [
              0.6666666666666666,
              "#ed7953"
             ],
             [
              0.7777777777777778,
              "#fb9f3a"
             ],
             [
              0.8888888888888888,
              "#fdca26"
             ],
             [
              1,
              "#f0f921"
             ]
            ],
            "type": "histogram2dcontour"
           }
          ],
          "mesh3d": [
           {
            "colorbar": {
             "outlinewidth": 0,
             "ticks": ""
            },
            "type": "mesh3d"
           }
          ],
          "parcoords": [
           {
            "line": {
             "colorbar": {
              "outlinewidth": 0,
              "ticks": ""
             }
            },
            "type": "parcoords"
           }
          ],
          "pie": [
           {
            "automargin": true,
            "type": "pie"
           }
          ],
          "scatter": [
           {
            "marker": {
             "colorbar": {
              "outlinewidth": 0,
              "ticks": ""
             }
            },
            "type": "scatter"
           }
          ],
          "scatter3d": [
           {
            "line": {
             "colorbar": {
              "outlinewidth": 0,
              "ticks": ""
             }
            },
            "marker": {
             "colorbar": {
              "outlinewidth": 0,
              "ticks": ""
             }
            },
            "type": "scatter3d"
           }
          ],
          "scattercarpet": [
           {
            "marker": {
             "colorbar": {
              "outlinewidth": 0,
              "ticks": ""
             }
            },
            "type": "scattercarpet"
           }
          ],
          "scattergeo": [
           {
            "marker": {
             "colorbar": {
              "outlinewidth": 0,
              "ticks": ""
             }
            },
            "type": "scattergeo"
           }
          ],
          "scattergl": [
           {
            "marker": {
             "colorbar": {
              "outlinewidth": 0,
              "ticks": ""
             }
            },
            "type": "scattergl"
           }
          ],
          "scattermapbox": [
           {
            "marker": {
             "colorbar": {
              "outlinewidth": 0,
              "ticks": ""
             }
            },
            "type": "scattermapbox"
           }
          ],
          "scatterpolar": [
           {
            "marker": {
             "colorbar": {
              "outlinewidth": 0,
              "ticks": ""
             }
            },
            "type": "scatterpolar"
           }
          ],
          "scatterpolargl": [
           {
            "marker": {
             "colorbar": {
              "outlinewidth": 0,
              "ticks": ""
             }
            },
            "type": "scatterpolargl"
           }
          ],
          "scatterternary": [
           {
            "marker": {
             "colorbar": {
              "outlinewidth": 0,
              "ticks": ""
             }
            },
            "type": "scatterternary"
           }
          ],
          "surface": [
           {
            "colorbar": {
             "outlinewidth": 0,
             "ticks": ""
            },
            "colorscale": [
             [
              0,
              "#0d0887"
             ],
             [
              0.1111111111111111,
              "#46039f"
             ],
             [
              0.2222222222222222,
              "#7201a8"
             ],
             [
              0.3333333333333333,
              "#9c179e"
             ],
             [
              0.4444444444444444,
              "#bd3786"
             ],
             [
              0.5555555555555556,
              "#d8576b"
             ],
             [
              0.6666666666666666,
              "#ed7953"
             ],
             [
              0.7777777777777778,
              "#fb9f3a"
             ],
             [
              0.8888888888888888,
              "#fdca26"
             ],
             [
              1,
              "#f0f921"
             ]
            ],
            "type": "surface"
           }
          ],
          "table": [
           {
            "cells": {
             "fill": {
              "color": "#EBF0F8"
             },
             "line": {
              "color": "white"
             }
            },
            "header": {
             "fill": {
              "color": "#C8D4E3"
             },
             "line": {
              "color": "white"
             }
            },
            "type": "table"
           }
          ]
         },
         "layout": {
          "annotationdefaults": {
           "arrowcolor": "#2a3f5f",
           "arrowhead": 0,
           "arrowwidth": 1
          },
          "coloraxis": {
           "colorbar": {
            "outlinewidth": 0,
            "ticks": ""
           }
          },
          "colorscale": {
           "diverging": [
            [
             0,
             "#8e0152"
            ],
            [
             0.1,
             "#c51b7d"
            ],
            [
             0.2,
             "#de77ae"
            ],
            [
             0.3,
             "#f1b6da"
            ],
            [
             0.4,
             "#fde0ef"
            ],
            [
             0.5,
             "#f7f7f7"
            ],
            [
             0.6,
             "#e6f5d0"
            ],
            [
             0.7,
             "#b8e186"
            ],
            [
             0.8,
             "#7fbc41"
            ],
            [
             0.9,
             "#4d9221"
            ],
            [
             1,
             "#276419"
            ]
           ],
           "sequential": [
            [
             0,
             "#0d0887"
            ],
            [
             0.1111111111111111,
             "#46039f"
            ],
            [
             0.2222222222222222,
             "#7201a8"
            ],
            [
             0.3333333333333333,
             "#9c179e"
            ],
            [
             0.4444444444444444,
             "#bd3786"
            ],
            [
             0.5555555555555556,
             "#d8576b"
            ],
            [
             0.6666666666666666,
             "#ed7953"
            ],
            [
             0.7777777777777778,
             "#fb9f3a"
            ],
            [
             0.8888888888888888,
             "#fdca26"
            ],
            [
             1,
             "#f0f921"
            ]
           ],
           "sequentialminus": [
            [
             0,
             "#0d0887"
            ],
            [
             0.1111111111111111,
             "#46039f"
            ],
            [
             0.2222222222222222,
             "#7201a8"
            ],
            [
             0.3333333333333333,
             "#9c179e"
            ],
            [
             0.4444444444444444,
             "#bd3786"
            ],
            [
             0.5555555555555556,
             "#d8576b"
            ],
            [
             0.6666666666666666,
             "#ed7953"
            ],
            [
             0.7777777777777778,
             "#fb9f3a"
            ],
            [
             0.8888888888888888,
             "#fdca26"
            ],
            [
             1,
             "#f0f921"
            ]
           ]
          },
          "colorway": [
           "#636efa",
           "#EF553B",
           "#00cc96",
           "#ab63fa",
           "#FFA15A",
           "#19d3f3",
           "#FF6692",
           "#B6E880",
           "#FF97FF",
           "#FECB52"
          ],
          "font": {
           "color": "#2a3f5f"
          },
          "geo": {
           "bgcolor": "white",
           "lakecolor": "white",
           "landcolor": "#E5ECF6",
           "showlakes": true,
           "showland": true,
           "subunitcolor": "white"
          },
          "hoverlabel": {
           "align": "left"
          },
          "hovermode": "closest",
          "mapbox": {
           "style": "light"
          },
          "paper_bgcolor": "white",
          "plot_bgcolor": "#E5ECF6",
          "polar": {
           "angularaxis": {
            "gridcolor": "white",
            "linecolor": "white",
            "ticks": ""
           },
           "bgcolor": "#E5ECF6",
           "radialaxis": {
            "gridcolor": "white",
            "linecolor": "white",
            "ticks": ""
           }
          },
          "scene": {
           "xaxis": {
            "backgroundcolor": "#E5ECF6",
            "gridcolor": "white",
            "gridwidth": 2,
            "linecolor": "white",
            "showbackground": true,
            "ticks": "",
            "zerolinecolor": "white"
           },
           "yaxis": {
            "backgroundcolor": "#E5ECF6",
            "gridcolor": "white",
            "gridwidth": 2,
            "linecolor": "white",
            "showbackground": true,
            "ticks": "",
            "zerolinecolor": "white"
           },
           "zaxis": {
            "backgroundcolor": "#E5ECF6",
            "gridcolor": "white",
            "gridwidth": 2,
            "linecolor": "white",
            "showbackground": true,
            "ticks": "",
            "zerolinecolor": "white"
           }
          },
          "shapedefaults": {
           "line": {
            "color": "#2a3f5f"
           }
          },
          "ternary": {
           "aaxis": {
            "gridcolor": "white",
            "linecolor": "white",
            "ticks": ""
           },
           "baxis": {
            "gridcolor": "white",
            "linecolor": "white",
            "ticks": ""
           },
           "bgcolor": "#E5ECF6",
           "caxis": {
            "gridcolor": "white",
            "linecolor": "white",
            "ticks": ""
           }
          },
          "title": {
           "x": 0.05
          },
          "xaxis": {
           "automargin": true,
           "gridcolor": "white",
           "linecolor": "white",
           "ticks": "",
           "title": {
            "standoff": 15
           },
           "zerolinecolor": "white",
           "zerolinewidth": 2
          },
          "yaxis": {
           "automargin": true,
           "gridcolor": "white",
           "linecolor": "white",
           "ticks": "",
           "title": {
            "standoff": 15
           },
           "zerolinecolor": "white",
           "zerolinewidth": 2
          }
         }
        },
        "title": {
         "font": {
          "color": "#4D5663"
         }
        },
        "xaxis": {
         "gridcolor": "#E1E5ED",
         "showgrid": true,
         "tickfont": {
          "color": "#4D5663"
         },
         "title": {
          "font": {
           "color": "#4D5663"
          },
          "text": ""
         },
         "zerolinecolor": "#E1E5ED"
        },
        "yaxis": {
         "gridcolor": "#E1E5ED",
         "showgrid": true,
         "tickfont": {
          "color": "#4D5663"
         },
         "title": {
          "font": {
           "color": "#4D5663"
          },
          "text": ""
         },
         "zerolinecolor": "#E1E5ED"
        }
       }
      },
      "text/html": [
       "<div>\n",
       "        \n",
       "        \n",
       "            <div id=\"fe96a778-15e8-4c0f-931c-45a3ae0867fa\" class=\"plotly-graph-div\" style=\"height:525px; width:100%;\"></div>\n",
       "            <script type=\"text/javascript\">\n",
       "                require([\"plotly\"], function(Plotly) {\n",
       "                    window.PLOTLYENV=window.PLOTLYENV || {};\n",
       "                    window.PLOTLYENV.BASE_URL='https://plot.ly';\n",
       "                    \n",
       "                if (document.getElementById(\"fe96a778-15e8-4c0f-931c-45a3ae0867fa\")) {\n",
       "                    Plotly.newPlot(\n",
       "                        'fe96a778-15e8-4c0f-931c-45a3ae0867fa',\n",
       "                        [{\"line\": {\"color\": \"rgba(255, 153, 51, 1.0)\", \"dash\": \"solid\", \"shape\": \"linear\", \"width\": 1.3}, \"marker\": {\"size\": 10, \"symbol\": \"circle\"}, \"mode\": \"markers\", \"name\": \"B\", \"text\": \"\", \"type\": \"scatter\", \"x\": [-1.4138153976580274, 0.08455022128887005, 1.5471984510871117, 1.6967637029976672, -0.7507050193197625, 0.6144492892274529, 0.10523618232753329, 1.207121390424313, 1.7326766078557791, -0.21328491944561068, 2.008579499791018, 0.21547481593456028, 0.3808402686537413, -0.06092935790697329, 0.8370766754499239, 0.8274287807229304, -0.4126127693231269, -0.16929922544402398, 0.7208595301409876, 0.7733136383374829, -0.28892514206321673, -0.8762071774130635, -0.80619652439963, 1.2305229116274847, -0.38858088186267853, 0.7897841741518612, -0.8489199189374191, -1.3654506088764375, 0.48549328430965677, 0.35924680412438875, 1.1114054429854745, 0.0886027064970111, -0.4636103442398656, -0.20840951954222545, 0.1405922012276346, -0.24064485943761077, -0.8334111091782375, 1.842590317603657, -0.3371466088321572, -0.2034175748337479, -2.3459567831821633, -0.4017961959202484, 0.4723198933313565, 0.7501448239663938, -1.0693669073862617, 1.5986290804606074, -0.24461314844453189, 0.10368147740607012, -1.4969890118186504, -0.12435682418267893, 1.274839898045271, -0.5169915646947392, -1.0712305609778643, -0.48659733893741813, 0.3587922256913342, 1.0999910285647592, 0.9149839476261293, -0.486099575812348, -0.7608301228828495, -0.43453947979910407, -0.4378707689182603, 0.01856409953642223, 0.3832610655005692, -2.0933524665046948, 1.7283265223487883, 0.9869190365137367, 0.40571454260259016, -0.5152470857611197, 0.8786939279620871, 0.4279175871191947, -2.601024184701134, -0.683284735855935, 0.849927363712278, 0.8857275580349077, 1.2882816361582505, -0.519059352346447, -0.6904750615623734, 0.8241614462286408, -0.46459047977908063, 0.11913998254705363, 0.13758868739779878, 0.24332496851049237, 0.018205797429998904, 0.358933107643315, 1.1315519087511798, -0.7637852405135656, 0.3135604813218632, 0.2377824938105682, 1.2657677242286454, 0.7290062940756441, 0.6480948280599899, -0.1565135938137894, 0.4133359631767297, 0.7647690463317591, -1.4126303876542592, -0.24760521350475748, 1.5285367941102805, -1.1365724953019072, 0.21258239309873145, 1.4010067851622496], \"y\": [0.6307750025445071, 2.1165649393990944, -0.13402531428069492, -1.0980616376530266, -2.434586496069079, -1.3053078896558565, -0.07090686858487011, 0.2058256171970834, -0.399262838679452, -0.14038606848181132, 0.9187536646281099, -0.8442053961123566, -0.2203312366099077, 0.6148352056947539, 0.5487157074264113, -0.8815647579995127, -0.34319730713674246, -1.0520874575465975, -0.5654422884296576, -0.09868497816887367, -0.4968289089377307, 0.2716017943118359, 0.9226989164424838, -0.5239432560546522, -0.8805108560299565, 1.0291913615050854, -0.09431283356381821, -0.9703360343139987, 0.47166862549484884, -1.2700349012817091, 0.413275586679944, -0.04254191220658984, -0.3338980359576901, -0.675195513492032, 1.550294420863555, 1.1516766730039087, 0.6535287491249111, 0.6144648993585563, 0.789565666569126, -0.3433168130690615, -0.05275694170220859, 0.3020462133498991, -0.06943522706603063, -0.35192362829665536, 0.6126596333884724, 1.5578365933599612, -0.1253060804619179, -1.3902002070743285, -0.8174637537749673, 0.11333678312936613, 1.3356891122813224, 0.19964929894159641, 0.08236990727602006, 1.2201019912024953, -0.5511844759854739, -0.8289846840857326, 0.33884864688721744, 1.0881768989607006, -0.7703403348773846, -0.2946516470282624, 0.06536745681673374, 0.7892622385305326, 1.6351318760725766, -0.3738887659267329, 0.5705852579762929, 1.7567400703602254, 1.5658507756576097, -0.32738934219238813, -3.4188171677438355, -0.8446793972616198, -0.0745933598454902, 0.9009946023546918, 0.04500369804380455, -0.16211529173578793, -1.612928599166473, -0.010132569394765995, 0.17953472500659787, 0.0064179642326903244, 0.1326959809776376, 1.946233101865483, 0.03252092127965211, -0.5130179934757979, 0.1429766964487547, -1.0395116288148776, -1.160703594319139, 0.4435732597243696, 1.5891745109922495, 0.31166755938333734, -0.9900532640822058, 0.6440787128368036, 0.5558862615610557, 0.2982157252903566, 0.653861307961139, -0.9103614368183744, -0.20579788187733009, 1.2582778382184772, -0.8122835465461327, -0.2767951603430714, -1.3958080501251722, 0.6847098823556407]}],\n",
       "                        {\"legend\": {\"bgcolor\": \"#F5F6F9\", \"font\": {\"color\": \"#4D5663\"}}, \"paper_bgcolor\": \"#F5F6F9\", \"plot_bgcolor\": \"#F5F6F9\", \"template\": {\"data\": {\"bar\": [{\"error_x\": {\"color\": \"#2a3f5f\"}, \"error_y\": {\"color\": \"#2a3f5f\"}, \"marker\": {\"line\": {\"color\": \"#E5ECF6\", \"width\": 0.5}}, \"type\": \"bar\"}], \"barpolar\": [{\"marker\": {\"line\": {\"color\": \"#E5ECF6\", \"width\": 0.5}}, \"type\": \"barpolar\"}], \"carpet\": [{\"aaxis\": {\"endlinecolor\": \"#2a3f5f\", \"gridcolor\": \"white\", \"linecolor\": \"white\", \"minorgridcolor\": \"white\", \"startlinecolor\": \"#2a3f5f\"}, \"baxis\": {\"endlinecolor\": \"#2a3f5f\", \"gridcolor\": \"white\", \"linecolor\": \"white\", \"minorgridcolor\": \"white\", \"startlinecolor\": \"#2a3f5f\"}, \"type\": \"carpet\"}], \"choropleth\": [{\"colorbar\": {\"outlinewidth\": 0, \"ticks\": \"\"}, \"type\": \"choropleth\"}], \"contour\": [{\"colorbar\": {\"outlinewidth\": 0, \"ticks\": \"\"}, \"colorscale\": [[0.0, \"#0d0887\"], [0.1111111111111111, \"#46039f\"], [0.2222222222222222, \"#7201a8\"], [0.3333333333333333, \"#9c179e\"], [0.4444444444444444, \"#bd3786\"], [0.5555555555555556, \"#d8576b\"], [0.6666666666666666, \"#ed7953\"], [0.7777777777777778, \"#fb9f3a\"], [0.8888888888888888, \"#fdca26\"], [1.0, \"#f0f921\"]], \"type\": \"contour\"}], \"contourcarpet\": [{\"colorbar\": {\"outlinewidth\": 0, \"ticks\": \"\"}, \"type\": \"contourcarpet\"}], \"heatmap\": [{\"colorbar\": {\"outlinewidth\": 0, \"ticks\": \"\"}, \"colorscale\": [[0.0, \"#0d0887\"], [0.1111111111111111, \"#46039f\"], [0.2222222222222222, \"#7201a8\"], [0.3333333333333333, \"#9c179e\"], [0.4444444444444444, \"#bd3786\"], [0.5555555555555556, \"#d8576b\"], [0.6666666666666666, \"#ed7953\"], [0.7777777777777778, \"#fb9f3a\"], [0.8888888888888888, \"#fdca26\"], [1.0, \"#f0f921\"]], \"type\": \"heatmap\"}], \"heatmapgl\": [{\"colorbar\": {\"outlinewidth\": 0, \"ticks\": \"\"}, \"colorscale\": [[0.0, \"#0d0887\"], [0.1111111111111111, \"#46039f\"], [0.2222222222222222, \"#7201a8\"], [0.3333333333333333, \"#9c179e\"], [0.4444444444444444, \"#bd3786\"], [0.5555555555555556, \"#d8576b\"], [0.6666666666666666, \"#ed7953\"], [0.7777777777777778, \"#fb9f3a\"], [0.8888888888888888, \"#fdca26\"], [1.0, \"#f0f921\"]], \"type\": \"heatmapgl\"}], \"histogram\": [{\"marker\": {\"colorbar\": {\"outlinewidth\": 0, \"ticks\": \"\"}}, \"type\": \"histogram\"}], \"histogram2d\": [{\"colorbar\": {\"outlinewidth\": 0, \"ticks\": \"\"}, \"colorscale\": [[0.0, \"#0d0887\"], [0.1111111111111111, \"#46039f\"], [0.2222222222222222, \"#7201a8\"], [0.3333333333333333, \"#9c179e\"], [0.4444444444444444, \"#bd3786\"], [0.5555555555555556, \"#d8576b\"], [0.6666666666666666, \"#ed7953\"], [0.7777777777777778, \"#fb9f3a\"], [0.8888888888888888, \"#fdca26\"], [1.0, \"#f0f921\"]], \"type\": \"histogram2d\"}], \"histogram2dcontour\": [{\"colorbar\": {\"outlinewidth\": 0, \"ticks\": \"\"}, \"colorscale\": [[0.0, \"#0d0887\"], [0.1111111111111111, \"#46039f\"], [0.2222222222222222, \"#7201a8\"], [0.3333333333333333, \"#9c179e\"], [0.4444444444444444, \"#bd3786\"], [0.5555555555555556, \"#d8576b\"], [0.6666666666666666, \"#ed7953\"], [0.7777777777777778, \"#fb9f3a\"], [0.8888888888888888, \"#fdca26\"], [1.0, \"#f0f921\"]], \"type\": \"histogram2dcontour\"}], \"mesh3d\": [{\"colorbar\": {\"outlinewidth\": 0, \"ticks\": \"\"}, \"type\": \"mesh3d\"}], \"parcoords\": [{\"line\": {\"colorbar\": {\"outlinewidth\": 0, \"ticks\": \"\"}}, \"type\": \"parcoords\"}], \"pie\": [{\"automargin\": true, \"type\": \"pie\"}], \"scatter\": [{\"marker\": {\"colorbar\": {\"outlinewidth\": 0, \"ticks\": \"\"}}, \"type\": \"scatter\"}], \"scatter3d\": [{\"line\": {\"colorbar\": {\"outlinewidth\": 0, \"ticks\": \"\"}}, \"marker\": {\"colorbar\": {\"outlinewidth\": 0, \"ticks\": \"\"}}, \"type\": \"scatter3d\"}], \"scattercarpet\": [{\"marker\": {\"colorbar\": {\"outlinewidth\": 0, \"ticks\": \"\"}}, \"type\": \"scattercarpet\"}], \"scattergeo\": [{\"marker\": {\"colorbar\": {\"outlinewidth\": 0, \"ticks\": \"\"}}, \"type\": \"scattergeo\"}], \"scattergl\": [{\"marker\": {\"colorbar\": {\"outlinewidth\": 0, \"ticks\": \"\"}}, \"type\": \"scattergl\"}], \"scattermapbox\": [{\"marker\": {\"colorbar\": {\"outlinewidth\": 0, \"ticks\": \"\"}}, \"type\": \"scattermapbox\"}], \"scatterpolar\": [{\"marker\": {\"colorbar\": {\"outlinewidth\": 0, \"ticks\": \"\"}}, \"type\": \"scatterpolar\"}], \"scatterpolargl\": [{\"marker\": {\"colorbar\": {\"outlinewidth\": 0, \"ticks\": \"\"}}, \"type\": \"scatterpolargl\"}], \"scatterternary\": [{\"marker\": {\"colorbar\": {\"outlinewidth\": 0, \"ticks\": \"\"}}, \"type\": \"scatterternary\"}], \"surface\": [{\"colorbar\": {\"outlinewidth\": 0, \"ticks\": \"\"}, \"colorscale\": [[0.0, \"#0d0887\"], [0.1111111111111111, \"#46039f\"], [0.2222222222222222, \"#7201a8\"], [0.3333333333333333, \"#9c179e\"], [0.4444444444444444, \"#bd3786\"], [0.5555555555555556, \"#d8576b\"], [0.6666666666666666, \"#ed7953\"], [0.7777777777777778, \"#fb9f3a\"], [0.8888888888888888, \"#fdca26\"], [1.0, \"#f0f921\"]], \"type\": \"surface\"}], \"table\": [{\"cells\": {\"fill\": {\"color\": \"#EBF0F8\"}, \"line\": {\"color\": \"white\"}}, \"header\": {\"fill\": {\"color\": \"#C8D4E3\"}, \"line\": {\"color\": \"white\"}}, \"type\": \"table\"}]}, \"layout\": {\"annotationdefaults\": {\"arrowcolor\": \"#2a3f5f\", \"arrowhead\": 0, \"arrowwidth\": 1}, \"coloraxis\": {\"colorbar\": {\"outlinewidth\": 0, \"ticks\": \"\"}}, \"colorscale\": {\"diverging\": [[0, \"#8e0152\"], [0.1, \"#c51b7d\"], [0.2, \"#de77ae\"], [0.3, \"#f1b6da\"], [0.4, \"#fde0ef\"], [0.5, \"#f7f7f7\"], [0.6, \"#e6f5d0\"], [0.7, \"#b8e186\"], [0.8, \"#7fbc41\"], [0.9, \"#4d9221\"], [1, \"#276419\"]], \"sequential\": [[0.0, \"#0d0887\"], [0.1111111111111111, \"#46039f\"], [0.2222222222222222, \"#7201a8\"], [0.3333333333333333, \"#9c179e\"], [0.4444444444444444, \"#bd3786\"], [0.5555555555555556, \"#d8576b\"], [0.6666666666666666, \"#ed7953\"], [0.7777777777777778, \"#fb9f3a\"], [0.8888888888888888, \"#fdca26\"], [1.0, \"#f0f921\"]], \"sequentialminus\": [[0.0, \"#0d0887\"], [0.1111111111111111, \"#46039f\"], [0.2222222222222222, \"#7201a8\"], [0.3333333333333333, \"#9c179e\"], [0.4444444444444444, \"#bd3786\"], [0.5555555555555556, \"#d8576b\"], [0.6666666666666666, \"#ed7953\"], [0.7777777777777778, \"#fb9f3a\"], [0.8888888888888888, \"#fdca26\"], [1.0, \"#f0f921\"]]}, \"colorway\": [\"#636efa\", \"#EF553B\", \"#00cc96\", \"#ab63fa\", \"#FFA15A\", \"#19d3f3\", \"#FF6692\", \"#B6E880\", \"#FF97FF\", \"#FECB52\"], \"font\": {\"color\": \"#2a3f5f\"}, \"geo\": {\"bgcolor\": \"white\", \"lakecolor\": \"white\", \"landcolor\": \"#E5ECF6\", \"showlakes\": true, \"showland\": true, \"subunitcolor\": \"white\"}, \"hoverlabel\": {\"align\": \"left\"}, \"hovermode\": \"closest\", \"mapbox\": {\"style\": \"light\"}, \"paper_bgcolor\": \"white\", \"plot_bgcolor\": \"#E5ECF6\", \"polar\": {\"angularaxis\": {\"gridcolor\": \"white\", \"linecolor\": \"white\", \"ticks\": \"\"}, \"bgcolor\": \"#E5ECF6\", \"radialaxis\": {\"gridcolor\": \"white\", \"linecolor\": \"white\", \"ticks\": \"\"}}, \"scene\": {\"xaxis\": {\"backgroundcolor\": \"#E5ECF6\", \"gridcolor\": \"white\", \"gridwidth\": 2, \"linecolor\": \"white\", \"showbackground\": true, \"ticks\": \"\", \"zerolinecolor\": \"white\"}, \"yaxis\": {\"backgroundcolor\": \"#E5ECF6\", \"gridcolor\": \"white\", \"gridwidth\": 2, \"linecolor\": \"white\", \"showbackground\": true, \"ticks\": \"\", \"zerolinecolor\": \"white\"}, \"zaxis\": {\"backgroundcolor\": \"#E5ECF6\", \"gridcolor\": \"white\", \"gridwidth\": 2, \"linecolor\": \"white\", \"showbackground\": true, \"ticks\": \"\", \"zerolinecolor\": \"white\"}}, \"shapedefaults\": {\"line\": {\"color\": \"#2a3f5f\"}}, \"ternary\": {\"aaxis\": {\"gridcolor\": \"white\", \"linecolor\": \"white\", \"ticks\": \"\"}, \"baxis\": {\"gridcolor\": \"white\", \"linecolor\": \"white\", \"ticks\": \"\"}, \"bgcolor\": \"#E5ECF6\", \"caxis\": {\"gridcolor\": \"white\", \"linecolor\": \"white\", \"ticks\": \"\"}}, \"title\": {\"x\": 0.05}, \"xaxis\": {\"automargin\": true, \"gridcolor\": \"white\", \"linecolor\": \"white\", \"ticks\": \"\", \"title\": {\"standoff\": 15}, \"zerolinecolor\": \"white\", \"zerolinewidth\": 2}, \"yaxis\": {\"automargin\": true, \"gridcolor\": \"white\", \"linecolor\": \"white\", \"ticks\": \"\", \"title\": {\"standoff\": 15}, \"zerolinecolor\": \"white\", \"zerolinewidth\": 2}}}, \"title\": {\"font\": {\"color\": \"#4D5663\"}}, \"xaxis\": {\"gridcolor\": \"#E1E5ED\", \"showgrid\": true, \"tickfont\": {\"color\": \"#4D5663\"}, \"title\": {\"font\": {\"color\": \"#4D5663\"}, \"text\": \"\"}, \"zerolinecolor\": \"#E1E5ED\"}, \"yaxis\": {\"gridcolor\": \"#E1E5ED\", \"showgrid\": true, \"tickfont\": {\"color\": \"#4D5663\"}, \"title\": {\"font\": {\"color\": \"#4D5663\"}, \"text\": \"\"}, \"zerolinecolor\": \"#E1E5ED\"}},\n",
       "                        {\"showLink\": true, \"linkText\": \"Export to plot.ly\", \"plotlyServerURL\": \"https://plot.ly\", \"responsive\": true}\n",
       "                    ).then(function(){\n",
       "                            \n",
       "var gd = document.getElementById('fe96a778-15e8-4c0f-931c-45a3ae0867fa');\n",
       "var x = new MutationObserver(function (mutations, observer) {{\n",
       "        var display = window.getComputedStyle(gd).display;\n",
       "        if (!display || display === 'none') {{\n",
       "            console.log([gd, 'removed!']);\n",
       "            Plotly.purge(gd);\n",
       "            observer.disconnect();\n",
       "        }}\n",
       "}});\n",
       "\n",
       "// Listen for the removal of the full notebook cells\n",
       "var notebookContainer = gd.closest('#notebook-container');\n",
       "if (notebookContainer) {{\n",
       "    x.observe(notebookContainer, {childList: true});\n",
       "}}\n",
       "\n",
       "// Listen for the clearing of the current output cell\n",
       "var outputEl = gd.closest('.output');\n",
       "if (outputEl) {{\n",
       "    x.observe(outputEl, {childList: true});\n",
       "}}\n",
       "\n",
       "                        })\n",
       "                };\n",
       "                });\n",
       "            </script>\n",
       "        </div>"
      ]
     },
     "metadata": {},
     "output_type": "display_data"
    }
   ],
   "source": [
    "df.iplot(kind='scatter',x='A',y='B',mode='markers',size=10)"
   ]
  },
  {
   "cell_type": "markdown",
   "metadata": {},
   "source": [
    "## Bar Plots"
   ]
  },
  {
   "cell_type": "code",
   "execution_count": 17,
   "metadata": {},
   "outputs": [
    {
     "data": {
      "application/vnd.plotly.v1+json": {
       "config": {
        "linkText": "Export to plot.ly",
        "plotlyServerURL": "https://plot.ly",
        "showLink": true
       },
       "data": [
        {
         "marker": {
          "color": "rgba(255, 153, 51, 0.6)",
          "line": {
           "color": "rgba(255, 153, 51, 1.0)",
           "width": 1
          }
         },
         "name": "Values",
         "orientation": "v",
         "text": "",
         "type": "bar",
         "x": [
          "A",
          "B",
          "C"
         ],
         "y": [
          32,
          43,
          50
         ]
        }
       ],
       "layout": {
        "legend": {
         "bgcolor": "#F5F6F9",
         "font": {
          "color": "#4D5663"
         }
        },
        "paper_bgcolor": "#F5F6F9",
        "plot_bgcolor": "#F5F6F9",
        "template": {
         "data": {
          "bar": [
           {
            "error_x": {
             "color": "#2a3f5f"
            },
            "error_y": {
             "color": "#2a3f5f"
            },
            "marker": {
             "line": {
              "color": "#E5ECF6",
              "width": 0.5
             }
            },
            "type": "bar"
           }
          ],
          "barpolar": [
           {
            "marker": {
             "line": {
              "color": "#E5ECF6",
              "width": 0.5
             }
            },
            "type": "barpolar"
           }
          ],
          "carpet": [
           {
            "aaxis": {
             "endlinecolor": "#2a3f5f",
             "gridcolor": "white",
             "linecolor": "white",
             "minorgridcolor": "white",
             "startlinecolor": "#2a3f5f"
            },
            "baxis": {
             "endlinecolor": "#2a3f5f",
             "gridcolor": "white",
             "linecolor": "white",
             "minorgridcolor": "white",
             "startlinecolor": "#2a3f5f"
            },
            "type": "carpet"
           }
          ],
          "choropleth": [
           {
            "colorbar": {
             "outlinewidth": 0,
             "ticks": ""
            },
            "type": "choropleth"
           }
          ],
          "contour": [
           {
            "colorbar": {
             "outlinewidth": 0,
             "ticks": ""
            },
            "colorscale": [
             [
              0,
              "#0d0887"
             ],
             [
              0.1111111111111111,
              "#46039f"
             ],
             [
              0.2222222222222222,
              "#7201a8"
             ],
             [
              0.3333333333333333,
              "#9c179e"
             ],
             [
              0.4444444444444444,
              "#bd3786"
             ],
             [
              0.5555555555555556,
              "#d8576b"
             ],
             [
              0.6666666666666666,
              "#ed7953"
             ],
             [
              0.7777777777777778,
              "#fb9f3a"
             ],
             [
              0.8888888888888888,
              "#fdca26"
             ],
             [
              1,
              "#f0f921"
             ]
            ],
            "type": "contour"
           }
          ],
          "contourcarpet": [
           {
            "colorbar": {
             "outlinewidth": 0,
             "ticks": ""
            },
            "type": "contourcarpet"
           }
          ],
          "heatmap": [
           {
            "colorbar": {
             "outlinewidth": 0,
             "ticks": ""
            },
            "colorscale": [
             [
              0,
              "#0d0887"
             ],
             [
              0.1111111111111111,
              "#46039f"
             ],
             [
              0.2222222222222222,
              "#7201a8"
             ],
             [
              0.3333333333333333,
              "#9c179e"
             ],
             [
              0.4444444444444444,
              "#bd3786"
             ],
             [
              0.5555555555555556,
              "#d8576b"
             ],
             [
              0.6666666666666666,
              "#ed7953"
             ],
             [
              0.7777777777777778,
              "#fb9f3a"
             ],
             [
              0.8888888888888888,
              "#fdca26"
             ],
             [
              1,
              "#f0f921"
             ]
            ],
            "type": "heatmap"
           }
          ],
          "heatmapgl": [
           {
            "colorbar": {
             "outlinewidth": 0,
             "ticks": ""
            },
            "colorscale": [
             [
              0,
              "#0d0887"
             ],
             [
              0.1111111111111111,
              "#46039f"
             ],
             [
              0.2222222222222222,
              "#7201a8"
             ],
             [
              0.3333333333333333,
              "#9c179e"
             ],
             [
              0.4444444444444444,
              "#bd3786"
             ],
             [
              0.5555555555555556,
              "#d8576b"
             ],
             [
              0.6666666666666666,
              "#ed7953"
             ],
             [
              0.7777777777777778,
              "#fb9f3a"
             ],
             [
              0.8888888888888888,
              "#fdca26"
             ],
             [
              1,
              "#f0f921"
             ]
            ],
            "type": "heatmapgl"
           }
          ],
          "histogram": [
           {
            "marker": {
             "colorbar": {
              "outlinewidth": 0,
              "ticks": ""
             }
            },
            "type": "histogram"
           }
          ],
          "histogram2d": [
           {
            "colorbar": {
             "outlinewidth": 0,
             "ticks": ""
            },
            "colorscale": [
             [
              0,
              "#0d0887"
             ],
             [
              0.1111111111111111,
              "#46039f"
             ],
             [
              0.2222222222222222,
              "#7201a8"
             ],
             [
              0.3333333333333333,
              "#9c179e"
             ],
             [
              0.4444444444444444,
              "#bd3786"
             ],
             [
              0.5555555555555556,
              "#d8576b"
             ],
             [
              0.6666666666666666,
              "#ed7953"
             ],
             [
              0.7777777777777778,
              "#fb9f3a"
             ],
             [
              0.8888888888888888,
              "#fdca26"
             ],
             [
              1,
              "#f0f921"
             ]
            ],
            "type": "histogram2d"
           }
          ],
          "histogram2dcontour": [
           {
            "colorbar": {
             "outlinewidth": 0,
             "ticks": ""
            },
            "colorscale": [
             [
              0,
              "#0d0887"
             ],
             [
              0.1111111111111111,
              "#46039f"
             ],
             [
              0.2222222222222222,
              "#7201a8"
             ],
             [
              0.3333333333333333,
              "#9c179e"
             ],
             [
              0.4444444444444444,
              "#bd3786"
             ],
             [
              0.5555555555555556,
              "#d8576b"
             ],
             [
              0.6666666666666666,
              "#ed7953"
             ],
             [
              0.7777777777777778,
              "#fb9f3a"
             ],
             [
              0.8888888888888888,
              "#fdca26"
             ],
             [
              1,
              "#f0f921"
             ]
            ],
            "type": "histogram2dcontour"
           }
          ],
          "mesh3d": [
           {
            "colorbar": {
             "outlinewidth": 0,
             "ticks": ""
            },
            "type": "mesh3d"
           }
          ],
          "parcoords": [
           {
            "line": {
             "colorbar": {
              "outlinewidth": 0,
              "ticks": ""
             }
            },
            "type": "parcoords"
           }
          ],
          "pie": [
           {
            "automargin": true,
            "type": "pie"
           }
          ],
          "scatter": [
           {
            "marker": {
             "colorbar": {
              "outlinewidth": 0,
              "ticks": ""
             }
            },
            "type": "scatter"
           }
          ],
          "scatter3d": [
           {
            "line": {
             "colorbar": {
              "outlinewidth": 0,
              "ticks": ""
             }
            },
            "marker": {
             "colorbar": {
              "outlinewidth": 0,
              "ticks": ""
             }
            },
            "type": "scatter3d"
           }
          ],
          "scattercarpet": [
           {
            "marker": {
             "colorbar": {
              "outlinewidth": 0,
              "ticks": ""
             }
            },
            "type": "scattercarpet"
           }
          ],
          "scattergeo": [
           {
            "marker": {
             "colorbar": {
              "outlinewidth": 0,
              "ticks": ""
             }
            },
            "type": "scattergeo"
           }
          ],
          "scattergl": [
           {
            "marker": {
             "colorbar": {
              "outlinewidth": 0,
              "ticks": ""
             }
            },
            "type": "scattergl"
           }
          ],
          "scattermapbox": [
           {
            "marker": {
             "colorbar": {
              "outlinewidth": 0,
              "ticks": ""
             }
            },
            "type": "scattermapbox"
           }
          ],
          "scatterpolar": [
           {
            "marker": {
             "colorbar": {
              "outlinewidth": 0,
              "ticks": ""
             }
            },
            "type": "scatterpolar"
           }
          ],
          "scatterpolargl": [
           {
            "marker": {
             "colorbar": {
              "outlinewidth": 0,
              "ticks": ""
             }
            },
            "type": "scatterpolargl"
           }
          ],
          "scatterternary": [
           {
            "marker": {
             "colorbar": {
              "outlinewidth": 0,
              "ticks": ""
             }
            },
            "type": "scatterternary"
           }
          ],
          "surface": [
           {
            "colorbar": {
             "outlinewidth": 0,
             "ticks": ""
            },
            "colorscale": [
             [
              0,
              "#0d0887"
             ],
             [
              0.1111111111111111,
              "#46039f"
             ],
             [
              0.2222222222222222,
              "#7201a8"
             ],
             [
              0.3333333333333333,
              "#9c179e"
             ],
             [
              0.4444444444444444,
              "#bd3786"
             ],
             [
              0.5555555555555556,
              "#d8576b"
             ],
             [
              0.6666666666666666,
              "#ed7953"
             ],
             [
              0.7777777777777778,
              "#fb9f3a"
             ],
             [
              0.8888888888888888,
              "#fdca26"
             ],
             [
              1,
              "#f0f921"
             ]
            ],
            "type": "surface"
           }
          ],
          "table": [
           {
            "cells": {
             "fill": {
              "color": "#EBF0F8"
             },
             "line": {
              "color": "white"
             }
            },
            "header": {
             "fill": {
              "color": "#C8D4E3"
             },
             "line": {
              "color": "white"
             }
            },
            "type": "table"
           }
          ]
         },
         "layout": {
          "annotationdefaults": {
           "arrowcolor": "#2a3f5f",
           "arrowhead": 0,
           "arrowwidth": 1
          },
          "coloraxis": {
           "colorbar": {
            "outlinewidth": 0,
            "ticks": ""
           }
          },
          "colorscale": {
           "diverging": [
            [
             0,
             "#8e0152"
            ],
            [
             0.1,
             "#c51b7d"
            ],
            [
             0.2,
             "#de77ae"
            ],
            [
             0.3,
             "#f1b6da"
            ],
            [
             0.4,
             "#fde0ef"
            ],
            [
             0.5,
             "#f7f7f7"
            ],
            [
             0.6,
             "#e6f5d0"
            ],
            [
             0.7,
             "#b8e186"
            ],
            [
             0.8,
             "#7fbc41"
            ],
            [
             0.9,
             "#4d9221"
            ],
            [
             1,
             "#276419"
            ]
           ],
           "sequential": [
            [
             0,
             "#0d0887"
            ],
            [
             0.1111111111111111,
             "#46039f"
            ],
            [
             0.2222222222222222,
             "#7201a8"
            ],
            [
             0.3333333333333333,
             "#9c179e"
            ],
            [
             0.4444444444444444,
             "#bd3786"
            ],
            [
             0.5555555555555556,
             "#d8576b"
            ],
            [
             0.6666666666666666,
             "#ed7953"
            ],
            [
             0.7777777777777778,
             "#fb9f3a"
            ],
            [
             0.8888888888888888,
             "#fdca26"
            ],
            [
             1,
             "#f0f921"
            ]
           ],
           "sequentialminus": [
            [
             0,
             "#0d0887"
            ],
            [
             0.1111111111111111,
             "#46039f"
            ],
            [
             0.2222222222222222,
             "#7201a8"
            ],
            [
             0.3333333333333333,
             "#9c179e"
            ],
            [
             0.4444444444444444,
             "#bd3786"
            ],
            [
             0.5555555555555556,
             "#d8576b"
            ],
            [
             0.6666666666666666,
             "#ed7953"
            ],
            [
             0.7777777777777778,
             "#fb9f3a"
            ],
            [
             0.8888888888888888,
             "#fdca26"
            ],
            [
             1,
             "#f0f921"
            ]
           ]
          },
          "colorway": [
           "#636efa",
           "#EF553B",
           "#00cc96",
           "#ab63fa",
           "#FFA15A",
           "#19d3f3",
           "#FF6692",
           "#B6E880",
           "#FF97FF",
           "#FECB52"
          ],
          "font": {
           "color": "#2a3f5f"
          },
          "geo": {
           "bgcolor": "white",
           "lakecolor": "white",
           "landcolor": "#E5ECF6",
           "showlakes": true,
           "showland": true,
           "subunitcolor": "white"
          },
          "hoverlabel": {
           "align": "left"
          },
          "hovermode": "closest",
          "mapbox": {
           "style": "light"
          },
          "paper_bgcolor": "white",
          "plot_bgcolor": "#E5ECF6",
          "polar": {
           "angularaxis": {
            "gridcolor": "white",
            "linecolor": "white",
            "ticks": ""
           },
           "bgcolor": "#E5ECF6",
           "radialaxis": {
            "gridcolor": "white",
            "linecolor": "white",
            "ticks": ""
           }
          },
          "scene": {
           "xaxis": {
            "backgroundcolor": "#E5ECF6",
            "gridcolor": "white",
            "gridwidth": 2,
            "linecolor": "white",
            "showbackground": true,
            "ticks": "",
            "zerolinecolor": "white"
           },
           "yaxis": {
            "backgroundcolor": "#E5ECF6",
            "gridcolor": "white",
            "gridwidth": 2,
            "linecolor": "white",
            "showbackground": true,
            "ticks": "",
            "zerolinecolor": "white"
           },
           "zaxis": {
            "backgroundcolor": "#E5ECF6",
            "gridcolor": "white",
            "gridwidth": 2,
            "linecolor": "white",
            "showbackground": true,
            "ticks": "",
            "zerolinecolor": "white"
           }
          },
          "shapedefaults": {
           "line": {
            "color": "#2a3f5f"
           }
          },
          "ternary": {
           "aaxis": {
            "gridcolor": "white",
            "linecolor": "white",
            "ticks": ""
           },
           "baxis": {
            "gridcolor": "white",
            "linecolor": "white",
            "ticks": ""
           },
           "bgcolor": "#E5ECF6",
           "caxis": {
            "gridcolor": "white",
            "linecolor": "white",
            "ticks": ""
           }
          },
          "title": {
           "x": 0.05
          },
          "xaxis": {
           "automargin": true,
           "gridcolor": "white",
           "linecolor": "white",
           "ticks": "",
           "title": {
            "standoff": 15
           },
           "zerolinecolor": "white",
           "zerolinewidth": 2
          },
          "yaxis": {
           "automargin": true,
           "gridcolor": "white",
           "linecolor": "white",
           "ticks": "",
           "title": {
            "standoff": 15
           },
           "zerolinecolor": "white",
           "zerolinewidth": 2
          }
         }
        },
        "title": {
         "font": {
          "color": "#4D5663"
         }
        },
        "xaxis": {
         "gridcolor": "#E1E5ED",
         "showgrid": true,
         "tickfont": {
          "color": "#4D5663"
         },
         "title": {
          "font": {
           "color": "#4D5663"
          },
          "text": ""
         },
         "zerolinecolor": "#E1E5ED"
        },
        "yaxis": {
         "gridcolor": "#E1E5ED",
         "showgrid": true,
         "tickfont": {
          "color": "#4D5663"
         },
         "title": {
          "font": {
           "color": "#4D5663"
          },
          "text": ""
         },
         "zerolinecolor": "#E1E5ED"
        }
       }
      },
      "text/html": [
       "<div>\n",
       "        \n",
       "        \n",
       "            <div id=\"847a40d3-7346-4155-b2bd-5b23da0853ea\" class=\"plotly-graph-div\" style=\"height:525px; width:100%;\"></div>\n",
       "            <script type=\"text/javascript\">\n",
       "                require([\"plotly\"], function(Plotly) {\n",
       "                    window.PLOTLYENV=window.PLOTLYENV || {};\n",
       "                    window.PLOTLYENV.BASE_URL='https://plot.ly';\n",
       "                    \n",
       "                if (document.getElementById(\"847a40d3-7346-4155-b2bd-5b23da0853ea\")) {\n",
       "                    Plotly.newPlot(\n",
       "                        '847a40d3-7346-4155-b2bd-5b23da0853ea',\n",
       "                        [{\"marker\": {\"color\": \"rgba(255, 153, 51, 0.6)\", \"line\": {\"color\": \"rgba(255, 153, 51, 1.0)\", \"width\": 1}}, \"name\": \"Values\", \"orientation\": \"v\", \"text\": \"\", \"type\": \"bar\", \"x\": [\"A\", \"B\", \"C\"], \"y\": [32, 43, 50]}],\n",
       "                        {\"legend\": {\"bgcolor\": \"#F5F6F9\", \"font\": {\"color\": \"#4D5663\"}}, \"paper_bgcolor\": \"#F5F6F9\", \"plot_bgcolor\": \"#F5F6F9\", \"template\": {\"data\": {\"bar\": [{\"error_x\": {\"color\": \"#2a3f5f\"}, \"error_y\": {\"color\": \"#2a3f5f\"}, \"marker\": {\"line\": {\"color\": \"#E5ECF6\", \"width\": 0.5}}, \"type\": \"bar\"}], \"barpolar\": [{\"marker\": {\"line\": {\"color\": \"#E5ECF6\", \"width\": 0.5}}, \"type\": \"barpolar\"}], \"carpet\": [{\"aaxis\": {\"endlinecolor\": \"#2a3f5f\", \"gridcolor\": \"white\", \"linecolor\": \"white\", \"minorgridcolor\": \"white\", \"startlinecolor\": \"#2a3f5f\"}, \"baxis\": {\"endlinecolor\": \"#2a3f5f\", \"gridcolor\": \"white\", \"linecolor\": \"white\", \"minorgridcolor\": \"white\", \"startlinecolor\": \"#2a3f5f\"}, \"type\": \"carpet\"}], \"choropleth\": [{\"colorbar\": {\"outlinewidth\": 0, \"ticks\": \"\"}, \"type\": \"choropleth\"}], \"contour\": [{\"colorbar\": {\"outlinewidth\": 0, \"ticks\": \"\"}, \"colorscale\": [[0.0, \"#0d0887\"], [0.1111111111111111, \"#46039f\"], [0.2222222222222222, \"#7201a8\"], [0.3333333333333333, \"#9c179e\"], [0.4444444444444444, \"#bd3786\"], [0.5555555555555556, \"#d8576b\"], [0.6666666666666666, \"#ed7953\"], [0.7777777777777778, \"#fb9f3a\"], [0.8888888888888888, \"#fdca26\"], [1.0, \"#f0f921\"]], \"type\": \"contour\"}], \"contourcarpet\": [{\"colorbar\": {\"outlinewidth\": 0, \"ticks\": \"\"}, \"type\": \"contourcarpet\"}], \"heatmap\": [{\"colorbar\": {\"outlinewidth\": 0, \"ticks\": \"\"}, \"colorscale\": [[0.0, \"#0d0887\"], [0.1111111111111111, \"#46039f\"], [0.2222222222222222, \"#7201a8\"], [0.3333333333333333, \"#9c179e\"], [0.4444444444444444, \"#bd3786\"], [0.5555555555555556, \"#d8576b\"], [0.6666666666666666, \"#ed7953\"], [0.7777777777777778, \"#fb9f3a\"], [0.8888888888888888, \"#fdca26\"], [1.0, \"#f0f921\"]], \"type\": \"heatmap\"}], \"heatmapgl\": [{\"colorbar\": {\"outlinewidth\": 0, \"ticks\": \"\"}, \"colorscale\": [[0.0, \"#0d0887\"], [0.1111111111111111, \"#46039f\"], [0.2222222222222222, \"#7201a8\"], [0.3333333333333333, \"#9c179e\"], [0.4444444444444444, \"#bd3786\"], [0.5555555555555556, \"#d8576b\"], [0.6666666666666666, \"#ed7953\"], [0.7777777777777778, \"#fb9f3a\"], [0.8888888888888888, \"#fdca26\"], [1.0, \"#f0f921\"]], \"type\": \"heatmapgl\"}], \"histogram\": [{\"marker\": {\"colorbar\": {\"outlinewidth\": 0, \"ticks\": \"\"}}, \"type\": \"histogram\"}], \"histogram2d\": [{\"colorbar\": {\"outlinewidth\": 0, \"ticks\": \"\"}, \"colorscale\": [[0.0, \"#0d0887\"], [0.1111111111111111, \"#46039f\"], [0.2222222222222222, \"#7201a8\"], [0.3333333333333333, \"#9c179e\"], [0.4444444444444444, \"#bd3786\"], [0.5555555555555556, \"#d8576b\"], [0.6666666666666666, \"#ed7953\"], [0.7777777777777778, \"#fb9f3a\"], [0.8888888888888888, \"#fdca26\"], [1.0, \"#f0f921\"]], \"type\": \"histogram2d\"}], \"histogram2dcontour\": [{\"colorbar\": {\"outlinewidth\": 0, \"ticks\": \"\"}, \"colorscale\": [[0.0, \"#0d0887\"], [0.1111111111111111, \"#46039f\"], [0.2222222222222222, \"#7201a8\"], [0.3333333333333333, \"#9c179e\"], [0.4444444444444444, \"#bd3786\"], [0.5555555555555556, \"#d8576b\"], [0.6666666666666666, \"#ed7953\"], [0.7777777777777778, \"#fb9f3a\"], [0.8888888888888888, \"#fdca26\"], [1.0, \"#f0f921\"]], \"type\": \"histogram2dcontour\"}], \"mesh3d\": [{\"colorbar\": {\"outlinewidth\": 0, \"ticks\": \"\"}, \"type\": \"mesh3d\"}], \"parcoords\": [{\"line\": {\"colorbar\": {\"outlinewidth\": 0, \"ticks\": \"\"}}, \"type\": \"parcoords\"}], \"pie\": [{\"automargin\": true, \"type\": \"pie\"}], \"scatter\": [{\"marker\": {\"colorbar\": {\"outlinewidth\": 0, \"ticks\": \"\"}}, \"type\": \"scatter\"}], \"scatter3d\": [{\"line\": {\"colorbar\": {\"outlinewidth\": 0, \"ticks\": \"\"}}, \"marker\": {\"colorbar\": {\"outlinewidth\": 0, \"ticks\": \"\"}}, \"type\": \"scatter3d\"}], \"scattercarpet\": [{\"marker\": {\"colorbar\": {\"outlinewidth\": 0, \"ticks\": \"\"}}, \"type\": \"scattercarpet\"}], \"scattergeo\": [{\"marker\": {\"colorbar\": {\"outlinewidth\": 0, \"ticks\": \"\"}}, \"type\": \"scattergeo\"}], \"scattergl\": [{\"marker\": {\"colorbar\": {\"outlinewidth\": 0, \"ticks\": \"\"}}, \"type\": \"scattergl\"}], \"scattermapbox\": [{\"marker\": {\"colorbar\": {\"outlinewidth\": 0, \"ticks\": \"\"}}, \"type\": \"scattermapbox\"}], \"scatterpolar\": [{\"marker\": {\"colorbar\": {\"outlinewidth\": 0, \"ticks\": \"\"}}, \"type\": \"scatterpolar\"}], \"scatterpolargl\": [{\"marker\": {\"colorbar\": {\"outlinewidth\": 0, \"ticks\": \"\"}}, \"type\": \"scatterpolargl\"}], \"scatterternary\": [{\"marker\": {\"colorbar\": {\"outlinewidth\": 0, \"ticks\": \"\"}}, \"type\": \"scatterternary\"}], \"surface\": [{\"colorbar\": {\"outlinewidth\": 0, \"ticks\": \"\"}, \"colorscale\": [[0.0, \"#0d0887\"], [0.1111111111111111, \"#46039f\"], [0.2222222222222222, \"#7201a8\"], [0.3333333333333333, \"#9c179e\"], [0.4444444444444444, \"#bd3786\"], [0.5555555555555556, \"#d8576b\"], [0.6666666666666666, \"#ed7953\"], [0.7777777777777778, \"#fb9f3a\"], [0.8888888888888888, \"#fdca26\"], [1.0, \"#f0f921\"]], \"type\": \"surface\"}], \"table\": [{\"cells\": {\"fill\": {\"color\": \"#EBF0F8\"}, \"line\": {\"color\": \"white\"}}, \"header\": {\"fill\": {\"color\": \"#C8D4E3\"}, \"line\": {\"color\": \"white\"}}, \"type\": \"table\"}]}, \"layout\": {\"annotationdefaults\": {\"arrowcolor\": \"#2a3f5f\", \"arrowhead\": 0, \"arrowwidth\": 1}, \"coloraxis\": {\"colorbar\": {\"outlinewidth\": 0, \"ticks\": \"\"}}, \"colorscale\": {\"diverging\": [[0, \"#8e0152\"], [0.1, \"#c51b7d\"], [0.2, \"#de77ae\"], [0.3, \"#f1b6da\"], [0.4, \"#fde0ef\"], [0.5, \"#f7f7f7\"], [0.6, \"#e6f5d0\"], [0.7, \"#b8e186\"], [0.8, \"#7fbc41\"], [0.9, \"#4d9221\"], [1, \"#276419\"]], \"sequential\": [[0.0, \"#0d0887\"], [0.1111111111111111, \"#46039f\"], [0.2222222222222222, \"#7201a8\"], [0.3333333333333333, \"#9c179e\"], [0.4444444444444444, \"#bd3786\"], [0.5555555555555556, \"#d8576b\"], [0.6666666666666666, \"#ed7953\"], [0.7777777777777778, \"#fb9f3a\"], [0.8888888888888888, \"#fdca26\"], [1.0, \"#f0f921\"]], \"sequentialminus\": [[0.0, \"#0d0887\"], [0.1111111111111111, \"#46039f\"], [0.2222222222222222, \"#7201a8\"], [0.3333333333333333, \"#9c179e\"], [0.4444444444444444, \"#bd3786\"], [0.5555555555555556, \"#d8576b\"], [0.6666666666666666, \"#ed7953\"], [0.7777777777777778, \"#fb9f3a\"], [0.8888888888888888, \"#fdca26\"], [1.0, \"#f0f921\"]]}, \"colorway\": [\"#636efa\", \"#EF553B\", \"#00cc96\", \"#ab63fa\", \"#FFA15A\", \"#19d3f3\", \"#FF6692\", \"#B6E880\", \"#FF97FF\", \"#FECB52\"], \"font\": {\"color\": \"#2a3f5f\"}, \"geo\": {\"bgcolor\": \"white\", \"lakecolor\": \"white\", \"landcolor\": \"#E5ECF6\", \"showlakes\": true, \"showland\": true, \"subunitcolor\": \"white\"}, \"hoverlabel\": {\"align\": \"left\"}, \"hovermode\": \"closest\", \"mapbox\": {\"style\": \"light\"}, \"paper_bgcolor\": \"white\", \"plot_bgcolor\": \"#E5ECF6\", \"polar\": {\"angularaxis\": {\"gridcolor\": \"white\", \"linecolor\": \"white\", \"ticks\": \"\"}, \"bgcolor\": \"#E5ECF6\", \"radialaxis\": {\"gridcolor\": \"white\", \"linecolor\": \"white\", \"ticks\": \"\"}}, \"scene\": {\"xaxis\": {\"backgroundcolor\": \"#E5ECF6\", \"gridcolor\": \"white\", \"gridwidth\": 2, \"linecolor\": \"white\", \"showbackground\": true, \"ticks\": \"\", \"zerolinecolor\": \"white\"}, \"yaxis\": {\"backgroundcolor\": \"#E5ECF6\", \"gridcolor\": \"white\", \"gridwidth\": 2, \"linecolor\": \"white\", \"showbackground\": true, \"ticks\": \"\", \"zerolinecolor\": \"white\"}, \"zaxis\": {\"backgroundcolor\": \"#E5ECF6\", \"gridcolor\": \"white\", \"gridwidth\": 2, \"linecolor\": \"white\", \"showbackground\": true, \"ticks\": \"\", \"zerolinecolor\": \"white\"}}, \"shapedefaults\": {\"line\": {\"color\": \"#2a3f5f\"}}, \"ternary\": {\"aaxis\": {\"gridcolor\": \"white\", \"linecolor\": \"white\", \"ticks\": \"\"}, \"baxis\": {\"gridcolor\": \"white\", \"linecolor\": \"white\", \"ticks\": \"\"}, \"bgcolor\": \"#E5ECF6\", \"caxis\": {\"gridcolor\": \"white\", \"linecolor\": \"white\", \"ticks\": \"\"}}, \"title\": {\"x\": 0.05}, \"xaxis\": {\"automargin\": true, \"gridcolor\": \"white\", \"linecolor\": \"white\", \"ticks\": \"\", \"title\": {\"standoff\": 15}, \"zerolinecolor\": \"white\", \"zerolinewidth\": 2}, \"yaxis\": {\"automargin\": true, \"gridcolor\": \"white\", \"linecolor\": \"white\", \"ticks\": \"\", \"title\": {\"standoff\": 15}, \"zerolinecolor\": \"white\", \"zerolinewidth\": 2}}}, \"title\": {\"font\": {\"color\": \"#4D5663\"}}, \"xaxis\": {\"gridcolor\": \"#E1E5ED\", \"showgrid\": true, \"tickfont\": {\"color\": \"#4D5663\"}, \"title\": {\"font\": {\"color\": \"#4D5663\"}, \"text\": \"\"}, \"zerolinecolor\": \"#E1E5ED\"}, \"yaxis\": {\"gridcolor\": \"#E1E5ED\", \"showgrid\": true, \"tickfont\": {\"color\": \"#4D5663\"}, \"title\": {\"font\": {\"color\": \"#4D5663\"}, \"text\": \"\"}, \"zerolinecolor\": \"#E1E5ED\"}},\n",
       "                        {\"showLink\": true, \"linkText\": \"Export to plot.ly\", \"plotlyServerURL\": \"https://plot.ly\", \"responsive\": true}\n",
       "                    ).then(function(){\n",
       "                            \n",
       "var gd = document.getElementById('847a40d3-7346-4155-b2bd-5b23da0853ea');\n",
       "var x = new MutationObserver(function (mutations, observer) {{\n",
       "        var display = window.getComputedStyle(gd).display;\n",
       "        if (!display || display === 'none') {{\n",
       "            console.log([gd, 'removed!']);\n",
       "            Plotly.purge(gd);\n",
       "            observer.disconnect();\n",
       "        }}\n",
       "}});\n",
       "\n",
       "// Listen for the removal of the full notebook cells\n",
       "var notebookContainer = gd.closest('#notebook-container');\n",
       "if (notebookContainer) {{\n",
       "    x.observe(notebookContainer, {childList: true});\n",
       "}}\n",
       "\n",
       "// Listen for the clearing of the current output cell\n",
       "var outputEl = gd.closest('.output');\n",
       "if (outputEl) {{\n",
       "    x.observe(outputEl, {childList: true});\n",
       "}}\n",
       "\n",
       "                        })\n",
       "                };\n",
       "                });\n",
       "            </script>\n",
       "        </div>"
      ]
     },
     "metadata": {},
     "output_type": "display_data"
    }
   ],
   "source": [
    "df2.iplot(kind='bar',x='Category',y='Values')"
   ]
  },
  {
   "cell_type": "code",
   "execution_count": 18,
   "metadata": {},
   "outputs": [
    {
     "data": {
      "application/vnd.plotly.v1+json": {
       "config": {
        "linkText": "Export to plot.ly",
        "plotlyServerURL": "https://plot.ly",
        "showLink": true
       },
       "data": [
        {
         "marker": {
          "color": "rgba(255, 153, 51, 0.6)",
          "line": {
           "color": "rgba(255, 153, 51, 1.0)",
           "width": 1
          }
         },
         "name": "None",
         "orientation": "v",
         "text": "",
         "type": "bar",
         "x": [
          "A",
          "B",
          "C",
          "D"
         ],
         "y": [
          100,
          100,
          100,
          100
         ]
        }
       ],
       "layout": {
        "legend": {
         "bgcolor": "#F5F6F9",
         "font": {
          "color": "#4D5663"
         }
        },
        "paper_bgcolor": "#F5F6F9",
        "plot_bgcolor": "#F5F6F9",
        "template": {
         "data": {
          "bar": [
           {
            "error_x": {
             "color": "#2a3f5f"
            },
            "error_y": {
             "color": "#2a3f5f"
            },
            "marker": {
             "line": {
              "color": "#E5ECF6",
              "width": 0.5
             }
            },
            "type": "bar"
           }
          ],
          "barpolar": [
           {
            "marker": {
             "line": {
              "color": "#E5ECF6",
              "width": 0.5
             }
            },
            "type": "barpolar"
           }
          ],
          "carpet": [
           {
            "aaxis": {
             "endlinecolor": "#2a3f5f",
             "gridcolor": "white",
             "linecolor": "white",
             "minorgridcolor": "white",
             "startlinecolor": "#2a3f5f"
            },
            "baxis": {
             "endlinecolor": "#2a3f5f",
             "gridcolor": "white",
             "linecolor": "white",
             "minorgridcolor": "white",
             "startlinecolor": "#2a3f5f"
            },
            "type": "carpet"
           }
          ],
          "choropleth": [
           {
            "colorbar": {
             "outlinewidth": 0,
             "ticks": ""
            },
            "type": "choropleth"
           }
          ],
          "contour": [
           {
            "colorbar": {
             "outlinewidth": 0,
             "ticks": ""
            },
            "colorscale": [
             [
              0,
              "#0d0887"
             ],
             [
              0.1111111111111111,
              "#46039f"
             ],
             [
              0.2222222222222222,
              "#7201a8"
             ],
             [
              0.3333333333333333,
              "#9c179e"
             ],
             [
              0.4444444444444444,
              "#bd3786"
             ],
             [
              0.5555555555555556,
              "#d8576b"
             ],
             [
              0.6666666666666666,
              "#ed7953"
             ],
             [
              0.7777777777777778,
              "#fb9f3a"
             ],
             [
              0.8888888888888888,
              "#fdca26"
             ],
             [
              1,
              "#f0f921"
             ]
            ],
            "type": "contour"
           }
          ],
          "contourcarpet": [
           {
            "colorbar": {
             "outlinewidth": 0,
             "ticks": ""
            },
            "type": "contourcarpet"
           }
          ],
          "heatmap": [
           {
            "colorbar": {
             "outlinewidth": 0,
             "ticks": ""
            },
            "colorscale": [
             [
              0,
              "#0d0887"
             ],
             [
              0.1111111111111111,
              "#46039f"
             ],
             [
              0.2222222222222222,
              "#7201a8"
             ],
             [
              0.3333333333333333,
              "#9c179e"
             ],
             [
              0.4444444444444444,
              "#bd3786"
             ],
             [
              0.5555555555555556,
              "#d8576b"
             ],
             [
              0.6666666666666666,
              "#ed7953"
             ],
             [
              0.7777777777777778,
              "#fb9f3a"
             ],
             [
              0.8888888888888888,
              "#fdca26"
             ],
             [
              1,
              "#f0f921"
             ]
            ],
            "type": "heatmap"
           }
          ],
          "heatmapgl": [
           {
            "colorbar": {
             "outlinewidth": 0,
             "ticks": ""
            },
            "colorscale": [
             [
              0,
              "#0d0887"
             ],
             [
              0.1111111111111111,
              "#46039f"
             ],
             [
              0.2222222222222222,
              "#7201a8"
             ],
             [
              0.3333333333333333,
              "#9c179e"
             ],
             [
              0.4444444444444444,
              "#bd3786"
             ],
             [
              0.5555555555555556,
              "#d8576b"
             ],
             [
              0.6666666666666666,
              "#ed7953"
             ],
             [
              0.7777777777777778,
              "#fb9f3a"
             ],
             [
              0.8888888888888888,
              "#fdca26"
             ],
             [
              1,
              "#f0f921"
             ]
            ],
            "type": "heatmapgl"
           }
          ],
          "histogram": [
           {
            "marker": {
             "colorbar": {
              "outlinewidth": 0,
              "ticks": ""
             }
            },
            "type": "histogram"
           }
          ],
          "histogram2d": [
           {
            "colorbar": {
             "outlinewidth": 0,
             "ticks": ""
            },
            "colorscale": [
             [
              0,
              "#0d0887"
             ],
             [
              0.1111111111111111,
              "#46039f"
             ],
             [
              0.2222222222222222,
              "#7201a8"
             ],
             [
              0.3333333333333333,
              "#9c179e"
             ],
             [
              0.4444444444444444,
              "#bd3786"
             ],
             [
              0.5555555555555556,
              "#d8576b"
             ],
             [
              0.6666666666666666,
              "#ed7953"
             ],
             [
              0.7777777777777778,
              "#fb9f3a"
             ],
             [
              0.8888888888888888,
              "#fdca26"
             ],
             [
              1,
              "#f0f921"
             ]
            ],
            "type": "histogram2d"
           }
          ],
          "histogram2dcontour": [
           {
            "colorbar": {
             "outlinewidth": 0,
             "ticks": ""
            },
            "colorscale": [
             [
              0,
              "#0d0887"
             ],
             [
              0.1111111111111111,
              "#46039f"
             ],
             [
              0.2222222222222222,
              "#7201a8"
             ],
             [
              0.3333333333333333,
              "#9c179e"
             ],
             [
              0.4444444444444444,
              "#bd3786"
             ],
             [
              0.5555555555555556,
              "#d8576b"
             ],
             [
              0.6666666666666666,
              "#ed7953"
             ],
             [
              0.7777777777777778,
              "#fb9f3a"
             ],
             [
              0.8888888888888888,
              "#fdca26"
             ],
             [
              1,
              "#f0f921"
             ]
            ],
            "type": "histogram2dcontour"
           }
          ],
          "mesh3d": [
           {
            "colorbar": {
             "outlinewidth": 0,
             "ticks": ""
            },
            "type": "mesh3d"
           }
          ],
          "parcoords": [
           {
            "line": {
             "colorbar": {
              "outlinewidth": 0,
              "ticks": ""
             }
            },
            "type": "parcoords"
           }
          ],
          "pie": [
           {
            "automargin": true,
            "type": "pie"
           }
          ],
          "scatter": [
           {
            "marker": {
             "colorbar": {
              "outlinewidth": 0,
              "ticks": ""
             }
            },
            "type": "scatter"
           }
          ],
          "scatter3d": [
           {
            "line": {
             "colorbar": {
              "outlinewidth": 0,
              "ticks": ""
             }
            },
            "marker": {
             "colorbar": {
              "outlinewidth": 0,
              "ticks": ""
             }
            },
            "type": "scatter3d"
           }
          ],
          "scattercarpet": [
           {
            "marker": {
             "colorbar": {
              "outlinewidth": 0,
              "ticks": ""
             }
            },
            "type": "scattercarpet"
           }
          ],
          "scattergeo": [
           {
            "marker": {
             "colorbar": {
              "outlinewidth": 0,
              "ticks": ""
             }
            },
            "type": "scattergeo"
           }
          ],
          "scattergl": [
           {
            "marker": {
             "colorbar": {
              "outlinewidth": 0,
              "ticks": ""
             }
            },
            "type": "scattergl"
           }
          ],
          "scattermapbox": [
           {
            "marker": {
             "colorbar": {
              "outlinewidth": 0,
              "ticks": ""
             }
            },
            "type": "scattermapbox"
           }
          ],
          "scatterpolar": [
           {
            "marker": {
             "colorbar": {
              "outlinewidth": 0,
              "ticks": ""
             }
            },
            "type": "scatterpolar"
           }
          ],
          "scatterpolargl": [
           {
            "marker": {
             "colorbar": {
              "outlinewidth": 0,
              "ticks": ""
             }
            },
            "type": "scatterpolargl"
           }
          ],
          "scatterternary": [
           {
            "marker": {
             "colorbar": {
              "outlinewidth": 0,
              "ticks": ""
             }
            },
            "type": "scatterternary"
           }
          ],
          "surface": [
           {
            "colorbar": {
             "outlinewidth": 0,
             "ticks": ""
            },
            "colorscale": [
             [
              0,
              "#0d0887"
             ],
             [
              0.1111111111111111,
              "#46039f"
             ],
             [
              0.2222222222222222,
              "#7201a8"
             ],
             [
              0.3333333333333333,
              "#9c179e"
             ],
             [
              0.4444444444444444,
              "#bd3786"
             ],
             [
              0.5555555555555556,
              "#d8576b"
             ],
             [
              0.6666666666666666,
              "#ed7953"
             ],
             [
              0.7777777777777778,
              "#fb9f3a"
             ],
             [
              0.8888888888888888,
              "#fdca26"
             ],
             [
              1,
              "#f0f921"
             ]
            ],
            "type": "surface"
           }
          ],
          "table": [
           {
            "cells": {
             "fill": {
              "color": "#EBF0F8"
             },
             "line": {
              "color": "white"
             }
            },
            "header": {
             "fill": {
              "color": "#C8D4E3"
             },
             "line": {
              "color": "white"
             }
            },
            "type": "table"
           }
          ]
         },
         "layout": {
          "annotationdefaults": {
           "arrowcolor": "#2a3f5f",
           "arrowhead": 0,
           "arrowwidth": 1
          },
          "coloraxis": {
           "colorbar": {
            "outlinewidth": 0,
            "ticks": ""
           }
          },
          "colorscale": {
           "diverging": [
            [
             0,
             "#8e0152"
            ],
            [
             0.1,
             "#c51b7d"
            ],
            [
             0.2,
             "#de77ae"
            ],
            [
             0.3,
             "#f1b6da"
            ],
            [
             0.4,
             "#fde0ef"
            ],
            [
             0.5,
             "#f7f7f7"
            ],
            [
             0.6,
             "#e6f5d0"
            ],
            [
             0.7,
             "#b8e186"
            ],
            [
             0.8,
             "#7fbc41"
            ],
            [
             0.9,
             "#4d9221"
            ],
            [
             1,
             "#276419"
            ]
           ],
           "sequential": [
            [
             0,
             "#0d0887"
            ],
            [
             0.1111111111111111,
             "#46039f"
            ],
            [
             0.2222222222222222,
             "#7201a8"
            ],
            [
             0.3333333333333333,
             "#9c179e"
            ],
            [
             0.4444444444444444,
             "#bd3786"
            ],
            [
             0.5555555555555556,
             "#d8576b"
            ],
            [
             0.6666666666666666,
             "#ed7953"
            ],
            [
             0.7777777777777778,
             "#fb9f3a"
            ],
            [
             0.8888888888888888,
             "#fdca26"
            ],
            [
             1,
             "#f0f921"
            ]
           ],
           "sequentialminus": [
            [
             0,
             "#0d0887"
            ],
            [
             0.1111111111111111,
             "#46039f"
            ],
            [
             0.2222222222222222,
             "#7201a8"
            ],
            [
             0.3333333333333333,
             "#9c179e"
            ],
            [
             0.4444444444444444,
             "#bd3786"
            ],
            [
             0.5555555555555556,
             "#d8576b"
            ],
            [
             0.6666666666666666,
             "#ed7953"
            ],
            [
             0.7777777777777778,
             "#fb9f3a"
            ],
            [
             0.8888888888888888,
             "#fdca26"
            ],
            [
             1,
             "#f0f921"
            ]
           ]
          },
          "colorway": [
           "#636efa",
           "#EF553B",
           "#00cc96",
           "#ab63fa",
           "#FFA15A",
           "#19d3f3",
           "#FF6692",
           "#B6E880",
           "#FF97FF",
           "#FECB52"
          ],
          "font": {
           "color": "#2a3f5f"
          },
          "geo": {
           "bgcolor": "white",
           "lakecolor": "white",
           "landcolor": "#E5ECF6",
           "showlakes": true,
           "showland": true,
           "subunitcolor": "white"
          },
          "hoverlabel": {
           "align": "left"
          },
          "hovermode": "closest",
          "mapbox": {
           "style": "light"
          },
          "paper_bgcolor": "white",
          "plot_bgcolor": "#E5ECF6",
          "polar": {
           "angularaxis": {
            "gridcolor": "white",
            "linecolor": "white",
            "ticks": ""
           },
           "bgcolor": "#E5ECF6",
           "radialaxis": {
            "gridcolor": "white",
            "linecolor": "white",
            "ticks": ""
           }
          },
          "scene": {
           "xaxis": {
            "backgroundcolor": "#E5ECF6",
            "gridcolor": "white",
            "gridwidth": 2,
            "linecolor": "white",
            "showbackground": true,
            "ticks": "",
            "zerolinecolor": "white"
           },
           "yaxis": {
            "backgroundcolor": "#E5ECF6",
            "gridcolor": "white",
            "gridwidth": 2,
            "linecolor": "white",
            "showbackground": true,
            "ticks": "",
            "zerolinecolor": "white"
           },
           "zaxis": {
            "backgroundcolor": "#E5ECF6",
            "gridcolor": "white",
            "gridwidth": 2,
            "linecolor": "white",
            "showbackground": true,
            "ticks": "",
            "zerolinecolor": "white"
           }
          },
          "shapedefaults": {
           "line": {
            "color": "#2a3f5f"
           }
          },
          "ternary": {
           "aaxis": {
            "gridcolor": "white",
            "linecolor": "white",
            "ticks": ""
           },
           "baxis": {
            "gridcolor": "white",
            "linecolor": "white",
            "ticks": ""
           },
           "bgcolor": "#E5ECF6",
           "caxis": {
            "gridcolor": "white",
            "linecolor": "white",
            "ticks": ""
           }
          },
          "title": {
           "x": 0.05
          },
          "xaxis": {
           "automargin": true,
           "gridcolor": "white",
           "linecolor": "white",
           "ticks": "",
           "title": {
            "standoff": 15
           },
           "zerolinecolor": "white",
           "zerolinewidth": 2
          },
          "yaxis": {
           "automargin": true,
           "gridcolor": "white",
           "linecolor": "white",
           "ticks": "",
           "title": {
            "standoff": 15
           },
           "zerolinecolor": "white",
           "zerolinewidth": 2
          }
         }
        },
        "title": {
         "font": {
          "color": "#4D5663"
         }
        },
        "xaxis": {
         "gridcolor": "#E1E5ED",
         "showgrid": true,
         "tickfont": {
          "color": "#4D5663"
         },
         "title": {
          "font": {
           "color": "#4D5663"
          },
          "text": ""
         },
         "zerolinecolor": "#E1E5ED"
        },
        "yaxis": {
         "gridcolor": "#E1E5ED",
         "showgrid": true,
         "tickfont": {
          "color": "#4D5663"
         },
         "title": {
          "font": {
           "color": "#4D5663"
          },
          "text": ""
         },
         "zerolinecolor": "#E1E5ED"
        }
       }
      },
      "text/html": [
       "<div>\n",
       "        \n",
       "        \n",
       "            <div id=\"c37efb1a-ba7d-4ce6-8862-079deb3a1b7b\" class=\"plotly-graph-div\" style=\"height:525px; width:100%;\"></div>\n",
       "            <script type=\"text/javascript\">\n",
       "                require([\"plotly\"], function(Plotly) {\n",
       "                    window.PLOTLYENV=window.PLOTLYENV || {};\n",
       "                    window.PLOTLYENV.BASE_URL='https://plot.ly';\n",
       "                    \n",
       "                if (document.getElementById(\"c37efb1a-ba7d-4ce6-8862-079deb3a1b7b\")) {\n",
       "                    Plotly.newPlot(\n",
       "                        'c37efb1a-ba7d-4ce6-8862-079deb3a1b7b',\n",
       "                        [{\"marker\": {\"color\": \"rgba(255, 153, 51, 0.6)\", \"line\": {\"color\": \"rgba(255, 153, 51, 1.0)\", \"width\": 1}}, \"name\": \"None\", \"orientation\": \"v\", \"text\": \"\", \"type\": \"bar\", \"x\": [\"A\", \"B\", \"C\", \"D\"], \"y\": [100, 100, 100, 100]}],\n",
       "                        {\"legend\": {\"bgcolor\": \"#F5F6F9\", \"font\": {\"color\": \"#4D5663\"}}, \"paper_bgcolor\": \"#F5F6F9\", \"plot_bgcolor\": \"#F5F6F9\", \"template\": {\"data\": {\"bar\": [{\"error_x\": {\"color\": \"#2a3f5f\"}, \"error_y\": {\"color\": \"#2a3f5f\"}, \"marker\": {\"line\": {\"color\": \"#E5ECF6\", \"width\": 0.5}}, \"type\": \"bar\"}], \"barpolar\": [{\"marker\": {\"line\": {\"color\": \"#E5ECF6\", \"width\": 0.5}}, \"type\": \"barpolar\"}], \"carpet\": [{\"aaxis\": {\"endlinecolor\": \"#2a3f5f\", \"gridcolor\": \"white\", \"linecolor\": \"white\", \"minorgridcolor\": \"white\", \"startlinecolor\": \"#2a3f5f\"}, \"baxis\": {\"endlinecolor\": \"#2a3f5f\", \"gridcolor\": \"white\", \"linecolor\": \"white\", \"minorgridcolor\": \"white\", \"startlinecolor\": \"#2a3f5f\"}, \"type\": \"carpet\"}], \"choropleth\": [{\"colorbar\": {\"outlinewidth\": 0, \"ticks\": \"\"}, \"type\": \"choropleth\"}], \"contour\": [{\"colorbar\": {\"outlinewidth\": 0, \"ticks\": \"\"}, \"colorscale\": [[0.0, \"#0d0887\"], [0.1111111111111111, \"#46039f\"], [0.2222222222222222, \"#7201a8\"], [0.3333333333333333, \"#9c179e\"], [0.4444444444444444, \"#bd3786\"], [0.5555555555555556, \"#d8576b\"], [0.6666666666666666, \"#ed7953\"], [0.7777777777777778, \"#fb9f3a\"], [0.8888888888888888, \"#fdca26\"], [1.0, \"#f0f921\"]], \"type\": \"contour\"}], \"contourcarpet\": [{\"colorbar\": {\"outlinewidth\": 0, \"ticks\": \"\"}, \"type\": \"contourcarpet\"}], \"heatmap\": [{\"colorbar\": {\"outlinewidth\": 0, \"ticks\": \"\"}, \"colorscale\": [[0.0, \"#0d0887\"], [0.1111111111111111, \"#46039f\"], [0.2222222222222222, \"#7201a8\"], [0.3333333333333333, \"#9c179e\"], [0.4444444444444444, \"#bd3786\"], [0.5555555555555556, \"#d8576b\"], [0.6666666666666666, \"#ed7953\"], [0.7777777777777778, \"#fb9f3a\"], [0.8888888888888888, \"#fdca26\"], [1.0, \"#f0f921\"]], \"type\": \"heatmap\"}], \"heatmapgl\": [{\"colorbar\": {\"outlinewidth\": 0, \"ticks\": \"\"}, \"colorscale\": [[0.0, \"#0d0887\"], [0.1111111111111111, \"#46039f\"], [0.2222222222222222, \"#7201a8\"], [0.3333333333333333, \"#9c179e\"], [0.4444444444444444, \"#bd3786\"], [0.5555555555555556, \"#d8576b\"], [0.6666666666666666, \"#ed7953\"], [0.7777777777777778, \"#fb9f3a\"], [0.8888888888888888, \"#fdca26\"], [1.0, \"#f0f921\"]], \"type\": \"heatmapgl\"}], \"histogram\": [{\"marker\": {\"colorbar\": {\"outlinewidth\": 0, \"ticks\": \"\"}}, \"type\": \"histogram\"}], \"histogram2d\": [{\"colorbar\": {\"outlinewidth\": 0, \"ticks\": \"\"}, \"colorscale\": [[0.0, \"#0d0887\"], [0.1111111111111111, \"#46039f\"], [0.2222222222222222, \"#7201a8\"], [0.3333333333333333, \"#9c179e\"], [0.4444444444444444, \"#bd3786\"], [0.5555555555555556, \"#d8576b\"], [0.6666666666666666, \"#ed7953\"], [0.7777777777777778, \"#fb9f3a\"], [0.8888888888888888, \"#fdca26\"], [1.0, \"#f0f921\"]], \"type\": \"histogram2d\"}], \"histogram2dcontour\": [{\"colorbar\": {\"outlinewidth\": 0, \"ticks\": \"\"}, \"colorscale\": [[0.0, \"#0d0887\"], [0.1111111111111111, \"#46039f\"], [0.2222222222222222, \"#7201a8\"], [0.3333333333333333, \"#9c179e\"], [0.4444444444444444, \"#bd3786\"], [0.5555555555555556, \"#d8576b\"], [0.6666666666666666, \"#ed7953\"], [0.7777777777777778, \"#fb9f3a\"], [0.8888888888888888, \"#fdca26\"], [1.0, \"#f0f921\"]], \"type\": \"histogram2dcontour\"}], \"mesh3d\": [{\"colorbar\": {\"outlinewidth\": 0, \"ticks\": \"\"}, \"type\": \"mesh3d\"}], \"parcoords\": [{\"line\": {\"colorbar\": {\"outlinewidth\": 0, \"ticks\": \"\"}}, \"type\": \"parcoords\"}], \"pie\": [{\"automargin\": true, \"type\": \"pie\"}], \"scatter\": [{\"marker\": {\"colorbar\": {\"outlinewidth\": 0, \"ticks\": \"\"}}, \"type\": \"scatter\"}], \"scatter3d\": [{\"line\": {\"colorbar\": {\"outlinewidth\": 0, \"ticks\": \"\"}}, \"marker\": {\"colorbar\": {\"outlinewidth\": 0, \"ticks\": \"\"}}, \"type\": \"scatter3d\"}], \"scattercarpet\": [{\"marker\": {\"colorbar\": {\"outlinewidth\": 0, \"ticks\": \"\"}}, \"type\": \"scattercarpet\"}], \"scattergeo\": [{\"marker\": {\"colorbar\": {\"outlinewidth\": 0, \"ticks\": \"\"}}, \"type\": \"scattergeo\"}], \"scattergl\": [{\"marker\": {\"colorbar\": {\"outlinewidth\": 0, \"ticks\": \"\"}}, \"type\": \"scattergl\"}], \"scattermapbox\": [{\"marker\": {\"colorbar\": {\"outlinewidth\": 0, \"ticks\": \"\"}}, \"type\": \"scattermapbox\"}], \"scatterpolar\": [{\"marker\": {\"colorbar\": {\"outlinewidth\": 0, \"ticks\": \"\"}}, \"type\": \"scatterpolar\"}], \"scatterpolargl\": [{\"marker\": {\"colorbar\": {\"outlinewidth\": 0, \"ticks\": \"\"}}, \"type\": \"scatterpolargl\"}], \"scatterternary\": [{\"marker\": {\"colorbar\": {\"outlinewidth\": 0, \"ticks\": \"\"}}, \"type\": \"scatterternary\"}], \"surface\": [{\"colorbar\": {\"outlinewidth\": 0, \"ticks\": \"\"}, \"colorscale\": [[0.0, \"#0d0887\"], [0.1111111111111111, \"#46039f\"], [0.2222222222222222, \"#7201a8\"], [0.3333333333333333, \"#9c179e\"], [0.4444444444444444, \"#bd3786\"], [0.5555555555555556, \"#d8576b\"], [0.6666666666666666, \"#ed7953\"], [0.7777777777777778, \"#fb9f3a\"], [0.8888888888888888, \"#fdca26\"], [1.0, \"#f0f921\"]], \"type\": \"surface\"}], \"table\": [{\"cells\": {\"fill\": {\"color\": \"#EBF0F8\"}, \"line\": {\"color\": \"white\"}}, \"header\": {\"fill\": {\"color\": \"#C8D4E3\"}, \"line\": {\"color\": \"white\"}}, \"type\": \"table\"}]}, \"layout\": {\"annotationdefaults\": {\"arrowcolor\": \"#2a3f5f\", \"arrowhead\": 0, \"arrowwidth\": 1}, \"coloraxis\": {\"colorbar\": {\"outlinewidth\": 0, \"ticks\": \"\"}}, \"colorscale\": {\"diverging\": [[0, \"#8e0152\"], [0.1, \"#c51b7d\"], [0.2, \"#de77ae\"], [0.3, \"#f1b6da\"], [0.4, \"#fde0ef\"], [0.5, \"#f7f7f7\"], [0.6, \"#e6f5d0\"], [0.7, \"#b8e186\"], [0.8, \"#7fbc41\"], [0.9, \"#4d9221\"], [1, \"#276419\"]], \"sequential\": [[0.0, \"#0d0887\"], [0.1111111111111111, \"#46039f\"], [0.2222222222222222, \"#7201a8\"], [0.3333333333333333, \"#9c179e\"], [0.4444444444444444, \"#bd3786\"], [0.5555555555555556, \"#d8576b\"], [0.6666666666666666, \"#ed7953\"], [0.7777777777777778, \"#fb9f3a\"], [0.8888888888888888, \"#fdca26\"], [1.0, \"#f0f921\"]], \"sequentialminus\": [[0.0, \"#0d0887\"], [0.1111111111111111, \"#46039f\"], [0.2222222222222222, \"#7201a8\"], [0.3333333333333333, \"#9c179e\"], [0.4444444444444444, \"#bd3786\"], [0.5555555555555556, \"#d8576b\"], [0.6666666666666666, \"#ed7953\"], [0.7777777777777778, \"#fb9f3a\"], [0.8888888888888888, \"#fdca26\"], [1.0, \"#f0f921\"]]}, \"colorway\": [\"#636efa\", \"#EF553B\", \"#00cc96\", \"#ab63fa\", \"#FFA15A\", \"#19d3f3\", \"#FF6692\", \"#B6E880\", \"#FF97FF\", \"#FECB52\"], \"font\": {\"color\": \"#2a3f5f\"}, \"geo\": {\"bgcolor\": \"white\", \"lakecolor\": \"white\", \"landcolor\": \"#E5ECF6\", \"showlakes\": true, \"showland\": true, \"subunitcolor\": \"white\"}, \"hoverlabel\": {\"align\": \"left\"}, \"hovermode\": \"closest\", \"mapbox\": {\"style\": \"light\"}, \"paper_bgcolor\": \"white\", \"plot_bgcolor\": \"#E5ECF6\", \"polar\": {\"angularaxis\": {\"gridcolor\": \"white\", \"linecolor\": \"white\", \"ticks\": \"\"}, \"bgcolor\": \"#E5ECF6\", \"radialaxis\": {\"gridcolor\": \"white\", \"linecolor\": \"white\", \"ticks\": \"\"}}, \"scene\": {\"xaxis\": {\"backgroundcolor\": \"#E5ECF6\", \"gridcolor\": \"white\", \"gridwidth\": 2, \"linecolor\": \"white\", \"showbackground\": true, \"ticks\": \"\", \"zerolinecolor\": \"white\"}, \"yaxis\": {\"backgroundcolor\": \"#E5ECF6\", \"gridcolor\": \"white\", \"gridwidth\": 2, \"linecolor\": \"white\", \"showbackground\": true, \"ticks\": \"\", \"zerolinecolor\": \"white\"}, \"zaxis\": {\"backgroundcolor\": \"#E5ECF6\", \"gridcolor\": \"white\", \"gridwidth\": 2, \"linecolor\": \"white\", \"showbackground\": true, \"ticks\": \"\", \"zerolinecolor\": \"white\"}}, \"shapedefaults\": {\"line\": {\"color\": \"#2a3f5f\"}}, \"ternary\": {\"aaxis\": {\"gridcolor\": \"white\", \"linecolor\": \"white\", \"ticks\": \"\"}, \"baxis\": {\"gridcolor\": \"white\", \"linecolor\": \"white\", \"ticks\": \"\"}, \"bgcolor\": \"#E5ECF6\", \"caxis\": {\"gridcolor\": \"white\", \"linecolor\": \"white\", \"ticks\": \"\"}}, \"title\": {\"x\": 0.05}, \"xaxis\": {\"automargin\": true, \"gridcolor\": \"white\", \"linecolor\": \"white\", \"ticks\": \"\", \"title\": {\"standoff\": 15}, \"zerolinecolor\": \"white\", \"zerolinewidth\": 2}, \"yaxis\": {\"automargin\": true, \"gridcolor\": \"white\", \"linecolor\": \"white\", \"ticks\": \"\", \"title\": {\"standoff\": 15}, \"zerolinecolor\": \"white\", \"zerolinewidth\": 2}}}, \"title\": {\"font\": {\"color\": \"#4D5663\"}}, \"xaxis\": {\"gridcolor\": \"#E1E5ED\", \"showgrid\": true, \"tickfont\": {\"color\": \"#4D5663\"}, \"title\": {\"font\": {\"color\": \"#4D5663\"}, \"text\": \"\"}, \"zerolinecolor\": \"#E1E5ED\"}, \"yaxis\": {\"gridcolor\": \"#E1E5ED\", \"showgrid\": true, \"tickfont\": {\"color\": \"#4D5663\"}, \"title\": {\"font\": {\"color\": \"#4D5663\"}, \"text\": \"\"}, \"zerolinecolor\": \"#E1E5ED\"}},\n",
       "                        {\"showLink\": true, \"linkText\": \"Export to plot.ly\", \"plotlyServerURL\": \"https://plot.ly\", \"responsive\": true}\n",
       "                    ).then(function(){\n",
       "                            \n",
       "var gd = document.getElementById('c37efb1a-ba7d-4ce6-8862-079deb3a1b7b');\n",
       "var x = new MutationObserver(function (mutations, observer) {{\n",
       "        var display = window.getComputedStyle(gd).display;\n",
       "        if (!display || display === 'none') {{\n",
       "            console.log([gd, 'removed!']);\n",
       "            Plotly.purge(gd);\n",
       "            observer.disconnect();\n",
       "        }}\n",
       "}});\n",
       "\n",
       "// Listen for the removal of the full notebook cells\n",
       "var notebookContainer = gd.closest('#notebook-container');\n",
       "if (notebookContainer) {{\n",
       "    x.observe(notebookContainer, {childList: true});\n",
       "}}\n",
       "\n",
       "// Listen for the clearing of the current output cell\n",
       "var outputEl = gd.closest('.output');\n",
       "if (outputEl) {{\n",
       "    x.observe(outputEl, {childList: true});\n",
       "}}\n",
       "\n",
       "                        })\n",
       "                };\n",
       "                });\n",
       "            </script>\n",
       "        </div>"
      ]
     },
     "metadata": {},
     "output_type": "display_data"
    }
   ],
   "source": [
    "df.count().iplot(kind='bar')"
   ]
  },
  {
   "cell_type": "markdown",
   "metadata": {},
   "source": [
    "## Boxplots"
   ]
  },
  {
   "cell_type": "code",
   "execution_count": 19,
   "metadata": {},
   "outputs": [
    {
     "data": {
      "application/vnd.plotly.v1+json": {
       "config": {
        "linkText": "Export to plot.ly",
        "plotlyServerURL": "https://plot.ly",
        "showLink": true
       },
       "data": [
        {
         "boxpoints": false,
         "line": {
          "width": 1.3
         },
         "marker": {
          "color": "rgba(255, 153, 51, 1.0)"
         },
         "name": "A",
         "orientation": "v",
         "type": "box",
         "y": [
          -1.4138153976580274,
          0.08455022128887005,
          1.5471984510871117,
          1.6967637029976672,
          -0.7507050193197625,
          0.6144492892274529,
          0.10523618232753329,
          1.207121390424313,
          1.7326766078557791,
          -0.21328491944561068,
          2.008579499791018,
          0.21547481593456028,
          0.3808402686537413,
          -0.06092935790697329,
          0.8370766754499239,
          0.8274287807229304,
          -0.4126127693231269,
          -0.16929922544402398,
          0.7208595301409876,
          0.7733136383374829,
          -0.28892514206321673,
          -0.8762071774130635,
          -0.80619652439963,
          1.2305229116274847,
          -0.38858088186267853,
          0.7897841741518612,
          -0.8489199189374191,
          -1.3654506088764375,
          0.48549328430965677,
          0.35924680412438875,
          1.1114054429854745,
          0.0886027064970111,
          -0.4636103442398656,
          -0.20840951954222545,
          0.1405922012276346,
          -0.24064485943761077,
          -0.8334111091782375,
          1.842590317603657,
          -0.3371466088321572,
          -0.2034175748337479,
          -2.3459567831821633,
          -0.4017961959202484,
          0.4723198933313565,
          0.7501448239663938,
          -1.0693669073862617,
          1.5986290804606074,
          -0.24461314844453189,
          0.10368147740607012,
          -1.4969890118186504,
          -0.12435682418267893,
          1.274839898045271,
          -0.5169915646947392,
          -1.0712305609778643,
          -0.48659733893741813,
          0.3587922256913342,
          1.0999910285647592,
          0.9149839476261293,
          -0.486099575812348,
          -0.7608301228828495,
          -0.43453947979910407,
          -0.4378707689182603,
          0.01856409953642223,
          0.3832610655005692,
          -2.0933524665046948,
          1.7283265223487883,
          0.9869190365137367,
          0.40571454260259016,
          -0.5152470857611197,
          0.8786939279620871,
          0.4279175871191947,
          -2.601024184701134,
          -0.683284735855935,
          0.849927363712278,
          0.8857275580349077,
          1.2882816361582505,
          -0.519059352346447,
          -0.6904750615623734,
          0.8241614462286408,
          -0.46459047977908063,
          0.11913998254705363,
          0.13758868739779878,
          0.24332496851049237,
          0.018205797429998904,
          0.358933107643315,
          1.1315519087511798,
          -0.7637852405135656,
          0.3135604813218632,
          0.2377824938105682,
          1.2657677242286454,
          0.7290062940756441,
          0.6480948280599899,
          -0.1565135938137894,
          0.4133359631767297,
          0.7647690463317591,
          -1.4126303876542592,
          -0.24760521350475748,
          1.5285367941102805,
          -1.1365724953019072,
          0.21258239309873145,
          1.4010067851622496
         ]
        },
        {
         "boxpoints": false,
         "line": {
          "width": 1.3
         },
         "marker": {
          "color": "rgba(55, 128, 191, 1.0)"
         },
         "name": "B",
         "orientation": "v",
         "type": "box",
         "y": [
          0.6307750025445071,
          2.1165649393990944,
          -0.13402531428069492,
          -1.0980616376530266,
          -2.434586496069079,
          -1.3053078896558565,
          -0.07090686858487011,
          0.2058256171970834,
          -0.399262838679452,
          -0.14038606848181132,
          0.9187536646281099,
          -0.8442053961123566,
          -0.2203312366099077,
          0.6148352056947539,
          0.5487157074264113,
          -0.8815647579995127,
          -0.34319730713674246,
          -1.0520874575465975,
          -0.5654422884296576,
          -0.09868497816887367,
          -0.4968289089377307,
          0.2716017943118359,
          0.9226989164424838,
          -0.5239432560546522,
          -0.8805108560299565,
          1.0291913615050854,
          -0.09431283356381821,
          -0.9703360343139987,
          0.47166862549484884,
          -1.2700349012817091,
          0.413275586679944,
          -0.04254191220658984,
          -0.3338980359576901,
          -0.675195513492032,
          1.550294420863555,
          1.1516766730039087,
          0.6535287491249111,
          0.6144648993585563,
          0.789565666569126,
          -0.3433168130690615,
          -0.05275694170220859,
          0.3020462133498991,
          -0.06943522706603063,
          -0.35192362829665536,
          0.6126596333884724,
          1.5578365933599612,
          -0.1253060804619179,
          -1.3902002070743285,
          -0.8174637537749673,
          0.11333678312936613,
          1.3356891122813224,
          0.19964929894159641,
          0.08236990727602006,
          1.2201019912024953,
          -0.5511844759854739,
          -0.8289846840857326,
          0.33884864688721744,
          1.0881768989607006,
          -0.7703403348773846,
          -0.2946516470282624,
          0.06536745681673374,
          0.7892622385305326,
          1.6351318760725766,
          -0.3738887659267329,
          0.5705852579762929,
          1.7567400703602254,
          1.5658507756576097,
          -0.32738934219238813,
          -3.4188171677438355,
          -0.8446793972616198,
          -0.0745933598454902,
          0.9009946023546918,
          0.04500369804380455,
          -0.16211529173578793,
          -1.612928599166473,
          -0.010132569394765995,
          0.17953472500659787,
          0.0064179642326903244,
          0.1326959809776376,
          1.946233101865483,
          0.03252092127965211,
          -0.5130179934757979,
          0.1429766964487547,
          -1.0395116288148776,
          -1.160703594319139,
          0.4435732597243696,
          1.5891745109922495,
          0.31166755938333734,
          -0.9900532640822058,
          0.6440787128368036,
          0.5558862615610557,
          0.2982157252903566,
          0.653861307961139,
          -0.9103614368183744,
          -0.20579788187733009,
          1.2582778382184772,
          -0.8122835465461327,
          -0.2767951603430714,
          -1.3958080501251722,
          0.6847098823556407
         ]
        },
        {
         "boxpoints": false,
         "line": {
          "width": 1.3
         },
         "marker": {
          "color": "rgba(50, 171, 96, 1.0)"
         },
         "name": "C",
         "orientation": "v",
         "type": "box",
         "y": [
          -0.46340373251531897,
          -1.2458082668067412,
          -1.2544869635350833,
          0.7992798174825069,
          -0.6920536741082177,
          -0.9039402715935553,
          -0.5318693601620845,
          0.36622384671901065,
          1.734636291744235,
          0.4919645545584108,
          -1.2114597598608754,
          0.45078559077266145,
          0.1572546695747489,
          0.2931161256889199,
          -2.019960738755273,
          1.9786741394069225,
          -0.25705990841031306,
          0.6258033617564331,
          -0.565313370019214,
          -0.871242691574864,
          -0.9072413358597263,
          -0.4352159828031252,
          -0.3152789420605196,
          0.3343274016001478,
          -0.8355510389853845,
          -0.08063233193136128,
          1.2085798566116208,
          -1.4467876496884895,
          0.38203123547837603,
          0.46426729140012724,
          1.6401217079434836,
          -0.854238034593468,
          1.5407210744037485,
          -0.14436325819618617,
          -0.2605810656404103,
          -1.0667650476360888,
          -1.056067245591354,
          1.9574704984813092,
          -0.28548161395355387,
          0.3630299765906264,
          1.8717410623106905,
          -1.2885519087872637,
          0.2047593692732163,
          -0.5974228245989848,
          1.6814383513171696,
          0.820360064671196,
          -0.17586988934263895,
          -0.4083214975570279,
          -0.05674128881314127,
          -1.8152612188116326,
          -0.8864130113250144,
          1.4603451453226415,
          1.4297458915209527,
          0.6231188334979672,
          -0.8101152307172,
          1.6812865981628995,
          0.2536332988253022,
          -0.21639811344208956,
          -0.7350529452943216,
          -0.148659510206894,
          0.3782443081771902,
          -1.2849059090569048,
          -1.9032548143075259,
          -0.39613707656414376,
          0.40350296821948145,
          -0.11486122769817589,
          -0.0305981534114856,
          -0.27470397798688656,
          -1.3120954580845827,
          0.8276891494136229,
          -0.980367071594073,
          -0.04462247327438354,
          1.7759901461121241,
          0.19542388409024997,
          -0.13794027312975354,
          -2.244810442035269,
          1.140100134219041,
          -0.07762929188667533,
          0.9865114345836813,
          -0.33191983063864333,
          -0.4927775935775253,
          -0.41706644247887215,
          -0.9506510221488315,
          0.32331265996069625,
          0.12018968834740629,
          1.1090243442109413,
          -0.15391658451186283,
          -1.8478056324649534,
          0.7164486019595993,
          -1.0500354676498393,
          -2.573872198975193,
          -0.805911709339272,
          -0.369358056939599,
          0.5729898387862129,
          1.619496005508339,
          0.381073260793748,
          0.5465425470776235,
          0.8295352203740076,
          0.6860406524629331,
          -1.4466022690225124
         ]
        },
        {
         "boxpoints": false,
         "line": {
          "width": 1.3
         },
         "marker": {
          "color": "rgba(128, 0, 128, 1.0)"
         },
         "name": "D",
         "orientation": "v",
         "type": "box",
         "y": [
          0.5189726602233986,
          -0.09129733315409432,
          0.1232450306540208,
          -1.1698580196273767,
          -0.04934799474724009,
          -1.0001989210507714,
          0.5671806384021019,
          -0.28322068966089176,
          0.8555481328512194,
          -2.3713348063524196,
          0.27455014331253624,
          -0.7645072216676173,
          0.009307993448969716,
          0.3343775413198073,
          -1.2046224912048202,
          0.7413828651746952,
          0.4615406725797837,
          -1.2669350311968313,
          -0.206471635708302,
          -1.0687192524195723,
          1.158143552837741,
          -1.6594438359757115,
          0.8786415727511163,
          0.8618120176457761,
          -1.501183653156108,
          0.411665844779012,
          1.8727217322971192,
          -0.09692668792631587,
          -0.24644458423235868,
          -0.5232506859459267,
          -0.47758769627830877,
          0.18243714102800973,
          -2.3370642938658537,
          -1.8018043637588312,
          -1.870929987970339,
          0.8683836430926027,
          -0.16384969934716526,
          -1.1272793605378462,
          -1.696879722687243,
          0.7803404884546775,
          -0.35183954212625357,
          0.23508808803152917,
          -1.860281736205346,
          0.17863224075601442,
          -0.41598731174391135,
          1.5465734315420336,
          0.13391237276777,
          0.22546968713775464,
          -1.4280462028944116,
          -2.144388215577554,
          1.6654778132648989,
          -0.4134961144007236,
          0.32398281812293517,
          -0.5135466930834046,
          -1.1883419275290195,
          0.30158716822126985,
          -0.26610784830215434,
          -0.09465805847480475,
          -0.7200737767470347,
          -0.9164077836785587,
          1.6856301459780483,
          -1.2188237072435504,
          -0.484695122602499,
          -0.4479755552260965,
          -1.2829861550124635,
          -0.2668949890344071,
          -0.29167000944686006,
          -0.24165020645813834,
          0.7848481932228031,
          0.7827043654352501,
          -0.08514518620383253,
          0.693585834540342,
          -0.08846670193598202,
          1.048411574235362,
          0.02364572431188195,
          -0.18204325608428804,
          1.3286872900926754,
          -0.6877893356884016,
          -0.7554584348984519,
          0.15582072289182852,
          -0.6040671721288594,
          -0.2804775497038172,
          1.2423593013253391,
          0.49894076286355454,
          0.006366188841875799,
          -0.06276809632860639,
          1.0922551650960837,
          1.0494241728382323,
          -1.2545572237268587,
          0.85454698485536,
          -1.0565770016989955,
          0.4272278508761094,
          0.5260487566362079,
          0.3612195036176259,
          1.3512716106464608,
          -1.950044478595946,
          -1.2573193534478841,
          -0.25056150412233086,
          0.7037066439697688,
          -1.7049248033653637
         ]
        }
       ],
       "layout": {
        "legend": {
         "bgcolor": "#F5F6F9",
         "font": {
          "color": "#4D5663"
         }
        },
        "paper_bgcolor": "#F5F6F9",
        "plot_bgcolor": "#F5F6F9",
        "template": {
         "data": {
          "bar": [
           {
            "error_x": {
             "color": "#2a3f5f"
            },
            "error_y": {
             "color": "#2a3f5f"
            },
            "marker": {
             "line": {
              "color": "#E5ECF6",
              "width": 0.5
             }
            },
            "type": "bar"
           }
          ],
          "barpolar": [
           {
            "marker": {
             "line": {
              "color": "#E5ECF6",
              "width": 0.5
             }
            },
            "type": "barpolar"
           }
          ],
          "carpet": [
           {
            "aaxis": {
             "endlinecolor": "#2a3f5f",
             "gridcolor": "white",
             "linecolor": "white",
             "minorgridcolor": "white",
             "startlinecolor": "#2a3f5f"
            },
            "baxis": {
             "endlinecolor": "#2a3f5f",
             "gridcolor": "white",
             "linecolor": "white",
             "minorgridcolor": "white",
             "startlinecolor": "#2a3f5f"
            },
            "type": "carpet"
           }
          ],
          "choropleth": [
           {
            "colorbar": {
             "outlinewidth": 0,
             "ticks": ""
            },
            "type": "choropleth"
           }
          ],
          "contour": [
           {
            "colorbar": {
             "outlinewidth": 0,
             "ticks": ""
            },
            "colorscale": [
             [
              0,
              "#0d0887"
             ],
             [
              0.1111111111111111,
              "#46039f"
             ],
             [
              0.2222222222222222,
              "#7201a8"
             ],
             [
              0.3333333333333333,
              "#9c179e"
             ],
             [
              0.4444444444444444,
              "#bd3786"
             ],
             [
              0.5555555555555556,
              "#d8576b"
             ],
             [
              0.6666666666666666,
              "#ed7953"
             ],
             [
              0.7777777777777778,
              "#fb9f3a"
             ],
             [
              0.8888888888888888,
              "#fdca26"
             ],
             [
              1,
              "#f0f921"
             ]
            ],
            "type": "contour"
           }
          ],
          "contourcarpet": [
           {
            "colorbar": {
             "outlinewidth": 0,
             "ticks": ""
            },
            "type": "contourcarpet"
           }
          ],
          "heatmap": [
           {
            "colorbar": {
             "outlinewidth": 0,
             "ticks": ""
            },
            "colorscale": [
             [
              0,
              "#0d0887"
             ],
             [
              0.1111111111111111,
              "#46039f"
             ],
             [
              0.2222222222222222,
              "#7201a8"
             ],
             [
              0.3333333333333333,
              "#9c179e"
             ],
             [
              0.4444444444444444,
              "#bd3786"
             ],
             [
              0.5555555555555556,
              "#d8576b"
             ],
             [
              0.6666666666666666,
              "#ed7953"
             ],
             [
              0.7777777777777778,
              "#fb9f3a"
             ],
             [
              0.8888888888888888,
              "#fdca26"
             ],
             [
              1,
              "#f0f921"
             ]
            ],
            "type": "heatmap"
           }
          ],
          "heatmapgl": [
           {
            "colorbar": {
             "outlinewidth": 0,
             "ticks": ""
            },
            "colorscale": [
             [
              0,
              "#0d0887"
             ],
             [
              0.1111111111111111,
              "#46039f"
             ],
             [
              0.2222222222222222,
              "#7201a8"
             ],
             [
              0.3333333333333333,
              "#9c179e"
             ],
             [
              0.4444444444444444,
              "#bd3786"
             ],
             [
              0.5555555555555556,
              "#d8576b"
             ],
             [
              0.6666666666666666,
              "#ed7953"
             ],
             [
              0.7777777777777778,
              "#fb9f3a"
             ],
             [
              0.8888888888888888,
              "#fdca26"
             ],
             [
              1,
              "#f0f921"
             ]
            ],
            "type": "heatmapgl"
           }
          ],
          "histogram": [
           {
            "marker": {
             "colorbar": {
              "outlinewidth": 0,
              "ticks": ""
             }
            },
            "type": "histogram"
           }
          ],
          "histogram2d": [
           {
            "colorbar": {
             "outlinewidth": 0,
             "ticks": ""
            },
            "colorscale": [
             [
              0,
              "#0d0887"
             ],
             [
              0.1111111111111111,
              "#46039f"
             ],
             [
              0.2222222222222222,
              "#7201a8"
             ],
             [
              0.3333333333333333,
              "#9c179e"
             ],
             [
              0.4444444444444444,
              "#bd3786"
             ],
             [
              0.5555555555555556,
              "#d8576b"
             ],
             [
              0.6666666666666666,
              "#ed7953"
             ],
             [
              0.7777777777777778,
              "#fb9f3a"
             ],
             [
              0.8888888888888888,
              "#fdca26"
             ],
             [
              1,
              "#f0f921"
             ]
            ],
            "type": "histogram2d"
           }
          ],
          "histogram2dcontour": [
           {
            "colorbar": {
             "outlinewidth": 0,
             "ticks": ""
            },
            "colorscale": [
             [
              0,
              "#0d0887"
             ],
             [
              0.1111111111111111,
              "#46039f"
             ],
             [
              0.2222222222222222,
              "#7201a8"
             ],
             [
              0.3333333333333333,
              "#9c179e"
             ],
             [
              0.4444444444444444,
              "#bd3786"
             ],
             [
              0.5555555555555556,
              "#d8576b"
             ],
             [
              0.6666666666666666,
              "#ed7953"
             ],
             [
              0.7777777777777778,
              "#fb9f3a"
             ],
             [
              0.8888888888888888,
              "#fdca26"
             ],
             [
              1,
              "#f0f921"
             ]
            ],
            "type": "histogram2dcontour"
           }
          ],
          "mesh3d": [
           {
            "colorbar": {
             "outlinewidth": 0,
             "ticks": ""
            },
            "type": "mesh3d"
           }
          ],
          "parcoords": [
           {
            "line": {
             "colorbar": {
              "outlinewidth": 0,
              "ticks": ""
             }
            },
            "type": "parcoords"
           }
          ],
          "pie": [
           {
            "automargin": true,
            "type": "pie"
           }
          ],
          "scatter": [
           {
            "marker": {
             "colorbar": {
              "outlinewidth": 0,
              "ticks": ""
             }
            },
            "type": "scatter"
           }
          ],
          "scatter3d": [
           {
            "line": {
             "colorbar": {
              "outlinewidth": 0,
              "ticks": ""
             }
            },
            "marker": {
             "colorbar": {
              "outlinewidth": 0,
              "ticks": ""
             }
            },
            "type": "scatter3d"
           }
          ],
          "scattercarpet": [
           {
            "marker": {
             "colorbar": {
              "outlinewidth": 0,
              "ticks": ""
             }
            },
            "type": "scattercarpet"
           }
          ],
          "scattergeo": [
           {
            "marker": {
             "colorbar": {
              "outlinewidth": 0,
              "ticks": ""
             }
            },
            "type": "scattergeo"
           }
          ],
          "scattergl": [
           {
            "marker": {
             "colorbar": {
              "outlinewidth": 0,
              "ticks": ""
             }
            },
            "type": "scattergl"
           }
          ],
          "scattermapbox": [
           {
            "marker": {
             "colorbar": {
              "outlinewidth": 0,
              "ticks": ""
             }
            },
            "type": "scattermapbox"
           }
          ],
          "scatterpolar": [
           {
            "marker": {
             "colorbar": {
              "outlinewidth": 0,
              "ticks": ""
             }
            },
            "type": "scatterpolar"
           }
          ],
          "scatterpolargl": [
           {
            "marker": {
             "colorbar": {
              "outlinewidth": 0,
              "ticks": ""
             }
            },
            "type": "scatterpolargl"
           }
          ],
          "scatterternary": [
           {
            "marker": {
             "colorbar": {
              "outlinewidth": 0,
              "ticks": ""
             }
            },
            "type": "scatterternary"
           }
          ],
          "surface": [
           {
            "colorbar": {
             "outlinewidth": 0,
             "ticks": ""
            },
            "colorscale": [
             [
              0,
              "#0d0887"
             ],
             [
              0.1111111111111111,
              "#46039f"
             ],
             [
              0.2222222222222222,
              "#7201a8"
             ],
             [
              0.3333333333333333,
              "#9c179e"
             ],
             [
              0.4444444444444444,
              "#bd3786"
             ],
             [
              0.5555555555555556,
              "#d8576b"
             ],
             [
              0.6666666666666666,
              "#ed7953"
             ],
             [
              0.7777777777777778,
              "#fb9f3a"
             ],
             [
              0.8888888888888888,
              "#fdca26"
             ],
             [
              1,
              "#f0f921"
             ]
            ],
            "type": "surface"
           }
          ],
          "table": [
           {
            "cells": {
             "fill": {
              "color": "#EBF0F8"
             },
             "line": {
              "color": "white"
             }
            },
            "header": {
             "fill": {
              "color": "#C8D4E3"
             },
             "line": {
              "color": "white"
             }
            },
            "type": "table"
           }
          ]
         },
         "layout": {
          "annotationdefaults": {
           "arrowcolor": "#2a3f5f",
           "arrowhead": 0,
           "arrowwidth": 1
          },
          "coloraxis": {
           "colorbar": {
            "outlinewidth": 0,
            "ticks": ""
           }
          },
          "colorscale": {
           "diverging": [
            [
             0,
             "#8e0152"
            ],
            [
             0.1,
             "#c51b7d"
            ],
            [
             0.2,
             "#de77ae"
            ],
            [
             0.3,
             "#f1b6da"
            ],
            [
             0.4,
             "#fde0ef"
            ],
            [
             0.5,
             "#f7f7f7"
            ],
            [
             0.6,
             "#e6f5d0"
            ],
            [
             0.7,
             "#b8e186"
            ],
            [
             0.8,
             "#7fbc41"
            ],
            [
             0.9,
             "#4d9221"
            ],
            [
             1,
             "#276419"
            ]
           ],
           "sequential": [
            [
             0,
             "#0d0887"
            ],
            [
             0.1111111111111111,
             "#46039f"
            ],
            [
             0.2222222222222222,
             "#7201a8"
            ],
            [
             0.3333333333333333,
             "#9c179e"
            ],
            [
             0.4444444444444444,
             "#bd3786"
            ],
            [
             0.5555555555555556,
             "#d8576b"
            ],
            [
             0.6666666666666666,
             "#ed7953"
            ],
            [
             0.7777777777777778,
             "#fb9f3a"
            ],
            [
             0.8888888888888888,
             "#fdca26"
            ],
            [
             1,
             "#f0f921"
            ]
           ],
           "sequentialminus": [
            [
             0,
             "#0d0887"
            ],
            [
             0.1111111111111111,
             "#46039f"
            ],
            [
             0.2222222222222222,
             "#7201a8"
            ],
            [
             0.3333333333333333,
             "#9c179e"
            ],
            [
             0.4444444444444444,
             "#bd3786"
            ],
            [
             0.5555555555555556,
             "#d8576b"
            ],
            [
             0.6666666666666666,
             "#ed7953"
            ],
            [
             0.7777777777777778,
             "#fb9f3a"
            ],
            [
             0.8888888888888888,
             "#fdca26"
            ],
            [
             1,
             "#f0f921"
            ]
           ]
          },
          "colorway": [
           "#636efa",
           "#EF553B",
           "#00cc96",
           "#ab63fa",
           "#FFA15A",
           "#19d3f3",
           "#FF6692",
           "#B6E880",
           "#FF97FF",
           "#FECB52"
          ],
          "font": {
           "color": "#2a3f5f"
          },
          "geo": {
           "bgcolor": "white",
           "lakecolor": "white",
           "landcolor": "#E5ECF6",
           "showlakes": true,
           "showland": true,
           "subunitcolor": "white"
          },
          "hoverlabel": {
           "align": "left"
          },
          "hovermode": "closest",
          "mapbox": {
           "style": "light"
          },
          "paper_bgcolor": "white",
          "plot_bgcolor": "#E5ECF6",
          "polar": {
           "angularaxis": {
            "gridcolor": "white",
            "linecolor": "white",
            "ticks": ""
           },
           "bgcolor": "#E5ECF6",
           "radialaxis": {
            "gridcolor": "white",
            "linecolor": "white",
            "ticks": ""
           }
          },
          "scene": {
           "xaxis": {
            "backgroundcolor": "#E5ECF6",
            "gridcolor": "white",
            "gridwidth": 2,
            "linecolor": "white",
            "showbackground": true,
            "ticks": "",
            "zerolinecolor": "white"
           },
           "yaxis": {
            "backgroundcolor": "#E5ECF6",
            "gridcolor": "white",
            "gridwidth": 2,
            "linecolor": "white",
            "showbackground": true,
            "ticks": "",
            "zerolinecolor": "white"
           },
           "zaxis": {
            "backgroundcolor": "#E5ECF6",
            "gridcolor": "white",
            "gridwidth": 2,
            "linecolor": "white",
            "showbackground": true,
            "ticks": "",
            "zerolinecolor": "white"
           }
          },
          "shapedefaults": {
           "line": {
            "color": "#2a3f5f"
           }
          },
          "ternary": {
           "aaxis": {
            "gridcolor": "white",
            "linecolor": "white",
            "ticks": ""
           },
           "baxis": {
            "gridcolor": "white",
            "linecolor": "white",
            "ticks": ""
           },
           "bgcolor": "#E5ECF6",
           "caxis": {
            "gridcolor": "white",
            "linecolor": "white",
            "ticks": ""
           }
          },
          "title": {
           "x": 0.05
          },
          "xaxis": {
           "automargin": true,
           "gridcolor": "white",
           "linecolor": "white",
           "ticks": "",
           "title": {
            "standoff": 15
           },
           "zerolinecolor": "white",
           "zerolinewidth": 2
          },
          "yaxis": {
           "automargin": true,
           "gridcolor": "white",
           "linecolor": "white",
           "ticks": "",
           "title": {
            "standoff": 15
           },
           "zerolinecolor": "white",
           "zerolinewidth": 2
          }
         }
        },
        "title": {
         "font": {
          "color": "#4D5663"
         }
        },
        "xaxis": {
         "gridcolor": "#E1E5ED",
         "showgrid": true,
         "tickfont": {
          "color": "#4D5663"
         },
         "title": {
          "font": {
           "color": "#4D5663"
          },
          "text": ""
         },
         "zerolinecolor": "#E1E5ED"
        },
        "yaxis": {
         "gridcolor": "#E1E5ED",
         "showgrid": true,
         "tickfont": {
          "color": "#4D5663"
         },
         "title": {
          "font": {
           "color": "#4D5663"
          },
          "text": ""
         },
         "zerolinecolor": "#E1E5ED"
        }
       }
      },
      "text/html": [
       "<div>\n",
       "        \n",
       "        \n",
       "            <div id=\"f0583799-0b87-4c40-a121-6fa92532bb1a\" class=\"plotly-graph-div\" style=\"height:525px; width:100%;\"></div>\n",
       "            <script type=\"text/javascript\">\n",
       "                require([\"plotly\"], function(Plotly) {\n",
       "                    window.PLOTLYENV=window.PLOTLYENV || {};\n",
       "                    window.PLOTLYENV.BASE_URL='https://plot.ly';\n",
       "                    \n",
       "                if (document.getElementById(\"f0583799-0b87-4c40-a121-6fa92532bb1a\")) {\n",
       "                    Plotly.newPlot(\n",
       "                        'f0583799-0b87-4c40-a121-6fa92532bb1a',\n",
       "                        [{\"boxpoints\": false, \"line\": {\"width\": 1.3}, \"marker\": {\"color\": \"rgba(255, 153, 51, 1.0)\"}, \"name\": \"A\", \"orientation\": \"v\", \"type\": \"box\", \"y\": [-1.4138153976580274, 0.08455022128887005, 1.5471984510871117, 1.6967637029976672, -0.7507050193197625, 0.6144492892274529, 0.10523618232753329, 1.207121390424313, 1.7326766078557791, -0.21328491944561068, 2.008579499791018, 0.21547481593456028, 0.3808402686537413, -0.06092935790697329, 0.8370766754499239, 0.8274287807229304, -0.4126127693231269, -0.16929922544402398, 0.7208595301409876, 0.7733136383374829, -0.28892514206321673, -0.8762071774130635, -0.80619652439963, 1.2305229116274847, -0.38858088186267853, 0.7897841741518612, -0.8489199189374191, -1.3654506088764375, 0.48549328430965677, 0.35924680412438875, 1.1114054429854745, 0.0886027064970111, -0.4636103442398656, -0.20840951954222545, 0.1405922012276346, -0.24064485943761077, -0.8334111091782375, 1.842590317603657, -0.3371466088321572, -0.2034175748337479, -2.3459567831821633, -0.4017961959202484, 0.4723198933313565, 0.7501448239663938, -1.0693669073862617, 1.5986290804606074, -0.24461314844453189, 0.10368147740607012, -1.4969890118186504, -0.12435682418267893, 1.274839898045271, -0.5169915646947392, -1.0712305609778643, -0.48659733893741813, 0.3587922256913342, 1.0999910285647592, 0.9149839476261293, -0.486099575812348, -0.7608301228828495, -0.43453947979910407, -0.4378707689182603, 0.01856409953642223, 0.3832610655005692, -2.0933524665046948, 1.7283265223487883, 0.9869190365137367, 0.40571454260259016, -0.5152470857611197, 0.8786939279620871, 0.4279175871191947, -2.601024184701134, -0.683284735855935, 0.849927363712278, 0.8857275580349077, 1.2882816361582505, -0.519059352346447, -0.6904750615623734, 0.8241614462286408, -0.46459047977908063, 0.11913998254705363, 0.13758868739779878, 0.24332496851049237, 0.018205797429998904, 0.358933107643315, 1.1315519087511798, -0.7637852405135656, 0.3135604813218632, 0.2377824938105682, 1.2657677242286454, 0.7290062940756441, 0.6480948280599899, -0.1565135938137894, 0.4133359631767297, 0.7647690463317591, -1.4126303876542592, -0.24760521350475748, 1.5285367941102805, -1.1365724953019072, 0.21258239309873145, 1.4010067851622496]}, {\"boxpoints\": false, \"line\": {\"width\": 1.3}, \"marker\": {\"color\": \"rgba(55, 128, 191, 1.0)\"}, \"name\": \"B\", \"orientation\": \"v\", \"type\": \"box\", \"y\": [0.6307750025445071, 2.1165649393990944, -0.13402531428069492, -1.0980616376530266, -2.434586496069079, -1.3053078896558565, -0.07090686858487011, 0.2058256171970834, -0.399262838679452, -0.14038606848181132, 0.9187536646281099, -0.8442053961123566, -0.2203312366099077, 0.6148352056947539, 0.5487157074264113, -0.8815647579995127, -0.34319730713674246, -1.0520874575465975, -0.5654422884296576, -0.09868497816887367, -0.4968289089377307, 0.2716017943118359, 0.9226989164424838, -0.5239432560546522, -0.8805108560299565, 1.0291913615050854, -0.09431283356381821, -0.9703360343139987, 0.47166862549484884, -1.2700349012817091, 0.413275586679944, -0.04254191220658984, -0.3338980359576901, -0.675195513492032, 1.550294420863555, 1.1516766730039087, 0.6535287491249111, 0.6144648993585563, 0.789565666569126, -0.3433168130690615, -0.05275694170220859, 0.3020462133498991, -0.06943522706603063, -0.35192362829665536, 0.6126596333884724, 1.5578365933599612, -0.1253060804619179, -1.3902002070743285, -0.8174637537749673, 0.11333678312936613, 1.3356891122813224, 0.19964929894159641, 0.08236990727602006, 1.2201019912024953, -0.5511844759854739, -0.8289846840857326, 0.33884864688721744, 1.0881768989607006, -0.7703403348773846, -0.2946516470282624, 0.06536745681673374, 0.7892622385305326, 1.6351318760725766, -0.3738887659267329, 0.5705852579762929, 1.7567400703602254, 1.5658507756576097, -0.32738934219238813, -3.4188171677438355, -0.8446793972616198, -0.0745933598454902, 0.9009946023546918, 0.04500369804380455, -0.16211529173578793, -1.612928599166473, -0.010132569394765995, 0.17953472500659787, 0.0064179642326903244, 0.1326959809776376, 1.946233101865483, 0.03252092127965211, -0.5130179934757979, 0.1429766964487547, -1.0395116288148776, -1.160703594319139, 0.4435732597243696, 1.5891745109922495, 0.31166755938333734, -0.9900532640822058, 0.6440787128368036, 0.5558862615610557, 0.2982157252903566, 0.653861307961139, -0.9103614368183744, -0.20579788187733009, 1.2582778382184772, -0.8122835465461327, -0.2767951603430714, -1.3958080501251722, 0.6847098823556407]}, {\"boxpoints\": false, \"line\": {\"width\": 1.3}, \"marker\": {\"color\": \"rgba(50, 171, 96, 1.0)\"}, \"name\": \"C\", \"orientation\": \"v\", \"type\": \"box\", \"y\": [-0.46340373251531897, -1.2458082668067412, -1.2544869635350833, 0.7992798174825069, -0.6920536741082177, -0.9039402715935553, -0.5318693601620845, 0.36622384671901065, 1.734636291744235, 0.4919645545584108, -1.2114597598608754, 0.45078559077266145, 0.1572546695747489, 0.2931161256889199, -2.019960738755273, 1.9786741394069225, -0.25705990841031306, 0.6258033617564331, -0.565313370019214, -0.871242691574864, -0.9072413358597263, -0.4352159828031252, -0.3152789420605196, 0.3343274016001478, -0.8355510389853845, -0.08063233193136128, 1.2085798566116208, -1.4467876496884895, 0.38203123547837603, 0.46426729140012724, 1.6401217079434836, -0.854238034593468, 1.5407210744037485, -0.14436325819618617, -0.2605810656404103, -1.0667650476360888, -1.056067245591354, 1.9574704984813092, -0.28548161395355387, 0.3630299765906264, 1.8717410623106905, -1.2885519087872637, 0.2047593692732163, -0.5974228245989848, 1.6814383513171696, 0.820360064671196, -0.17586988934263895, -0.4083214975570279, -0.05674128881314127, -1.8152612188116326, -0.8864130113250144, 1.4603451453226415, 1.4297458915209527, 0.6231188334979672, -0.8101152307172, 1.6812865981628995, 0.2536332988253022, -0.21639811344208956, -0.7350529452943216, -0.148659510206894, 0.3782443081771902, -1.2849059090569048, -1.9032548143075259, -0.39613707656414376, 0.40350296821948145, -0.11486122769817589, -0.0305981534114856, -0.27470397798688656, -1.3120954580845827, 0.8276891494136229, -0.980367071594073, -0.04462247327438354, 1.7759901461121241, 0.19542388409024997, -0.13794027312975354, -2.244810442035269, 1.140100134219041, -0.07762929188667533, 0.9865114345836813, -0.33191983063864333, -0.4927775935775253, -0.41706644247887215, -0.9506510221488315, 0.32331265996069625, 0.12018968834740629, 1.1090243442109413, -0.15391658451186283, -1.8478056324649534, 0.7164486019595993, -1.0500354676498393, -2.573872198975193, -0.805911709339272, -0.369358056939599, 0.5729898387862129, 1.619496005508339, 0.381073260793748, 0.5465425470776235, 0.8295352203740076, 0.6860406524629331, -1.4466022690225124]}, {\"boxpoints\": false, \"line\": {\"width\": 1.3}, \"marker\": {\"color\": \"rgba(128, 0, 128, 1.0)\"}, \"name\": \"D\", \"orientation\": \"v\", \"type\": \"box\", \"y\": [0.5189726602233986, -0.09129733315409432, 0.1232450306540208, -1.1698580196273767, -0.04934799474724009, -1.0001989210507714, 0.5671806384021019, -0.28322068966089176, 0.8555481328512194, -2.3713348063524196, 0.27455014331253624, -0.7645072216676173, 0.009307993448969716, 0.3343775413198073, -1.2046224912048202, 0.7413828651746952, 0.4615406725797837, -1.2669350311968313, -0.206471635708302, -1.0687192524195723, 1.158143552837741, -1.6594438359757115, 0.8786415727511163, 0.8618120176457761, -1.501183653156108, 0.411665844779012, 1.8727217322971192, -0.09692668792631587, -0.24644458423235868, -0.5232506859459267, -0.47758769627830877, 0.18243714102800973, -2.3370642938658537, -1.8018043637588312, -1.870929987970339, 0.8683836430926027, -0.16384969934716526, -1.1272793605378462, -1.696879722687243, 0.7803404884546775, -0.35183954212625357, 0.23508808803152917, -1.860281736205346, 0.17863224075601442, -0.41598731174391135, 1.5465734315420336, 0.13391237276777, 0.22546968713775464, -1.4280462028944116, -2.144388215577554, 1.6654778132648989, -0.4134961144007236, 0.32398281812293517, -0.5135466930834046, -1.1883419275290195, 0.30158716822126985, -0.26610784830215434, -0.09465805847480475, -0.7200737767470347, -0.9164077836785587, 1.6856301459780483, -1.2188237072435504, -0.484695122602499, -0.4479755552260965, -1.2829861550124635, -0.2668949890344071, -0.29167000944686006, -0.24165020645813834, 0.7848481932228031, 0.7827043654352501, -0.08514518620383253, 0.693585834540342, -0.08846670193598202, 1.048411574235362, 0.02364572431188195, -0.18204325608428804, 1.3286872900926754, -0.6877893356884016, -0.7554584348984519, 0.15582072289182852, -0.6040671721288594, -0.2804775497038172, 1.2423593013253391, 0.49894076286355454, 0.006366188841875799, -0.06276809632860639, 1.0922551650960837, 1.0494241728382323, -1.2545572237268587, 0.85454698485536, -1.0565770016989955, 0.4272278508761094, 0.5260487566362079, 0.3612195036176259, 1.3512716106464608, -1.950044478595946, -1.2573193534478841, -0.25056150412233086, 0.7037066439697688, -1.7049248033653637]}],\n",
       "                        {\"legend\": {\"bgcolor\": \"#F5F6F9\", \"font\": {\"color\": \"#4D5663\"}}, \"paper_bgcolor\": \"#F5F6F9\", \"plot_bgcolor\": \"#F5F6F9\", \"template\": {\"data\": {\"bar\": [{\"error_x\": {\"color\": \"#2a3f5f\"}, \"error_y\": {\"color\": \"#2a3f5f\"}, \"marker\": {\"line\": {\"color\": \"#E5ECF6\", \"width\": 0.5}}, \"type\": \"bar\"}], \"barpolar\": [{\"marker\": {\"line\": {\"color\": \"#E5ECF6\", \"width\": 0.5}}, \"type\": \"barpolar\"}], \"carpet\": [{\"aaxis\": {\"endlinecolor\": \"#2a3f5f\", \"gridcolor\": \"white\", \"linecolor\": \"white\", \"minorgridcolor\": \"white\", \"startlinecolor\": \"#2a3f5f\"}, \"baxis\": {\"endlinecolor\": \"#2a3f5f\", \"gridcolor\": \"white\", \"linecolor\": \"white\", \"minorgridcolor\": \"white\", \"startlinecolor\": \"#2a3f5f\"}, \"type\": \"carpet\"}], \"choropleth\": [{\"colorbar\": {\"outlinewidth\": 0, \"ticks\": \"\"}, \"type\": \"choropleth\"}], \"contour\": [{\"colorbar\": {\"outlinewidth\": 0, \"ticks\": \"\"}, \"colorscale\": [[0.0, \"#0d0887\"], [0.1111111111111111, \"#46039f\"], [0.2222222222222222, \"#7201a8\"], [0.3333333333333333, \"#9c179e\"], [0.4444444444444444, \"#bd3786\"], [0.5555555555555556, \"#d8576b\"], [0.6666666666666666, \"#ed7953\"], [0.7777777777777778, \"#fb9f3a\"], [0.8888888888888888, \"#fdca26\"], [1.0, \"#f0f921\"]], \"type\": \"contour\"}], \"contourcarpet\": [{\"colorbar\": {\"outlinewidth\": 0, \"ticks\": \"\"}, \"type\": \"contourcarpet\"}], \"heatmap\": [{\"colorbar\": {\"outlinewidth\": 0, \"ticks\": \"\"}, \"colorscale\": [[0.0, \"#0d0887\"], [0.1111111111111111, \"#46039f\"], [0.2222222222222222, \"#7201a8\"], [0.3333333333333333, \"#9c179e\"], [0.4444444444444444, \"#bd3786\"], [0.5555555555555556, \"#d8576b\"], [0.6666666666666666, \"#ed7953\"], [0.7777777777777778, \"#fb9f3a\"], [0.8888888888888888, \"#fdca26\"], [1.0, \"#f0f921\"]], \"type\": \"heatmap\"}], \"heatmapgl\": [{\"colorbar\": {\"outlinewidth\": 0, \"ticks\": \"\"}, \"colorscale\": [[0.0, \"#0d0887\"], [0.1111111111111111, \"#46039f\"], [0.2222222222222222, \"#7201a8\"], [0.3333333333333333, \"#9c179e\"], [0.4444444444444444, \"#bd3786\"], [0.5555555555555556, \"#d8576b\"], [0.6666666666666666, \"#ed7953\"], [0.7777777777777778, \"#fb9f3a\"], [0.8888888888888888, \"#fdca26\"], [1.0, \"#f0f921\"]], \"type\": \"heatmapgl\"}], \"histogram\": [{\"marker\": {\"colorbar\": {\"outlinewidth\": 0, \"ticks\": \"\"}}, \"type\": \"histogram\"}], \"histogram2d\": [{\"colorbar\": {\"outlinewidth\": 0, \"ticks\": \"\"}, \"colorscale\": [[0.0, \"#0d0887\"], [0.1111111111111111, \"#46039f\"], [0.2222222222222222, \"#7201a8\"], [0.3333333333333333, \"#9c179e\"], [0.4444444444444444, \"#bd3786\"], [0.5555555555555556, \"#d8576b\"], [0.6666666666666666, \"#ed7953\"], [0.7777777777777778, \"#fb9f3a\"], [0.8888888888888888, \"#fdca26\"], [1.0, \"#f0f921\"]], \"type\": \"histogram2d\"}], \"histogram2dcontour\": [{\"colorbar\": {\"outlinewidth\": 0, \"ticks\": \"\"}, \"colorscale\": [[0.0, \"#0d0887\"], [0.1111111111111111, \"#46039f\"], [0.2222222222222222, \"#7201a8\"], [0.3333333333333333, \"#9c179e\"], [0.4444444444444444, \"#bd3786\"], [0.5555555555555556, \"#d8576b\"], [0.6666666666666666, \"#ed7953\"], [0.7777777777777778, \"#fb9f3a\"], [0.8888888888888888, \"#fdca26\"], [1.0, \"#f0f921\"]], \"type\": \"histogram2dcontour\"}], \"mesh3d\": [{\"colorbar\": {\"outlinewidth\": 0, \"ticks\": \"\"}, \"type\": \"mesh3d\"}], \"parcoords\": [{\"line\": {\"colorbar\": {\"outlinewidth\": 0, \"ticks\": \"\"}}, \"type\": \"parcoords\"}], \"pie\": [{\"automargin\": true, \"type\": \"pie\"}], \"scatter\": [{\"marker\": {\"colorbar\": {\"outlinewidth\": 0, \"ticks\": \"\"}}, \"type\": \"scatter\"}], \"scatter3d\": [{\"line\": {\"colorbar\": {\"outlinewidth\": 0, \"ticks\": \"\"}}, \"marker\": {\"colorbar\": {\"outlinewidth\": 0, \"ticks\": \"\"}}, \"type\": \"scatter3d\"}], \"scattercarpet\": [{\"marker\": {\"colorbar\": {\"outlinewidth\": 0, \"ticks\": \"\"}}, \"type\": \"scattercarpet\"}], \"scattergeo\": [{\"marker\": {\"colorbar\": {\"outlinewidth\": 0, \"ticks\": \"\"}}, \"type\": \"scattergeo\"}], \"scattergl\": [{\"marker\": {\"colorbar\": {\"outlinewidth\": 0, \"ticks\": \"\"}}, \"type\": \"scattergl\"}], \"scattermapbox\": [{\"marker\": {\"colorbar\": {\"outlinewidth\": 0, \"ticks\": \"\"}}, \"type\": \"scattermapbox\"}], \"scatterpolar\": [{\"marker\": {\"colorbar\": {\"outlinewidth\": 0, \"ticks\": \"\"}}, \"type\": \"scatterpolar\"}], \"scatterpolargl\": [{\"marker\": {\"colorbar\": {\"outlinewidth\": 0, \"ticks\": \"\"}}, \"type\": \"scatterpolargl\"}], \"scatterternary\": [{\"marker\": {\"colorbar\": {\"outlinewidth\": 0, \"ticks\": \"\"}}, \"type\": \"scatterternary\"}], \"surface\": [{\"colorbar\": {\"outlinewidth\": 0, \"ticks\": \"\"}, \"colorscale\": [[0.0, \"#0d0887\"], [0.1111111111111111, \"#46039f\"], [0.2222222222222222, \"#7201a8\"], [0.3333333333333333, \"#9c179e\"], [0.4444444444444444, \"#bd3786\"], [0.5555555555555556, \"#d8576b\"], [0.6666666666666666, \"#ed7953\"], [0.7777777777777778, \"#fb9f3a\"], [0.8888888888888888, \"#fdca26\"], [1.0, \"#f0f921\"]], \"type\": \"surface\"}], \"table\": [{\"cells\": {\"fill\": {\"color\": \"#EBF0F8\"}, \"line\": {\"color\": \"white\"}}, \"header\": {\"fill\": {\"color\": \"#C8D4E3\"}, \"line\": {\"color\": \"white\"}}, \"type\": \"table\"}]}, \"layout\": {\"annotationdefaults\": {\"arrowcolor\": \"#2a3f5f\", \"arrowhead\": 0, \"arrowwidth\": 1}, \"coloraxis\": {\"colorbar\": {\"outlinewidth\": 0, \"ticks\": \"\"}}, \"colorscale\": {\"diverging\": [[0, \"#8e0152\"], [0.1, \"#c51b7d\"], [0.2, \"#de77ae\"], [0.3, \"#f1b6da\"], [0.4, \"#fde0ef\"], [0.5, \"#f7f7f7\"], [0.6, \"#e6f5d0\"], [0.7, \"#b8e186\"], [0.8, \"#7fbc41\"], [0.9, \"#4d9221\"], [1, \"#276419\"]], \"sequential\": [[0.0, \"#0d0887\"], [0.1111111111111111, \"#46039f\"], [0.2222222222222222, \"#7201a8\"], [0.3333333333333333, \"#9c179e\"], [0.4444444444444444, \"#bd3786\"], [0.5555555555555556, \"#d8576b\"], [0.6666666666666666, \"#ed7953\"], [0.7777777777777778, \"#fb9f3a\"], [0.8888888888888888, \"#fdca26\"], [1.0, \"#f0f921\"]], \"sequentialminus\": [[0.0, \"#0d0887\"], [0.1111111111111111, \"#46039f\"], [0.2222222222222222, \"#7201a8\"], [0.3333333333333333, \"#9c179e\"], [0.4444444444444444, \"#bd3786\"], [0.5555555555555556, \"#d8576b\"], [0.6666666666666666, \"#ed7953\"], [0.7777777777777778, \"#fb9f3a\"], [0.8888888888888888, \"#fdca26\"], [1.0, \"#f0f921\"]]}, \"colorway\": [\"#636efa\", \"#EF553B\", \"#00cc96\", \"#ab63fa\", \"#FFA15A\", \"#19d3f3\", \"#FF6692\", \"#B6E880\", \"#FF97FF\", \"#FECB52\"], \"font\": {\"color\": \"#2a3f5f\"}, \"geo\": {\"bgcolor\": \"white\", \"lakecolor\": \"white\", \"landcolor\": \"#E5ECF6\", \"showlakes\": true, \"showland\": true, \"subunitcolor\": \"white\"}, \"hoverlabel\": {\"align\": \"left\"}, \"hovermode\": \"closest\", \"mapbox\": {\"style\": \"light\"}, \"paper_bgcolor\": \"white\", \"plot_bgcolor\": \"#E5ECF6\", \"polar\": {\"angularaxis\": {\"gridcolor\": \"white\", \"linecolor\": \"white\", \"ticks\": \"\"}, \"bgcolor\": \"#E5ECF6\", \"radialaxis\": {\"gridcolor\": \"white\", \"linecolor\": \"white\", \"ticks\": \"\"}}, \"scene\": {\"xaxis\": {\"backgroundcolor\": \"#E5ECF6\", \"gridcolor\": \"white\", \"gridwidth\": 2, \"linecolor\": \"white\", \"showbackground\": true, \"ticks\": \"\", \"zerolinecolor\": \"white\"}, \"yaxis\": {\"backgroundcolor\": \"#E5ECF6\", \"gridcolor\": \"white\", \"gridwidth\": 2, \"linecolor\": \"white\", \"showbackground\": true, \"ticks\": \"\", \"zerolinecolor\": \"white\"}, \"zaxis\": {\"backgroundcolor\": \"#E5ECF6\", \"gridcolor\": \"white\", \"gridwidth\": 2, \"linecolor\": \"white\", \"showbackground\": true, \"ticks\": \"\", \"zerolinecolor\": \"white\"}}, \"shapedefaults\": {\"line\": {\"color\": \"#2a3f5f\"}}, \"ternary\": {\"aaxis\": {\"gridcolor\": \"white\", \"linecolor\": \"white\", \"ticks\": \"\"}, \"baxis\": {\"gridcolor\": \"white\", \"linecolor\": \"white\", \"ticks\": \"\"}, \"bgcolor\": \"#E5ECF6\", \"caxis\": {\"gridcolor\": \"white\", \"linecolor\": \"white\", \"ticks\": \"\"}}, \"title\": {\"x\": 0.05}, \"xaxis\": {\"automargin\": true, \"gridcolor\": \"white\", \"linecolor\": \"white\", \"ticks\": \"\", \"title\": {\"standoff\": 15}, \"zerolinecolor\": \"white\", \"zerolinewidth\": 2}, \"yaxis\": {\"automargin\": true, \"gridcolor\": \"white\", \"linecolor\": \"white\", \"ticks\": \"\", \"title\": {\"standoff\": 15}, \"zerolinecolor\": \"white\", \"zerolinewidth\": 2}}}, \"title\": {\"font\": {\"color\": \"#4D5663\"}}, \"xaxis\": {\"gridcolor\": \"#E1E5ED\", \"showgrid\": true, \"tickfont\": {\"color\": \"#4D5663\"}, \"title\": {\"font\": {\"color\": \"#4D5663\"}, \"text\": \"\"}, \"zerolinecolor\": \"#E1E5ED\"}, \"yaxis\": {\"gridcolor\": \"#E1E5ED\", \"showgrid\": true, \"tickfont\": {\"color\": \"#4D5663\"}, \"title\": {\"font\": {\"color\": \"#4D5663\"}, \"text\": \"\"}, \"zerolinecolor\": \"#E1E5ED\"}},\n",
       "                        {\"showLink\": true, \"linkText\": \"Export to plot.ly\", \"plotlyServerURL\": \"https://plot.ly\", \"responsive\": true}\n",
       "                    ).then(function(){\n",
       "                            \n",
       "var gd = document.getElementById('f0583799-0b87-4c40-a121-6fa92532bb1a');\n",
       "var x = new MutationObserver(function (mutations, observer) {{\n",
       "        var display = window.getComputedStyle(gd).display;\n",
       "        if (!display || display === 'none') {{\n",
       "            console.log([gd, 'removed!']);\n",
       "            Plotly.purge(gd);\n",
       "            observer.disconnect();\n",
       "        }}\n",
       "}});\n",
       "\n",
       "// Listen for the removal of the full notebook cells\n",
       "var notebookContainer = gd.closest('#notebook-container');\n",
       "if (notebookContainer) {{\n",
       "    x.observe(notebookContainer, {childList: true});\n",
       "}}\n",
       "\n",
       "// Listen for the clearing of the current output cell\n",
       "var outputEl = gd.closest('.output');\n",
       "if (outputEl) {{\n",
       "    x.observe(outputEl, {childList: true});\n",
       "}}\n",
       "\n",
       "                        })\n",
       "                };\n",
       "                });\n",
       "            </script>\n",
       "        </div>"
      ]
     },
     "metadata": {},
     "output_type": "display_data"
    }
   ],
   "source": [
    "df.iplot(kind='box')"
   ]
  },
  {
   "cell_type": "markdown",
   "metadata": {},
   "source": [
    "## 3d Surface"
   ]
  },
  {
   "cell_type": "code",
   "execution_count": 20,
   "metadata": {},
   "outputs": [
    {
     "data": {
      "application/vnd.plotly.v1+json": {
       "config": {
        "linkText": "Export to plot.ly",
        "plotlyServerURL": "https://plot.ly",
        "showLink": true
       },
       "data": [
        {
         "colorscale": [
          [
           0,
           "rgb(165,0,38)"
          ],
          [
           0.1,
           "rgb(215,48,39)"
          ],
          [
           0.2,
           "rgb(244,109,67)"
          ],
          [
           0.3,
           "rgb(253,174,97)"
          ],
          [
           0.4,
           "rgb(254,224,144)"
          ],
          [
           0.5,
           "rgb(255,255,191)"
          ],
          [
           0.6,
           "rgb(224,243,248)"
          ],
          [
           0.7,
           "rgb(171,217,233)"
          ],
          [
           0.8,
           "rgb(116,173,209)"
          ],
          [
           0.9,
           "rgb(69,117,180)"
          ],
          [
           1,
           "rgb(49,54,149)"
          ]
         ],
         "type": "surface",
         "x": [
          0,
          1,
          2,
          3,
          4
         ],
         "y": [
          "x",
          "y",
          "z"
         ],
         "z": [
          [
           1,
           2,
           3,
           4,
           5
          ],
          [
           10,
           20,
           30,
           20,
           10
          ],
          [
           5,
           4,
           3,
           2,
           1
          ]
         ]
        }
       ],
       "layout": {
        "legend": {
         "bgcolor": "#F5F6F9",
         "font": {
          "color": "#4D5663"
         }
        },
        "paper_bgcolor": "#F5F6F9",
        "plot_bgcolor": "#F5F6F9",
        "template": {
         "data": {
          "bar": [
           {
            "error_x": {
             "color": "#2a3f5f"
            },
            "error_y": {
             "color": "#2a3f5f"
            },
            "marker": {
             "line": {
              "color": "#E5ECF6",
              "width": 0.5
             }
            },
            "type": "bar"
           }
          ],
          "barpolar": [
           {
            "marker": {
             "line": {
              "color": "#E5ECF6",
              "width": 0.5
             }
            },
            "type": "barpolar"
           }
          ],
          "carpet": [
           {
            "aaxis": {
             "endlinecolor": "#2a3f5f",
             "gridcolor": "white",
             "linecolor": "white",
             "minorgridcolor": "white",
             "startlinecolor": "#2a3f5f"
            },
            "baxis": {
             "endlinecolor": "#2a3f5f",
             "gridcolor": "white",
             "linecolor": "white",
             "minorgridcolor": "white",
             "startlinecolor": "#2a3f5f"
            },
            "type": "carpet"
           }
          ],
          "choropleth": [
           {
            "colorbar": {
             "outlinewidth": 0,
             "ticks": ""
            },
            "type": "choropleth"
           }
          ],
          "contour": [
           {
            "colorbar": {
             "outlinewidth": 0,
             "ticks": ""
            },
            "colorscale": [
             [
              0,
              "#0d0887"
             ],
             [
              0.1111111111111111,
              "#46039f"
             ],
             [
              0.2222222222222222,
              "#7201a8"
             ],
             [
              0.3333333333333333,
              "#9c179e"
             ],
             [
              0.4444444444444444,
              "#bd3786"
             ],
             [
              0.5555555555555556,
              "#d8576b"
             ],
             [
              0.6666666666666666,
              "#ed7953"
             ],
             [
              0.7777777777777778,
              "#fb9f3a"
             ],
             [
              0.8888888888888888,
              "#fdca26"
             ],
             [
              1,
              "#f0f921"
             ]
            ],
            "type": "contour"
           }
          ],
          "contourcarpet": [
           {
            "colorbar": {
             "outlinewidth": 0,
             "ticks": ""
            },
            "type": "contourcarpet"
           }
          ],
          "heatmap": [
           {
            "colorbar": {
             "outlinewidth": 0,
             "ticks": ""
            },
            "colorscale": [
             [
              0,
              "#0d0887"
             ],
             [
              0.1111111111111111,
              "#46039f"
             ],
             [
              0.2222222222222222,
              "#7201a8"
             ],
             [
              0.3333333333333333,
              "#9c179e"
             ],
             [
              0.4444444444444444,
              "#bd3786"
             ],
             [
              0.5555555555555556,
              "#d8576b"
             ],
             [
              0.6666666666666666,
              "#ed7953"
             ],
             [
              0.7777777777777778,
              "#fb9f3a"
             ],
             [
              0.8888888888888888,
              "#fdca26"
             ],
             [
              1,
              "#f0f921"
             ]
            ],
            "type": "heatmap"
           }
          ],
          "heatmapgl": [
           {
            "colorbar": {
             "outlinewidth": 0,
             "ticks": ""
            },
            "colorscale": [
             [
              0,
              "#0d0887"
             ],
             [
              0.1111111111111111,
              "#46039f"
             ],
             [
              0.2222222222222222,
              "#7201a8"
             ],
             [
              0.3333333333333333,
              "#9c179e"
             ],
             [
              0.4444444444444444,
              "#bd3786"
             ],
             [
              0.5555555555555556,
              "#d8576b"
             ],
             [
              0.6666666666666666,
              "#ed7953"
             ],
             [
              0.7777777777777778,
              "#fb9f3a"
             ],
             [
              0.8888888888888888,
              "#fdca26"
             ],
             [
              1,
              "#f0f921"
             ]
            ],
            "type": "heatmapgl"
           }
          ],
          "histogram": [
           {
            "marker": {
             "colorbar": {
              "outlinewidth": 0,
              "ticks": ""
             }
            },
            "type": "histogram"
           }
          ],
          "histogram2d": [
           {
            "colorbar": {
             "outlinewidth": 0,
             "ticks": ""
            },
            "colorscale": [
             [
              0,
              "#0d0887"
             ],
             [
              0.1111111111111111,
              "#46039f"
             ],
             [
              0.2222222222222222,
              "#7201a8"
             ],
             [
              0.3333333333333333,
              "#9c179e"
             ],
             [
              0.4444444444444444,
              "#bd3786"
             ],
             [
              0.5555555555555556,
              "#d8576b"
             ],
             [
              0.6666666666666666,
              "#ed7953"
             ],
             [
              0.7777777777777778,
              "#fb9f3a"
             ],
             [
              0.8888888888888888,
              "#fdca26"
             ],
             [
              1,
              "#f0f921"
             ]
            ],
            "type": "histogram2d"
           }
          ],
          "histogram2dcontour": [
           {
            "colorbar": {
             "outlinewidth": 0,
             "ticks": ""
            },
            "colorscale": [
             [
              0,
              "#0d0887"
             ],
             [
              0.1111111111111111,
              "#46039f"
             ],
             [
              0.2222222222222222,
              "#7201a8"
             ],
             [
              0.3333333333333333,
              "#9c179e"
             ],
             [
              0.4444444444444444,
              "#bd3786"
             ],
             [
              0.5555555555555556,
              "#d8576b"
             ],
             [
              0.6666666666666666,
              "#ed7953"
             ],
             [
              0.7777777777777778,
              "#fb9f3a"
             ],
             [
              0.8888888888888888,
              "#fdca26"
             ],
             [
              1,
              "#f0f921"
             ]
            ],
            "type": "histogram2dcontour"
           }
          ],
          "mesh3d": [
           {
            "colorbar": {
             "outlinewidth": 0,
             "ticks": ""
            },
            "type": "mesh3d"
           }
          ],
          "parcoords": [
           {
            "line": {
             "colorbar": {
              "outlinewidth": 0,
              "ticks": ""
             }
            },
            "type": "parcoords"
           }
          ],
          "pie": [
           {
            "automargin": true,
            "type": "pie"
           }
          ],
          "scatter": [
           {
            "marker": {
             "colorbar": {
              "outlinewidth": 0,
              "ticks": ""
             }
            },
            "type": "scatter"
           }
          ],
          "scatter3d": [
           {
            "line": {
             "colorbar": {
              "outlinewidth": 0,
              "ticks": ""
             }
            },
            "marker": {
             "colorbar": {
              "outlinewidth": 0,
              "ticks": ""
             }
            },
            "type": "scatter3d"
           }
          ],
          "scattercarpet": [
           {
            "marker": {
             "colorbar": {
              "outlinewidth": 0,
              "ticks": ""
             }
            },
            "type": "scattercarpet"
           }
          ],
          "scattergeo": [
           {
            "marker": {
             "colorbar": {
              "outlinewidth": 0,
              "ticks": ""
             }
            },
            "type": "scattergeo"
           }
          ],
          "scattergl": [
           {
            "marker": {
             "colorbar": {
              "outlinewidth": 0,
              "ticks": ""
             }
            },
            "type": "scattergl"
           }
          ],
          "scattermapbox": [
           {
            "marker": {
             "colorbar": {
              "outlinewidth": 0,
              "ticks": ""
             }
            },
            "type": "scattermapbox"
           }
          ],
          "scatterpolar": [
           {
            "marker": {
             "colorbar": {
              "outlinewidth": 0,
              "ticks": ""
             }
            },
            "type": "scatterpolar"
           }
          ],
          "scatterpolargl": [
           {
            "marker": {
             "colorbar": {
              "outlinewidth": 0,
              "ticks": ""
             }
            },
            "type": "scatterpolargl"
           }
          ],
          "scatterternary": [
           {
            "marker": {
             "colorbar": {
              "outlinewidth": 0,
              "ticks": ""
             }
            },
            "type": "scatterternary"
           }
          ],
          "surface": [
           {
            "colorbar": {
             "outlinewidth": 0,
             "ticks": ""
            },
            "colorscale": [
             [
              0,
              "#0d0887"
             ],
             [
              0.1111111111111111,
              "#46039f"
             ],
             [
              0.2222222222222222,
              "#7201a8"
             ],
             [
              0.3333333333333333,
              "#9c179e"
             ],
             [
              0.4444444444444444,
              "#bd3786"
             ],
             [
              0.5555555555555556,
              "#d8576b"
             ],
             [
              0.6666666666666666,
              "#ed7953"
             ],
             [
              0.7777777777777778,
              "#fb9f3a"
             ],
             [
              0.8888888888888888,
              "#fdca26"
             ],
             [
              1,
              "#f0f921"
             ]
            ],
            "type": "surface"
           }
          ],
          "table": [
           {
            "cells": {
             "fill": {
              "color": "#EBF0F8"
             },
             "line": {
              "color": "white"
             }
            },
            "header": {
             "fill": {
              "color": "#C8D4E3"
             },
             "line": {
              "color": "white"
             }
            },
            "type": "table"
           }
          ]
         },
         "layout": {
          "annotationdefaults": {
           "arrowcolor": "#2a3f5f",
           "arrowhead": 0,
           "arrowwidth": 1
          },
          "coloraxis": {
           "colorbar": {
            "outlinewidth": 0,
            "ticks": ""
           }
          },
          "colorscale": {
           "diverging": [
            [
             0,
             "#8e0152"
            ],
            [
             0.1,
             "#c51b7d"
            ],
            [
             0.2,
             "#de77ae"
            ],
            [
             0.3,
             "#f1b6da"
            ],
            [
             0.4,
             "#fde0ef"
            ],
            [
             0.5,
             "#f7f7f7"
            ],
            [
             0.6,
             "#e6f5d0"
            ],
            [
             0.7,
             "#b8e186"
            ],
            [
             0.8,
             "#7fbc41"
            ],
            [
             0.9,
             "#4d9221"
            ],
            [
             1,
             "#276419"
            ]
           ],
           "sequential": [
            [
             0,
             "#0d0887"
            ],
            [
             0.1111111111111111,
             "#46039f"
            ],
            [
             0.2222222222222222,
             "#7201a8"
            ],
            [
             0.3333333333333333,
             "#9c179e"
            ],
            [
             0.4444444444444444,
             "#bd3786"
            ],
            [
             0.5555555555555556,
             "#d8576b"
            ],
            [
             0.6666666666666666,
             "#ed7953"
            ],
            [
             0.7777777777777778,
             "#fb9f3a"
            ],
            [
             0.8888888888888888,
             "#fdca26"
            ],
            [
             1,
             "#f0f921"
            ]
           ],
           "sequentialminus": [
            [
             0,
             "#0d0887"
            ],
            [
             0.1111111111111111,
             "#46039f"
            ],
            [
             0.2222222222222222,
             "#7201a8"
            ],
            [
             0.3333333333333333,
             "#9c179e"
            ],
            [
             0.4444444444444444,
             "#bd3786"
            ],
            [
             0.5555555555555556,
             "#d8576b"
            ],
            [
             0.6666666666666666,
             "#ed7953"
            ],
            [
             0.7777777777777778,
             "#fb9f3a"
            ],
            [
             0.8888888888888888,
             "#fdca26"
            ],
            [
             1,
             "#f0f921"
            ]
           ]
          },
          "colorway": [
           "#636efa",
           "#EF553B",
           "#00cc96",
           "#ab63fa",
           "#FFA15A",
           "#19d3f3",
           "#FF6692",
           "#B6E880",
           "#FF97FF",
           "#FECB52"
          ],
          "font": {
           "color": "#2a3f5f"
          },
          "geo": {
           "bgcolor": "white",
           "lakecolor": "white",
           "landcolor": "#E5ECF6",
           "showlakes": true,
           "showland": true,
           "subunitcolor": "white"
          },
          "hoverlabel": {
           "align": "left"
          },
          "hovermode": "closest",
          "mapbox": {
           "style": "light"
          },
          "paper_bgcolor": "white",
          "plot_bgcolor": "#E5ECF6",
          "polar": {
           "angularaxis": {
            "gridcolor": "white",
            "linecolor": "white",
            "ticks": ""
           },
           "bgcolor": "#E5ECF6",
           "radialaxis": {
            "gridcolor": "white",
            "linecolor": "white",
            "ticks": ""
           }
          },
          "scene": {
           "xaxis": {
            "backgroundcolor": "#E5ECF6",
            "gridcolor": "white",
            "gridwidth": 2,
            "linecolor": "white",
            "showbackground": true,
            "ticks": "",
            "zerolinecolor": "white"
           },
           "yaxis": {
            "backgroundcolor": "#E5ECF6",
            "gridcolor": "white",
            "gridwidth": 2,
            "linecolor": "white",
            "showbackground": true,
            "ticks": "",
            "zerolinecolor": "white"
           },
           "zaxis": {
            "backgroundcolor": "#E5ECF6",
            "gridcolor": "white",
            "gridwidth": 2,
            "linecolor": "white",
            "showbackground": true,
            "ticks": "",
            "zerolinecolor": "white"
           }
          },
          "shapedefaults": {
           "line": {
            "color": "#2a3f5f"
           }
          },
          "ternary": {
           "aaxis": {
            "gridcolor": "white",
            "linecolor": "white",
            "ticks": ""
           },
           "baxis": {
            "gridcolor": "white",
            "linecolor": "white",
            "ticks": ""
           },
           "bgcolor": "#E5ECF6",
           "caxis": {
            "gridcolor": "white",
            "linecolor": "white",
            "ticks": ""
           }
          },
          "title": {
           "x": 0.05
          },
          "xaxis": {
           "automargin": true,
           "gridcolor": "white",
           "linecolor": "white",
           "ticks": "",
           "title": {
            "standoff": 15
           },
           "zerolinecolor": "white",
           "zerolinewidth": 2
          },
          "yaxis": {
           "automargin": true,
           "gridcolor": "white",
           "linecolor": "white",
           "ticks": "",
           "title": {
            "standoff": 15
           },
           "zerolinecolor": "white",
           "zerolinewidth": 2
          }
         }
        },
        "title": {
         "font": {
          "color": "#4D5663"
         }
        },
        "xaxis": {
         "gridcolor": "#E1E5ED",
         "showgrid": true,
         "tickfont": {
          "color": "#4D5663"
         },
         "title": {
          "font": {
           "color": "#4D5663"
          },
          "text": ""
         },
         "zerolinecolor": "#E1E5ED"
        },
        "yaxis": {
         "gridcolor": "#E1E5ED",
         "showgrid": true,
         "tickfont": {
          "color": "#4D5663"
         },
         "title": {
          "font": {
           "color": "#4D5663"
          },
          "text": ""
         },
         "zerolinecolor": "#E1E5ED"
        }
       }
      },
      "text/html": [
       "<div>\n",
       "        \n",
       "        \n",
       "            <div id=\"acb4bdb5-9fe0-4012-bd89-7f6cf1f2db23\" class=\"plotly-graph-div\" style=\"height:525px; width:100%;\"></div>\n",
       "            <script type=\"text/javascript\">\n",
       "                require([\"plotly\"], function(Plotly) {\n",
       "                    window.PLOTLYENV=window.PLOTLYENV || {};\n",
       "                    window.PLOTLYENV.BASE_URL='https://plot.ly';\n",
       "                    \n",
       "                if (document.getElementById(\"acb4bdb5-9fe0-4012-bd89-7f6cf1f2db23\")) {\n",
       "                    Plotly.newPlot(\n",
       "                        'acb4bdb5-9fe0-4012-bd89-7f6cf1f2db23',\n",
       "                        [{\"colorscale\": [[0.0, \"rgb(165,0,38)\"], [0.1, \"rgb(215,48,39)\"], [0.2, \"rgb(244,109,67)\"], [0.3, \"rgb(253,174,97)\"], [0.4, \"rgb(254,224,144)\"], [0.5, \"rgb(255,255,191)\"], [0.6, \"rgb(224,243,248)\"], [0.7, \"rgb(171,217,233)\"], [0.8, \"rgb(116,173,209)\"], [0.9, \"rgb(69,117,180)\"], [1.0, \"rgb(49,54,149)\"]], \"type\": \"surface\", \"x\": [0, 1, 2, 3, 4], \"y\": [\"x\", \"y\", \"z\"], \"z\": [[1, 2, 3, 4, 5], [10, 20, 30, 20, 10], [5, 4, 3, 2, 1]]}],\n",
       "                        {\"legend\": {\"bgcolor\": \"#F5F6F9\", \"font\": {\"color\": \"#4D5663\"}}, \"paper_bgcolor\": \"#F5F6F9\", \"plot_bgcolor\": \"#F5F6F9\", \"template\": {\"data\": {\"bar\": [{\"error_x\": {\"color\": \"#2a3f5f\"}, \"error_y\": {\"color\": \"#2a3f5f\"}, \"marker\": {\"line\": {\"color\": \"#E5ECF6\", \"width\": 0.5}}, \"type\": \"bar\"}], \"barpolar\": [{\"marker\": {\"line\": {\"color\": \"#E5ECF6\", \"width\": 0.5}}, \"type\": \"barpolar\"}], \"carpet\": [{\"aaxis\": {\"endlinecolor\": \"#2a3f5f\", \"gridcolor\": \"white\", \"linecolor\": \"white\", \"minorgridcolor\": \"white\", \"startlinecolor\": \"#2a3f5f\"}, \"baxis\": {\"endlinecolor\": \"#2a3f5f\", \"gridcolor\": \"white\", \"linecolor\": \"white\", \"minorgridcolor\": \"white\", \"startlinecolor\": \"#2a3f5f\"}, \"type\": \"carpet\"}], \"choropleth\": [{\"colorbar\": {\"outlinewidth\": 0, \"ticks\": \"\"}, \"type\": \"choropleth\"}], \"contour\": [{\"colorbar\": {\"outlinewidth\": 0, \"ticks\": \"\"}, \"colorscale\": [[0.0, \"#0d0887\"], [0.1111111111111111, \"#46039f\"], [0.2222222222222222, \"#7201a8\"], [0.3333333333333333, \"#9c179e\"], [0.4444444444444444, \"#bd3786\"], [0.5555555555555556, \"#d8576b\"], [0.6666666666666666, \"#ed7953\"], [0.7777777777777778, \"#fb9f3a\"], [0.8888888888888888, \"#fdca26\"], [1.0, \"#f0f921\"]], \"type\": \"contour\"}], \"contourcarpet\": [{\"colorbar\": {\"outlinewidth\": 0, \"ticks\": \"\"}, \"type\": \"contourcarpet\"}], \"heatmap\": [{\"colorbar\": {\"outlinewidth\": 0, \"ticks\": \"\"}, \"colorscale\": [[0.0, \"#0d0887\"], [0.1111111111111111, \"#46039f\"], [0.2222222222222222, \"#7201a8\"], [0.3333333333333333, \"#9c179e\"], [0.4444444444444444, \"#bd3786\"], [0.5555555555555556, \"#d8576b\"], [0.6666666666666666, \"#ed7953\"], [0.7777777777777778, \"#fb9f3a\"], [0.8888888888888888, \"#fdca26\"], [1.0, \"#f0f921\"]], \"type\": \"heatmap\"}], \"heatmapgl\": [{\"colorbar\": {\"outlinewidth\": 0, \"ticks\": \"\"}, \"colorscale\": [[0.0, \"#0d0887\"], [0.1111111111111111, \"#46039f\"], [0.2222222222222222, \"#7201a8\"], [0.3333333333333333, \"#9c179e\"], [0.4444444444444444, \"#bd3786\"], [0.5555555555555556, \"#d8576b\"], [0.6666666666666666, \"#ed7953\"], [0.7777777777777778, \"#fb9f3a\"], [0.8888888888888888, \"#fdca26\"], [1.0, \"#f0f921\"]], \"type\": \"heatmapgl\"}], \"histogram\": [{\"marker\": {\"colorbar\": {\"outlinewidth\": 0, \"ticks\": \"\"}}, \"type\": \"histogram\"}], \"histogram2d\": [{\"colorbar\": {\"outlinewidth\": 0, \"ticks\": \"\"}, \"colorscale\": [[0.0, \"#0d0887\"], [0.1111111111111111, \"#46039f\"], [0.2222222222222222, \"#7201a8\"], [0.3333333333333333, \"#9c179e\"], [0.4444444444444444, \"#bd3786\"], [0.5555555555555556, \"#d8576b\"], [0.6666666666666666, \"#ed7953\"], [0.7777777777777778, \"#fb9f3a\"], [0.8888888888888888, \"#fdca26\"], [1.0, \"#f0f921\"]], \"type\": \"histogram2d\"}], \"histogram2dcontour\": [{\"colorbar\": {\"outlinewidth\": 0, \"ticks\": \"\"}, \"colorscale\": [[0.0, \"#0d0887\"], [0.1111111111111111, \"#46039f\"], [0.2222222222222222, \"#7201a8\"], [0.3333333333333333, \"#9c179e\"], [0.4444444444444444, \"#bd3786\"], [0.5555555555555556, \"#d8576b\"], [0.6666666666666666, \"#ed7953\"], [0.7777777777777778, \"#fb9f3a\"], [0.8888888888888888, \"#fdca26\"], [1.0, \"#f0f921\"]], \"type\": \"histogram2dcontour\"}], \"mesh3d\": [{\"colorbar\": {\"outlinewidth\": 0, \"ticks\": \"\"}, \"type\": \"mesh3d\"}], \"parcoords\": [{\"line\": {\"colorbar\": {\"outlinewidth\": 0, \"ticks\": \"\"}}, \"type\": \"parcoords\"}], \"pie\": [{\"automargin\": true, \"type\": \"pie\"}], \"scatter\": [{\"marker\": {\"colorbar\": {\"outlinewidth\": 0, \"ticks\": \"\"}}, \"type\": \"scatter\"}], \"scatter3d\": [{\"line\": {\"colorbar\": {\"outlinewidth\": 0, \"ticks\": \"\"}}, \"marker\": {\"colorbar\": {\"outlinewidth\": 0, \"ticks\": \"\"}}, \"type\": \"scatter3d\"}], \"scattercarpet\": [{\"marker\": {\"colorbar\": {\"outlinewidth\": 0, \"ticks\": \"\"}}, \"type\": \"scattercarpet\"}], \"scattergeo\": [{\"marker\": {\"colorbar\": {\"outlinewidth\": 0, \"ticks\": \"\"}}, \"type\": \"scattergeo\"}], \"scattergl\": [{\"marker\": {\"colorbar\": {\"outlinewidth\": 0, \"ticks\": \"\"}}, \"type\": \"scattergl\"}], \"scattermapbox\": [{\"marker\": {\"colorbar\": {\"outlinewidth\": 0, \"ticks\": \"\"}}, \"type\": \"scattermapbox\"}], \"scatterpolar\": [{\"marker\": {\"colorbar\": {\"outlinewidth\": 0, \"ticks\": \"\"}}, \"type\": \"scatterpolar\"}], \"scatterpolargl\": [{\"marker\": {\"colorbar\": {\"outlinewidth\": 0, \"ticks\": \"\"}}, \"type\": \"scatterpolargl\"}], \"scatterternary\": [{\"marker\": {\"colorbar\": {\"outlinewidth\": 0, \"ticks\": \"\"}}, \"type\": \"scatterternary\"}], \"surface\": [{\"colorbar\": {\"outlinewidth\": 0, \"ticks\": \"\"}, \"colorscale\": [[0.0, \"#0d0887\"], [0.1111111111111111, \"#46039f\"], [0.2222222222222222, \"#7201a8\"], [0.3333333333333333, \"#9c179e\"], [0.4444444444444444, \"#bd3786\"], [0.5555555555555556, \"#d8576b\"], [0.6666666666666666, \"#ed7953\"], [0.7777777777777778, \"#fb9f3a\"], [0.8888888888888888, \"#fdca26\"], [1.0, \"#f0f921\"]], \"type\": \"surface\"}], \"table\": [{\"cells\": {\"fill\": {\"color\": \"#EBF0F8\"}, \"line\": {\"color\": \"white\"}}, \"header\": {\"fill\": {\"color\": \"#C8D4E3\"}, \"line\": {\"color\": \"white\"}}, \"type\": \"table\"}]}, \"layout\": {\"annotationdefaults\": {\"arrowcolor\": \"#2a3f5f\", \"arrowhead\": 0, \"arrowwidth\": 1}, \"coloraxis\": {\"colorbar\": {\"outlinewidth\": 0, \"ticks\": \"\"}}, \"colorscale\": {\"diverging\": [[0, \"#8e0152\"], [0.1, \"#c51b7d\"], [0.2, \"#de77ae\"], [0.3, \"#f1b6da\"], [0.4, \"#fde0ef\"], [0.5, \"#f7f7f7\"], [0.6, \"#e6f5d0\"], [0.7, \"#b8e186\"], [0.8, \"#7fbc41\"], [0.9, \"#4d9221\"], [1, \"#276419\"]], \"sequential\": [[0.0, \"#0d0887\"], [0.1111111111111111, \"#46039f\"], [0.2222222222222222, \"#7201a8\"], [0.3333333333333333, \"#9c179e\"], [0.4444444444444444, \"#bd3786\"], [0.5555555555555556, \"#d8576b\"], [0.6666666666666666, \"#ed7953\"], [0.7777777777777778, \"#fb9f3a\"], [0.8888888888888888, \"#fdca26\"], [1.0, \"#f0f921\"]], \"sequentialminus\": [[0.0, \"#0d0887\"], [0.1111111111111111, \"#46039f\"], [0.2222222222222222, \"#7201a8\"], [0.3333333333333333, \"#9c179e\"], [0.4444444444444444, \"#bd3786\"], [0.5555555555555556, \"#d8576b\"], [0.6666666666666666, \"#ed7953\"], [0.7777777777777778, \"#fb9f3a\"], [0.8888888888888888, \"#fdca26\"], [1.0, \"#f0f921\"]]}, \"colorway\": [\"#636efa\", \"#EF553B\", \"#00cc96\", \"#ab63fa\", \"#FFA15A\", \"#19d3f3\", \"#FF6692\", \"#B6E880\", \"#FF97FF\", \"#FECB52\"], \"font\": {\"color\": \"#2a3f5f\"}, \"geo\": {\"bgcolor\": \"white\", \"lakecolor\": \"white\", \"landcolor\": \"#E5ECF6\", \"showlakes\": true, \"showland\": true, \"subunitcolor\": \"white\"}, \"hoverlabel\": {\"align\": \"left\"}, \"hovermode\": \"closest\", \"mapbox\": {\"style\": \"light\"}, \"paper_bgcolor\": \"white\", \"plot_bgcolor\": \"#E5ECF6\", \"polar\": {\"angularaxis\": {\"gridcolor\": \"white\", \"linecolor\": \"white\", \"ticks\": \"\"}, \"bgcolor\": \"#E5ECF6\", \"radialaxis\": {\"gridcolor\": \"white\", \"linecolor\": \"white\", \"ticks\": \"\"}}, \"scene\": {\"xaxis\": {\"backgroundcolor\": \"#E5ECF6\", \"gridcolor\": \"white\", \"gridwidth\": 2, \"linecolor\": \"white\", \"showbackground\": true, \"ticks\": \"\", \"zerolinecolor\": \"white\"}, \"yaxis\": {\"backgroundcolor\": \"#E5ECF6\", \"gridcolor\": \"white\", \"gridwidth\": 2, \"linecolor\": \"white\", \"showbackground\": true, \"ticks\": \"\", \"zerolinecolor\": \"white\"}, \"zaxis\": {\"backgroundcolor\": \"#E5ECF6\", \"gridcolor\": \"white\", \"gridwidth\": 2, \"linecolor\": \"white\", \"showbackground\": true, \"ticks\": \"\", \"zerolinecolor\": \"white\"}}, \"shapedefaults\": {\"line\": {\"color\": \"#2a3f5f\"}}, \"ternary\": {\"aaxis\": {\"gridcolor\": \"white\", \"linecolor\": \"white\", \"ticks\": \"\"}, \"baxis\": {\"gridcolor\": \"white\", \"linecolor\": \"white\", \"ticks\": \"\"}, \"bgcolor\": \"#E5ECF6\", \"caxis\": {\"gridcolor\": \"white\", \"linecolor\": \"white\", \"ticks\": \"\"}}, \"title\": {\"x\": 0.05}, \"xaxis\": {\"automargin\": true, \"gridcolor\": \"white\", \"linecolor\": \"white\", \"ticks\": \"\", \"title\": {\"standoff\": 15}, \"zerolinecolor\": \"white\", \"zerolinewidth\": 2}, \"yaxis\": {\"automargin\": true, \"gridcolor\": \"white\", \"linecolor\": \"white\", \"ticks\": \"\", \"title\": {\"standoff\": 15}, \"zerolinecolor\": \"white\", \"zerolinewidth\": 2}}}, \"title\": {\"font\": {\"color\": \"#4D5663\"}}, \"xaxis\": {\"gridcolor\": \"#E1E5ED\", \"showgrid\": true, \"tickfont\": {\"color\": \"#4D5663\"}, \"title\": {\"font\": {\"color\": \"#4D5663\"}, \"text\": \"\"}, \"zerolinecolor\": \"#E1E5ED\"}, \"yaxis\": {\"gridcolor\": \"#E1E5ED\", \"showgrid\": true, \"tickfont\": {\"color\": \"#4D5663\"}, \"title\": {\"font\": {\"color\": \"#4D5663\"}, \"text\": \"\"}, \"zerolinecolor\": \"#E1E5ED\"}},\n",
       "                        {\"showLink\": true, \"linkText\": \"Export to plot.ly\", \"plotlyServerURL\": \"https://plot.ly\", \"responsive\": true}\n",
       "                    ).then(function(){\n",
       "                            \n",
       "var gd = document.getElementById('acb4bdb5-9fe0-4012-bd89-7f6cf1f2db23');\n",
       "var x = new MutationObserver(function (mutations, observer) {{\n",
       "        var display = window.getComputedStyle(gd).display;\n",
       "        if (!display || display === 'none') {{\n",
       "            console.log([gd, 'removed!']);\n",
       "            Plotly.purge(gd);\n",
       "            observer.disconnect();\n",
       "        }}\n",
       "}});\n",
       "\n",
       "// Listen for the removal of the full notebook cells\n",
       "var notebookContainer = gd.closest('#notebook-container');\n",
       "if (notebookContainer) {{\n",
       "    x.observe(notebookContainer, {childList: true});\n",
       "}}\n",
       "\n",
       "// Listen for the clearing of the current output cell\n",
       "var outputEl = gd.closest('.output');\n",
       "if (outputEl) {{\n",
       "    x.observe(outputEl, {childList: true});\n",
       "}}\n",
       "\n",
       "                        })\n",
       "                };\n",
       "                });\n",
       "            </script>\n",
       "        </div>"
      ]
     },
     "metadata": {},
     "output_type": "display_data"
    }
   ],
   "source": [
    "df3 = pd.DataFrame({'x':[1,2,3,4,5],'y':[10,20,30,20,10],'z':[5,4,3,2,1]})\n",
    "df3.iplot(kind='surface',colorscale='rdylbu')"
   ]
  },
  {
   "cell_type": "markdown",
   "metadata": {},
   "source": [
    "## Spread"
   ]
  },
  {
   "cell_type": "code",
   "execution_count": 21,
   "metadata": {},
   "outputs": [
    {
     "name": "stderr",
     "output_type": "stream",
     "text": [
      "C:\\Users\\Nilotpal.Choudhury\\Anaconda3\\lib\\site-packages\\cufflinks\\plotlytools.py:849: FutureWarning:\n",
      "\n",
      "The pandas.np module is deprecated and will be removed from pandas in a future version. Import numpy directly instead\n",
      "\n",
      "C:\\Users\\Nilotpal.Choudhury\\Anaconda3\\lib\\site-packages\\cufflinks\\plotlytools.py:850: FutureWarning:\n",
      "\n",
      "The pandas.np module is deprecated and will be removed from pandas in a future version. Import numpy directly instead\n",
      "\n"
     ]
    },
    {
     "data": {
      "application/vnd.plotly.v1+json": {
       "config": {
        "linkText": "Export to plot.ly",
        "plotlyServerURL": "https://plot.ly",
        "showLink": true
       },
       "data": [
        {
         "line": {
          "color": "rgba(255, 153, 51, 1.0)",
          "dash": "solid",
          "shape": "linear",
          "width": 1.3
         },
         "mode": "lines",
         "name": "A",
         "text": "",
         "type": "scatter",
         "x": [
          0,
          1,
          2,
          3,
          4,
          5,
          6,
          7,
          8,
          9,
          10,
          11,
          12,
          13,
          14,
          15,
          16,
          17,
          18,
          19,
          20,
          21,
          22,
          23,
          24,
          25,
          26,
          27,
          28,
          29,
          30,
          31,
          32,
          33,
          34,
          35,
          36,
          37,
          38,
          39,
          40,
          41,
          42,
          43,
          44,
          45,
          46,
          47,
          48,
          49,
          50,
          51,
          52,
          53,
          54,
          55,
          56,
          57,
          58,
          59,
          60,
          61,
          62,
          63,
          64,
          65,
          66,
          67,
          68,
          69,
          70,
          71,
          72,
          73,
          74,
          75,
          76,
          77,
          78,
          79,
          80,
          81,
          82,
          83,
          84,
          85,
          86,
          87,
          88,
          89,
          90,
          91,
          92,
          93,
          94,
          95,
          96,
          97,
          98,
          99
         ],
         "y": [
          -1.4138153976580274,
          0.08455022128887005,
          1.5471984510871117,
          1.6967637029976672,
          -0.7507050193197625,
          0.6144492892274529,
          0.10523618232753329,
          1.207121390424313,
          1.7326766078557791,
          -0.21328491944561068,
          2.008579499791018,
          0.21547481593456028,
          0.3808402686537413,
          -0.06092935790697329,
          0.8370766754499239,
          0.8274287807229304,
          -0.4126127693231269,
          -0.16929922544402398,
          0.7208595301409876,
          0.7733136383374829,
          -0.28892514206321673,
          -0.8762071774130635,
          -0.80619652439963,
          1.2305229116274847,
          -0.38858088186267853,
          0.7897841741518612,
          -0.8489199189374191,
          -1.3654506088764375,
          0.48549328430965677,
          0.35924680412438875,
          1.1114054429854745,
          0.0886027064970111,
          -0.4636103442398656,
          -0.20840951954222545,
          0.1405922012276346,
          -0.24064485943761077,
          -0.8334111091782375,
          1.842590317603657,
          -0.3371466088321572,
          -0.2034175748337479,
          -2.3459567831821633,
          -0.4017961959202484,
          0.4723198933313565,
          0.7501448239663938,
          -1.0693669073862617,
          1.5986290804606074,
          -0.24461314844453189,
          0.10368147740607012,
          -1.4969890118186504,
          -0.12435682418267893,
          1.274839898045271,
          -0.5169915646947392,
          -1.0712305609778643,
          -0.48659733893741813,
          0.3587922256913342,
          1.0999910285647592,
          0.9149839476261293,
          -0.486099575812348,
          -0.7608301228828495,
          -0.43453947979910407,
          -0.4378707689182603,
          0.01856409953642223,
          0.3832610655005692,
          -2.0933524665046948,
          1.7283265223487883,
          0.9869190365137367,
          0.40571454260259016,
          -0.5152470857611197,
          0.8786939279620871,
          0.4279175871191947,
          -2.601024184701134,
          -0.683284735855935,
          0.849927363712278,
          0.8857275580349077,
          1.2882816361582505,
          -0.519059352346447,
          -0.6904750615623734,
          0.8241614462286408,
          -0.46459047977908063,
          0.11913998254705363,
          0.13758868739779878,
          0.24332496851049237,
          0.018205797429998904,
          0.358933107643315,
          1.1315519087511798,
          -0.7637852405135656,
          0.3135604813218632,
          0.2377824938105682,
          1.2657677242286454,
          0.7290062940756441,
          0.6480948280599899,
          -0.1565135938137894,
          0.4133359631767297,
          0.7647690463317591,
          -1.4126303876542592,
          -0.24760521350475748,
          1.5285367941102805,
          -1.1365724953019072,
          0.21258239309873145,
          1.4010067851622496
         ]
        },
        {
         "line": {
          "color": "rgba(55, 128, 191, 1.0)",
          "dash": "solid",
          "shape": "linear",
          "width": 1.3
         },
         "mode": "lines",
         "name": "B",
         "text": "",
         "type": "scatter",
         "x": [
          0,
          1,
          2,
          3,
          4,
          5,
          6,
          7,
          8,
          9,
          10,
          11,
          12,
          13,
          14,
          15,
          16,
          17,
          18,
          19,
          20,
          21,
          22,
          23,
          24,
          25,
          26,
          27,
          28,
          29,
          30,
          31,
          32,
          33,
          34,
          35,
          36,
          37,
          38,
          39,
          40,
          41,
          42,
          43,
          44,
          45,
          46,
          47,
          48,
          49,
          50,
          51,
          52,
          53,
          54,
          55,
          56,
          57,
          58,
          59,
          60,
          61,
          62,
          63,
          64,
          65,
          66,
          67,
          68,
          69,
          70,
          71,
          72,
          73,
          74,
          75,
          76,
          77,
          78,
          79,
          80,
          81,
          82,
          83,
          84,
          85,
          86,
          87,
          88,
          89,
          90,
          91,
          92,
          93,
          94,
          95,
          96,
          97,
          98,
          99
         ],
         "y": [
          0.6307750025445071,
          2.1165649393990944,
          -0.13402531428069492,
          -1.0980616376530266,
          -2.434586496069079,
          -1.3053078896558565,
          -0.07090686858487011,
          0.2058256171970834,
          -0.399262838679452,
          -0.14038606848181132,
          0.9187536646281099,
          -0.8442053961123566,
          -0.2203312366099077,
          0.6148352056947539,
          0.5487157074264113,
          -0.8815647579995127,
          -0.34319730713674246,
          -1.0520874575465975,
          -0.5654422884296576,
          -0.09868497816887367,
          -0.4968289089377307,
          0.2716017943118359,
          0.9226989164424838,
          -0.5239432560546522,
          -0.8805108560299565,
          1.0291913615050854,
          -0.09431283356381821,
          -0.9703360343139987,
          0.47166862549484884,
          -1.2700349012817091,
          0.413275586679944,
          -0.04254191220658984,
          -0.3338980359576901,
          -0.675195513492032,
          1.550294420863555,
          1.1516766730039087,
          0.6535287491249111,
          0.6144648993585563,
          0.789565666569126,
          -0.3433168130690615,
          -0.05275694170220859,
          0.3020462133498991,
          -0.06943522706603063,
          -0.35192362829665536,
          0.6126596333884724,
          1.5578365933599612,
          -0.1253060804619179,
          -1.3902002070743285,
          -0.8174637537749673,
          0.11333678312936613,
          1.3356891122813224,
          0.19964929894159641,
          0.08236990727602006,
          1.2201019912024953,
          -0.5511844759854739,
          -0.8289846840857326,
          0.33884864688721744,
          1.0881768989607006,
          -0.7703403348773846,
          -0.2946516470282624,
          0.06536745681673374,
          0.7892622385305326,
          1.6351318760725766,
          -0.3738887659267329,
          0.5705852579762929,
          1.7567400703602254,
          1.5658507756576097,
          -0.32738934219238813,
          -3.4188171677438355,
          -0.8446793972616198,
          -0.0745933598454902,
          0.9009946023546918,
          0.04500369804380455,
          -0.16211529173578793,
          -1.612928599166473,
          -0.010132569394765995,
          0.17953472500659787,
          0.0064179642326903244,
          0.1326959809776376,
          1.946233101865483,
          0.03252092127965211,
          -0.5130179934757979,
          0.1429766964487547,
          -1.0395116288148776,
          -1.160703594319139,
          0.4435732597243696,
          1.5891745109922495,
          0.31166755938333734,
          -0.9900532640822058,
          0.6440787128368036,
          0.5558862615610557,
          0.2982157252903566,
          0.653861307961139,
          -0.9103614368183744,
          -0.20579788187733009,
          1.2582778382184772,
          -0.8122835465461327,
          -0.2767951603430714,
          -1.3958080501251722,
          0.6847098823556407
         ]
        },
        {
         "connectgaps": false,
         "fill": "tozeroy",
         "line": {
          "color": "green",
          "dash": "solid",
          "shape": "linear",
          "width": 0.5
         },
         "mode": "lines",
         "name": "Spread",
         "showlegend": false,
         "type": "scatter",
         "x": [
          0,
          1,
          2,
          3,
          4,
          5,
          6,
          7,
          8,
          9,
          10,
          11,
          12,
          13,
          14,
          15,
          16,
          17,
          18,
          19,
          20,
          21,
          22,
          23,
          24,
          25,
          26,
          27,
          28,
          29,
          30,
          31,
          32,
          33,
          34,
          35,
          36,
          37,
          38,
          39,
          40,
          41,
          42,
          43,
          44,
          45,
          46,
          47,
          48,
          49,
          50,
          51,
          52,
          53,
          54,
          55,
          56,
          57,
          58,
          59,
          60,
          61,
          62,
          63,
          64,
          65,
          66,
          67,
          68,
          69,
          70,
          71,
          72,
          73,
          74,
          75,
          76,
          77,
          78,
          79,
          80,
          81,
          82,
          83,
          84,
          85,
          86,
          87,
          88,
          89,
          90,
          91,
          92,
          93,
          94,
          95,
          96,
          97,
          98,
          99
         ],
         "xaxis": "x2",
         "y": [
          "",
          "",
          1.6812237653678066,
          2.7948253406506938,
          1.6838814767493164,
          1.9197571788833094,
          0.1761430509124034,
          1.0012957732272296,
          2.131939446535231,
          "",
          1.089825835162908,
          1.0596802120469169,
          0.601171505263649,
          "",
          0.28836096802351263,
          1.708993538722443,
          "",
          0.8827882321025735,
          1.2863018185706452,
          0.8719986165063566,
          0.20790376687451395,
          "",
          "",
          1.754466167682137,
          0.49192997416727796,
          "",
          "",
          "",
          0.013824658814807933,
          1.629281705406098,
          0.6981298563055305,
          0.13114461870360095,
          "",
          0.4667859939498066,
          "",
          "",
          "",
          1.2281254182451007,
          "",
          0.13989923823531358,
          "",
          "",
          0.5417551203973872,
          1.1020684522630493,
          "",
          0.0407924871006462,
          "",
          1.4938816844803986,
          "",
          "",
          "",
          "",
          "",
          "",
          0.9099767016768081,
          1.9289757126504918,
          0.5761353007389118,
          "",
          0.009510211994535167,
          "",
          "",
          "",
          "",
          "",
          1.1577412643724954,
          "",
          "",
          "",
          4.297511095705922,
          1.2725969843808145,
          "",
          "",
          0.8049236656684734,
          1.0478428497706955,
          2.9012102353247236,
          "",
          "",
          0.8177434819959505,
          "",
          "",
          0.10506776611814667,
          0.7563429619862903,
          "",
          1.3984447364581927,
          2.2922555030703187,
          "",
          "",
          "",
          2.2558209883108513,
          0.08492758123884048,
          0.09220856649893416,
          "",
          "",
          1.6751304831501335,
          "",
          "",
          2.340820340656413,
          "",
          1.6083904432239036,
          0.716296902806609
         ],
         "yaxis": "y2"
        },
        {
         "connectgaps": false,
         "fill": "tozeroy",
         "line": {
          "color": "red",
          "dash": "solid",
          "shape": "linear",
          "width": 0.5
         },
         "mode": "lines",
         "name": "Spread",
         "showlegend": false,
         "type": "scatter",
         "x": [
          0,
          1,
          2,
          3,
          4,
          5,
          6,
          7,
          8,
          9,
          10,
          11,
          12,
          13,
          14,
          15,
          16,
          17,
          18,
          19,
          20,
          21,
          22,
          23,
          24,
          25,
          26,
          27,
          28,
          29,
          30,
          31,
          32,
          33,
          34,
          35,
          36,
          37,
          38,
          39,
          40,
          41,
          42,
          43,
          44,
          45,
          46,
          47,
          48,
          49,
          50,
          51,
          52,
          53,
          54,
          55,
          56,
          57,
          58,
          59,
          60,
          61,
          62,
          63,
          64,
          65,
          66,
          67,
          68,
          69,
          70,
          71,
          72,
          73,
          74,
          75,
          76,
          77,
          78,
          79,
          80,
          81,
          82,
          83,
          84,
          85,
          86,
          87,
          88,
          89,
          90,
          91,
          92,
          93,
          94,
          95,
          96,
          97,
          98,
          99
         ],
         "xaxis": "x2",
         "y": [
          -2.0445904002025346,
          -2.0320147181102244,
          "",
          "",
          "",
          "",
          "",
          "",
          "",
          -0.07289885096379936,
          "",
          "",
          "",
          -0.6757645636017272,
          "",
          "",
          -0.06941546218638445,
          "",
          "",
          "",
          "",
          -1.1478089717248994,
          -1.7288954408421138,
          "",
          "",
          -0.2394071873532242,
          -0.7546070853736009,
          -0.3951145745624388,
          "",
          "",
          "",
          "",
          -0.1297123082821755,
          "",
          -1.4097022196359204,
          -1.3923215324415195,
          -1.4869398583031486,
          "",
          -1.126712275401283,
          "",
          -2.2931998414799546,
          -0.7038424092701475,
          "",
          "",
          -1.6820265407747341,
          "",
          -0.11930706798261398,
          "",
          -0.6795252580436831,
          -0.23769360731204506,
          -0.060849214236051274,
          -0.7166408636363356,
          -1.1536004682538843,
          -1.7066993301399134,
          "",
          "",
          "",
          -1.5742764747730487,
          "",
          -0.13988783277084166,
          -0.5032382257349941,
          -0.7706981389941103,
          -1.2518708105720073,
          -1.7194637005779618,
          "",
          -0.7698210338464887,
          -1.1601362330550196,
          -0.18785774356873153,
          "",
          "",
          -2.5264308248556437,
          -1.5842793382106266,
          "",
          "",
          "",
          -0.5089267829516809,
          -0.8700097865689712,
          "",
          -0.5972864607567182,
          -1.8270931193184294,
          "",
          "",
          -0.12477089901875578,
          "",
          "",
          -1.2073585002379352,
          -1.2756140296703862,
          -0.07388506557276914,
          "",
          "",
          "",
          -0.45472931910414605,
          -0.24052534478440923,
          "",
          -1.2068325057769291,
          -1.5058830517232347,
          "",
          -0.8597773349588358,
          "",
          ""
         ],
         "yaxis": "y2"
        }
       ],
       "layout": {
        "hovermode": "x",
        "legend": {
         "bgcolor": "#F5F6F9",
         "font": {
          "color": "#4D5663"
         }
        },
        "paper_bgcolor": "#F5F6F9",
        "plot_bgcolor": "#F5F6F9",
        "template": {
         "data": {
          "bar": [
           {
            "error_x": {
             "color": "#2a3f5f"
            },
            "error_y": {
             "color": "#2a3f5f"
            },
            "marker": {
             "line": {
              "color": "#E5ECF6",
              "width": 0.5
             }
            },
            "type": "bar"
           }
          ],
          "barpolar": [
           {
            "marker": {
             "line": {
              "color": "#E5ECF6",
              "width": 0.5
             }
            },
            "type": "barpolar"
           }
          ],
          "carpet": [
           {
            "aaxis": {
             "endlinecolor": "#2a3f5f",
             "gridcolor": "white",
             "linecolor": "white",
             "minorgridcolor": "white",
             "startlinecolor": "#2a3f5f"
            },
            "baxis": {
             "endlinecolor": "#2a3f5f",
             "gridcolor": "white",
             "linecolor": "white",
             "minorgridcolor": "white",
             "startlinecolor": "#2a3f5f"
            },
            "type": "carpet"
           }
          ],
          "choropleth": [
           {
            "colorbar": {
             "outlinewidth": 0,
             "ticks": ""
            },
            "type": "choropleth"
           }
          ],
          "contour": [
           {
            "colorbar": {
             "outlinewidth": 0,
             "ticks": ""
            },
            "colorscale": [
             [
              0,
              "#0d0887"
             ],
             [
              0.1111111111111111,
              "#46039f"
             ],
             [
              0.2222222222222222,
              "#7201a8"
             ],
             [
              0.3333333333333333,
              "#9c179e"
             ],
             [
              0.4444444444444444,
              "#bd3786"
             ],
             [
              0.5555555555555556,
              "#d8576b"
             ],
             [
              0.6666666666666666,
              "#ed7953"
             ],
             [
              0.7777777777777778,
              "#fb9f3a"
             ],
             [
              0.8888888888888888,
              "#fdca26"
             ],
             [
              1,
              "#f0f921"
             ]
            ],
            "type": "contour"
           }
          ],
          "contourcarpet": [
           {
            "colorbar": {
             "outlinewidth": 0,
             "ticks": ""
            },
            "type": "contourcarpet"
           }
          ],
          "heatmap": [
           {
            "colorbar": {
             "outlinewidth": 0,
             "ticks": ""
            },
            "colorscale": [
             [
              0,
              "#0d0887"
             ],
             [
              0.1111111111111111,
              "#46039f"
             ],
             [
              0.2222222222222222,
              "#7201a8"
             ],
             [
              0.3333333333333333,
              "#9c179e"
             ],
             [
              0.4444444444444444,
              "#bd3786"
             ],
             [
              0.5555555555555556,
              "#d8576b"
             ],
             [
              0.6666666666666666,
              "#ed7953"
             ],
             [
              0.7777777777777778,
              "#fb9f3a"
             ],
             [
              0.8888888888888888,
              "#fdca26"
             ],
             [
              1,
              "#f0f921"
             ]
            ],
            "type": "heatmap"
           }
          ],
          "heatmapgl": [
           {
            "colorbar": {
             "outlinewidth": 0,
             "ticks": ""
            },
            "colorscale": [
             [
              0,
              "#0d0887"
             ],
             [
              0.1111111111111111,
              "#46039f"
             ],
             [
              0.2222222222222222,
              "#7201a8"
             ],
             [
              0.3333333333333333,
              "#9c179e"
             ],
             [
              0.4444444444444444,
              "#bd3786"
             ],
             [
              0.5555555555555556,
              "#d8576b"
             ],
             [
              0.6666666666666666,
              "#ed7953"
             ],
             [
              0.7777777777777778,
              "#fb9f3a"
             ],
             [
              0.8888888888888888,
              "#fdca26"
             ],
             [
              1,
              "#f0f921"
             ]
            ],
            "type": "heatmapgl"
           }
          ],
          "histogram": [
           {
            "marker": {
             "colorbar": {
              "outlinewidth": 0,
              "ticks": ""
             }
            },
            "type": "histogram"
           }
          ],
          "histogram2d": [
           {
            "colorbar": {
             "outlinewidth": 0,
             "ticks": ""
            },
            "colorscale": [
             [
              0,
              "#0d0887"
             ],
             [
              0.1111111111111111,
              "#46039f"
             ],
             [
              0.2222222222222222,
              "#7201a8"
             ],
             [
              0.3333333333333333,
              "#9c179e"
             ],
             [
              0.4444444444444444,
              "#bd3786"
             ],
             [
              0.5555555555555556,
              "#d8576b"
             ],
             [
              0.6666666666666666,
              "#ed7953"
             ],
             [
              0.7777777777777778,
              "#fb9f3a"
             ],
             [
              0.8888888888888888,
              "#fdca26"
             ],
             [
              1,
              "#f0f921"
             ]
            ],
            "type": "histogram2d"
           }
          ],
          "histogram2dcontour": [
           {
            "colorbar": {
             "outlinewidth": 0,
             "ticks": ""
            },
            "colorscale": [
             [
              0,
              "#0d0887"
             ],
             [
              0.1111111111111111,
              "#46039f"
             ],
             [
              0.2222222222222222,
              "#7201a8"
             ],
             [
              0.3333333333333333,
              "#9c179e"
             ],
             [
              0.4444444444444444,
              "#bd3786"
             ],
             [
              0.5555555555555556,
              "#d8576b"
             ],
             [
              0.6666666666666666,
              "#ed7953"
             ],
             [
              0.7777777777777778,
              "#fb9f3a"
             ],
             [
              0.8888888888888888,
              "#fdca26"
             ],
             [
              1,
              "#f0f921"
             ]
            ],
            "type": "histogram2dcontour"
           }
          ],
          "mesh3d": [
           {
            "colorbar": {
             "outlinewidth": 0,
             "ticks": ""
            },
            "type": "mesh3d"
           }
          ],
          "parcoords": [
           {
            "line": {
             "colorbar": {
              "outlinewidth": 0,
              "ticks": ""
             }
            },
            "type": "parcoords"
           }
          ],
          "pie": [
           {
            "automargin": true,
            "type": "pie"
           }
          ],
          "scatter": [
           {
            "marker": {
             "colorbar": {
              "outlinewidth": 0,
              "ticks": ""
             }
            },
            "type": "scatter"
           }
          ],
          "scatter3d": [
           {
            "line": {
             "colorbar": {
              "outlinewidth": 0,
              "ticks": ""
             }
            },
            "marker": {
             "colorbar": {
              "outlinewidth": 0,
              "ticks": ""
             }
            },
            "type": "scatter3d"
           }
          ],
          "scattercarpet": [
           {
            "marker": {
             "colorbar": {
              "outlinewidth": 0,
              "ticks": ""
             }
            },
            "type": "scattercarpet"
           }
          ],
          "scattergeo": [
           {
            "marker": {
             "colorbar": {
              "outlinewidth": 0,
              "ticks": ""
             }
            },
            "type": "scattergeo"
           }
          ],
          "scattergl": [
           {
            "marker": {
             "colorbar": {
              "outlinewidth": 0,
              "ticks": ""
             }
            },
            "type": "scattergl"
           }
          ],
          "scattermapbox": [
           {
            "marker": {
             "colorbar": {
              "outlinewidth": 0,
              "ticks": ""
             }
            },
            "type": "scattermapbox"
           }
          ],
          "scatterpolar": [
           {
            "marker": {
             "colorbar": {
              "outlinewidth": 0,
              "ticks": ""
             }
            },
            "type": "scatterpolar"
           }
          ],
          "scatterpolargl": [
           {
            "marker": {
             "colorbar": {
              "outlinewidth": 0,
              "ticks": ""
             }
            },
            "type": "scatterpolargl"
           }
          ],
          "scatterternary": [
           {
            "marker": {
             "colorbar": {
              "outlinewidth": 0,
              "ticks": ""
             }
            },
            "type": "scatterternary"
           }
          ],
          "surface": [
           {
            "colorbar": {
             "outlinewidth": 0,
             "ticks": ""
            },
            "colorscale": [
             [
              0,
              "#0d0887"
             ],
             [
              0.1111111111111111,
              "#46039f"
             ],
             [
              0.2222222222222222,
              "#7201a8"
             ],
             [
              0.3333333333333333,
              "#9c179e"
             ],
             [
              0.4444444444444444,
              "#bd3786"
             ],
             [
              0.5555555555555556,
              "#d8576b"
             ],
             [
              0.6666666666666666,
              "#ed7953"
             ],
             [
              0.7777777777777778,
              "#fb9f3a"
             ],
             [
              0.8888888888888888,
              "#fdca26"
             ],
             [
              1,
              "#f0f921"
             ]
            ],
            "type": "surface"
           }
          ],
          "table": [
           {
            "cells": {
             "fill": {
              "color": "#EBF0F8"
             },
             "line": {
              "color": "white"
             }
            },
            "header": {
             "fill": {
              "color": "#C8D4E3"
             },
             "line": {
              "color": "white"
             }
            },
            "type": "table"
           }
          ]
         },
         "layout": {
          "annotationdefaults": {
           "arrowcolor": "#2a3f5f",
           "arrowhead": 0,
           "arrowwidth": 1
          },
          "coloraxis": {
           "colorbar": {
            "outlinewidth": 0,
            "ticks": ""
           }
          },
          "colorscale": {
           "diverging": [
            [
             0,
             "#8e0152"
            ],
            [
             0.1,
             "#c51b7d"
            ],
            [
             0.2,
             "#de77ae"
            ],
            [
             0.3,
             "#f1b6da"
            ],
            [
             0.4,
             "#fde0ef"
            ],
            [
             0.5,
             "#f7f7f7"
            ],
            [
             0.6,
             "#e6f5d0"
            ],
            [
             0.7,
             "#b8e186"
            ],
            [
             0.8,
             "#7fbc41"
            ],
            [
             0.9,
             "#4d9221"
            ],
            [
             1,
             "#276419"
            ]
           ],
           "sequential": [
            [
             0,
             "#0d0887"
            ],
            [
             0.1111111111111111,
             "#46039f"
            ],
            [
             0.2222222222222222,
             "#7201a8"
            ],
            [
             0.3333333333333333,
             "#9c179e"
            ],
            [
             0.4444444444444444,
             "#bd3786"
            ],
            [
             0.5555555555555556,
             "#d8576b"
            ],
            [
             0.6666666666666666,
             "#ed7953"
            ],
            [
             0.7777777777777778,
             "#fb9f3a"
            ],
            [
             0.8888888888888888,
             "#fdca26"
            ],
            [
             1,
             "#f0f921"
            ]
           ],
           "sequentialminus": [
            [
             0,
             "#0d0887"
            ],
            [
             0.1111111111111111,
             "#46039f"
            ],
            [
             0.2222222222222222,
             "#7201a8"
            ],
            [
             0.3333333333333333,
             "#9c179e"
            ],
            [
             0.4444444444444444,
             "#bd3786"
            ],
            [
             0.5555555555555556,
             "#d8576b"
            ],
            [
             0.6666666666666666,
             "#ed7953"
            ],
            [
             0.7777777777777778,
             "#fb9f3a"
            ],
            [
             0.8888888888888888,
             "#fdca26"
            ],
            [
             1,
             "#f0f921"
            ]
           ]
          },
          "colorway": [
           "#636efa",
           "#EF553B",
           "#00cc96",
           "#ab63fa",
           "#FFA15A",
           "#19d3f3",
           "#FF6692",
           "#B6E880",
           "#FF97FF",
           "#FECB52"
          ],
          "font": {
           "color": "#2a3f5f"
          },
          "geo": {
           "bgcolor": "white",
           "lakecolor": "white",
           "landcolor": "#E5ECF6",
           "showlakes": true,
           "showland": true,
           "subunitcolor": "white"
          },
          "hoverlabel": {
           "align": "left"
          },
          "hovermode": "closest",
          "mapbox": {
           "style": "light"
          },
          "paper_bgcolor": "white",
          "plot_bgcolor": "#E5ECF6",
          "polar": {
           "angularaxis": {
            "gridcolor": "white",
            "linecolor": "white",
            "ticks": ""
           },
           "bgcolor": "#E5ECF6",
           "radialaxis": {
            "gridcolor": "white",
            "linecolor": "white",
            "ticks": ""
           }
          },
          "scene": {
           "xaxis": {
            "backgroundcolor": "#E5ECF6",
            "gridcolor": "white",
            "gridwidth": 2,
            "linecolor": "white",
            "showbackground": true,
            "ticks": "",
            "zerolinecolor": "white"
           },
           "yaxis": {
            "backgroundcolor": "#E5ECF6",
            "gridcolor": "white",
            "gridwidth": 2,
            "linecolor": "white",
            "showbackground": true,
            "ticks": "",
            "zerolinecolor": "white"
           },
           "zaxis": {
            "backgroundcolor": "#E5ECF6",
            "gridcolor": "white",
            "gridwidth": 2,
            "linecolor": "white",
            "showbackground": true,
            "ticks": "",
            "zerolinecolor": "white"
           }
          },
          "shapedefaults": {
           "line": {
            "color": "#2a3f5f"
           }
          },
          "ternary": {
           "aaxis": {
            "gridcolor": "white",
            "linecolor": "white",
            "ticks": ""
           },
           "baxis": {
            "gridcolor": "white",
            "linecolor": "white",
            "ticks": ""
           },
           "bgcolor": "#E5ECF6",
           "caxis": {
            "gridcolor": "white",
            "linecolor": "white",
            "ticks": ""
           }
          },
          "title": {
           "x": 0.05
          },
          "xaxis": {
           "automargin": true,
           "gridcolor": "white",
           "linecolor": "white",
           "ticks": "",
           "title": {
            "standoff": 15
           },
           "zerolinecolor": "white",
           "zerolinewidth": 2
          },
          "yaxis": {
           "automargin": true,
           "gridcolor": "white",
           "linecolor": "white",
           "ticks": "",
           "title": {
            "standoff": 15
           },
           "zerolinecolor": "white",
           "zerolinewidth": 2
          }
         }
        },
        "title": {
         "font": {
          "color": "#4D5663"
         }
        },
        "xaxis": {
         "gridcolor": "#E1E5ED",
         "showgrid": true,
         "tickfont": {
          "color": "#4D5663"
         },
         "title": {
          "font": {
           "color": "#4D5663"
          },
          "text": ""
         },
         "zerolinecolor": "#E1E5ED"
        },
        "xaxis2": {
         "anchor": "y2",
         "gridcolor": "#E1E5ED",
         "showgrid": true,
         "showticklabels": false,
         "tickfont": {
          "color": "#4D5663"
         },
         "title": {
          "font": {
           "color": "#4D5663"
          },
          "text": ""
         },
         "zerolinecolor": "#E1E5ED"
        },
        "yaxis": {
         "domain": [
          0.3,
          1
         ],
         "gridcolor": "#E1E5ED",
         "showgrid": true,
         "tickfont": {
          "color": "#4D5663"
         },
         "title": {
          "font": {
           "color": "#4D5663"
          },
          "text": ""
         },
         "zerolinecolor": "#E1E5ED"
        },
        "yaxis2": {
         "domain": [
          0,
          0.25
         ],
         "gridcolor": "#E1E5ED",
         "showgrid": true,
         "tickfont": {
          "color": "#4D5663"
         },
         "title": {
          "font": {
           "color": "#4D5663"
          },
          "text": "Spread"
         },
         "zerolinecolor": "#E1E5ED"
        }
       }
      },
      "text/html": [
       "<div>\n",
       "        \n",
       "        \n",
       "            <div id=\"eeddd69f-332b-4439-866f-d8676bfea373\" class=\"plotly-graph-div\" style=\"height:525px; width:100%;\"></div>\n",
       "            <script type=\"text/javascript\">\n",
       "                require([\"plotly\"], function(Plotly) {\n",
       "                    window.PLOTLYENV=window.PLOTLYENV || {};\n",
       "                    window.PLOTLYENV.BASE_URL='https://plot.ly';\n",
       "                    \n",
       "                if (document.getElementById(\"eeddd69f-332b-4439-866f-d8676bfea373\")) {\n",
       "                    Plotly.newPlot(\n",
       "                        'eeddd69f-332b-4439-866f-d8676bfea373',\n",
       "                        [{\"line\": {\"color\": \"rgba(255, 153, 51, 1.0)\", \"dash\": \"solid\", \"shape\": \"linear\", \"width\": 1.3}, \"mode\": \"lines\", \"name\": \"A\", \"text\": \"\", \"type\": \"scatter\", \"x\": [0, 1, 2, 3, 4, 5, 6, 7, 8, 9, 10, 11, 12, 13, 14, 15, 16, 17, 18, 19, 20, 21, 22, 23, 24, 25, 26, 27, 28, 29, 30, 31, 32, 33, 34, 35, 36, 37, 38, 39, 40, 41, 42, 43, 44, 45, 46, 47, 48, 49, 50, 51, 52, 53, 54, 55, 56, 57, 58, 59, 60, 61, 62, 63, 64, 65, 66, 67, 68, 69, 70, 71, 72, 73, 74, 75, 76, 77, 78, 79, 80, 81, 82, 83, 84, 85, 86, 87, 88, 89, 90, 91, 92, 93, 94, 95, 96, 97, 98, 99], \"y\": [-1.4138153976580274, 0.08455022128887005, 1.5471984510871117, 1.6967637029976672, -0.7507050193197625, 0.6144492892274529, 0.10523618232753329, 1.207121390424313, 1.7326766078557791, -0.21328491944561068, 2.008579499791018, 0.21547481593456028, 0.3808402686537413, -0.06092935790697329, 0.8370766754499239, 0.8274287807229304, -0.4126127693231269, -0.16929922544402398, 0.7208595301409876, 0.7733136383374829, -0.28892514206321673, -0.8762071774130635, -0.80619652439963, 1.2305229116274847, -0.38858088186267853, 0.7897841741518612, -0.8489199189374191, -1.3654506088764375, 0.48549328430965677, 0.35924680412438875, 1.1114054429854745, 0.0886027064970111, -0.4636103442398656, -0.20840951954222545, 0.1405922012276346, -0.24064485943761077, -0.8334111091782375, 1.842590317603657, -0.3371466088321572, -0.2034175748337479, -2.3459567831821633, -0.4017961959202484, 0.4723198933313565, 0.7501448239663938, -1.0693669073862617, 1.5986290804606074, -0.24461314844453189, 0.10368147740607012, -1.4969890118186504, -0.12435682418267893, 1.274839898045271, -0.5169915646947392, -1.0712305609778643, -0.48659733893741813, 0.3587922256913342, 1.0999910285647592, 0.9149839476261293, -0.486099575812348, -0.7608301228828495, -0.43453947979910407, -0.4378707689182603, 0.01856409953642223, 0.3832610655005692, -2.0933524665046948, 1.7283265223487883, 0.9869190365137367, 0.40571454260259016, -0.5152470857611197, 0.8786939279620871, 0.4279175871191947, -2.601024184701134, -0.683284735855935, 0.849927363712278, 0.8857275580349077, 1.2882816361582505, -0.519059352346447, -0.6904750615623734, 0.8241614462286408, -0.46459047977908063, 0.11913998254705363, 0.13758868739779878, 0.24332496851049237, 0.018205797429998904, 0.358933107643315, 1.1315519087511798, -0.7637852405135656, 0.3135604813218632, 0.2377824938105682, 1.2657677242286454, 0.7290062940756441, 0.6480948280599899, -0.1565135938137894, 0.4133359631767297, 0.7647690463317591, -1.4126303876542592, -0.24760521350475748, 1.5285367941102805, -1.1365724953019072, 0.21258239309873145, 1.4010067851622496]}, {\"line\": {\"color\": \"rgba(55, 128, 191, 1.0)\", \"dash\": \"solid\", \"shape\": \"linear\", \"width\": 1.3}, \"mode\": \"lines\", \"name\": \"B\", \"text\": \"\", \"type\": \"scatter\", \"x\": [0, 1, 2, 3, 4, 5, 6, 7, 8, 9, 10, 11, 12, 13, 14, 15, 16, 17, 18, 19, 20, 21, 22, 23, 24, 25, 26, 27, 28, 29, 30, 31, 32, 33, 34, 35, 36, 37, 38, 39, 40, 41, 42, 43, 44, 45, 46, 47, 48, 49, 50, 51, 52, 53, 54, 55, 56, 57, 58, 59, 60, 61, 62, 63, 64, 65, 66, 67, 68, 69, 70, 71, 72, 73, 74, 75, 76, 77, 78, 79, 80, 81, 82, 83, 84, 85, 86, 87, 88, 89, 90, 91, 92, 93, 94, 95, 96, 97, 98, 99], \"y\": [0.6307750025445071, 2.1165649393990944, -0.13402531428069492, -1.0980616376530266, -2.434586496069079, -1.3053078896558565, -0.07090686858487011, 0.2058256171970834, -0.399262838679452, -0.14038606848181132, 0.9187536646281099, -0.8442053961123566, -0.2203312366099077, 0.6148352056947539, 0.5487157074264113, -0.8815647579995127, -0.34319730713674246, -1.0520874575465975, -0.5654422884296576, -0.09868497816887367, -0.4968289089377307, 0.2716017943118359, 0.9226989164424838, -0.5239432560546522, -0.8805108560299565, 1.0291913615050854, -0.09431283356381821, -0.9703360343139987, 0.47166862549484884, -1.2700349012817091, 0.413275586679944, -0.04254191220658984, -0.3338980359576901, -0.675195513492032, 1.550294420863555, 1.1516766730039087, 0.6535287491249111, 0.6144648993585563, 0.789565666569126, -0.3433168130690615, -0.05275694170220859, 0.3020462133498991, -0.06943522706603063, -0.35192362829665536, 0.6126596333884724, 1.5578365933599612, -0.1253060804619179, -1.3902002070743285, -0.8174637537749673, 0.11333678312936613, 1.3356891122813224, 0.19964929894159641, 0.08236990727602006, 1.2201019912024953, -0.5511844759854739, -0.8289846840857326, 0.33884864688721744, 1.0881768989607006, -0.7703403348773846, -0.2946516470282624, 0.06536745681673374, 0.7892622385305326, 1.6351318760725766, -0.3738887659267329, 0.5705852579762929, 1.7567400703602254, 1.5658507756576097, -0.32738934219238813, -3.4188171677438355, -0.8446793972616198, -0.0745933598454902, 0.9009946023546918, 0.04500369804380455, -0.16211529173578793, -1.612928599166473, -0.010132569394765995, 0.17953472500659787, 0.0064179642326903244, 0.1326959809776376, 1.946233101865483, 0.03252092127965211, -0.5130179934757979, 0.1429766964487547, -1.0395116288148776, -1.160703594319139, 0.4435732597243696, 1.5891745109922495, 0.31166755938333734, -0.9900532640822058, 0.6440787128368036, 0.5558862615610557, 0.2982157252903566, 0.653861307961139, -0.9103614368183744, -0.20579788187733009, 1.2582778382184772, -0.8122835465461327, -0.2767951603430714, -1.3958080501251722, 0.6847098823556407]}, {\"connectgaps\": false, \"fill\": \"tozeroy\", \"line\": {\"color\": \"green\", \"dash\": \"solid\", \"shape\": \"linear\", \"width\": 0.5}, \"mode\": \"lines\", \"name\": \"Spread\", \"showlegend\": false, \"type\": \"scatter\", \"x\": [0, 1, 2, 3, 4, 5, 6, 7, 8, 9, 10, 11, 12, 13, 14, 15, 16, 17, 18, 19, 20, 21, 22, 23, 24, 25, 26, 27, 28, 29, 30, 31, 32, 33, 34, 35, 36, 37, 38, 39, 40, 41, 42, 43, 44, 45, 46, 47, 48, 49, 50, 51, 52, 53, 54, 55, 56, 57, 58, 59, 60, 61, 62, 63, 64, 65, 66, 67, 68, 69, 70, 71, 72, 73, 74, 75, 76, 77, 78, 79, 80, 81, 82, 83, 84, 85, 86, 87, 88, 89, 90, 91, 92, 93, 94, 95, 96, 97, 98, 99], \"xaxis\": \"x2\", \"y\": [\"\", \"\", 1.6812237653678066, 2.7948253406506938, 1.6838814767493164, 1.9197571788833094, 0.1761430509124034, 1.0012957732272296, 2.131939446535231, \"\", 1.089825835162908, 1.0596802120469169, 0.601171505263649, \"\", 0.28836096802351263, 1.708993538722443, \"\", 0.8827882321025735, 1.2863018185706452, 0.8719986165063566, 0.20790376687451395, \"\", \"\", 1.754466167682137, 0.49192997416727796, \"\", \"\", \"\", 0.013824658814807933, 1.629281705406098, 0.6981298563055305, 0.13114461870360095, \"\", 0.4667859939498066, \"\", \"\", \"\", 1.2281254182451007, \"\", 0.13989923823531358, \"\", \"\", 0.5417551203973872, 1.1020684522630493, \"\", 0.0407924871006462, \"\", 1.4938816844803986, \"\", \"\", \"\", \"\", \"\", \"\", 0.9099767016768081, 1.9289757126504918, 0.5761353007389118, \"\", 0.009510211994535167, \"\", \"\", \"\", \"\", \"\", 1.1577412643724954, \"\", \"\", \"\", 4.297511095705922, 1.2725969843808145, \"\", \"\", 0.8049236656684734, 1.0478428497706955, 2.9012102353247236, \"\", \"\", 0.8177434819959505, \"\", \"\", 0.10506776611814667, 0.7563429619862903, \"\", 1.3984447364581927, 2.2922555030703187, \"\", \"\", \"\", 2.2558209883108513, 0.08492758123884048, 0.09220856649893416, \"\", \"\", 1.6751304831501335, \"\", \"\", 2.340820340656413, \"\", 1.6083904432239036, 0.716296902806609], \"yaxis\": \"y2\"}, {\"connectgaps\": false, \"fill\": \"tozeroy\", \"line\": {\"color\": \"red\", \"dash\": \"solid\", \"shape\": \"linear\", \"width\": 0.5}, \"mode\": \"lines\", \"name\": \"Spread\", \"showlegend\": false, \"type\": \"scatter\", \"x\": [0, 1, 2, 3, 4, 5, 6, 7, 8, 9, 10, 11, 12, 13, 14, 15, 16, 17, 18, 19, 20, 21, 22, 23, 24, 25, 26, 27, 28, 29, 30, 31, 32, 33, 34, 35, 36, 37, 38, 39, 40, 41, 42, 43, 44, 45, 46, 47, 48, 49, 50, 51, 52, 53, 54, 55, 56, 57, 58, 59, 60, 61, 62, 63, 64, 65, 66, 67, 68, 69, 70, 71, 72, 73, 74, 75, 76, 77, 78, 79, 80, 81, 82, 83, 84, 85, 86, 87, 88, 89, 90, 91, 92, 93, 94, 95, 96, 97, 98, 99], \"xaxis\": \"x2\", \"y\": [-2.0445904002025346, -2.0320147181102244, \"\", \"\", \"\", \"\", \"\", \"\", \"\", -0.07289885096379936, \"\", \"\", \"\", -0.6757645636017272, \"\", \"\", -0.06941546218638445, \"\", \"\", \"\", \"\", -1.1478089717248994, -1.7288954408421138, \"\", \"\", -0.2394071873532242, -0.7546070853736009, -0.3951145745624388, \"\", \"\", \"\", \"\", -0.1297123082821755, \"\", -1.4097022196359204, -1.3923215324415195, -1.4869398583031486, \"\", -1.126712275401283, \"\", -2.2931998414799546, -0.7038424092701475, \"\", \"\", -1.6820265407747341, \"\", -0.11930706798261398, \"\", -0.6795252580436831, -0.23769360731204506, -0.060849214236051274, -0.7166408636363356, -1.1536004682538843, -1.7066993301399134, \"\", \"\", \"\", -1.5742764747730487, \"\", -0.13988783277084166, -0.5032382257349941, -0.7706981389941103, -1.2518708105720073, -1.7194637005779618, \"\", -0.7698210338464887, -1.1601362330550196, -0.18785774356873153, \"\", \"\", -2.5264308248556437, -1.5842793382106266, \"\", \"\", \"\", -0.5089267829516809, -0.8700097865689712, \"\", -0.5972864607567182, -1.8270931193184294, \"\", \"\", -0.12477089901875578, \"\", \"\", -1.2073585002379352, -1.2756140296703862, -0.07388506557276914, \"\", \"\", \"\", -0.45472931910414605, -0.24052534478440923, \"\", -1.2068325057769291, -1.5058830517232347, \"\", -0.8597773349588358, \"\", \"\"], \"yaxis\": \"y2\"}],\n",
       "                        {\"hovermode\": \"x\", \"legend\": {\"bgcolor\": \"#F5F6F9\", \"font\": {\"color\": \"#4D5663\"}}, \"paper_bgcolor\": \"#F5F6F9\", \"plot_bgcolor\": \"#F5F6F9\", \"template\": {\"data\": {\"bar\": [{\"error_x\": {\"color\": \"#2a3f5f\"}, \"error_y\": {\"color\": \"#2a3f5f\"}, \"marker\": {\"line\": {\"color\": \"#E5ECF6\", \"width\": 0.5}}, \"type\": \"bar\"}], \"barpolar\": [{\"marker\": {\"line\": {\"color\": \"#E5ECF6\", \"width\": 0.5}}, \"type\": \"barpolar\"}], \"carpet\": [{\"aaxis\": {\"endlinecolor\": \"#2a3f5f\", \"gridcolor\": \"white\", \"linecolor\": \"white\", \"minorgridcolor\": \"white\", \"startlinecolor\": \"#2a3f5f\"}, \"baxis\": {\"endlinecolor\": \"#2a3f5f\", \"gridcolor\": \"white\", \"linecolor\": \"white\", \"minorgridcolor\": \"white\", \"startlinecolor\": \"#2a3f5f\"}, \"type\": \"carpet\"}], \"choropleth\": [{\"colorbar\": {\"outlinewidth\": 0, \"ticks\": \"\"}, \"type\": \"choropleth\"}], \"contour\": [{\"colorbar\": {\"outlinewidth\": 0, \"ticks\": \"\"}, \"colorscale\": [[0.0, \"#0d0887\"], [0.1111111111111111, \"#46039f\"], [0.2222222222222222, \"#7201a8\"], [0.3333333333333333, \"#9c179e\"], [0.4444444444444444, \"#bd3786\"], [0.5555555555555556, \"#d8576b\"], [0.6666666666666666, \"#ed7953\"], [0.7777777777777778, \"#fb9f3a\"], [0.8888888888888888, \"#fdca26\"], [1.0, \"#f0f921\"]], \"type\": \"contour\"}], \"contourcarpet\": [{\"colorbar\": {\"outlinewidth\": 0, \"ticks\": \"\"}, \"type\": \"contourcarpet\"}], \"heatmap\": [{\"colorbar\": {\"outlinewidth\": 0, \"ticks\": \"\"}, \"colorscale\": [[0.0, \"#0d0887\"], [0.1111111111111111, \"#46039f\"], [0.2222222222222222, \"#7201a8\"], [0.3333333333333333, \"#9c179e\"], [0.4444444444444444, \"#bd3786\"], [0.5555555555555556, \"#d8576b\"], [0.6666666666666666, \"#ed7953\"], [0.7777777777777778, \"#fb9f3a\"], [0.8888888888888888, \"#fdca26\"], [1.0, \"#f0f921\"]], \"type\": \"heatmap\"}], \"heatmapgl\": [{\"colorbar\": {\"outlinewidth\": 0, \"ticks\": \"\"}, \"colorscale\": [[0.0, \"#0d0887\"], [0.1111111111111111, \"#46039f\"], [0.2222222222222222, \"#7201a8\"], [0.3333333333333333, \"#9c179e\"], [0.4444444444444444, \"#bd3786\"], [0.5555555555555556, \"#d8576b\"], [0.6666666666666666, \"#ed7953\"], [0.7777777777777778, \"#fb9f3a\"], [0.8888888888888888, \"#fdca26\"], [1.0, \"#f0f921\"]], \"type\": \"heatmapgl\"}], \"histogram\": [{\"marker\": {\"colorbar\": {\"outlinewidth\": 0, \"ticks\": \"\"}}, \"type\": \"histogram\"}], \"histogram2d\": [{\"colorbar\": {\"outlinewidth\": 0, \"ticks\": \"\"}, \"colorscale\": [[0.0, \"#0d0887\"], [0.1111111111111111, \"#46039f\"], [0.2222222222222222, \"#7201a8\"], [0.3333333333333333, \"#9c179e\"], [0.4444444444444444, \"#bd3786\"], [0.5555555555555556, \"#d8576b\"], [0.6666666666666666, \"#ed7953\"], [0.7777777777777778, \"#fb9f3a\"], [0.8888888888888888, \"#fdca26\"], [1.0, \"#f0f921\"]], \"type\": \"histogram2d\"}], \"histogram2dcontour\": [{\"colorbar\": {\"outlinewidth\": 0, \"ticks\": \"\"}, \"colorscale\": [[0.0, \"#0d0887\"], [0.1111111111111111, \"#46039f\"], [0.2222222222222222, \"#7201a8\"], [0.3333333333333333, \"#9c179e\"], [0.4444444444444444, \"#bd3786\"], [0.5555555555555556, \"#d8576b\"], [0.6666666666666666, \"#ed7953\"], [0.7777777777777778, \"#fb9f3a\"], [0.8888888888888888, \"#fdca26\"], [1.0, \"#f0f921\"]], \"type\": \"histogram2dcontour\"}], \"mesh3d\": [{\"colorbar\": {\"outlinewidth\": 0, \"ticks\": \"\"}, \"type\": \"mesh3d\"}], \"parcoords\": [{\"line\": {\"colorbar\": {\"outlinewidth\": 0, \"ticks\": \"\"}}, \"type\": \"parcoords\"}], \"pie\": [{\"automargin\": true, \"type\": \"pie\"}], \"scatter\": [{\"marker\": {\"colorbar\": {\"outlinewidth\": 0, \"ticks\": \"\"}}, \"type\": \"scatter\"}], \"scatter3d\": [{\"line\": {\"colorbar\": {\"outlinewidth\": 0, \"ticks\": \"\"}}, \"marker\": {\"colorbar\": {\"outlinewidth\": 0, \"ticks\": \"\"}}, \"type\": \"scatter3d\"}], \"scattercarpet\": [{\"marker\": {\"colorbar\": {\"outlinewidth\": 0, \"ticks\": \"\"}}, \"type\": \"scattercarpet\"}], \"scattergeo\": [{\"marker\": {\"colorbar\": {\"outlinewidth\": 0, \"ticks\": \"\"}}, \"type\": \"scattergeo\"}], \"scattergl\": [{\"marker\": {\"colorbar\": {\"outlinewidth\": 0, \"ticks\": \"\"}}, \"type\": \"scattergl\"}], \"scattermapbox\": [{\"marker\": {\"colorbar\": {\"outlinewidth\": 0, \"ticks\": \"\"}}, \"type\": \"scattermapbox\"}], \"scatterpolar\": [{\"marker\": {\"colorbar\": {\"outlinewidth\": 0, \"ticks\": \"\"}}, \"type\": \"scatterpolar\"}], \"scatterpolargl\": [{\"marker\": {\"colorbar\": {\"outlinewidth\": 0, \"ticks\": \"\"}}, \"type\": \"scatterpolargl\"}], \"scatterternary\": [{\"marker\": {\"colorbar\": {\"outlinewidth\": 0, \"ticks\": \"\"}}, \"type\": \"scatterternary\"}], \"surface\": [{\"colorbar\": {\"outlinewidth\": 0, \"ticks\": \"\"}, \"colorscale\": [[0.0, \"#0d0887\"], [0.1111111111111111, \"#46039f\"], [0.2222222222222222, \"#7201a8\"], [0.3333333333333333, \"#9c179e\"], [0.4444444444444444, \"#bd3786\"], [0.5555555555555556, \"#d8576b\"], [0.6666666666666666, \"#ed7953\"], [0.7777777777777778, \"#fb9f3a\"], [0.8888888888888888, \"#fdca26\"], [1.0, \"#f0f921\"]], \"type\": \"surface\"}], \"table\": [{\"cells\": {\"fill\": {\"color\": \"#EBF0F8\"}, \"line\": {\"color\": \"white\"}}, \"header\": {\"fill\": {\"color\": \"#C8D4E3\"}, \"line\": {\"color\": \"white\"}}, \"type\": \"table\"}]}, \"layout\": {\"annotationdefaults\": {\"arrowcolor\": \"#2a3f5f\", \"arrowhead\": 0, \"arrowwidth\": 1}, \"coloraxis\": {\"colorbar\": {\"outlinewidth\": 0, \"ticks\": \"\"}}, \"colorscale\": {\"diverging\": [[0, \"#8e0152\"], [0.1, \"#c51b7d\"], [0.2, \"#de77ae\"], [0.3, \"#f1b6da\"], [0.4, \"#fde0ef\"], [0.5, \"#f7f7f7\"], [0.6, \"#e6f5d0\"], [0.7, \"#b8e186\"], [0.8, \"#7fbc41\"], [0.9, \"#4d9221\"], [1, \"#276419\"]], \"sequential\": [[0.0, \"#0d0887\"], [0.1111111111111111, \"#46039f\"], [0.2222222222222222, \"#7201a8\"], [0.3333333333333333, \"#9c179e\"], [0.4444444444444444, \"#bd3786\"], [0.5555555555555556, \"#d8576b\"], [0.6666666666666666, \"#ed7953\"], [0.7777777777777778, \"#fb9f3a\"], [0.8888888888888888, \"#fdca26\"], [1.0, \"#f0f921\"]], \"sequentialminus\": [[0.0, \"#0d0887\"], [0.1111111111111111, \"#46039f\"], [0.2222222222222222, \"#7201a8\"], [0.3333333333333333, \"#9c179e\"], [0.4444444444444444, \"#bd3786\"], [0.5555555555555556, \"#d8576b\"], [0.6666666666666666, \"#ed7953\"], [0.7777777777777778, \"#fb9f3a\"], [0.8888888888888888, \"#fdca26\"], [1.0, \"#f0f921\"]]}, \"colorway\": [\"#636efa\", \"#EF553B\", \"#00cc96\", \"#ab63fa\", \"#FFA15A\", \"#19d3f3\", \"#FF6692\", \"#B6E880\", \"#FF97FF\", \"#FECB52\"], \"font\": {\"color\": \"#2a3f5f\"}, \"geo\": {\"bgcolor\": \"white\", \"lakecolor\": \"white\", \"landcolor\": \"#E5ECF6\", \"showlakes\": true, \"showland\": true, \"subunitcolor\": \"white\"}, \"hoverlabel\": {\"align\": \"left\"}, \"hovermode\": \"closest\", \"mapbox\": {\"style\": \"light\"}, \"paper_bgcolor\": \"white\", \"plot_bgcolor\": \"#E5ECF6\", \"polar\": {\"angularaxis\": {\"gridcolor\": \"white\", \"linecolor\": \"white\", \"ticks\": \"\"}, \"bgcolor\": \"#E5ECF6\", \"radialaxis\": {\"gridcolor\": \"white\", \"linecolor\": \"white\", \"ticks\": \"\"}}, \"scene\": {\"xaxis\": {\"backgroundcolor\": \"#E5ECF6\", \"gridcolor\": \"white\", \"gridwidth\": 2, \"linecolor\": \"white\", \"showbackground\": true, \"ticks\": \"\", \"zerolinecolor\": \"white\"}, \"yaxis\": {\"backgroundcolor\": \"#E5ECF6\", \"gridcolor\": \"white\", \"gridwidth\": 2, \"linecolor\": \"white\", \"showbackground\": true, \"ticks\": \"\", \"zerolinecolor\": \"white\"}, \"zaxis\": {\"backgroundcolor\": \"#E5ECF6\", \"gridcolor\": \"white\", \"gridwidth\": 2, \"linecolor\": \"white\", \"showbackground\": true, \"ticks\": \"\", \"zerolinecolor\": \"white\"}}, \"shapedefaults\": {\"line\": {\"color\": \"#2a3f5f\"}}, \"ternary\": {\"aaxis\": {\"gridcolor\": \"white\", \"linecolor\": \"white\", \"ticks\": \"\"}, \"baxis\": {\"gridcolor\": \"white\", \"linecolor\": \"white\", \"ticks\": \"\"}, \"bgcolor\": \"#E5ECF6\", \"caxis\": {\"gridcolor\": \"white\", \"linecolor\": \"white\", \"ticks\": \"\"}}, \"title\": {\"x\": 0.05}, \"xaxis\": {\"automargin\": true, \"gridcolor\": \"white\", \"linecolor\": \"white\", \"ticks\": \"\", \"title\": {\"standoff\": 15}, \"zerolinecolor\": \"white\", \"zerolinewidth\": 2}, \"yaxis\": {\"automargin\": true, \"gridcolor\": \"white\", \"linecolor\": \"white\", \"ticks\": \"\", \"title\": {\"standoff\": 15}, \"zerolinecolor\": \"white\", \"zerolinewidth\": 2}}}, \"title\": {\"font\": {\"color\": \"#4D5663\"}}, \"xaxis\": {\"gridcolor\": \"#E1E5ED\", \"showgrid\": true, \"tickfont\": {\"color\": \"#4D5663\"}, \"title\": {\"font\": {\"color\": \"#4D5663\"}, \"text\": \"\"}, \"zerolinecolor\": \"#E1E5ED\"}, \"xaxis2\": {\"anchor\": \"y2\", \"gridcolor\": \"#E1E5ED\", \"showgrid\": true, \"showticklabels\": false, \"tickfont\": {\"color\": \"#4D5663\"}, \"title\": {\"font\": {\"color\": \"#4D5663\"}, \"text\": \"\"}, \"zerolinecolor\": \"#E1E5ED\"}, \"yaxis\": {\"domain\": [0.3, 1], \"gridcolor\": \"#E1E5ED\", \"showgrid\": true, \"tickfont\": {\"color\": \"#4D5663\"}, \"title\": {\"font\": {\"color\": \"#4D5663\"}, \"text\": \"\"}, \"zerolinecolor\": \"#E1E5ED\"}, \"yaxis2\": {\"domain\": [0, 0.25], \"gridcolor\": \"#E1E5ED\", \"showgrid\": true, \"tickfont\": {\"color\": \"#4D5663\"}, \"title\": {\"font\": {\"color\": \"#4D5663\"}, \"text\": \"Spread\"}, \"zerolinecolor\": \"#E1E5ED\"}},\n",
       "                        {\"showLink\": true, \"linkText\": \"Export to plot.ly\", \"plotlyServerURL\": \"https://plot.ly\", \"responsive\": true}\n",
       "                    ).then(function(){\n",
       "                            \n",
       "var gd = document.getElementById('eeddd69f-332b-4439-866f-d8676bfea373');\n",
       "var x = new MutationObserver(function (mutations, observer) {{\n",
       "        var display = window.getComputedStyle(gd).display;\n",
       "        if (!display || display === 'none') {{\n",
       "            console.log([gd, 'removed!']);\n",
       "            Plotly.purge(gd);\n",
       "            observer.disconnect();\n",
       "        }}\n",
       "}});\n",
       "\n",
       "// Listen for the removal of the full notebook cells\n",
       "var notebookContainer = gd.closest('#notebook-container');\n",
       "if (notebookContainer) {{\n",
       "    x.observe(notebookContainer, {childList: true});\n",
       "}}\n",
       "\n",
       "// Listen for the clearing of the current output cell\n",
       "var outputEl = gd.closest('.output');\n",
       "if (outputEl) {{\n",
       "    x.observe(outputEl, {childList: true});\n",
       "}}\n",
       "\n",
       "                        })\n",
       "                };\n",
       "                });\n",
       "            </script>\n",
       "        </div>"
      ]
     },
     "metadata": {},
     "output_type": "display_data"
    }
   ],
   "source": [
    "df[['A','B']].iplot(kind='spread')"
   ]
  },
  {
   "cell_type": "markdown",
   "metadata": {},
   "source": [
    "## histogram"
   ]
  },
  {
   "cell_type": "code",
   "execution_count": 22,
   "metadata": {},
   "outputs": [
    {
     "data": {
      "application/vnd.plotly.v1+json": {
       "config": {
        "linkText": "Export to plot.ly",
        "plotlyServerURL": "https://plot.ly",
        "showLink": true
       },
       "data": [
        {
         "histfunc": "count",
         "histnorm": "",
         "marker": {
          "color": "rgba(255, 153, 51, 1.0)",
          "line": {
           "color": "#4D5663",
           "width": 1.3
          }
         },
         "name": "A",
         "nbinsx": 25,
         "opacity": 0.8,
         "orientation": "v",
         "type": "histogram",
         "x": [
          -1.4138153976580274,
          0.08455022128887005,
          1.5471984510871117,
          1.6967637029976672,
          -0.7507050193197625,
          0.6144492892274529,
          0.10523618232753329,
          1.207121390424313,
          1.7326766078557791,
          -0.21328491944561068,
          2.008579499791018,
          0.21547481593456028,
          0.3808402686537413,
          -0.06092935790697329,
          0.8370766754499239,
          0.8274287807229304,
          -0.4126127693231269,
          -0.16929922544402398,
          0.7208595301409876,
          0.7733136383374829,
          -0.28892514206321673,
          -0.8762071774130635,
          -0.80619652439963,
          1.2305229116274847,
          -0.38858088186267853,
          0.7897841741518612,
          -0.8489199189374191,
          -1.3654506088764375,
          0.48549328430965677,
          0.35924680412438875,
          1.1114054429854745,
          0.0886027064970111,
          -0.4636103442398656,
          -0.20840951954222545,
          0.1405922012276346,
          -0.24064485943761077,
          -0.8334111091782375,
          1.842590317603657,
          -0.3371466088321572,
          -0.2034175748337479,
          -2.3459567831821633,
          -0.4017961959202484,
          0.4723198933313565,
          0.7501448239663938,
          -1.0693669073862617,
          1.5986290804606074,
          -0.24461314844453189,
          0.10368147740607012,
          -1.4969890118186504,
          -0.12435682418267893,
          1.274839898045271,
          -0.5169915646947392,
          -1.0712305609778643,
          -0.48659733893741813,
          0.3587922256913342,
          1.0999910285647592,
          0.9149839476261293,
          -0.486099575812348,
          -0.7608301228828495,
          -0.43453947979910407,
          -0.4378707689182603,
          0.01856409953642223,
          0.3832610655005692,
          -2.0933524665046948,
          1.7283265223487883,
          0.9869190365137367,
          0.40571454260259016,
          -0.5152470857611197,
          0.8786939279620871,
          0.4279175871191947,
          -2.601024184701134,
          -0.683284735855935,
          0.849927363712278,
          0.8857275580349077,
          1.2882816361582505,
          -0.519059352346447,
          -0.6904750615623734,
          0.8241614462286408,
          -0.46459047977908063,
          0.11913998254705363,
          0.13758868739779878,
          0.24332496851049237,
          0.018205797429998904,
          0.358933107643315,
          1.1315519087511798,
          -0.7637852405135656,
          0.3135604813218632,
          0.2377824938105682,
          1.2657677242286454,
          0.7290062940756441,
          0.6480948280599899,
          -0.1565135938137894,
          0.4133359631767297,
          0.7647690463317591,
          -1.4126303876542592,
          -0.24760521350475748,
          1.5285367941102805,
          -1.1365724953019072,
          0.21258239309873145,
          1.4010067851622496
         ]
        }
       ],
       "layout": {
        "barmode": "overlay",
        "legend": {
         "bgcolor": "#F5F6F9",
         "font": {
          "color": "#4D5663"
         }
        },
        "paper_bgcolor": "#F5F6F9",
        "plot_bgcolor": "#F5F6F9",
        "template": {
         "data": {
          "bar": [
           {
            "error_x": {
             "color": "#2a3f5f"
            },
            "error_y": {
             "color": "#2a3f5f"
            },
            "marker": {
             "line": {
              "color": "#E5ECF6",
              "width": 0.5
             }
            },
            "type": "bar"
           }
          ],
          "barpolar": [
           {
            "marker": {
             "line": {
              "color": "#E5ECF6",
              "width": 0.5
             }
            },
            "type": "barpolar"
           }
          ],
          "carpet": [
           {
            "aaxis": {
             "endlinecolor": "#2a3f5f",
             "gridcolor": "white",
             "linecolor": "white",
             "minorgridcolor": "white",
             "startlinecolor": "#2a3f5f"
            },
            "baxis": {
             "endlinecolor": "#2a3f5f",
             "gridcolor": "white",
             "linecolor": "white",
             "minorgridcolor": "white",
             "startlinecolor": "#2a3f5f"
            },
            "type": "carpet"
           }
          ],
          "choropleth": [
           {
            "colorbar": {
             "outlinewidth": 0,
             "ticks": ""
            },
            "type": "choropleth"
           }
          ],
          "contour": [
           {
            "colorbar": {
             "outlinewidth": 0,
             "ticks": ""
            },
            "colorscale": [
             [
              0,
              "#0d0887"
             ],
             [
              0.1111111111111111,
              "#46039f"
             ],
             [
              0.2222222222222222,
              "#7201a8"
             ],
             [
              0.3333333333333333,
              "#9c179e"
             ],
             [
              0.4444444444444444,
              "#bd3786"
             ],
             [
              0.5555555555555556,
              "#d8576b"
             ],
             [
              0.6666666666666666,
              "#ed7953"
             ],
             [
              0.7777777777777778,
              "#fb9f3a"
             ],
             [
              0.8888888888888888,
              "#fdca26"
             ],
             [
              1,
              "#f0f921"
             ]
            ],
            "type": "contour"
           }
          ],
          "contourcarpet": [
           {
            "colorbar": {
             "outlinewidth": 0,
             "ticks": ""
            },
            "type": "contourcarpet"
           }
          ],
          "heatmap": [
           {
            "colorbar": {
             "outlinewidth": 0,
             "ticks": ""
            },
            "colorscale": [
             [
              0,
              "#0d0887"
             ],
             [
              0.1111111111111111,
              "#46039f"
             ],
             [
              0.2222222222222222,
              "#7201a8"
             ],
             [
              0.3333333333333333,
              "#9c179e"
             ],
             [
              0.4444444444444444,
              "#bd3786"
             ],
             [
              0.5555555555555556,
              "#d8576b"
             ],
             [
              0.6666666666666666,
              "#ed7953"
             ],
             [
              0.7777777777777778,
              "#fb9f3a"
             ],
             [
              0.8888888888888888,
              "#fdca26"
             ],
             [
              1,
              "#f0f921"
             ]
            ],
            "type": "heatmap"
           }
          ],
          "heatmapgl": [
           {
            "colorbar": {
             "outlinewidth": 0,
             "ticks": ""
            },
            "colorscale": [
             [
              0,
              "#0d0887"
             ],
             [
              0.1111111111111111,
              "#46039f"
             ],
             [
              0.2222222222222222,
              "#7201a8"
             ],
             [
              0.3333333333333333,
              "#9c179e"
             ],
             [
              0.4444444444444444,
              "#bd3786"
             ],
             [
              0.5555555555555556,
              "#d8576b"
             ],
             [
              0.6666666666666666,
              "#ed7953"
             ],
             [
              0.7777777777777778,
              "#fb9f3a"
             ],
             [
              0.8888888888888888,
              "#fdca26"
             ],
             [
              1,
              "#f0f921"
             ]
            ],
            "type": "heatmapgl"
           }
          ],
          "histogram": [
           {
            "marker": {
             "colorbar": {
              "outlinewidth": 0,
              "ticks": ""
             }
            },
            "type": "histogram"
           }
          ],
          "histogram2d": [
           {
            "colorbar": {
             "outlinewidth": 0,
             "ticks": ""
            },
            "colorscale": [
             [
              0,
              "#0d0887"
             ],
             [
              0.1111111111111111,
              "#46039f"
             ],
             [
              0.2222222222222222,
              "#7201a8"
             ],
             [
              0.3333333333333333,
              "#9c179e"
             ],
             [
              0.4444444444444444,
              "#bd3786"
             ],
             [
              0.5555555555555556,
              "#d8576b"
             ],
             [
              0.6666666666666666,
              "#ed7953"
             ],
             [
              0.7777777777777778,
              "#fb9f3a"
             ],
             [
              0.8888888888888888,
              "#fdca26"
             ],
             [
              1,
              "#f0f921"
             ]
            ],
            "type": "histogram2d"
           }
          ],
          "histogram2dcontour": [
           {
            "colorbar": {
             "outlinewidth": 0,
             "ticks": ""
            },
            "colorscale": [
             [
              0,
              "#0d0887"
             ],
             [
              0.1111111111111111,
              "#46039f"
             ],
             [
              0.2222222222222222,
              "#7201a8"
             ],
             [
              0.3333333333333333,
              "#9c179e"
             ],
             [
              0.4444444444444444,
              "#bd3786"
             ],
             [
              0.5555555555555556,
              "#d8576b"
             ],
             [
              0.6666666666666666,
              "#ed7953"
             ],
             [
              0.7777777777777778,
              "#fb9f3a"
             ],
             [
              0.8888888888888888,
              "#fdca26"
             ],
             [
              1,
              "#f0f921"
             ]
            ],
            "type": "histogram2dcontour"
           }
          ],
          "mesh3d": [
           {
            "colorbar": {
             "outlinewidth": 0,
             "ticks": ""
            },
            "type": "mesh3d"
           }
          ],
          "parcoords": [
           {
            "line": {
             "colorbar": {
              "outlinewidth": 0,
              "ticks": ""
             }
            },
            "type": "parcoords"
           }
          ],
          "pie": [
           {
            "automargin": true,
            "type": "pie"
           }
          ],
          "scatter": [
           {
            "marker": {
             "colorbar": {
              "outlinewidth": 0,
              "ticks": ""
             }
            },
            "type": "scatter"
           }
          ],
          "scatter3d": [
           {
            "line": {
             "colorbar": {
              "outlinewidth": 0,
              "ticks": ""
             }
            },
            "marker": {
             "colorbar": {
              "outlinewidth": 0,
              "ticks": ""
             }
            },
            "type": "scatter3d"
           }
          ],
          "scattercarpet": [
           {
            "marker": {
             "colorbar": {
              "outlinewidth": 0,
              "ticks": ""
             }
            },
            "type": "scattercarpet"
           }
          ],
          "scattergeo": [
           {
            "marker": {
             "colorbar": {
              "outlinewidth": 0,
              "ticks": ""
             }
            },
            "type": "scattergeo"
           }
          ],
          "scattergl": [
           {
            "marker": {
             "colorbar": {
              "outlinewidth": 0,
              "ticks": ""
             }
            },
            "type": "scattergl"
           }
          ],
          "scattermapbox": [
           {
            "marker": {
             "colorbar": {
              "outlinewidth": 0,
              "ticks": ""
             }
            },
            "type": "scattermapbox"
           }
          ],
          "scatterpolar": [
           {
            "marker": {
             "colorbar": {
              "outlinewidth": 0,
              "ticks": ""
             }
            },
            "type": "scatterpolar"
           }
          ],
          "scatterpolargl": [
           {
            "marker": {
             "colorbar": {
              "outlinewidth": 0,
              "ticks": ""
             }
            },
            "type": "scatterpolargl"
           }
          ],
          "scatterternary": [
           {
            "marker": {
             "colorbar": {
              "outlinewidth": 0,
              "ticks": ""
             }
            },
            "type": "scatterternary"
           }
          ],
          "surface": [
           {
            "colorbar": {
             "outlinewidth": 0,
             "ticks": ""
            },
            "colorscale": [
             [
              0,
              "#0d0887"
             ],
             [
              0.1111111111111111,
              "#46039f"
             ],
             [
              0.2222222222222222,
              "#7201a8"
             ],
             [
              0.3333333333333333,
              "#9c179e"
             ],
             [
              0.4444444444444444,
              "#bd3786"
             ],
             [
              0.5555555555555556,
              "#d8576b"
             ],
             [
              0.6666666666666666,
              "#ed7953"
             ],
             [
              0.7777777777777778,
              "#fb9f3a"
             ],
             [
              0.8888888888888888,
              "#fdca26"
             ],
             [
              1,
              "#f0f921"
             ]
            ],
            "type": "surface"
           }
          ],
          "table": [
           {
            "cells": {
             "fill": {
              "color": "#EBF0F8"
             },
             "line": {
              "color": "white"
             }
            },
            "header": {
             "fill": {
              "color": "#C8D4E3"
             },
             "line": {
              "color": "white"
             }
            },
            "type": "table"
           }
          ]
         },
         "layout": {
          "annotationdefaults": {
           "arrowcolor": "#2a3f5f",
           "arrowhead": 0,
           "arrowwidth": 1
          },
          "coloraxis": {
           "colorbar": {
            "outlinewidth": 0,
            "ticks": ""
           }
          },
          "colorscale": {
           "diverging": [
            [
             0,
             "#8e0152"
            ],
            [
             0.1,
             "#c51b7d"
            ],
            [
             0.2,
             "#de77ae"
            ],
            [
             0.3,
             "#f1b6da"
            ],
            [
             0.4,
             "#fde0ef"
            ],
            [
             0.5,
             "#f7f7f7"
            ],
            [
             0.6,
             "#e6f5d0"
            ],
            [
             0.7,
             "#b8e186"
            ],
            [
             0.8,
             "#7fbc41"
            ],
            [
             0.9,
             "#4d9221"
            ],
            [
             1,
             "#276419"
            ]
           ],
           "sequential": [
            [
             0,
             "#0d0887"
            ],
            [
             0.1111111111111111,
             "#46039f"
            ],
            [
             0.2222222222222222,
             "#7201a8"
            ],
            [
             0.3333333333333333,
             "#9c179e"
            ],
            [
             0.4444444444444444,
             "#bd3786"
            ],
            [
             0.5555555555555556,
             "#d8576b"
            ],
            [
             0.6666666666666666,
             "#ed7953"
            ],
            [
             0.7777777777777778,
             "#fb9f3a"
            ],
            [
             0.8888888888888888,
             "#fdca26"
            ],
            [
             1,
             "#f0f921"
            ]
           ],
           "sequentialminus": [
            [
             0,
             "#0d0887"
            ],
            [
             0.1111111111111111,
             "#46039f"
            ],
            [
             0.2222222222222222,
             "#7201a8"
            ],
            [
             0.3333333333333333,
             "#9c179e"
            ],
            [
             0.4444444444444444,
             "#bd3786"
            ],
            [
             0.5555555555555556,
             "#d8576b"
            ],
            [
             0.6666666666666666,
             "#ed7953"
            ],
            [
             0.7777777777777778,
             "#fb9f3a"
            ],
            [
             0.8888888888888888,
             "#fdca26"
            ],
            [
             1,
             "#f0f921"
            ]
           ]
          },
          "colorway": [
           "#636efa",
           "#EF553B",
           "#00cc96",
           "#ab63fa",
           "#FFA15A",
           "#19d3f3",
           "#FF6692",
           "#B6E880",
           "#FF97FF",
           "#FECB52"
          ],
          "font": {
           "color": "#2a3f5f"
          },
          "geo": {
           "bgcolor": "white",
           "lakecolor": "white",
           "landcolor": "#E5ECF6",
           "showlakes": true,
           "showland": true,
           "subunitcolor": "white"
          },
          "hoverlabel": {
           "align": "left"
          },
          "hovermode": "closest",
          "mapbox": {
           "style": "light"
          },
          "paper_bgcolor": "white",
          "plot_bgcolor": "#E5ECF6",
          "polar": {
           "angularaxis": {
            "gridcolor": "white",
            "linecolor": "white",
            "ticks": ""
           },
           "bgcolor": "#E5ECF6",
           "radialaxis": {
            "gridcolor": "white",
            "linecolor": "white",
            "ticks": ""
           }
          },
          "scene": {
           "xaxis": {
            "backgroundcolor": "#E5ECF6",
            "gridcolor": "white",
            "gridwidth": 2,
            "linecolor": "white",
            "showbackground": true,
            "ticks": "",
            "zerolinecolor": "white"
           },
           "yaxis": {
            "backgroundcolor": "#E5ECF6",
            "gridcolor": "white",
            "gridwidth": 2,
            "linecolor": "white",
            "showbackground": true,
            "ticks": "",
            "zerolinecolor": "white"
           },
           "zaxis": {
            "backgroundcolor": "#E5ECF6",
            "gridcolor": "white",
            "gridwidth": 2,
            "linecolor": "white",
            "showbackground": true,
            "ticks": "",
            "zerolinecolor": "white"
           }
          },
          "shapedefaults": {
           "line": {
            "color": "#2a3f5f"
           }
          },
          "ternary": {
           "aaxis": {
            "gridcolor": "white",
            "linecolor": "white",
            "ticks": ""
           },
           "baxis": {
            "gridcolor": "white",
            "linecolor": "white",
            "ticks": ""
           },
           "bgcolor": "#E5ECF6",
           "caxis": {
            "gridcolor": "white",
            "linecolor": "white",
            "ticks": ""
           }
          },
          "title": {
           "x": 0.05
          },
          "xaxis": {
           "automargin": true,
           "gridcolor": "white",
           "linecolor": "white",
           "ticks": "",
           "title": {
            "standoff": 15
           },
           "zerolinecolor": "white",
           "zerolinewidth": 2
          },
          "yaxis": {
           "automargin": true,
           "gridcolor": "white",
           "linecolor": "white",
           "ticks": "",
           "title": {
            "standoff": 15
           },
           "zerolinecolor": "white",
           "zerolinewidth": 2
          }
         }
        },
        "title": {
         "font": {
          "color": "#4D5663"
         }
        },
        "xaxis": {
         "gridcolor": "#E1E5ED",
         "showgrid": true,
         "tickfont": {
          "color": "#4D5663"
         },
         "title": {
          "font": {
           "color": "#4D5663"
          },
          "text": ""
         },
         "zerolinecolor": "#E1E5ED"
        },
        "yaxis": {
         "gridcolor": "#E1E5ED",
         "showgrid": true,
         "tickfont": {
          "color": "#4D5663"
         },
         "title": {
          "font": {
           "color": "#4D5663"
          },
          "text": ""
         },
         "zerolinecolor": "#E1E5ED"
        }
       }
      },
      "text/html": [
       "<div>\n",
       "        \n",
       "        \n",
       "            <div id=\"9838be9e-0db3-4998-a3ca-024299cc69db\" class=\"plotly-graph-div\" style=\"height:525px; width:100%;\"></div>\n",
       "            <script type=\"text/javascript\">\n",
       "                require([\"plotly\"], function(Plotly) {\n",
       "                    window.PLOTLYENV=window.PLOTLYENV || {};\n",
       "                    window.PLOTLYENV.BASE_URL='https://plot.ly';\n",
       "                    \n",
       "                if (document.getElementById(\"9838be9e-0db3-4998-a3ca-024299cc69db\")) {\n",
       "                    Plotly.newPlot(\n",
       "                        '9838be9e-0db3-4998-a3ca-024299cc69db',\n",
       "                        [{\"histfunc\": \"count\", \"histnorm\": \"\", \"marker\": {\"color\": \"rgba(255, 153, 51, 1.0)\", \"line\": {\"color\": \"#4D5663\", \"width\": 1.3}}, \"name\": \"A\", \"nbinsx\": 25, \"opacity\": 0.8, \"orientation\": \"v\", \"type\": \"histogram\", \"x\": [-1.4138153976580274, 0.08455022128887005, 1.5471984510871117, 1.6967637029976672, -0.7507050193197625, 0.6144492892274529, 0.10523618232753329, 1.207121390424313, 1.7326766078557791, -0.21328491944561068, 2.008579499791018, 0.21547481593456028, 0.3808402686537413, -0.06092935790697329, 0.8370766754499239, 0.8274287807229304, -0.4126127693231269, -0.16929922544402398, 0.7208595301409876, 0.7733136383374829, -0.28892514206321673, -0.8762071774130635, -0.80619652439963, 1.2305229116274847, -0.38858088186267853, 0.7897841741518612, -0.8489199189374191, -1.3654506088764375, 0.48549328430965677, 0.35924680412438875, 1.1114054429854745, 0.0886027064970111, -0.4636103442398656, -0.20840951954222545, 0.1405922012276346, -0.24064485943761077, -0.8334111091782375, 1.842590317603657, -0.3371466088321572, -0.2034175748337479, -2.3459567831821633, -0.4017961959202484, 0.4723198933313565, 0.7501448239663938, -1.0693669073862617, 1.5986290804606074, -0.24461314844453189, 0.10368147740607012, -1.4969890118186504, -0.12435682418267893, 1.274839898045271, -0.5169915646947392, -1.0712305609778643, -0.48659733893741813, 0.3587922256913342, 1.0999910285647592, 0.9149839476261293, -0.486099575812348, -0.7608301228828495, -0.43453947979910407, -0.4378707689182603, 0.01856409953642223, 0.3832610655005692, -2.0933524665046948, 1.7283265223487883, 0.9869190365137367, 0.40571454260259016, -0.5152470857611197, 0.8786939279620871, 0.4279175871191947, -2.601024184701134, -0.683284735855935, 0.849927363712278, 0.8857275580349077, 1.2882816361582505, -0.519059352346447, -0.6904750615623734, 0.8241614462286408, -0.46459047977908063, 0.11913998254705363, 0.13758868739779878, 0.24332496851049237, 0.018205797429998904, 0.358933107643315, 1.1315519087511798, -0.7637852405135656, 0.3135604813218632, 0.2377824938105682, 1.2657677242286454, 0.7290062940756441, 0.6480948280599899, -0.1565135938137894, 0.4133359631767297, 0.7647690463317591, -1.4126303876542592, -0.24760521350475748, 1.5285367941102805, -1.1365724953019072, 0.21258239309873145, 1.4010067851622496]}],\n",
       "                        {\"barmode\": \"overlay\", \"legend\": {\"bgcolor\": \"#F5F6F9\", \"font\": {\"color\": \"#4D5663\"}}, \"paper_bgcolor\": \"#F5F6F9\", \"plot_bgcolor\": \"#F5F6F9\", \"template\": {\"data\": {\"bar\": [{\"error_x\": {\"color\": \"#2a3f5f\"}, \"error_y\": {\"color\": \"#2a3f5f\"}, \"marker\": {\"line\": {\"color\": \"#E5ECF6\", \"width\": 0.5}}, \"type\": \"bar\"}], \"barpolar\": [{\"marker\": {\"line\": {\"color\": \"#E5ECF6\", \"width\": 0.5}}, \"type\": \"barpolar\"}], \"carpet\": [{\"aaxis\": {\"endlinecolor\": \"#2a3f5f\", \"gridcolor\": \"white\", \"linecolor\": \"white\", \"minorgridcolor\": \"white\", \"startlinecolor\": \"#2a3f5f\"}, \"baxis\": {\"endlinecolor\": \"#2a3f5f\", \"gridcolor\": \"white\", \"linecolor\": \"white\", \"minorgridcolor\": \"white\", \"startlinecolor\": \"#2a3f5f\"}, \"type\": \"carpet\"}], \"choropleth\": [{\"colorbar\": {\"outlinewidth\": 0, \"ticks\": \"\"}, \"type\": \"choropleth\"}], \"contour\": [{\"colorbar\": {\"outlinewidth\": 0, \"ticks\": \"\"}, \"colorscale\": [[0.0, \"#0d0887\"], [0.1111111111111111, \"#46039f\"], [0.2222222222222222, \"#7201a8\"], [0.3333333333333333, \"#9c179e\"], [0.4444444444444444, \"#bd3786\"], [0.5555555555555556, \"#d8576b\"], [0.6666666666666666, \"#ed7953\"], [0.7777777777777778, \"#fb9f3a\"], [0.8888888888888888, \"#fdca26\"], [1.0, \"#f0f921\"]], \"type\": \"contour\"}], \"contourcarpet\": [{\"colorbar\": {\"outlinewidth\": 0, \"ticks\": \"\"}, \"type\": \"contourcarpet\"}], \"heatmap\": [{\"colorbar\": {\"outlinewidth\": 0, \"ticks\": \"\"}, \"colorscale\": [[0.0, \"#0d0887\"], [0.1111111111111111, \"#46039f\"], [0.2222222222222222, \"#7201a8\"], [0.3333333333333333, \"#9c179e\"], [0.4444444444444444, \"#bd3786\"], [0.5555555555555556, \"#d8576b\"], [0.6666666666666666, \"#ed7953\"], [0.7777777777777778, \"#fb9f3a\"], [0.8888888888888888, \"#fdca26\"], [1.0, \"#f0f921\"]], \"type\": \"heatmap\"}], \"heatmapgl\": [{\"colorbar\": {\"outlinewidth\": 0, \"ticks\": \"\"}, \"colorscale\": [[0.0, \"#0d0887\"], [0.1111111111111111, \"#46039f\"], [0.2222222222222222, \"#7201a8\"], [0.3333333333333333, \"#9c179e\"], [0.4444444444444444, \"#bd3786\"], [0.5555555555555556, \"#d8576b\"], [0.6666666666666666, \"#ed7953\"], [0.7777777777777778, \"#fb9f3a\"], [0.8888888888888888, \"#fdca26\"], [1.0, \"#f0f921\"]], \"type\": \"heatmapgl\"}], \"histogram\": [{\"marker\": {\"colorbar\": {\"outlinewidth\": 0, \"ticks\": \"\"}}, \"type\": \"histogram\"}], \"histogram2d\": [{\"colorbar\": {\"outlinewidth\": 0, \"ticks\": \"\"}, \"colorscale\": [[0.0, \"#0d0887\"], [0.1111111111111111, \"#46039f\"], [0.2222222222222222, \"#7201a8\"], [0.3333333333333333, \"#9c179e\"], [0.4444444444444444, \"#bd3786\"], [0.5555555555555556, \"#d8576b\"], [0.6666666666666666, \"#ed7953\"], [0.7777777777777778, \"#fb9f3a\"], [0.8888888888888888, \"#fdca26\"], [1.0, \"#f0f921\"]], \"type\": \"histogram2d\"}], \"histogram2dcontour\": [{\"colorbar\": {\"outlinewidth\": 0, \"ticks\": \"\"}, \"colorscale\": [[0.0, \"#0d0887\"], [0.1111111111111111, \"#46039f\"], [0.2222222222222222, \"#7201a8\"], [0.3333333333333333, \"#9c179e\"], [0.4444444444444444, \"#bd3786\"], [0.5555555555555556, \"#d8576b\"], [0.6666666666666666, \"#ed7953\"], [0.7777777777777778, \"#fb9f3a\"], [0.8888888888888888, \"#fdca26\"], [1.0, \"#f0f921\"]], \"type\": \"histogram2dcontour\"}], \"mesh3d\": [{\"colorbar\": {\"outlinewidth\": 0, \"ticks\": \"\"}, \"type\": \"mesh3d\"}], \"parcoords\": [{\"line\": {\"colorbar\": {\"outlinewidth\": 0, \"ticks\": \"\"}}, \"type\": \"parcoords\"}], \"pie\": [{\"automargin\": true, \"type\": \"pie\"}], \"scatter\": [{\"marker\": {\"colorbar\": {\"outlinewidth\": 0, \"ticks\": \"\"}}, \"type\": \"scatter\"}], \"scatter3d\": [{\"line\": {\"colorbar\": {\"outlinewidth\": 0, \"ticks\": \"\"}}, \"marker\": {\"colorbar\": {\"outlinewidth\": 0, \"ticks\": \"\"}}, \"type\": \"scatter3d\"}], \"scattercarpet\": [{\"marker\": {\"colorbar\": {\"outlinewidth\": 0, \"ticks\": \"\"}}, \"type\": \"scattercarpet\"}], \"scattergeo\": [{\"marker\": {\"colorbar\": {\"outlinewidth\": 0, \"ticks\": \"\"}}, \"type\": \"scattergeo\"}], \"scattergl\": [{\"marker\": {\"colorbar\": {\"outlinewidth\": 0, \"ticks\": \"\"}}, \"type\": \"scattergl\"}], \"scattermapbox\": [{\"marker\": {\"colorbar\": {\"outlinewidth\": 0, \"ticks\": \"\"}}, \"type\": \"scattermapbox\"}], \"scatterpolar\": [{\"marker\": {\"colorbar\": {\"outlinewidth\": 0, \"ticks\": \"\"}}, \"type\": \"scatterpolar\"}], \"scatterpolargl\": [{\"marker\": {\"colorbar\": {\"outlinewidth\": 0, \"ticks\": \"\"}}, \"type\": \"scatterpolargl\"}], \"scatterternary\": [{\"marker\": {\"colorbar\": {\"outlinewidth\": 0, \"ticks\": \"\"}}, \"type\": \"scatterternary\"}], \"surface\": [{\"colorbar\": {\"outlinewidth\": 0, \"ticks\": \"\"}, \"colorscale\": [[0.0, \"#0d0887\"], [0.1111111111111111, \"#46039f\"], [0.2222222222222222, \"#7201a8\"], [0.3333333333333333, \"#9c179e\"], [0.4444444444444444, \"#bd3786\"], [0.5555555555555556, \"#d8576b\"], [0.6666666666666666, \"#ed7953\"], [0.7777777777777778, \"#fb9f3a\"], [0.8888888888888888, \"#fdca26\"], [1.0, \"#f0f921\"]], \"type\": \"surface\"}], \"table\": [{\"cells\": {\"fill\": {\"color\": \"#EBF0F8\"}, \"line\": {\"color\": \"white\"}}, \"header\": {\"fill\": {\"color\": \"#C8D4E3\"}, \"line\": {\"color\": \"white\"}}, \"type\": \"table\"}]}, \"layout\": {\"annotationdefaults\": {\"arrowcolor\": \"#2a3f5f\", \"arrowhead\": 0, \"arrowwidth\": 1}, \"coloraxis\": {\"colorbar\": {\"outlinewidth\": 0, \"ticks\": \"\"}}, \"colorscale\": {\"diverging\": [[0, \"#8e0152\"], [0.1, \"#c51b7d\"], [0.2, \"#de77ae\"], [0.3, \"#f1b6da\"], [0.4, \"#fde0ef\"], [0.5, \"#f7f7f7\"], [0.6, \"#e6f5d0\"], [0.7, \"#b8e186\"], [0.8, \"#7fbc41\"], [0.9, \"#4d9221\"], [1, \"#276419\"]], \"sequential\": [[0.0, \"#0d0887\"], [0.1111111111111111, \"#46039f\"], [0.2222222222222222, \"#7201a8\"], [0.3333333333333333, \"#9c179e\"], [0.4444444444444444, \"#bd3786\"], [0.5555555555555556, \"#d8576b\"], [0.6666666666666666, \"#ed7953\"], [0.7777777777777778, \"#fb9f3a\"], [0.8888888888888888, \"#fdca26\"], [1.0, \"#f0f921\"]], \"sequentialminus\": [[0.0, \"#0d0887\"], [0.1111111111111111, \"#46039f\"], [0.2222222222222222, \"#7201a8\"], [0.3333333333333333, \"#9c179e\"], [0.4444444444444444, \"#bd3786\"], [0.5555555555555556, \"#d8576b\"], [0.6666666666666666, \"#ed7953\"], [0.7777777777777778, \"#fb9f3a\"], [0.8888888888888888, \"#fdca26\"], [1.0, \"#f0f921\"]]}, \"colorway\": [\"#636efa\", \"#EF553B\", \"#00cc96\", \"#ab63fa\", \"#FFA15A\", \"#19d3f3\", \"#FF6692\", \"#B6E880\", \"#FF97FF\", \"#FECB52\"], \"font\": {\"color\": \"#2a3f5f\"}, \"geo\": {\"bgcolor\": \"white\", \"lakecolor\": \"white\", \"landcolor\": \"#E5ECF6\", \"showlakes\": true, \"showland\": true, \"subunitcolor\": \"white\"}, \"hoverlabel\": {\"align\": \"left\"}, \"hovermode\": \"closest\", \"mapbox\": {\"style\": \"light\"}, \"paper_bgcolor\": \"white\", \"plot_bgcolor\": \"#E5ECF6\", \"polar\": {\"angularaxis\": {\"gridcolor\": \"white\", \"linecolor\": \"white\", \"ticks\": \"\"}, \"bgcolor\": \"#E5ECF6\", \"radialaxis\": {\"gridcolor\": \"white\", \"linecolor\": \"white\", \"ticks\": \"\"}}, \"scene\": {\"xaxis\": {\"backgroundcolor\": \"#E5ECF6\", \"gridcolor\": \"white\", \"gridwidth\": 2, \"linecolor\": \"white\", \"showbackground\": true, \"ticks\": \"\", \"zerolinecolor\": \"white\"}, \"yaxis\": {\"backgroundcolor\": \"#E5ECF6\", \"gridcolor\": \"white\", \"gridwidth\": 2, \"linecolor\": \"white\", \"showbackground\": true, \"ticks\": \"\", \"zerolinecolor\": \"white\"}, \"zaxis\": {\"backgroundcolor\": \"#E5ECF6\", \"gridcolor\": \"white\", \"gridwidth\": 2, \"linecolor\": \"white\", \"showbackground\": true, \"ticks\": \"\", \"zerolinecolor\": \"white\"}}, \"shapedefaults\": {\"line\": {\"color\": \"#2a3f5f\"}}, \"ternary\": {\"aaxis\": {\"gridcolor\": \"white\", \"linecolor\": \"white\", \"ticks\": \"\"}, \"baxis\": {\"gridcolor\": \"white\", \"linecolor\": \"white\", \"ticks\": \"\"}, \"bgcolor\": \"#E5ECF6\", \"caxis\": {\"gridcolor\": \"white\", \"linecolor\": \"white\", \"ticks\": \"\"}}, \"title\": {\"x\": 0.05}, \"xaxis\": {\"automargin\": true, \"gridcolor\": \"white\", \"linecolor\": \"white\", \"ticks\": \"\", \"title\": {\"standoff\": 15}, \"zerolinecolor\": \"white\", \"zerolinewidth\": 2}, \"yaxis\": {\"automargin\": true, \"gridcolor\": \"white\", \"linecolor\": \"white\", \"ticks\": \"\", \"title\": {\"standoff\": 15}, \"zerolinecolor\": \"white\", \"zerolinewidth\": 2}}}, \"title\": {\"font\": {\"color\": \"#4D5663\"}}, \"xaxis\": {\"gridcolor\": \"#E1E5ED\", \"showgrid\": true, \"tickfont\": {\"color\": \"#4D5663\"}, \"title\": {\"font\": {\"color\": \"#4D5663\"}, \"text\": \"\"}, \"zerolinecolor\": \"#E1E5ED\"}, \"yaxis\": {\"gridcolor\": \"#E1E5ED\", \"showgrid\": true, \"tickfont\": {\"color\": \"#4D5663\"}, \"title\": {\"font\": {\"color\": \"#4D5663\"}, \"text\": \"\"}, \"zerolinecolor\": \"#E1E5ED\"}},\n",
       "                        {\"showLink\": true, \"linkText\": \"Export to plot.ly\", \"plotlyServerURL\": \"https://plot.ly\", \"responsive\": true}\n",
       "                    ).then(function(){\n",
       "                            \n",
       "var gd = document.getElementById('9838be9e-0db3-4998-a3ca-024299cc69db');\n",
       "var x = new MutationObserver(function (mutations, observer) {{\n",
       "        var display = window.getComputedStyle(gd).display;\n",
       "        if (!display || display === 'none') {{\n",
       "            console.log([gd, 'removed!']);\n",
       "            Plotly.purge(gd);\n",
       "            observer.disconnect();\n",
       "        }}\n",
       "}});\n",
       "\n",
       "// Listen for the removal of the full notebook cells\n",
       "var notebookContainer = gd.closest('#notebook-container');\n",
       "if (notebookContainer) {{\n",
       "    x.observe(notebookContainer, {childList: true});\n",
       "}}\n",
       "\n",
       "// Listen for the clearing of the current output cell\n",
       "var outputEl = gd.closest('.output');\n",
       "if (outputEl) {{\n",
       "    x.observe(outputEl, {childList: true});\n",
       "}}\n",
       "\n",
       "                        })\n",
       "                };\n",
       "                });\n",
       "            </script>\n",
       "        </div>"
      ]
     },
     "metadata": {},
     "output_type": "display_data"
    }
   ],
   "source": [
    "df['A'].iplot(kind='hist',bins=25)"
   ]
  },
  {
   "cell_type": "code",
   "execution_count": 23,
   "metadata": {},
   "outputs": [
    {
     "data": {
      "application/vnd.plotly.v1+json": {
       "config": {
        "linkText": "Export to plot.ly",
        "plotlyServerURL": "https://plot.ly",
        "showLink": true
       },
       "data": [
        {
         "marker": {
          "color": [
           "rgb(255, 153, 51)",
           "rgb(55, 128, 191)",
           "rgb(50, 171, 96)",
           "rgb(128, 0, 128)",
           "rgb(219, 64, 82)",
           "rgb(0, 128, 128)",
           "rgb(255, 255, 51)",
           "rgb(128, 128, 0)",
           "rgb(251, 128, 114)",
           "rgb(128, 177, 211)"
          ],
          "line": {
           "width": 1.3
          },
          "size": [
           58,
           41,
           40,
           86,
           53,
           48,
           56,
           76,
           106,
           79,
           41,
           78,
           71,
           74,
           24,
           112,
           62,
           82,
           56,
           49,
           48,
           58,
           61,
           75,
           50,
           66,
           95,
           36,
           76,
           78,
           104,
           49,
           102,
           65,
           62,
           45,
           45,
           111,
           62,
           76,
           109,
           40,
           73,
           55,
           105,
           86,
           64,
           59,
           67,
           28,
           49,
           100,
           99,
           82,
           50,
           105,
           74,
           63,
           52,
           65,
           76,
           40,
           26,
           59,
           77,
           66,
           67,
           62,
           39,
           86,
           47,
           67,
           107,
           72,
           65,
           19,
           93,
           66,
           90,
           61,
           57,
           59,
           47,
           75,
           71,
           92,
           65,
           27,
           84,
           45,
           12,
           50,
           60,
           81,
           104,
           76,
           80,
           86,
           83,
           36
          ],
          "symbol": "circle"
         },
         "mode": "markers",
         "text": "",
         "type": "scatter",
         "x": [
          -1.4138153976580274,
          0.08455022128887005,
          1.5471984510871117,
          1.6967637029976672,
          -0.7507050193197625,
          0.6144492892274529,
          0.10523618232753329,
          1.207121390424313,
          1.7326766078557791,
          -0.21328491944561068,
          2.008579499791018,
          0.21547481593456028,
          0.3808402686537413,
          -0.06092935790697329,
          0.8370766754499239,
          0.8274287807229304,
          -0.4126127693231269,
          -0.16929922544402398,
          0.7208595301409876,
          0.7733136383374829,
          -0.28892514206321673,
          -0.8762071774130635,
          -0.80619652439963,
          1.2305229116274847,
          -0.38858088186267853,
          0.7897841741518612,
          -0.8489199189374191,
          -1.3654506088764375,
          0.48549328430965677,
          0.35924680412438875,
          1.1114054429854745,
          0.0886027064970111,
          -0.4636103442398656,
          -0.20840951954222545,
          0.1405922012276346,
          -0.24064485943761077,
          -0.8334111091782375,
          1.842590317603657,
          -0.3371466088321572,
          -0.2034175748337479,
          -2.3459567831821633,
          -0.4017961959202484,
          0.4723198933313565,
          0.7501448239663938,
          -1.0693669073862617,
          1.5986290804606074,
          -0.24461314844453189,
          0.10368147740607012,
          -1.4969890118186504,
          -0.12435682418267893,
          1.274839898045271,
          -0.5169915646947392,
          -1.0712305609778643,
          -0.48659733893741813,
          0.3587922256913342,
          1.0999910285647592,
          0.9149839476261293,
          -0.486099575812348,
          -0.7608301228828495,
          -0.43453947979910407,
          -0.4378707689182603,
          0.01856409953642223,
          0.3832610655005692,
          -2.0933524665046948,
          1.7283265223487883,
          0.9869190365137367,
          0.40571454260259016,
          -0.5152470857611197,
          0.8786939279620871,
          0.4279175871191947,
          -2.601024184701134,
          -0.683284735855935,
          0.849927363712278,
          0.8857275580349077,
          1.2882816361582505,
          -0.519059352346447,
          -0.6904750615623734,
          0.8241614462286408,
          -0.46459047977908063,
          0.11913998254705363,
          0.13758868739779878,
          0.24332496851049237,
          0.018205797429998904,
          0.358933107643315,
          1.1315519087511798,
          -0.7637852405135656,
          0.3135604813218632,
          0.2377824938105682,
          1.2657677242286454,
          0.7290062940756441,
          0.6480948280599899,
          -0.1565135938137894,
          0.4133359631767297,
          0.7647690463317591,
          -1.4126303876542592,
          -0.24760521350475748,
          1.5285367941102805,
          -1.1365724953019072,
          0.21258239309873145,
          1.4010067851622496
         ],
         "y": [
          0.6307750025445071,
          2.1165649393990944,
          -0.13402531428069492,
          -1.0980616376530266,
          -2.434586496069079,
          -1.3053078896558565,
          -0.07090686858487011,
          0.2058256171970834,
          -0.399262838679452,
          -0.14038606848181132,
          0.9187536646281099,
          -0.8442053961123566,
          -0.2203312366099077,
          0.6148352056947539,
          0.5487157074264113,
          -0.8815647579995127,
          -0.34319730713674246,
          -1.0520874575465975,
          -0.5654422884296576,
          -0.09868497816887367,
          -0.4968289089377307,
          0.2716017943118359,
          0.9226989164424838,
          -0.5239432560546522,
          -0.8805108560299565,
          1.0291913615050854,
          -0.09431283356381821,
          -0.9703360343139987,
          0.47166862549484884,
          -1.2700349012817091,
          0.413275586679944,
          -0.04254191220658984,
          -0.3338980359576901,
          -0.675195513492032,
          1.550294420863555,
          1.1516766730039087,
          0.6535287491249111,
          0.6144648993585563,
          0.789565666569126,
          -0.3433168130690615,
          -0.05275694170220859,
          0.3020462133498991,
          -0.06943522706603063,
          -0.35192362829665536,
          0.6126596333884724,
          1.5578365933599612,
          -0.1253060804619179,
          -1.3902002070743285,
          -0.8174637537749673,
          0.11333678312936613,
          1.3356891122813224,
          0.19964929894159641,
          0.08236990727602006,
          1.2201019912024953,
          -0.5511844759854739,
          -0.8289846840857326,
          0.33884864688721744,
          1.0881768989607006,
          -0.7703403348773846,
          -0.2946516470282624,
          0.06536745681673374,
          0.7892622385305326,
          1.6351318760725766,
          -0.3738887659267329,
          0.5705852579762929,
          1.7567400703602254,
          1.5658507756576097,
          -0.32738934219238813,
          -3.4188171677438355,
          -0.8446793972616198,
          -0.0745933598454902,
          0.9009946023546918,
          0.04500369804380455,
          -0.16211529173578793,
          -1.612928599166473,
          -0.010132569394765995,
          0.17953472500659787,
          0.0064179642326903244,
          0.1326959809776376,
          1.946233101865483,
          0.03252092127965211,
          -0.5130179934757979,
          0.1429766964487547,
          -1.0395116288148776,
          -1.160703594319139,
          0.4435732597243696,
          1.5891745109922495,
          0.31166755938333734,
          -0.9900532640822058,
          0.6440787128368036,
          0.5558862615610557,
          0.2982157252903566,
          0.653861307961139,
          -0.9103614368183744,
          -0.20579788187733009,
          1.2582778382184772,
          -0.8122835465461327,
          -0.2767951603430714,
          -1.3958080501251722,
          0.6847098823556407
         ]
        }
       ],
       "layout": {
        "legend": {
         "bgcolor": "#F5F6F9",
         "font": {
          "color": "#4D5663"
         }
        },
        "paper_bgcolor": "#F5F6F9",
        "plot_bgcolor": "#F5F6F9",
        "template": {
         "data": {
          "bar": [
           {
            "error_x": {
             "color": "#2a3f5f"
            },
            "error_y": {
             "color": "#2a3f5f"
            },
            "marker": {
             "line": {
              "color": "#E5ECF6",
              "width": 0.5
             }
            },
            "type": "bar"
           }
          ],
          "barpolar": [
           {
            "marker": {
             "line": {
              "color": "#E5ECF6",
              "width": 0.5
             }
            },
            "type": "barpolar"
           }
          ],
          "carpet": [
           {
            "aaxis": {
             "endlinecolor": "#2a3f5f",
             "gridcolor": "white",
             "linecolor": "white",
             "minorgridcolor": "white",
             "startlinecolor": "#2a3f5f"
            },
            "baxis": {
             "endlinecolor": "#2a3f5f",
             "gridcolor": "white",
             "linecolor": "white",
             "minorgridcolor": "white",
             "startlinecolor": "#2a3f5f"
            },
            "type": "carpet"
           }
          ],
          "choropleth": [
           {
            "colorbar": {
             "outlinewidth": 0,
             "ticks": ""
            },
            "type": "choropleth"
           }
          ],
          "contour": [
           {
            "colorbar": {
             "outlinewidth": 0,
             "ticks": ""
            },
            "colorscale": [
             [
              0,
              "#0d0887"
             ],
             [
              0.1111111111111111,
              "#46039f"
             ],
             [
              0.2222222222222222,
              "#7201a8"
             ],
             [
              0.3333333333333333,
              "#9c179e"
             ],
             [
              0.4444444444444444,
              "#bd3786"
             ],
             [
              0.5555555555555556,
              "#d8576b"
             ],
             [
              0.6666666666666666,
              "#ed7953"
             ],
             [
              0.7777777777777778,
              "#fb9f3a"
             ],
             [
              0.8888888888888888,
              "#fdca26"
             ],
             [
              1,
              "#f0f921"
             ]
            ],
            "type": "contour"
           }
          ],
          "contourcarpet": [
           {
            "colorbar": {
             "outlinewidth": 0,
             "ticks": ""
            },
            "type": "contourcarpet"
           }
          ],
          "heatmap": [
           {
            "colorbar": {
             "outlinewidth": 0,
             "ticks": ""
            },
            "colorscale": [
             [
              0,
              "#0d0887"
             ],
             [
              0.1111111111111111,
              "#46039f"
             ],
             [
              0.2222222222222222,
              "#7201a8"
             ],
             [
              0.3333333333333333,
              "#9c179e"
             ],
             [
              0.4444444444444444,
              "#bd3786"
             ],
             [
              0.5555555555555556,
              "#d8576b"
             ],
             [
              0.6666666666666666,
              "#ed7953"
             ],
             [
              0.7777777777777778,
              "#fb9f3a"
             ],
             [
              0.8888888888888888,
              "#fdca26"
             ],
             [
              1,
              "#f0f921"
             ]
            ],
            "type": "heatmap"
           }
          ],
          "heatmapgl": [
           {
            "colorbar": {
             "outlinewidth": 0,
             "ticks": ""
            },
            "colorscale": [
             [
              0,
              "#0d0887"
             ],
             [
              0.1111111111111111,
              "#46039f"
             ],
             [
              0.2222222222222222,
              "#7201a8"
             ],
             [
              0.3333333333333333,
              "#9c179e"
             ],
             [
              0.4444444444444444,
              "#bd3786"
             ],
             [
              0.5555555555555556,
              "#d8576b"
             ],
             [
              0.6666666666666666,
              "#ed7953"
             ],
             [
              0.7777777777777778,
              "#fb9f3a"
             ],
             [
              0.8888888888888888,
              "#fdca26"
             ],
             [
              1,
              "#f0f921"
             ]
            ],
            "type": "heatmapgl"
           }
          ],
          "histogram": [
           {
            "marker": {
             "colorbar": {
              "outlinewidth": 0,
              "ticks": ""
             }
            },
            "type": "histogram"
           }
          ],
          "histogram2d": [
           {
            "colorbar": {
             "outlinewidth": 0,
             "ticks": ""
            },
            "colorscale": [
             [
              0,
              "#0d0887"
             ],
             [
              0.1111111111111111,
              "#46039f"
             ],
             [
              0.2222222222222222,
              "#7201a8"
             ],
             [
              0.3333333333333333,
              "#9c179e"
             ],
             [
              0.4444444444444444,
              "#bd3786"
             ],
             [
              0.5555555555555556,
              "#d8576b"
             ],
             [
              0.6666666666666666,
              "#ed7953"
             ],
             [
              0.7777777777777778,
              "#fb9f3a"
             ],
             [
              0.8888888888888888,
              "#fdca26"
             ],
             [
              1,
              "#f0f921"
             ]
            ],
            "type": "histogram2d"
           }
          ],
          "histogram2dcontour": [
           {
            "colorbar": {
             "outlinewidth": 0,
             "ticks": ""
            },
            "colorscale": [
             [
              0,
              "#0d0887"
             ],
             [
              0.1111111111111111,
              "#46039f"
             ],
             [
              0.2222222222222222,
              "#7201a8"
             ],
             [
              0.3333333333333333,
              "#9c179e"
             ],
             [
              0.4444444444444444,
              "#bd3786"
             ],
             [
              0.5555555555555556,
              "#d8576b"
             ],
             [
              0.6666666666666666,
              "#ed7953"
             ],
             [
              0.7777777777777778,
              "#fb9f3a"
             ],
             [
              0.8888888888888888,
              "#fdca26"
             ],
             [
              1,
              "#f0f921"
             ]
            ],
            "type": "histogram2dcontour"
           }
          ],
          "mesh3d": [
           {
            "colorbar": {
             "outlinewidth": 0,
             "ticks": ""
            },
            "type": "mesh3d"
           }
          ],
          "parcoords": [
           {
            "line": {
             "colorbar": {
              "outlinewidth": 0,
              "ticks": ""
             }
            },
            "type": "parcoords"
           }
          ],
          "pie": [
           {
            "automargin": true,
            "type": "pie"
           }
          ],
          "scatter": [
           {
            "marker": {
             "colorbar": {
              "outlinewidth": 0,
              "ticks": ""
             }
            },
            "type": "scatter"
           }
          ],
          "scatter3d": [
           {
            "line": {
             "colorbar": {
              "outlinewidth": 0,
              "ticks": ""
             }
            },
            "marker": {
             "colorbar": {
              "outlinewidth": 0,
              "ticks": ""
             }
            },
            "type": "scatter3d"
           }
          ],
          "scattercarpet": [
           {
            "marker": {
             "colorbar": {
              "outlinewidth": 0,
              "ticks": ""
             }
            },
            "type": "scattercarpet"
           }
          ],
          "scattergeo": [
           {
            "marker": {
             "colorbar": {
              "outlinewidth": 0,
              "ticks": ""
             }
            },
            "type": "scattergeo"
           }
          ],
          "scattergl": [
           {
            "marker": {
             "colorbar": {
              "outlinewidth": 0,
              "ticks": ""
             }
            },
            "type": "scattergl"
           }
          ],
          "scattermapbox": [
           {
            "marker": {
             "colorbar": {
              "outlinewidth": 0,
              "ticks": ""
             }
            },
            "type": "scattermapbox"
           }
          ],
          "scatterpolar": [
           {
            "marker": {
             "colorbar": {
              "outlinewidth": 0,
              "ticks": ""
             }
            },
            "type": "scatterpolar"
           }
          ],
          "scatterpolargl": [
           {
            "marker": {
             "colorbar": {
              "outlinewidth": 0,
              "ticks": ""
             }
            },
            "type": "scatterpolargl"
           }
          ],
          "scatterternary": [
           {
            "marker": {
             "colorbar": {
              "outlinewidth": 0,
              "ticks": ""
             }
            },
            "type": "scatterternary"
           }
          ],
          "surface": [
           {
            "colorbar": {
             "outlinewidth": 0,
             "ticks": ""
            },
            "colorscale": [
             [
              0,
              "#0d0887"
             ],
             [
              0.1111111111111111,
              "#46039f"
             ],
             [
              0.2222222222222222,
              "#7201a8"
             ],
             [
              0.3333333333333333,
              "#9c179e"
             ],
             [
              0.4444444444444444,
              "#bd3786"
             ],
             [
              0.5555555555555556,
              "#d8576b"
             ],
             [
              0.6666666666666666,
              "#ed7953"
             ],
             [
              0.7777777777777778,
              "#fb9f3a"
             ],
             [
              0.8888888888888888,
              "#fdca26"
             ],
             [
              1,
              "#f0f921"
             ]
            ],
            "type": "surface"
           }
          ],
          "table": [
           {
            "cells": {
             "fill": {
              "color": "#EBF0F8"
             },
             "line": {
              "color": "white"
             }
            },
            "header": {
             "fill": {
              "color": "#C8D4E3"
             },
             "line": {
              "color": "white"
             }
            },
            "type": "table"
           }
          ]
         },
         "layout": {
          "annotationdefaults": {
           "arrowcolor": "#2a3f5f",
           "arrowhead": 0,
           "arrowwidth": 1
          },
          "coloraxis": {
           "colorbar": {
            "outlinewidth": 0,
            "ticks": ""
           }
          },
          "colorscale": {
           "diverging": [
            [
             0,
             "#8e0152"
            ],
            [
             0.1,
             "#c51b7d"
            ],
            [
             0.2,
             "#de77ae"
            ],
            [
             0.3,
             "#f1b6da"
            ],
            [
             0.4,
             "#fde0ef"
            ],
            [
             0.5,
             "#f7f7f7"
            ],
            [
             0.6,
             "#e6f5d0"
            ],
            [
             0.7,
             "#b8e186"
            ],
            [
             0.8,
             "#7fbc41"
            ],
            [
             0.9,
             "#4d9221"
            ],
            [
             1,
             "#276419"
            ]
           ],
           "sequential": [
            [
             0,
             "#0d0887"
            ],
            [
             0.1111111111111111,
             "#46039f"
            ],
            [
             0.2222222222222222,
             "#7201a8"
            ],
            [
             0.3333333333333333,
             "#9c179e"
            ],
            [
             0.4444444444444444,
             "#bd3786"
            ],
            [
             0.5555555555555556,
             "#d8576b"
            ],
            [
             0.6666666666666666,
             "#ed7953"
            ],
            [
             0.7777777777777778,
             "#fb9f3a"
            ],
            [
             0.8888888888888888,
             "#fdca26"
            ],
            [
             1,
             "#f0f921"
            ]
           ],
           "sequentialminus": [
            [
             0,
             "#0d0887"
            ],
            [
             0.1111111111111111,
             "#46039f"
            ],
            [
             0.2222222222222222,
             "#7201a8"
            ],
            [
             0.3333333333333333,
             "#9c179e"
            ],
            [
             0.4444444444444444,
             "#bd3786"
            ],
            [
             0.5555555555555556,
             "#d8576b"
            ],
            [
             0.6666666666666666,
             "#ed7953"
            ],
            [
             0.7777777777777778,
             "#fb9f3a"
            ],
            [
             0.8888888888888888,
             "#fdca26"
            ],
            [
             1,
             "#f0f921"
            ]
           ]
          },
          "colorway": [
           "#636efa",
           "#EF553B",
           "#00cc96",
           "#ab63fa",
           "#FFA15A",
           "#19d3f3",
           "#FF6692",
           "#B6E880",
           "#FF97FF",
           "#FECB52"
          ],
          "font": {
           "color": "#2a3f5f"
          },
          "geo": {
           "bgcolor": "white",
           "lakecolor": "white",
           "landcolor": "#E5ECF6",
           "showlakes": true,
           "showland": true,
           "subunitcolor": "white"
          },
          "hoverlabel": {
           "align": "left"
          },
          "hovermode": "closest",
          "mapbox": {
           "style": "light"
          },
          "paper_bgcolor": "white",
          "plot_bgcolor": "#E5ECF6",
          "polar": {
           "angularaxis": {
            "gridcolor": "white",
            "linecolor": "white",
            "ticks": ""
           },
           "bgcolor": "#E5ECF6",
           "radialaxis": {
            "gridcolor": "white",
            "linecolor": "white",
            "ticks": ""
           }
          },
          "scene": {
           "xaxis": {
            "backgroundcolor": "#E5ECF6",
            "gridcolor": "white",
            "gridwidth": 2,
            "linecolor": "white",
            "showbackground": true,
            "ticks": "",
            "zerolinecolor": "white"
           },
           "yaxis": {
            "backgroundcolor": "#E5ECF6",
            "gridcolor": "white",
            "gridwidth": 2,
            "linecolor": "white",
            "showbackground": true,
            "ticks": "",
            "zerolinecolor": "white"
           },
           "zaxis": {
            "backgroundcolor": "#E5ECF6",
            "gridcolor": "white",
            "gridwidth": 2,
            "linecolor": "white",
            "showbackground": true,
            "ticks": "",
            "zerolinecolor": "white"
           }
          },
          "shapedefaults": {
           "line": {
            "color": "#2a3f5f"
           }
          },
          "ternary": {
           "aaxis": {
            "gridcolor": "white",
            "linecolor": "white",
            "ticks": ""
           },
           "baxis": {
            "gridcolor": "white",
            "linecolor": "white",
            "ticks": ""
           },
           "bgcolor": "#E5ECF6",
           "caxis": {
            "gridcolor": "white",
            "linecolor": "white",
            "ticks": ""
           }
          },
          "title": {
           "x": 0.05
          },
          "xaxis": {
           "automargin": true,
           "gridcolor": "white",
           "linecolor": "white",
           "ticks": "",
           "title": {
            "standoff": 15
           },
           "zerolinecolor": "white",
           "zerolinewidth": 2
          },
          "yaxis": {
           "automargin": true,
           "gridcolor": "white",
           "linecolor": "white",
           "ticks": "",
           "title": {
            "standoff": 15
           },
           "zerolinecolor": "white",
           "zerolinewidth": 2
          }
         }
        },
        "title": {
         "font": {
          "color": "#4D5663"
         }
        },
        "xaxis": {
         "gridcolor": "#E1E5ED",
         "showgrid": true,
         "tickfont": {
          "color": "#4D5663"
         },
         "title": {
          "font": {
           "color": "#4D5663"
          },
          "text": ""
         },
         "zerolinecolor": "#E1E5ED"
        },
        "yaxis": {
         "gridcolor": "#E1E5ED",
         "showgrid": true,
         "tickfont": {
          "color": "#4D5663"
         },
         "title": {
          "font": {
           "color": "#4D5663"
          },
          "text": ""
         },
         "zerolinecolor": "#E1E5ED"
        }
       }
      },
      "text/html": [
       "<div>\n",
       "        \n",
       "        \n",
       "            <div id=\"ede28750-84b6-4aa9-8e53-e2890e039d23\" class=\"plotly-graph-div\" style=\"height:525px; width:100%;\"></div>\n",
       "            <script type=\"text/javascript\">\n",
       "                require([\"plotly\"], function(Plotly) {\n",
       "                    window.PLOTLYENV=window.PLOTLYENV || {};\n",
       "                    window.PLOTLYENV.BASE_URL='https://plot.ly';\n",
       "                    \n",
       "                if (document.getElementById(\"ede28750-84b6-4aa9-8e53-e2890e039d23\")) {\n",
       "                    Plotly.newPlot(\n",
       "                        'ede28750-84b6-4aa9-8e53-e2890e039d23',\n",
       "                        [{\"marker\": {\"color\": [\"rgb(255, 153, 51)\", \"rgb(55, 128, 191)\", \"rgb(50, 171, 96)\", \"rgb(128, 0, 128)\", \"rgb(219, 64, 82)\", \"rgb(0, 128, 128)\", \"rgb(255, 255, 51)\", \"rgb(128, 128, 0)\", \"rgb(251, 128, 114)\", \"rgb(128, 177, 211)\"], \"line\": {\"width\": 1.3}, \"size\": [58, 41, 40, 86, 53, 48, 56, 76, 106, 79, 41, 78, 71, 74, 24, 112, 62, 82, 56, 49, 48, 58, 61, 75, 50, 66, 95, 36, 76, 78, 104, 49, 102, 65, 62, 45, 45, 111, 62, 76, 109, 40, 73, 55, 105, 86, 64, 59, 67, 28, 49, 100, 99, 82, 50, 105, 74, 63, 52, 65, 76, 40, 26, 59, 77, 66, 67, 62, 39, 86, 47, 67, 107, 72, 65, 19, 93, 66, 90, 61, 57, 59, 47, 75, 71, 92, 65, 27, 84, 45, 12, 50, 60, 81, 104, 76, 80, 86, 83, 36], \"symbol\": \"circle\"}, \"mode\": \"markers\", \"text\": \"\", \"type\": \"scatter\", \"x\": [-1.4138153976580274, 0.08455022128887005, 1.5471984510871117, 1.6967637029976672, -0.7507050193197625, 0.6144492892274529, 0.10523618232753329, 1.207121390424313, 1.7326766078557791, -0.21328491944561068, 2.008579499791018, 0.21547481593456028, 0.3808402686537413, -0.06092935790697329, 0.8370766754499239, 0.8274287807229304, -0.4126127693231269, -0.16929922544402398, 0.7208595301409876, 0.7733136383374829, -0.28892514206321673, -0.8762071774130635, -0.80619652439963, 1.2305229116274847, -0.38858088186267853, 0.7897841741518612, -0.8489199189374191, -1.3654506088764375, 0.48549328430965677, 0.35924680412438875, 1.1114054429854745, 0.0886027064970111, -0.4636103442398656, -0.20840951954222545, 0.1405922012276346, -0.24064485943761077, -0.8334111091782375, 1.842590317603657, -0.3371466088321572, -0.2034175748337479, -2.3459567831821633, -0.4017961959202484, 0.4723198933313565, 0.7501448239663938, -1.0693669073862617, 1.5986290804606074, -0.24461314844453189, 0.10368147740607012, -1.4969890118186504, -0.12435682418267893, 1.274839898045271, -0.5169915646947392, -1.0712305609778643, -0.48659733893741813, 0.3587922256913342, 1.0999910285647592, 0.9149839476261293, -0.486099575812348, -0.7608301228828495, -0.43453947979910407, -0.4378707689182603, 0.01856409953642223, 0.3832610655005692, -2.0933524665046948, 1.7283265223487883, 0.9869190365137367, 0.40571454260259016, -0.5152470857611197, 0.8786939279620871, 0.4279175871191947, -2.601024184701134, -0.683284735855935, 0.849927363712278, 0.8857275580349077, 1.2882816361582505, -0.519059352346447, -0.6904750615623734, 0.8241614462286408, -0.46459047977908063, 0.11913998254705363, 0.13758868739779878, 0.24332496851049237, 0.018205797429998904, 0.358933107643315, 1.1315519087511798, -0.7637852405135656, 0.3135604813218632, 0.2377824938105682, 1.2657677242286454, 0.7290062940756441, 0.6480948280599899, -0.1565135938137894, 0.4133359631767297, 0.7647690463317591, -1.4126303876542592, -0.24760521350475748, 1.5285367941102805, -1.1365724953019072, 0.21258239309873145, 1.4010067851622496], \"y\": [0.6307750025445071, 2.1165649393990944, -0.13402531428069492, -1.0980616376530266, -2.434586496069079, -1.3053078896558565, -0.07090686858487011, 0.2058256171970834, -0.399262838679452, -0.14038606848181132, 0.9187536646281099, -0.8442053961123566, -0.2203312366099077, 0.6148352056947539, 0.5487157074264113, -0.8815647579995127, -0.34319730713674246, -1.0520874575465975, -0.5654422884296576, -0.09868497816887367, -0.4968289089377307, 0.2716017943118359, 0.9226989164424838, -0.5239432560546522, -0.8805108560299565, 1.0291913615050854, -0.09431283356381821, -0.9703360343139987, 0.47166862549484884, -1.2700349012817091, 0.413275586679944, -0.04254191220658984, -0.3338980359576901, -0.675195513492032, 1.550294420863555, 1.1516766730039087, 0.6535287491249111, 0.6144648993585563, 0.789565666569126, -0.3433168130690615, -0.05275694170220859, 0.3020462133498991, -0.06943522706603063, -0.35192362829665536, 0.6126596333884724, 1.5578365933599612, -0.1253060804619179, -1.3902002070743285, -0.8174637537749673, 0.11333678312936613, 1.3356891122813224, 0.19964929894159641, 0.08236990727602006, 1.2201019912024953, -0.5511844759854739, -0.8289846840857326, 0.33884864688721744, 1.0881768989607006, -0.7703403348773846, -0.2946516470282624, 0.06536745681673374, 0.7892622385305326, 1.6351318760725766, -0.3738887659267329, 0.5705852579762929, 1.7567400703602254, 1.5658507756576097, -0.32738934219238813, -3.4188171677438355, -0.8446793972616198, -0.0745933598454902, 0.9009946023546918, 0.04500369804380455, -0.16211529173578793, -1.612928599166473, -0.010132569394765995, 0.17953472500659787, 0.0064179642326903244, 0.1326959809776376, 1.946233101865483, 0.03252092127965211, -0.5130179934757979, 0.1429766964487547, -1.0395116288148776, -1.160703594319139, 0.4435732597243696, 1.5891745109922495, 0.31166755938333734, -0.9900532640822058, 0.6440787128368036, 0.5558862615610557, 0.2982157252903566, 0.653861307961139, -0.9103614368183744, -0.20579788187733009, 1.2582778382184772, -0.8122835465461327, -0.2767951603430714, -1.3958080501251722, 0.6847098823556407]}],\n",
       "                        {\"legend\": {\"bgcolor\": \"#F5F6F9\", \"font\": {\"color\": \"#4D5663\"}}, \"paper_bgcolor\": \"#F5F6F9\", \"plot_bgcolor\": \"#F5F6F9\", \"template\": {\"data\": {\"bar\": [{\"error_x\": {\"color\": \"#2a3f5f\"}, \"error_y\": {\"color\": \"#2a3f5f\"}, \"marker\": {\"line\": {\"color\": \"#E5ECF6\", \"width\": 0.5}}, \"type\": \"bar\"}], \"barpolar\": [{\"marker\": {\"line\": {\"color\": \"#E5ECF6\", \"width\": 0.5}}, \"type\": \"barpolar\"}], \"carpet\": [{\"aaxis\": {\"endlinecolor\": \"#2a3f5f\", \"gridcolor\": \"white\", \"linecolor\": \"white\", \"minorgridcolor\": \"white\", \"startlinecolor\": \"#2a3f5f\"}, \"baxis\": {\"endlinecolor\": \"#2a3f5f\", \"gridcolor\": \"white\", \"linecolor\": \"white\", \"minorgridcolor\": \"white\", \"startlinecolor\": \"#2a3f5f\"}, \"type\": \"carpet\"}], \"choropleth\": [{\"colorbar\": {\"outlinewidth\": 0, \"ticks\": \"\"}, \"type\": \"choropleth\"}], \"contour\": [{\"colorbar\": {\"outlinewidth\": 0, \"ticks\": \"\"}, \"colorscale\": [[0.0, \"#0d0887\"], [0.1111111111111111, \"#46039f\"], [0.2222222222222222, \"#7201a8\"], [0.3333333333333333, \"#9c179e\"], [0.4444444444444444, \"#bd3786\"], [0.5555555555555556, \"#d8576b\"], [0.6666666666666666, \"#ed7953\"], [0.7777777777777778, \"#fb9f3a\"], [0.8888888888888888, \"#fdca26\"], [1.0, \"#f0f921\"]], \"type\": \"contour\"}], \"contourcarpet\": [{\"colorbar\": {\"outlinewidth\": 0, \"ticks\": \"\"}, \"type\": \"contourcarpet\"}], \"heatmap\": [{\"colorbar\": {\"outlinewidth\": 0, \"ticks\": \"\"}, \"colorscale\": [[0.0, \"#0d0887\"], [0.1111111111111111, \"#46039f\"], [0.2222222222222222, \"#7201a8\"], [0.3333333333333333, \"#9c179e\"], [0.4444444444444444, \"#bd3786\"], [0.5555555555555556, \"#d8576b\"], [0.6666666666666666, \"#ed7953\"], [0.7777777777777778, \"#fb9f3a\"], [0.8888888888888888, \"#fdca26\"], [1.0, \"#f0f921\"]], \"type\": \"heatmap\"}], \"heatmapgl\": [{\"colorbar\": {\"outlinewidth\": 0, \"ticks\": \"\"}, \"colorscale\": [[0.0, \"#0d0887\"], [0.1111111111111111, \"#46039f\"], [0.2222222222222222, \"#7201a8\"], [0.3333333333333333, \"#9c179e\"], [0.4444444444444444, \"#bd3786\"], [0.5555555555555556, \"#d8576b\"], [0.6666666666666666, \"#ed7953\"], [0.7777777777777778, \"#fb9f3a\"], [0.8888888888888888, \"#fdca26\"], [1.0, \"#f0f921\"]], \"type\": \"heatmapgl\"}], \"histogram\": [{\"marker\": {\"colorbar\": {\"outlinewidth\": 0, \"ticks\": \"\"}}, \"type\": \"histogram\"}], \"histogram2d\": [{\"colorbar\": {\"outlinewidth\": 0, \"ticks\": \"\"}, \"colorscale\": [[0.0, \"#0d0887\"], [0.1111111111111111, \"#46039f\"], [0.2222222222222222, \"#7201a8\"], [0.3333333333333333, \"#9c179e\"], [0.4444444444444444, \"#bd3786\"], [0.5555555555555556, \"#d8576b\"], [0.6666666666666666, \"#ed7953\"], [0.7777777777777778, \"#fb9f3a\"], [0.8888888888888888, \"#fdca26\"], [1.0, \"#f0f921\"]], \"type\": \"histogram2d\"}], \"histogram2dcontour\": [{\"colorbar\": {\"outlinewidth\": 0, \"ticks\": \"\"}, \"colorscale\": [[0.0, \"#0d0887\"], [0.1111111111111111, \"#46039f\"], [0.2222222222222222, \"#7201a8\"], [0.3333333333333333, \"#9c179e\"], [0.4444444444444444, \"#bd3786\"], [0.5555555555555556, \"#d8576b\"], [0.6666666666666666, \"#ed7953\"], [0.7777777777777778, \"#fb9f3a\"], [0.8888888888888888, \"#fdca26\"], [1.0, \"#f0f921\"]], \"type\": \"histogram2dcontour\"}], \"mesh3d\": [{\"colorbar\": {\"outlinewidth\": 0, \"ticks\": \"\"}, \"type\": \"mesh3d\"}], \"parcoords\": [{\"line\": {\"colorbar\": {\"outlinewidth\": 0, \"ticks\": \"\"}}, \"type\": \"parcoords\"}], \"pie\": [{\"automargin\": true, \"type\": \"pie\"}], \"scatter\": [{\"marker\": {\"colorbar\": {\"outlinewidth\": 0, \"ticks\": \"\"}}, \"type\": \"scatter\"}], \"scatter3d\": [{\"line\": {\"colorbar\": {\"outlinewidth\": 0, \"ticks\": \"\"}}, \"marker\": {\"colorbar\": {\"outlinewidth\": 0, \"ticks\": \"\"}}, \"type\": \"scatter3d\"}], \"scattercarpet\": [{\"marker\": {\"colorbar\": {\"outlinewidth\": 0, \"ticks\": \"\"}}, \"type\": \"scattercarpet\"}], \"scattergeo\": [{\"marker\": {\"colorbar\": {\"outlinewidth\": 0, \"ticks\": \"\"}}, \"type\": \"scattergeo\"}], \"scattergl\": [{\"marker\": {\"colorbar\": {\"outlinewidth\": 0, \"ticks\": \"\"}}, \"type\": \"scattergl\"}], \"scattermapbox\": [{\"marker\": {\"colorbar\": {\"outlinewidth\": 0, \"ticks\": \"\"}}, \"type\": \"scattermapbox\"}], \"scatterpolar\": [{\"marker\": {\"colorbar\": {\"outlinewidth\": 0, \"ticks\": \"\"}}, \"type\": \"scatterpolar\"}], \"scatterpolargl\": [{\"marker\": {\"colorbar\": {\"outlinewidth\": 0, \"ticks\": \"\"}}, \"type\": \"scatterpolargl\"}], \"scatterternary\": [{\"marker\": {\"colorbar\": {\"outlinewidth\": 0, \"ticks\": \"\"}}, \"type\": \"scatterternary\"}], \"surface\": [{\"colorbar\": {\"outlinewidth\": 0, \"ticks\": \"\"}, \"colorscale\": [[0.0, \"#0d0887\"], [0.1111111111111111, \"#46039f\"], [0.2222222222222222, \"#7201a8\"], [0.3333333333333333, \"#9c179e\"], [0.4444444444444444, \"#bd3786\"], [0.5555555555555556, \"#d8576b\"], [0.6666666666666666, \"#ed7953\"], [0.7777777777777778, \"#fb9f3a\"], [0.8888888888888888, \"#fdca26\"], [1.0, \"#f0f921\"]], \"type\": \"surface\"}], \"table\": [{\"cells\": {\"fill\": {\"color\": \"#EBF0F8\"}, \"line\": {\"color\": \"white\"}}, \"header\": {\"fill\": {\"color\": \"#C8D4E3\"}, \"line\": {\"color\": \"white\"}}, \"type\": \"table\"}]}, \"layout\": {\"annotationdefaults\": {\"arrowcolor\": \"#2a3f5f\", \"arrowhead\": 0, \"arrowwidth\": 1}, \"coloraxis\": {\"colorbar\": {\"outlinewidth\": 0, \"ticks\": \"\"}}, \"colorscale\": {\"diverging\": [[0, \"#8e0152\"], [0.1, \"#c51b7d\"], [0.2, \"#de77ae\"], [0.3, \"#f1b6da\"], [0.4, \"#fde0ef\"], [0.5, \"#f7f7f7\"], [0.6, \"#e6f5d0\"], [0.7, \"#b8e186\"], [0.8, \"#7fbc41\"], [0.9, \"#4d9221\"], [1, \"#276419\"]], \"sequential\": [[0.0, \"#0d0887\"], [0.1111111111111111, \"#46039f\"], [0.2222222222222222, \"#7201a8\"], [0.3333333333333333, \"#9c179e\"], [0.4444444444444444, \"#bd3786\"], [0.5555555555555556, \"#d8576b\"], [0.6666666666666666, \"#ed7953\"], [0.7777777777777778, \"#fb9f3a\"], [0.8888888888888888, \"#fdca26\"], [1.0, \"#f0f921\"]], \"sequentialminus\": [[0.0, \"#0d0887\"], [0.1111111111111111, \"#46039f\"], [0.2222222222222222, \"#7201a8\"], [0.3333333333333333, \"#9c179e\"], [0.4444444444444444, \"#bd3786\"], [0.5555555555555556, \"#d8576b\"], [0.6666666666666666, \"#ed7953\"], [0.7777777777777778, \"#fb9f3a\"], [0.8888888888888888, \"#fdca26\"], [1.0, \"#f0f921\"]]}, \"colorway\": [\"#636efa\", \"#EF553B\", \"#00cc96\", \"#ab63fa\", \"#FFA15A\", \"#19d3f3\", \"#FF6692\", \"#B6E880\", \"#FF97FF\", \"#FECB52\"], \"font\": {\"color\": \"#2a3f5f\"}, \"geo\": {\"bgcolor\": \"white\", \"lakecolor\": \"white\", \"landcolor\": \"#E5ECF6\", \"showlakes\": true, \"showland\": true, \"subunitcolor\": \"white\"}, \"hoverlabel\": {\"align\": \"left\"}, \"hovermode\": \"closest\", \"mapbox\": {\"style\": \"light\"}, \"paper_bgcolor\": \"white\", \"plot_bgcolor\": \"#E5ECF6\", \"polar\": {\"angularaxis\": {\"gridcolor\": \"white\", \"linecolor\": \"white\", \"ticks\": \"\"}, \"bgcolor\": \"#E5ECF6\", \"radialaxis\": {\"gridcolor\": \"white\", \"linecolor\": \"white\", \"ticks\": \"\"}}, \"scene\": {\"xaxis\": {\"backgroundcolor\": \"#E5ECF6\", \"gridcolor\": \"white\", \"gridwidth\": 2, \"linecolor\": \"white\", \"showbackground\": true, \"ticks\": \"\", \"zerolinecolor\": \"white\"}, \"yaxis\": {\"backgroundcolor\": \"#E5ECF6\", \"gridcolor\": \"white\", \"gridwidth\": 2, \"linecolor\": \"white\", \"showbackground\": true, \"ticks\": \"\", \"zerolinecolor\": \"white\"}, \"zaxis\": {\"backgroundcolor\": \"#E5ECF6\", \"gridcolor\": \"white\", \"gridwidth\": 2, \"linecolor\": \"white\", \"showbackground\": true, \"ticks\": \"\", \"zerolinecolor\": \"white\"}}, \"shapedefaults\": {\"line\": {\"color\": \"#2a3f5f\"}}, \"ternary\": {\"aaxis\": {\"gridcolor\": \"white\", \"linecolor\": \"white\", \"ticks\": \"\"}, \"baxis\": {\"gridcolor\": \"white\", \"linecolor\": \"white\", \"ticks\": \"\"}, \"bgcolor\": \"#E5ECF6\", \"caxis\": {\"gridcolor\": \"white\", \"linecolor\": \"white\", \"ticks\": \"\"}}, \"title\": {\"x\": 0.05}, \"xaxis\": {\"automargin\": true, \"gridcolor\": \"white\", \"linecolor\": \"white\", \"ticks\": \"\", \"title\": {\"standoff\": 15}, \"zerolinecolor\": \"white\", \"zerolinewidth\": 2}, \"yaxis\": {\"automargin\": true, \"gridcolor\": \"white\", \"linecolor\": \"white\", \"ticks\": \"\", \"title\": {\"standoff\": 15}, \"zerolinecolor\": \"white\", \"zerolinewidth\": 2}}}, \"title\": {\"font\": {\"color\": \"#4D5663\"}}, \"xaxis\": {\"gridcolor\": \"#E1E5ED\", \"showgrid\": true, \"tickfont\": {\"color\": \"#4D5663\"}, \"title\": {\"font\": {\"color\": \"#4D5663\"}, \"text\": \"\"}, \"zerolinecolor\": \"#E1E5ED\"}, \"yaxis\": {\"gridcolor\": \"#E1E5ED\", \"showgrid\": true, \"tickfont\": {\"color\": \"#4D5663\"}, \"title\": {\"font\": {\"color\": \"#4D5663\"}, \"text\": \"\"}, \"zerolinecolor\": \"#E1E5ED\"}},\n",
       "                        {\"showLink\": true, \"linkText\": \"Export to plot.ly\", \"plotlyServerURL\": \"https://plot.ly\", \"responsive\": true}\n",
       "                    ).then(function(){\n",
       "                            \n",
       "var gd = document.getElementById('ede28750-84b6-4aa9-8e53-e2890e039d23');\n",
       "var x = new MutationObserver(function (mutations, observer) {{\n",
       "        var display = window.getComputedStyle(gd).display;\n",
       "        if (!display || display === 'none') {{\n",
       "            console.log([gd, 'removed!']);\n",
       "            Plotly.purge(gd);\n",
       "            observer.disconnect();\n",
       "        }}\n",
       "}});\n",
       "\n",
       "// Listen for the removal of the full notebook cells\n",
       "var notebookContainer = gd.closest('#notebook-container');\n",
       "if (notebookContainer) {{\n",
       "    x.observe(notebookContainer, {childList: true});\n",
       "}}\n",
       "\n",
       "// Listen for the clearing of the current output cell\n",
       "var outputEl = gd.closest('.output');\n",
       "if (outputEl) {{\n",
       "    x.observe(outputEl, {childList: true});\n",
       "}}\n",
       "\n",
       "                        })\n",
       "                };\n",
       "                });\n",
       "            </script>\n",
       "        </div>"
      ]
     },
     "metadata": {},
     "output_type": "display_data"
    }
   ],
   "source": [
    "df.iplot(kind='bubble',x='A',y='B',size='C')"
   ]
  },
  {
   "cell_type": "markdown",
   "metadata": {},
   "source": [
    "## scatter_matrix()\n",
    "\n",
    "Similar to sns.pairplot()"
   ]
  },
  {
   "cell_type": "code",
   "execution_count": 24,
   "metadata": {},
   "outputs": [
    {
     "data": {
      "application/vnd.plotly.v1+json": {
       "config": {
        "linkText": "Export to plot.ly",
        "plotlyServerURL": "https://plot.ly",
        "showLink": true
       },
       "data": [
        {
         "histfunc": "count",
         "histnorm": "",
         "marker": {
          "color": "rgba(255, 153, 51, 1.0)",
          "line": {
           "color": "#4D5663",
           "width": 1.3
          }
         },
         "name": "A",
         "nbinsx": 10,
         "opacity": 0.8,
         "orientation": "v",
         "type": "histogram",
         "x": [
          -1.4138153976580274,
          0.08455022128887005,
          1.5471984510871117,
          1.6967637029976672,
          -0.7507050193197625,
          0.6144492892274529,
          0.10523618232753329,
          1.207121390424313,
          1.7326766078557791,
          -0.21328491944561068,
          2.008579499791018,
          0.21547481593456028,
          0.3808402686537413,
          -0.06092935790697329,
          0.8370766754499239,
          0.8274287807229304,
          -0.4126127693231269,
          -0.16929922544402398,
          0.7208595301409876,
          0.7733136383374829,
          -0.28892514206321673,
          -0.8762071774130635,
          -0.80619652439963,
          1.2305229116274847,
          -0.38858088186267853,
          0.7897841741518612,
          -0.8489199189374191,
          -1.3654506088764375,
          0.48549328430965677,
          0.35924680412438875,
          1.1114054429854745,
          0.0886027064970111,
          -0.4636103442398656,
          -0.20840951954222545,
          0.1405922012276346,
          -0.24064485943761077,
          -0.8334111091782375,
          1.842590317603657,
          -0.3371466088321572,
          -0.2034175748337479,
          -2.3459567831821633,
          -0.4017961959202484,
          0.4723198933313565,
          0.7501448239663938,
          -1.0693669073862617,
          1.5986290804606074,
          -0.24461314844453189,
          0.10368147740607012,
          -1.4969890118186504,
          -0.12435682418267893,
          1.274839898045271,
          -0.5169915646947392,
          -1.0712305609778643,
          -0.48659733893741813,
          0.3587922256913342,
          1.0999910285647592,
          0.9149839476261293,
          -0.486099575812348,
          -0.7608301228828495,
          -0.43453947979910407,
          -0.4378707689182603,
          0.01856409953642223,
          0.3832610655005692,
          -2.0933524665046948,
          1.7283265223487883,
          0.9869190365137367,
          0.40571454260259016,
          -0.5152470857611197,
          0.8786939279620871,
          0.4279175871191947,
          -2.601024184701134,
          -0.683284735855935,
          0.849927363712278,
          0.8857275580349077,
          1.2882816361582505,
          -0.519059352346447,
          -0.6904750615623734,
          0.8241614462286408,
          -0.46459047977908063,
          0.11913998254705363,
          0.13758868739779878,
          0.24332496851049237,
          0.018205797429998904,
          0.358933107643315,
          1.1315519087511798,
          -0.7637852405135656,
          0.3135604813218632,
          0.2377824938105682,
          1.2657677242286454,
          0.7290062940756441,
          0.6480948280599899,
          -0.1565135938137894,
          0.4133359631767297,
          0.7647690463317591,
          -1.4126303876542592,
          -0.24760521350475748,
          1.5285367941102805,
          -1.1365724953019072,
          0.21258239309873145,
          1.4010067851622496
         ],
         "xaxis": "x",
         "yaxis": "y"
        },
        {
         "line": {
          "color": "rgba(128, 128, 128, 1.0)",
          "dash": "solid",
          "shape": "linear",
          "width": 1.3
         },
         "marker": {
          "size": 2,
          "symbol": "circle"
         },
         "mode": "markers",
         "name": "A",
         "text": "",
         "type": "scatter",
         "x": [
          0.6307750025445071,
          2.1165649393990944,
          -0.13402531428069492,
          -1.0980616376530266,
          -2.434586496069079,
          -1.3053078896558565,
          -0.07090686858487011,
          0.2058256171970834,
          -0.399262838679452,
          -0.14038606848181132,
          0.9187536646281099,
          -0.8442053961123566,
          -0.2203312366099077,
          0.6148352056947539,
          0.5487157074264113,
          -0.8815647579995127,
          -0.34319730713674246,
          -1.0520874575465975,
          -0.5654422884296576,
          -0.09868497816887367,
          -0.4968289089377307,
          0.2716017943118359,
          0.9226989164424838,
          -0.5239432560546522,
          -0.8805108560299565,
          1.0291913615050854,
          -0.09431283356381821,
          -0.9703360343139987,
          0.47166862549484884,
          -1.2700349012817091,
          0.413275586679944,
          -0.04254191220658984,
          -0.3338980359576901,
          -0.675195513492032,
          1.550294420863555,
          1.1516766730039087,
          0.6535287491249111,
          0.6144648993585563,
          0.789565666569126,
          -0.3433168130690615,
          -0.05275694170220859,
          0.3020462133498991,
          -0.06943522706603063,
          -0.35192362829665536,
          0.6126596333884724,
          1.5578365933599612,
          -0.1253060804619179,
          -1.3902002070743285,
          -0.8174637537749673,
          0.11333678312936613,
          1.3356891122813224,
          0.19964929894159641,
          0.08236990727602006,
          1.2201019912024953,
          -0.5511844759854739,
          -0.8289846840857326,
          0.33884864688721744,
          1.0881768989607006,
          -0.7703403348773846,
          -0.2946516470282624,
          0.06536745681673374,
          0.7892622385305326,
          1.6351318760725766,
          -0.3738887659267329,
          0.5705852579762929,
          1.7567400703602254,
          1.5658507756576097,
          -0.32738934219238813,
          -3.4188171677438355,
          -0.8446793972616198,
          -0.0745933598454902,
          0.9009946023546918,
          0.04500369804380455,
          -0.16211529173578793,
          -1.612928599166473,
          -0.010132569394765995,
          0.17953472500659787,
          0.0064179642326903244,
          0.1326959809776376,
          1.946233101865483,
          0.03252092127965211,
          -0.5130179934757979,
          0.1429766964487547,
          -1.0395116288148776,
          -1.160703594319139,
          0.4435732597243696,
          1.5891745109922495,
          0.31166755938333734,
          -0.9900532640822058,
          0.6440787128368036,
          0.5558862615610557,
          0.2982157252903566,
          0.653861307961139,
          -0.9103614368183744,
          -0.20579788187733009,
          1.2582778382184772,
          -0.8122835465461327,
          -0.2767951603430714,
          -1.3958080501251722,
          0.6847098823556407
         ],
         "xaxis": "x2",
         "y": [
          -1.4138153976580274,
          0.08455022128887005,
          1.5471984510871117,
          1.6967637029976672,
          -0.7507050193197625,
          0.6144492892274529,
          0.10523618232753329,
          1.207121390424313,
          1.7326766078557791,
          -0.21328491944561068,
          2.008579499791018,
          0.21547481593456028,
          0.3808402686537413,
          -0.06092935790697329,
          0.8370766754499239,
          0.8274287807229304,
          -0.4126127693231269,
          -0.16929922544402398,
          0.7208595301409876,
          0.7733136383374829,
          -0.28892514206321673,
          -0.8762071774130635,
          -0.80619652439963,
          1.2305229116274847,
          -0.38858088186267853,
          0.7897841741518612,
          -0.8489199189374191,
          -1.3654506088764375,
          0.48549328430965677,
          0.35924680412438875,
          1.1114054429854745,
          0.0886027064970111,
          -0.4636103442398656,
          -0.20840951954222545,
          0.1405922012276346,
          -0.24064485943761077,
          -0.8334111091782375,
          1.842590317603657,
          -0.3371466088321572,
          -0.2034175748337479,
          -2.3459567831821633,
          -0.4017961959202484,
          0.4723198933313565,
          0.7501448239663938,
          -1.0693669073862617,
          1.5986290804606074,
          -0.24461314844453189,
          0.10368147740607012,
          -1.4969890118186504,
          -0.12435682418267893,
          1.274839898045271,
          -0.5169915646947392,
          -1.0712305609778643,
          -0.48659733893741813,
          0.3587922256913342,
          1.0999910285647592,
          0.9149839476261293,
          -0.486099575812348,
          -0.7608301228828495,
          -0.43453947979910407,
          -0.4378707689182603,
          0.01856409953642223,
          0.3832610655005692,
          -2.0933524665046948,
          1.7283265223487883,
          0.9869190365137367,
          0.40571454260259016,
          -0.5152470857611197,
          0.8786939279620871,
          0.4279175871191947,
          -2.601024184701134,
          -0.683284735855935,
          0.849927363712278,
          0.8857275580349077,
          1.2882816361582505,
          -0.519059352346447,
          -0.6904750615623734,
          0.8241614462286408,
          -0.46459047977908063,
          0.11913998254705363,
          0.13758868739779878,
          0.24332496851049237,
          0.018205797429998904,
          0.358933107643315,
          1.1315519087511798,
          -0.7637852405135656,
          0.3135604813218632,
          0.2377824938105682,
          1.2657677242286454,
          0.7290062940756441,
          0.6480948280599899,
          -0.1565135938137894,
          0.4133359631767297,
          0.7647690463317591,
          -1.4126303876542592,
          -0.24760521350475748,
          1.5285367941102805,
          -1.1365724953019072,
          0.21258239309873145,
          1.4010067851622496
         ],
         "yaxis": "y2"
        },
        {
         "line": {
          "color": "rgba(128, 128, 128, 1.0)",
          "dash": "solid",
          "shape": "linear",
          "width": 1.3
         },
         "marker": {
          "size": 2,
          "symbol": "circle"
         },
         "mode": "markers",
         "name": "A",
         "text": "",
         "type": "scatter",
         "x": [
          -0.46340373251531897,
          -1.2458082668067412,
          -1.2544869635350833,
          0.7992798174825069,
          -0.6920536741082177,
          -0.9039402715935553,
          -0.5318693601620845,
          0.36622384671901065,
          1.734636291744235,
          0.4919645545584108,
          -1.2114597598608754,
          0.45078559077266145,
          0.1572546695747489,
          0.2931161256889199,
          -2.019960738755273,
          1.9786741394069225,
          -0.25705990841031306,
          0.6258033617564331,
          -0.565313370019214,
          -0.871242691574864,
          -0.9072413358597263,
          -0.4352159828031252,
          -0.3152789420605196,
          0.3343274016001478,
          -0.8355510389853845,
          -0.08063233193136128,
          1.2085798566116208,
          -1.4467876496884895,
          0.38203123547837603,
          0.46426729140012724,
          1.6401217079434836,
          -0.854238034593468,
          1.5407210744037485,
          -0.14436325819618617,
          -0.2605810656404103,
          -1.0667650476360888,
          -1.056067245591354,
          1.9574704984813092,
          -0.28548161395355387,
          0.3630299765906264,
          1.8717410623106905,
          -1.2885519087872637,
          0.2047593692732163,
          -0.5974228245989848,
          1.6814383513171696,
          0.820360064671196,
          -0.17586988934263895,
          -0.4083214975570279,
          -0.05674128881314127,
          -1.8152612188116326,
          -0.8864130113250144,
          1.4603451453226415,
          1.4297458915209527,
          0.6231188334979672,
          -0.8101152307172,
          1.6812865981628995,
          0.2536332988253022,
          -0.21639811344208956,
          -0.7350529452943216,
          -0.148659510206894,
          0.3782443081771902,
          -1.2849059090569048,
          -1.9032548143075259,
          -0.39613707656414376,
          0.40350296821948145,
          -0.11486122769817589,
          -0.0305981534114856,
          -0.27470397798688656,
          -1.3120954580845827,
          0.8276891494136229,
          -0.980367071594073,
          -0.04462247327438354,
          1.7759901461121241,
          0.19542388409024997,
          -0.13794027312975354,
          -2.244810442035269,
          1.140100134219041,
          -0.07762929188667533,
          0.9865114345836813,
          -0.33191983063864333,
          -0.4927775935775253,
          -0.41706644247887215,
          -0.9506510221488315,
          0.32331265996069625,
          0.12018968834740629,
          1.1090243442109413,
          -0.15391658451186283,
          -1.8478056324649534,
          0.7164486019595993,
          -1.0500354676498393,
          -2.573872198975193,
          -0.805911709339272,
          -0.369358056939599,
          0.5729898387862129,
          1.619496005508339,
          0.381073260793748,
          0.5465425470776235,
          0.8295352203740076,
          0.6860406524629331,
          -1.4466022690225124
         ],
         "xaxis": "x3",
         "y": [
          -1.4138153976580274,
          0.08455022128887005,
          1.5471984510871117,
          1.6967637029976672,
          -0.7507050193197625,
          0.6144492892274529,
          0.10523618232753329,
          1.207121390424313,
          1.7326766078557791,
          -0.21328491944561068,
          2.008579499791018,
          0.21547481593456028,
          0.3808402686537413,
          -0.06092935790697329,
          0.8370766754499239,
          0.8274287807229304,
          -0.4126127693231269,
          -0.16929922544402398,
          0.7208595301409876,
          0.7733136383374829,
          -0.28892514206321673,
          -0.8762071774130635,
          -0.80619652439963,
          1.2305229116274847,
          -0.38858088186267853,
          0.7897841741518612,
          -0.8489199189374191,
          -1.3654506088764375,
          0.48549328430965677,
          0.35924680412438875,
          1.1114054429854745,
          0.0886027064970111,
          -0.4636103442398656,
          -0.20840951954222545,
          0.1405922012276346,
          -0.24064485943761077,
          -0.8334111091782375,
          1.842590317603657,
          -0.3371466088321572,
          -0.2034175748337479,
          -2.3459567831821633,
          -0.4017961959202484,
          0.4723198933313565,
          0.7501448239663938,
          -1.0693669073862617,
          1.5986290804606074,
          -0.24461314844453189,
          0.10368147740607012,
          -1.4969890118186504,
          -0.12435682418267893,
          1.274839898045271,
          -0.5169915646947392,
          -1.0712305609778643,
          -0.48659733893741813,
          0.3587922256913342,
          1.0999910285647592,
          0.9149839476261293,
          -0.486099575812348,
          -0.7608301228828495,
          -0.43453947979910407,
          -0.4378707689182603,
          0.01856409953642223,
          0.3832610655005692,
          -2.0933524665046948,
          1.7283265223487883,
          0.9869190365137367,
          0.40571454260259016,
          -0.5152470857611197,
          0.8786939279620871,
          0.4279175871191947,
          -2.601024184701134,
          -0.683284735855935,
          0.849927363712278,
          0.8857275580349077,
          1.2882816361582505,
          -0.519059352346447,
          -0.6904750615623734,
          0.8241614462286408,
          -0.46459047977908063,
          0.11913998254705363,
          0.13758868739779878,
          0.24332496851049237,
          0.018205797429998904,
          0.358933107643315,
          1.1315519087511798,
          -0.7637852405135656,
          0.3135604813218632,
          0.2377824938105682,
          1.2657677242286454,
          0.7290062940756441,
          0.6480948280599899,
          -0.1565135938137894,
          0.4133359631767297,
          0.7647690463317591,
          -1.4126303876542592,
          -0.24760521350475748,
          1.5285367941102805,
          -1.1365724953019072,
          0.21258239309873145,
          1.4010067851622496
         ],
         "yaxis": "y3"
        },
        {
         "line": {
          "color": "rgba(128, 128, 128, 1.0)",
          "dash": "solid",
          "shape": "linear",
          "width": 1.3
         },
         "marker": {
          "size": 2,
          "symbol": "circle"
         },
         "mode": "markers",
         "name": "A",
         "text": "",
         "type": "scatter",
         "x": [
          0.5189726602233986,
          -0.09129733315409432,
          0.1232450306540208,
          -1.1698580196273767,
          -0.04934799474724009,
          -1.0001989210507714,
          0.5671806384021019,
          -0.28322068966089176,
          0.8555481328512194,
          -2.3713348063524196,
          0.27455014331253624,
          -0.7645072216676173,
          0.009307993448969716,
          0.3343775413198073,
          -1.2046224912048202,
          0.7413828651746952,
          0.4615406725797837,
          -1.2669350311968313,
          -0.206471635708302,
          -1.0687192524195723,
          1.158143552837741,
          -1.6594438359757115,
          0.8786415727511163,
          0.8618120176457761,
          -1.501183653156108,
          0.411665844779012,
          1.8727217322971192,
          -0.09692668792631587,
          -0.24644458423235868,
          -0.5232506859459267,
          -0.47758769627830877,
          0.18243714102800973,
          -2.3370642938658537,
          -1.8018043637588312,
          -1.870929987970339,
          0.8683836430926027,
          -0.16384969934716526,
          -1.1272793605378462,
          -1.696879722687243,
          0.7803404884546775,
          -0.35183954212625357,
          0.23508808803152917,
          -1.860281736205346,
          0.17863224075601442,
          -0.41598731174391135,
          1.5465734315420336,
          0.13391237276777,
          0.22546968713775464,
          -1.4280462028944116,
          -2.144388215577554,
          1.6654778132648989,
          -0.4134961144007236,
          0.32398281812293517,
          -0.5135466930834046,
          -1.1883419275290195,
          0.30158716822126985,
          -0.26610784830215434,
          -0.09465805847480475,
          -0.7200737767470347,
          -0.9164077836785587,
          1.6856301459780483,
          -1.2188237072435504,
          -0.484695122602499,
          -0.4479755552260965,
          -1.2829861550124635,
          -0.2668949890344071,
          -0.29167000944686006,
          -0.24165020645813834,
          0.7848481932228031,
          0.7827043654352501,
          -0.08514518620383253,
          0.693585834540342,
          -0.08846670193598202,
          1.048411574235362,
          0.02364572431188195,
          -0.18204325608428804,
          1.3286872900926754,
          -0.6877893356884016,
          -0.7554584348984519,
          0.15582072289182852,
          -0.6040671721288594,
          -0.2804775497038172,
          1.2423593013253391,
          0.49894076286355454,
          0.006366188841875799,
          -0.06276809632860639,
          1.0922551650960837,
          1.0494241728382323,
          -1.2545572237268587,
          0.85454698485536,
          -1.0565770016989955,
          0.4272278508761094,
          0.5260487566362079,
          0.3612195036176259,
          1.3512716106464608,
          -1.950044478595946,
          -1.2573193534478841,
          -0.25056150412233086,
          0.7037066439697688,
          -1.7049248033653637
         ],
         "xaxis": "x4",
         "y": [
          -1.4138153976580274,
          0.08455022128887005,
          1.5471984510871117,
          1.6967637029976672,
          -0.7507050193197625,
          0.6144492892274529,
          0.10523618232753329,
          1.207121390424313,
          1.7326766078557791,
          -0.21328491944561068,
          2.008579499791018,
          0.21547481593456028,
          0.3808402686537413,
          -0.06092935790697329,
          0.8370766754499239,
          0.8274287807229304,
          -0.4126127693231269,
          -0.16929922544402398,
          0.7208595301409876,
          0.7733136383374829,
          -0.28892514206321673,
          -0.8762071774130635,
          -0.80619652439963,
          1.2305229116274847,
          -0.38858088186267853,
          0.7897841741518612,
          -0.8489199189374191,
          -1.3654506088764375,
          0.48549328430965677,
          0.35924680412438875,
          1.1114054429854745,
          0.0886027064970111,
          -0.4636103442398656,
          -0.20840951954222545,
          0.1405922012276346,
          -0.24064485943761077,
          -0.8334111091782375,
          1.842590317603657,
          -0.3371466088321572,
          -0.2034175748337479,
          -2.3459567831821633,
          -0.4017961959202484,
          0.4723198933313565,
          0.7501448239663938,
          -1.0693669073862617,
          1.5986290804606074,
          -0.24461314844453189,
          0.10368147740607012,
          -1.4969890118186504,
          -0.12435682418267893,
          1.274839898045271,
          -0.5169915646947392,
          -1.0712305609778643,
          -0.48659733893741813,
          0.3587922256913342,
          1.0999910285647592,
          0.9149839476261293,
          -0.486099575812348,
          -0.7608301228828495,
          -0.43453947979910407,
          -0.4378707689182603,
          0.01856409953642223,
          0.3832610655005692,
          -2.0933524665046948,
          1.7283265223487883,
          0.9869190365137367,
          0.40571454260259016,
          -0.5152470857611197,
          0.8786939279620871,
          0.4279175871191947,
          -2.601024184701134,
          -0.683284735855935,
          0.849927363712278,
          0.8857275580349077,
          1.2882816361582505,
          -0.519059352346447,
          -0.6904750615623734,
          0.8241614462286408,
          -0.46459047977908063,
          0.11913998254705363,
          0.13758868739779878,
          0.24332496851049237,
          0.018205797429998904,
          0.358933107643315,
          1.1315519087511798,
          -0.7637852405135656,
          0.3135604813218632,
          0.2377824938105682,
          1.2657677242286454,
          0.7290062940756441,
          0.6480948280599899,
          -0.1565135938137894,
          0.4133359631767297,
          0.7647690463317591,
          -1.4126303876542592,
          -0.24760521350475748,
          1.5285367941102805,
          -1.1365724953019072,
          0.21258239309873145,
          1.4010067851622496
         ],
         "yaxis": "y4"
        },
        {
         "line": {
          "color": "rgba(128, 128, 128, 1.0)",
          "dash": "solid",
          "shape": "linear",
          "width": 1.3
         },
         "marker": {
          "size": 2,
          "symbol": "circle"
         },
         "mode": "markers",
         "name": "B",
         "text": "",
         "type": "scatter",
         "x": [
          -1.4138153976580274,
          0.08455022128887005,
          1.5471984510871117,
          1.6967637029976672,
          -0.7507050193197625,
          0.6144492892274529,
          0.10523618232753329,
          1.207121390424313,
          1.7326766078557791,
          -0.21328491944561068,
          2.008579499791018,
          0.21547481593456028,
          0.3808402686537413,
          -0.06092935790697329,
          0.8370766754499239,
          0.8274287807229304,
          -0.4126127693231269,
          -0.16929922544402398,
          0.7208595301409876,
          0.7733136383374829,
          -0.28892514206321673,
          -0.8762071774130635,
          -0.80619652439963,
          1.2305229116274847,
          -0.38858088186267853,
          0.7897841741518612,
          -0.8489199189374191,
          -1.3654506088764375,
          0.48549328430965677,
          0.35924680412438875,
          1.1114054429854745,
          0.0886027064970111,
          -0.4636103442398656,
          -0.20840951954222545,
          0.1405922012276346,
          -0.24064485943761077,
          -0.8334111091782375,
          1.842590317603657,
          -0.3371466088321572,
          -0.2034175748337479,
          -2.3459567831821633,
          -0.4017961959202484,
          0.4723198933313565,
          0.7501448239663938,
          -1.0693669073862617,
          1.5986290804606074,
          -0.24461314844453189,
          0.10368147740607012,
          -1.4969890118186504,
          -0.12435682418267893,
          1.274839898045271,
          -0.5169915646947392,
          -1.0712305609778643,
          -0.48659733893741813,
          0.3587922256913342,
          1.0999910285647592,
          0.9149839476261293,
          -0.486099575812348,
          -0.7608301228828495,
          -0.43453947979910407,
          -0.4378707689182603,
          0.01856409953642223,
          0.3832610655005692,
          -2.0933524665046948,
          1.7283265223487883,
          0.9869190365137367,
          0.40571454260259016,
          -0.5152470857611197,
          0.8786939279620871,
          0.4279175871191947,
          -2.601024184701134,
          -0.683284735855935,
          0.849927363712278,
          0.8857275580349077,
          1.2882816361582505,
          -0.519059352346447,
          -0.6904750615623734,
          0.8241614462286408,
          -0.46459047977908063,
          0.11913998254705363,
          0.13758868739779878,
          0.24332496851049237,
          0.018205797429998904,
          0.358933107643315,
          1.1315519087511798,
          -0.7637852405135656,
          0.3135604813218632,
          0.2377824938105682,
          1.2657677242286454,
          0.7290062940756441,
          0.6480948280599899,
          -0.1565135938137894,
          0.4133359631767297,
          0.7647690463317591,
          -1.4126303876542592,
          -0.24760521350475748,
          1.5285367941102805,
          -1.1365724953019072,
          0.21258239309873145,
          1.4010067851622496
         ],
         "xaxis": "x5",
         "y": [
          0.6307750025445071,
          2.1165649393990944,
          -0.13402531428069492,
          -1.0980616376530266,
          -2.434586496069079,
          -1.3053078896558565,
          -0.07090686858487011,
          0.2058256171970834,
          -0.399262838679452,
          -0.14038606848181132,
          0.9187536646281099,
          -0.8442053961123566,
          -0.2203312366099077,
          0.6148352056947539,
          0.5487157074264113,
          -0.8815647579995127,
          -0.34319730713674246,
          -1.0520874575465975,
          -0.5654422884296576,
          -0.09868497816887367,
          -0.4968289089377307,
          0.2716017943118359,
          0.9226989164424838,
          -0.5239432560546522,
          -0.8805108560299565,
          1.0291913615050854,
          -0.09431283356381821,
          -0.9703360343139987,
          0.47166862549484884,
          -1.2700349012817091,
          0.413275586679944,
          -0.04254191220658984,
          -0.3338980359576901,
          -0.675195513492032,
          1.550294420863555,
          1.1516766730039087,
          0.6535287491249111,
          0.6144648993585563,
          0.789565666569126,
          -0.3433168130690615,
          -0.05275694170220859,
          0.3020462133498991,
          -0.06943522706603063,
          -0.35192362829665536,
          0.6126596333884724,
          1.5578365933599612,
          -0.1253060804619179,
          -1.3902002070743285,
          -0.8174637537749673,
          0.11333678312936613,
          1.3356891122813224,
          0.19964929894159641,
          0.08236990727602006,
          1.2201019912024953,
          -0.5511844759854739,
          -0.8289846840857326,
          0.33884864688721744,
          1.0881768989607006,
          -0.7703403348773846,
          -0.2946516470282624,
          0.06536745681673374,
          0.7892622385305326,
          1.6351318760725766,
          -0.3738887659267329,
          0.5705852579762929,
          1.7567400703602254,
          1.5658507756576097,
          -0.32738934219238813,
          -3.4188171677438355,
          -0.8446793972616198,
          -0.0745933598454902,
          0.9009946023546918,
          0.04500369804380455,
          -0.16211529173578793,
          -1.612928599166473,
          -0.010132569394765995,
          0.17953472500659787,
          0.0064179642326903244,
          0.1326959809776376,
          1.946233101865483,
          0.03252092127965211,
          -0.5130179934757979,
          0.1429766964487547,
          -1.0395116288148776,
          -1.160703594319139,
          0.4435732597243696,
          1.5891745109922495,
          0.31166755938333734,
          -0.9900532640822058,
          0.6440787128368036,
          0.5558862615610557,
          0.2982157252903566,
          0.653861307961139,
          -0.9103614368183744,
          -0.20579788187733009,
          1.2582778382184772,
          -0.8122835465461327,
          -0.2767951603430714,
          -1.3958080501251722,
          0.6847098823556407
         ],
         "yaxis": "y5"
        },
        {
         "histfunc": "count",
         "histnorm": "",
         "marker": {
          "color": "rgba(55, 128, 191, 1.0)",
          "line": {
           "color": "#4D5663",
           "width": 1.3
          }
         },
         "name": "B",
         "nbinsx": 10,
         "opacity": 0.8,
         "orientation": "v",
         "type": "histogram",
         "x": [
          0.6307750025445071,
          2.1165649393990944,
          -0.13402531428069492,
          -1.0980616376530266,
          -2.434586496069079,
          -1.3053078896558565,
          -0.07090686858487011,
          0.2058256171970834,
          -0.399262838679452,
          -0.14038606848181132,
          0.9187536646281099,
          -0.8442053961123566,
          -0.2203312366099077,
          0.6148352056947539,
          0.5487157074264113,
          -0.8815647579995127,
          -0.34319730713674246,
          -1.0520874575465975,
          -0.5654422884296576,
          -0.09868497816887367,
          -0.4968289089377307,
          0.2716017943118359,
          0.9226989164424838,
          -0.5239432560546522,
          -0.8805108560299565,
          1.0291913615050854,
          -0.09431283356381821,
          -0.9703360343139987,
          0.47166862549484884,
          -1.2700349012817091,
          0.413275586679944,
          -0.04254191220658984,
          -0.3338980359576901,
          -0.675195513492032,
          1.550294420863555,
          1.1516766730039087,
          0.6535287491249111,
          0.6144648993585563,
          0.789565666569126,
          -0.3433168130690615,
          -0.05275694170220859,
          0.3020462133498991,
          -0.06943522706603063,
          -0.35192362829665536,
          0.6126596333884724,
          1.5578365933599612,
          -0.1253060804619179,
          -1.3902002070743285,
          -0.8174637537749673,
          0.11333678312936613,
          1.3356891122813224,
          0.19964929894159641,
          0.08236990727602006,
          1.2201019912024953,
          -0.5511844759854739,
          -0.8289846840857326,
          0.33884864688721744,
          1.0881768989607006,
          -0.7703403348773846,
          -0.2946516470282624,
          0.06536745681673374,
          0.7892622385305326,
          1.6351318760725766,
          -0.3738887659267329,
          0.5705852579762929,
          1.7567400703602254,
          1.5658507756576097,
          -0.32738934219238813,
          -3.4188171677438355,
          -0.8446793972616198,
          -0.0745933598454902,
          0.9009946023546918,
          0.04500369804380455,
          -0.16211529173578793,
          -1.612928599166473,
          -0.010132569394765995,
          0.17953472500659787,
          0.0064179642326903244,
          0.1326959809776376,
          1.946233101865483,
          0.03252092127965211,
          -0.5130179934757979,
          0.1429766964487547,
          -1.0395116288148776,
          -1.160703594319139,
          0.4435732597243696,
          1.5891745109922495,
          0.31166755938333734,
          -0.9900532640822058,
          0.6440787128368036,
          0.5558862615610557,
          0.2982157252903566,
          0.653861307961139,
          -0.9103614368183744,
          -0.20579788187733009,
          1.2582778382184772,
          -0.8122835465461327,
          -0.2767951603430714,
          -1.3958080501251722,
          0.6847098823556407
         ],
         "xaxis": "x6",
         "yaxis": "y6"
        },
        {
         "line": {
          "color": "rgba(128, 128, 128, 1.0)",
          "dash": "solid",
          "shape": "linear",
          "width": 1.3
         },
         "marker": {
          "size": 2,
          "symbol": "circle"
         },
         "mode": "markers",
         "name": "B",
         "text": "",
         "type": "scatter",
         "x": [
          -0.46340373251531897,
          -1.2458082668067412,
          -1.2544869635350833,
          0.7992798174825069,
          -0.6920536741082177,
          -0.9039402715935553,
          -0.5318693601620845,
          0.36622384671901065,
          1.734636291744235,
          0.4919645545584108,
          -1.2114597598608754,
          0.45078559077266145,
          0.1572546695747489,
          0.2931161256889199,
          -2.019960738755273,
          1.9786741394069225,
          -0.25705990841031306,
          0.6258033617564331,
          -0.565313370019214,
          -0.871242691574864,
          -0.9072413358597263,
          -0.4352159828031252,
          -0.3152789420605196,
          0.3343274016001478,
          -0.8355510389853845,
          -0.08063233193136128,
          1.2085798566116208,
          -1.4467876496884895,
          0.38203123547837603,
          0.46426729140012724,
          1.6401217079434836,
          -0.854238034593468,
          1.5407210744037485,
          -0.14436325819618617,
          -0.2605810656404103,
          -1.0667650476360888,
          -1.056067245591354,
          1.9574704984813092,
          -0.28548161395355387,
          0.3630299765906264,
          1.8717410623106905,
          -1.2885519087872637,
          0.2047593692732163,
          -0.5974228245989848,
          1.6814383513171696,
          0.820360064671196,
          -0.17586988934263895,
          -0.4083214975570279,
          -0.05674128881314127,
          -1.8152612188116326,
          -0.8864130113250144,
          1.4603451453226415,
          1.4297458915209527,
          0.6231188334979672,
          -0.8101152307172,
          1.6812865981628995,
          0.2536332988253022,
          -0.21639811344208956,
          -0.7350529452943216,
          -0.148659510206894,
          0.3782443081771902,
          -1.2849059090569048,
          -1.9032548143075259,
          -0.39613707656414376,
          0.40350296821948145,
          -0.11486122769817589,
          -0.0305981534114856,
          -0.27470397798688656,
          -1.3120954580845827,
          0.8276891494136229,
          -0.980367071594073,
          -0.04462247327438354,
          1.7759901461121241,
          0.19542388409024997,
          -0.13794027312975354,
          -2.244810442035269,
          1.140100134219041,
          -0.07762929188667533,
          0.9865114345836813,
          -0.33191983063864333,
          -0.4927775935775253,
          -0.41706644247887215,
          -0.9506510221488315,
          0.32331265996069625,
          0.12018968834740629,
          1.1090243442109413,
          -0.15391658451186283,
          -1.8478056324649534,
          0.7164486019595993,
          -1.0500354676498393,
          -2.573872198975193,
          -0.805911709339272,
          -0.369358056939599,
          0.5729898387862129,
          1.619496005508339,
          0.381073260793748,
          0.5465425470776235,
          0.8295352203740076,
          0.6860406524629331,
          -1.4466022690225124
         ],
         "xaxis": "x7",
         "y": [
          0.6307750025445071,
          2.1165649393990944,
          -0.13402531428069492,
          -1.0980616376530266,
          -2.434586496069079,
          -1.3053078896558565,
          -0.07090686858487011,
          0.2058256171970834,
          -0.399262838679452,
          -0.14038606848181132,
          0.9187536646281099,
          -0.8442053961123566,
          -0.2203312366099077,
          0.6148352056947539,
          0.5487157074264113,
          -0.8815647579995127,
          -0.34319730713674246,
          -1.0520874575465975,
          -0.5654422884296576,
          -0.09868497816887367,
          -0.4968289089377307,
          0.2716017943118359,
          0.9226989164424838,
          -0.5239432560546522,
          -0.8805108560299565,
          1.0291913615050854,
          -0.09431283356381821,
          -0.9703360343139987,
          0.47166862549484884,
          -1.2700349012817091,
          0.413275586679944,
          -0.04254191220658984,
          -0.3338980359576901,
          -0.675195513492032,
          1.550294420863555,
          1.1516766730039087,
          0.6535287491249111,
          0.6144648993585563,
          0.789565666569126,
          -0.3433168130690615,
          -0.05275694170220859,
          0.3020462133498991,
          -0.06943522706603063,
          -0.35192362829665536,
          0.6126596333884724,
          1.5578365933599612,
          -0.1253060804619179,
          -1.3902002070743285,
          -0.8174637537749673,
          0.11333678312936613,
          1.3356891122813224,
          0.19964929894159641,
          0.08236990727602006,
          1.2201019912024953,
          -0.5511844759854739,
          -0.8289846840857326,
          0.33884864688721744,
          1.0881768989607006,
          -0.7703403348773846,
          -0.2946516470282624,
          0.06536745681673374,
          0.7892622385305326,
          1.6351318760725766,
          -0.3738887659267329,
          0.5705852579762929,
          1.7567400703602254,
          1.5658507756576097,
          -0.32738934219238813,
          -3.4188171677438355,
          -0.8446793972616198,
          -0.0745933598454902,
          0.9009946023546918,
          0.04500369804380455,
          -0.16211529173578793,
          -1.612928599166473,
          -0.010132569394765995,
          0.17953472500659787,
          0.0064179642326903244,
          0.1326959809776376,
          1.946233101865483,
          0.03252092127965211,
          -0.5130179934757979,
          0.1429766964487547,
          -1.0395116288148776,
          -1.160703594319139,
          0.4435732597243696,
          1.5891745109922495,
          0.31166755938333734,
          -0.9900532640822058,
          0.6440787128368036,
          0.5558862615610557,
          0.2982157252903566,
          0.653861307961139,
          -0.9103614368183744,
          -0.20579788187733009,
          1.2582778382184772,
          -0.8122835465461327,
          -0.2767951603430714,
          -1.3958080501251722,
          0.6847098823556407
         ],
         "yaxis": "y7"
        },
        {
         "line": {
          "color": "rgba(128, 128, 128, 1.0)",
          "dash": "solid",
          "shape": "linear",
          "width": 1.3
         },
         "marker": {
          "size": 2,
          "symbol": "circle"
         },
         "mode": "markers",
         "name": "B",
         "text": "",
         "type": "scatter",
         "x": [
          0.5189726602233986,
          -0.09129733315409432,
          0.1232450306540208,
          -1.1698580196273767,
          -0.04934799474724009,
          -1.0001989210507714,
          0.5671806384021019,
          -0.28322068966089176,
          0.8555481328512194,
          -2.3713348063524196,
          0.27455014331253624,
          -0.7645072216676173,
          0.009307993448969716,
          0.3343775413198073,
          -1.2046224912048202,
          0.7413828651746952,
          0.4615406725797837,
          -1.2669350311968313,
          -0.206471635708302,
          -1.0687192524195723,
          1.158143552837741,
          -1.6594438359757115,
          0.8786415727511163,
          0.8618120176457761,
          -1.501183653156108,
          0.411665844779012,
          1.8727217322971192,
          -0.09692668792631587,
          -0.24644458423235868,
          -0.5232506859459267,
          -0.47758769627830877,
          0.18243714102800973,
          -2.3370642938658537,
          -1.8018043637588312,
          -1.870929987970339,
          0.8683836430926027,
          -0.16384969934716526,
          -1.1272793605378462,
          -1.696879722687243,
          0.7803404884546775,
          -0.35183954212625357,
          0.23508808803152917,
          -1.860281736205346,
          0.17863224075601442,
          -0.41598731174391135,
          1.5465734315420336,
          0.13391237276777,
          0.22546968713775464,
          -1.4280462028944116,
          -2.144388215577554,
          1.6654778132648989,
          -0.4134961144007236,
          0.32398281812293517,
          -0.5135466930834046,
          -1.1883419275290195,
          0.30158716822126985,
          -0.26610784830215434,
          -0.09465805847480475,
          -0.7200737767470347,
          -0.9164077836785587,
          1.6856301459780483,
          -1.2188237072435504,
          -0.484695122602499,
          -0.4479755552260965,
          -1.2829861550124635,
          -0.2668949890344071,
          -0.29167000944686006,
          -0.24165020645813834,
          0.7848481932228031,
          0.7827043654352501,
          -0.08514518620383253,
          0.693585834540342,
          -0.08846670193598202,
          1.048411574235362,
          0.02364572431188195,
          -0.18204325608428804,
          1.3286872900926754,
          -0.6877893356884016,
          -0.7554584348984519,
          0.15582072289182852,
          -0.6040671721288594,
          -0.2804775497038172,
          1.2423593013253391,
          0.49894076286355454,
          0.006366188841875799,
          -0.06276809632860639,
          1.0922551650960837,
          1.0494241728382323,
          -1.2545572237268587,
          0.85454698485536,
          -1.0565770016989955,
          0.4272278508761094,
          0.5260487566362079,
          0.3612195036176259,
          1.3512716106464608,
          -1.950044478595946,
          -1.2573193534478841,
          -0.25056150412233086,
          0.7037066439697688,
          -1.7049248033653637
         ],
         "xaxis": "x8",
         "y": [
          0.6307750025445071,
          2.1165649393990944,
          -0.13402531428069492,
          -1.0980616376530266,
          -2.434586496069079,
          -1.3053078896558565,
          -0.07090686858487011,
          0.2058256171970834,
          -0.399262838679452,
          -0.14038606848181132,
          0.9187536646281099,
          -0.8442053961123566,
          -0.2203312366099077,
          0.6148352056947539,
          0.5487157074264113,
          -0.8815647579995127,
          -0.34319730713674246,
          -1.0520874575465975,
          -0.5654422884296576,
          -0.09868497816887367,
          -0.4968289089377307,
          0.2716017943118359,
          0.9226989164424838,
          -0.5239432560546522,
          -0.8805108560299565,
          1.0291913615050854,
          -0.09431283356381821,
          -0.9703360343139987,
          0.47166862549484884,
          -1.2700349012817091,
          0.413275586679944,
          -0.04254191220658984,
          -0.3338980359576901,
          -0.675195513492032,
          1.550294420863555,
          1.1516766730039087,
          0.6535287491249111,
          0.6144648993585563,
          0.789565666569126,
          -0.3433168130690615,
          -0.05275694170220859,
          0.3020462133498991,
          -0.06943522706603063,
          -0.35192362829665536,
          0.6126596333884724,
          1.5578365933599612,
          -0.1253060804619179,
          -1.3902002070743285,
          -0.8174637537749673,
          0.11333678312936613,
          1.3356891122813224,
          0.19964929894159641,
          0.08236990727602006,
          1.2201019912024953,
          -0.5511844759854739,
          -0.8289846840857326,
          0.33884864688721744,
          1.0881768989607006,
          -0.7703403348773846,
          -0.2946516470282624,
          0.06536745681673374,
          0.7892622385305326,
          1.6351318760725766,
          -0.3738887659267329,
          0.5705852579762929,
          1.7567400703602254,
          1.5658507756576097,
          -0.32738934219238813,
          -3.4188171677438355,
          -0.8446793972616198,
          -0.0745933598454902,
          0.9009946023546918,
          0.04500369804380455,
          -0.16211529173578793,
          -1.612928599166473,
          -0.010132569394765995,
          0.17953472500659787,
          0.0064179642326903244,
          0.1326959809776376,
          1.946233101865483,
          0.03252092127965211,
          -0.5130179934757979,
          0.1429766964487547,
          -1.0395116288148776,
          -1.160703594319139,
          0.4435732597243696,
          1.5891745109922495,
          0.31166755938333734,
          -0.9900532640822058,
          0.6440787128368036,
          0.5558862615610557,
          0.2982157252903566,
          0.653861307961139,
          -0.9103614368183744,
          -0.20579788187733009,
          1.2582778382184772,
          -0.8122835465461327,
          -0.2767951603430714,
          -1.3958080501251722,
          0.6847098823556407
         ],
         "yaxis": "y8"
        },
        {
         "line": {
          "color": "rgba(128, 128, 128, 1.0)",
          "dash": "solid",
          "shape": "linear",
          "width": 1.3
         },
         "marker": {
          "size": 2,
          "symbol": "circle"
         },
         "mode": "markers",
         "name": "C",
         "text": "",
         "type": "scatter",
         "x": [
          -1.4138153976580274,
          0.08455022128887005,
          1.5471984510871117,
          1.6967637029976672,
          -0.7507050193197625,
          0.6144492892274529,
          0.10523618232753329,
          1.207121390424313,
          1.7326766078557791,
          -0.21328491944561068,
          2.008579499791018,
          0.21547481593456028,
          0.3808402686537413,
          -0.06092935790697329,
          0.8370766754499239,
          0.8274287807229304,
          -0.4126127693231269,
          -0.16929922544402398,
          0.7208595301409876,
          0.7733136383374829,
          -0.28892514206321673,
          -0.8762071774130635,
          -0.80619652439963,
          1.2305229116274847,
          -0.38858088186267853,
          0.7897841741518612,
          -0.8489199189374191,
          -1.3654506088764375,
          0.48549328430965677,
          0.35924680412438875,
          1.1114054429854745,
          0.0886027064970111,
          -0.4636103442398656,
          -0.20840951954222545,
          0.1405922012276346,
          -0.24064485943761077,
          -0.8334111091782375,
          1.842590317603657,
          -0.3371466088321572,
          -0.2034175748337479,
          -2.3459567831821633,
          -0.4017961959202484,
          0.4723198933313565,
          0.7501448239663938,
          -1.0693669073862617,
          1.5986290804606074,
          -0.24461314844453189,
          0.10368147740607012,
          -1.4969890118186504,
          -0.12435682418267893,
          1.274839898045271,
          -0.5169915646947392,
          -1.0712305609778643,
          -0.48659733893741813,
          0.3587922256913342,
          1.0999910285647592,
          0.9149839476261293,
          -0.486099575812348,
          -0.7608301228828495,
          -0.43453947979910407,
          -0.4378707689182603,
          0.01856409953642223,
          0.3832610655005692,
          -2.0933524665046948,
          1.7283265223487883,
          0.9869190365137367,
          0.40571454260259016,
          -0.5152470857611197,
          0.8786939279620871,
          0.4279175871191947,
          -2.601024184701134,
          -0.683284735855935,
          0.849927363712278,
          0.8857275580349077,
          1.2882816361582505,
          -0.519059352346447,
          -0.6904750615623734,
          0.8241614462286408,
          -0.46459047977908063,
          0.11913998254705363,
          0.13758868739779878,
          0.24332496851049237,
          0.018205797429998904,
          0.358933107643315,
          1.1315519087511798,
          -0.7637852405135656,
          0.3135604813218632,
          0.2377824938105682,
          1.2657677242286454,
          0.7290062940756441,
          0.6480948280599899,
          -0.1565135938137894,
          0.4133359631767297,
          0.7647690463317591,
          -1.4126303876542592,
          -0.24760521350475748,
          1.5285367941102805,
          -1.1365724953019072,
          0.21258239309873145,
          1.4010067851622496
         ],
         "xaxis": "x9",
         "y": [
          -0.46340373251531897,
          -1.2458082668067412,
          -1.2544869635350833,
          0.7992798174825069,
          -0.6920536741082177,
          -0.9039402715935553,
          -0.5318693601620845,
          0.36622384671901065,
          1.734636291744235,
          0.4919645545584108,
          -1.2114597598608754,
          0.45078559077266145,
          0.1572546695747489,
          0.2931161256889199,
          -2.019960738755273,
          1.9786741394069225,
          -0.25705990841031306,
          0.6258033617564331,
          -0.565313370019214,
          -0.871242691574864,
          -0.9072413358597263,
          -0.4352159828031252,
          -0.3152789420605196,
          0.3343274016001478,
          -0.8355510389853845,
          -0.08063233193136128,
          1.2085798566116208,
          -1.4467876496884895,
          0.38203123547837603,
          0.46426729140012724,
          1.6401217079434836,
          -0.854238034593468,
          1.5407210744037485,
          -0.14436325819618617,
          -0.2605810656404103,
          -1.0667650476360888,
          -1.056067245591354,
          1.9574704984813092,
          -0.28548161395355387,
          0.3630299765906264,
          1.8717410623106905,
          -1.2885519087872637,
          0.2047593692732163,
          -0.5974228245989848,
          1.6814383513171696,
          0.820360064671196,
          -0.17586988934263895,
          -0.4083214975570279,
          -0.05674128881314127,
          -1.8152612188116326,
          -0.8864130113250144,
          1.4603451453226415,
          1.4297458915209527,
          0.6231188334979672,
          -0.8101152307172,
          1.6812865981628995,
          0.2536332988253022,
          -0.21639811344208956,
          -0.7350529452943216,
          -0.148659510206894,
          0.3782443081771902,
          -1.2849059090569048,
          -1.9032548143075259,
          -0.39613707656414376,
          0.40350296821948145,
          -0.11486122769817589,
          -0.0305981534114856,
          -0.27470397798688656,
          -1.3120954580845827,
          0.8276891494136229,
          -0.980367071594073,
          -0.04462247327438354,
          1.7759901461121241,
          0.19542388409024997,
          -0.13794027312975354,
          -2.244810442035269,
          1.140100134219041,
          -0.07762929188667533,
          0.9865114345836813,
          -0.33191983063864333,
          -0.4927775935775253,
          -0.41706644247887215,
          -0.9506510221488315,
          0.32331265996069625,
          0.12018968834740629,
          1.1090243442109413,
          -0.15391658451186283,
          -1.8478056324649534,
          0.7164486019595993,
          -1.0500354676498393,
          -2.573872198975193,
          -0.805911709339272,
          -0.369358056939599,
          0.5729898387862129,
          1.619496005508339,
          0.381073260793748,
          0.5465425470776235,
          0.8295352203740076,
          0.6860406524629331,
          -1.4466022690225124
         ],
         "yaxis": "y9"
        },
        {
         "line": {
          "color": "rgba(128, 128, 128, 1.0)",
          "dash": "solid",
          "shape": "linear",
          "width": 1.3
         },
         "marker": {
          "size": 2,
          "symbol": "circle"
         },
         "mode": "markers",
         "name": "C",
         "text": "",
         "type": "scatter",
         "x": [
          0.6307750025445071,
          2.1165649393990944,
          -0.13402531428069492,
          -1.0980616376530266,
          -2.434586496069079,
          -1.3053078896558565,
          -0.07090686858487011,
          0.2058256171970834,
          -0.399262838679452,
          -0.14038606848181132,
          0.9187536646281099,
          -0.8442053961123566,
          -0.2203312366099077,
          0.6148352056947539,
          0.5487157074264113,
          -0.8815647579995127,
          -0.34319730713674246,
          -1.0520874575465975,
          -0.5654422884296576,
          -0.09868497816887367,
          -0.4968289089377307,
          0.2716017943118359,
          0.9226989164424838,
          -0.5239432560546522,
          -0.8805108560299565,
          1.0291913615050854,
          -0.09431283356381821,
          -0.9703360343139987,
          0.47166862549484884,
          -1.2700349012817091,
          0.413275586679944,
          -0.04254191220658984,
          -0.3338980359576901,
          -0.675195513492032,
          1.550294420863555,
          1.1516766730039087,
          0.6535287491249111,
          0.6144648993585563,
          0.789565666569126,
          -0.3433168130690615,
          -0.05275694170220859,
          0.3020462133498991,
          -0.06943522706603063,
          -0.35192362829665536,
          0.6126596333884724,
          1.5578365933599612,
          -0.1253060804619179,
          -1.3902002070743285,
          -0.8174637537749673,
          0.11333678312936613,
          1.3356891122813224,
          0.19964929894159641,
          0.08236990727602006,
          1.2201019912024953,
          -0.5511844759854739,
          -0.8289846840857326,
          0.33884864688721744,
          1.0881768989607006,
          -0.7703403348773846,
          -0.2946516470282624,
          0.06536745681673374,
          0.7892622385305326,
          1.6351318760725766,
          -0.3738887659267329,
          0.5705852579762929,
          1.7567400703602254,
          1.5658507756576097,
          -0.32738934219238813,
          -3.4188171677438355,
          -0.8446793972616198,
          -0.0745933598454902,
          0.9009946023546918,
          0.04500369804380455,
          -0.16211529173578793,
          -1.612928599166473,
          -0.010132569394765995,
          0.17953472500659787,
          0.0064179642326903244,
          0.1326959809776376,
          1.946233101865483,
          0.03252092127965211,
          -0.5130179934757979,
          0.1429766964487547,
          -1.0395116288148776,
          -1.160703594319139,
          0.4435732597243696,
          1.5891745109922495,
          0.31166755938333734,
          -0.9900532640822058,
          0.6440787128368036,
          0.5558862615610557,
          0.2982157252903566,
          0.653861307961139,
          -0.9103614368183744,
          -0.20579788187733009,
          1.2582778382184772,
          -0.8122835465461327,
          -0.2767951603430714,
          -1.3958080501251722,
          0.6847098823556407
         ],
         "xaxis": "x10",
         "y": [
          -0.46340373251531897,
          -1.2458082668067412,
          -1.2544869635350833,
          0.7992798174825069,
          -0.6920536741082177,
          -0.9039402715935553,
          -0.5318693601620845,
          0.36622384671901065,
          1.734636291744235,
          0.4919645545584108,
          -1.2114597598608754,
          0.45078559077266145,
          0.1572546695747489,
          0.2931161256889199,
          -2.019960738755273,
          1.9786741394069225,
          -0.25705990841031306,
          0.6258033617564331,
          -0.565313370019214,
          -0.871242691574864,
          -0.9072413358597263,
          -0.4352159828031252,
          -0.3152789420605196,
          0.3343274016001478,
          -0.8355510389853845,
          -0.08063233193136128,
          1.2085798566116208,
          -1.4467876496884895,
          0.38203123547837603,
          0.46426729140012724,
          1.6401217079434836,
          -0.854238034593468,
          1.5407210744037485,
          -0.14436325819618617,
          -0.2605810656404103,
          -1.0667650476360888,
          -1.056067245591354,
          1.9574704984813092,
          -0.28548161395355387,
          0.3630299765906264,
          1.8717410623106905,
          -1.2885519087872637,
          0.2047593692732163,
          -0.5974228245989848,
          1.6814383513171696,
          0.820360064671196,
          -0.17586988934263895,
          -0.4083214975570279,
          -0.05674128881314127,
          -1.8152612188116326,
          -0.8864130113250144,
          1.4603451453226415,
          1.4297458915209527,
          0.6231188334979672,
          -0.8101152307172,
          1.6812865981628995,
          0.2536332988253022,
          -0.21639811344208956,
          -0.7350529452943216,
          -0.148659510206894,
          0.3782443081771902,
          -1.2849059090569048,
          -1.9032548143075259,
          -0.39613707656414376,
          0.40350296821948145,
          -0.11486122769817589,
          -0.0305981534114856,
          -0.27470397798688656,
          -1.3120954580845827,
          0.8276891494136229,
          -0.980367071594073,
          -0.04462247327438354,
          1.7759901461121241,
          0.19542388409024997,
          -0.13794027312975354,
          -2.244810442035269,
          1.140100134219041,
          -0.07762929188667533,
          0.9865114345836813,
          -0.33191983063864333,
          -0.4927775935775253,
          -0.41706644247887215,
          -0.9506510221488315,
          0.32331265996069625,
          0.12018968834740629,
          1.1090243442109413,
          -0.15391658451186283,
          -1.8478056324649534,
          0.7164486019595993,
          -1.0500354676498393,
          -2.573872198975193,
          -0.805911709339272,
          -0.369358056939599,
          0.5729898387862129,
          1.619496005508339,
          0.381073260793748,
          0.5465425470776235,
          0.8295352203740076,
          0.6860406524629331,
          -1.4466022690225124
         ],
         "yaxis": "y10"
        },
        {
         "histfunc": "count",
         "histnorm": "",
         "marker": {
          "color": "rgba(50, 171, 96, 1.0)",
          "line": {
           "color": "#4D5663",
           "width": 1.3
          }
         },
         "name": "C",
         "nbinsx": 10,
         "opacity": 0.8,
         "orientation": "v",
         "type": "histogram",
         "x": [
          -0.46340373251531897,
          -1.2458082668067412,
          -1.2544869635350833,
          0.7992798174825069,
          -0.6920536741082177,
          -0.9039402715935553,
          -0.5318693601620845,
          0.36622384671901065,
          1.734636291744235,
          0.4919645545584108,
          -1.2114597598608754,
          0.45078559077266145,
          0.1572546695747489,
          0.2931161256889199,
          -2.019960738755273,
          1.9786741394069225,
          -0.25705990841031306,
          0.6258033617564331,
          -0.565313370019214,
          -0.871242691574864,
          -0.9072413358597263,
          -0.4352159828031252,
          -0.3152789420605196,
          0.3343274016001478,
          -0.8355510389853845,
          -0.08063233193136128,
          1.2085798566116208,
          -1.4467876496884895,
          0.38203123547837603,
          0.46426729140012724,
          1.6401217079434836,
          -0.854238034593468,
          1.5407210744037485,
          -0.14436325819618617,
          -0.2605810656404103,
          -1.0667650476360888,
          -1.056067245591354,
          1.9574704984813092,
          -0.28548161395355387,
          0.3630299765906264,
          1.8717410623106905,
          -1.2885519087872637,
          0.2047593692732163,
          -0.5974228245989848,
          1.6814383513171696,
          0.820360064671196,
          -0.17586988934263895,
          -0.4083214975570279,
          -0.05674128881314127,
          -1.8152612188116326,
          -0.8864130113250144,
          1.4603451453226415,
          1.4297458915209527,
          0.6231188334979672,
          -0.8101152307172,
          1.6812865981628995,
          0.2536332988253022,
          -0.21639811344208956,
          -0.7350529452943216,
          -0.148659510206894,
          0.3782443081771902,
          -1.2849059090569048,
          -1.9032548143075259,
          -0.39613707656414376,
          0.40350296821948145,
          -0.11486122769817589,
          -0.0305981534114856,
          -0.27470397798688656,
          -1.3120954580845827,
          0.8276891494136229,
          -0.980367071594073,
          -0.04462247327438354,
          1.7759901461121241,
          0.19542388409024997,
          -0.13794027312975354,
          -2.244810442035269,
          1.140100134219041,
          -0.07762929188667533,
          0.9865114345836813,
          -0.33191983063864333,
          -0.4927775935775253,
          -0.41706644247887215,
          -0.9506510221488315,
          0.32331265996069625,
          0.12018968834740629,
          1.1090243442109413,
          -0.15391658451186283,
          -1.8478056324649534,
          0.7164486019595993,
          -1.0500354676498393,
          -2.573872198975193,
          -0.805911709339272,
          -0.369358056939599,
          0.5729898387862129,
          1.619496005508339,
          0.381073260793748,
          0.5465425470776235,
          0.8295352203740076,
          0.6860406524629331,
          -1.4466022690225124
         ],
         "xaxis": "x11",
         "yaxis": "y11"
        },
        {
         "line": {
          "color": "rgba(128, 128, 128, 1.0)",
          "dash": "solid",
          "shape": "linear",
          "width": 1.3
         },
         "marker": {
          "size": 2,
          "symbol": "circle"
         },
         "mode": "markers",
         "name": "C",
         "text": "",
         "type": "scatter",
         "x": [
          0.5189726602233986,
          -0.09129733315409432,
          0.1232450306540208,
          -1.1698580196273767,
          -0.04934799474724009,
          -1.0001989210507714,
          0.5671806384021019,
          -0.28322068966089176,
          0.8555481328512194,
          -2.3713348063524196,
          0.27455014331253624,
          -0.7645072216676173,
          0.009307993448969716,
          0.3343775413198073,
          -1.2046224912048202,
          0.7413828651746952,
          0.4615406725797837,
          -1.2669350311968313,
          -0.206471635708302,
          -1.0687192524195723,
          1.158143552837741,
          -1.6594438359757115,
          0.8786415727511163,
          0.8618120176457761,
          -1.501183653156108,
          0.411665844779012,
          1.8727217322971192,
          -0.09692668792631587,
          -0.24644458423235868,
          -0.5232506859459267,
          -0.47758769627830877,
          0.18243714102800973,
          -2.3370642938658537,
          -1.8018043637588312,
          -1.870929987970339,
          0.8683836430926027,
          -0.16384969934716526,
          -1.1272793605378462,
          -1.696879722687243,
          0.7803404884546775,
          -0.35183954212625357,
          0.23508808803152917,
          -1.860281736205346,
          0.17863224075601442,
          -0.41598731174391135,
          1.5465734315420336,
          0.13391237276777,
          0.22546968713775464,
          -1.4280462028944116,
          -2.144388215577554,
          1.6654778132648989,
          -0.4134961144007236,
          0.32398281812293517,
          -0.5135466930834046,
          -1.1883419275290195,
          0.30158716822126985,
          -0.26610784830215434,
          -0.09465805847480475,
          -0.7200737767470347,
          -0.9164077836785587,
          1.6856301459780483,
          -1.2188237072435504,
          -0.484695122602499,
          -0.4479755552260965,
          -1.2829861550124635,
          -0.2668949890344071,
          -0.29167000944686006,
          -0.24165020645813834,
          0.7848481932228031,
          0.7827043654352501,
          -0.08514518620383253,
          0.693585834540342,
          -0.08846670193598202,
          1.048411574235362,
          0.02364572431188195,
          -0.18204325608428804,
          1.3286872900926754,
          -0.6877893356884016,
          -0.7554584348984519,
          0.15582072289182852,
          -0.6040671721288594,
          -0.2804775497038172,
          1.2423593013253391,
          0.49894076286355454,
          0.006366188841875799,
          -0.06276809632860639,
          1.0922551650960837,
          1.0494241728382323,
          -1.2545572237268587,
          0.85454698485536,
          -1.0565770016989955,
          0.4272278508761094,
          0.5260487566362079,
          0.3612195036176259,
          1.3512716106464608,
          -1.950044478595946,
          -1.2573193534478841,
          -0.25056150412233086,
          0.7037066439697688,
          -1.7049248033653637
         ],
         "xaxis": "x12",
         "y": [
          -0.46340373251531897,
          -1.2458082668067412,
          -1.2544869635350833,
          0.7992798174825069,
          -0.6920536741082177,
          -0.9039402715935553,
          -0.5318693601620845,
          0.36622384671901065,
          1.734636291744235,
          0.4919645545584108,
          -1.2114597598608754,
          0.45078559077266145,
          0.1572546695747489,
          0.2931161256889199,
          -2.019960738755273,
          1.9786741394069225,
          -0.25705990841031306,
          0.6258033617564331,
          -0.565313370019214,
          -0.871242691574864,
          -0.9072413358597263,
          -0.4352159828031252,
          -0.3152789420605196,
          0.3343274016001478,
          -0.8355510389853845,
          -0.08063233193136128,
          1.2085798566116208,
          -1.4467876496884895,
          0.38203123547837603,
          0.46426729140012724,
          1.6401217079434836,
          -0.854238034593468,
          1.5407210744037485,
          -0.14436325819618617,
          -0.2605810656404103,
          -1.0667650476360888,
          -1.056067245591354,
          1.9574704984813092,
          -0.28548161395355387,
          0.3630299765906264,
          1.8717410623106905,
          -1.2885519087872637,
          0.2047593692732163,
          -0.5974228245989848,
          1.6814383513171696,
          0.820360064671196,
          -0.17586988934263895,
          -0.4083214975570279,
          -0.05674128881314127,
          -1.8152612188116326,
          -0.8864130113250144,
          1.4603451453226415,
          1.4297458915209527,
          0.6231188334979672,
          -0.8101152307172,
          1.6812865981628995,
          0.2536332988253022,
          -0.21639811344208956,
          -0.7350529452943216,
          -0.148659510206894,
          0.3782443081771902,
          -1.2849059090569048,
          -1.9032548143075259,
          -0.39613707656414376,
          0.40350296821948145,
          -0.11486122769817589,
          -0.0305981534114856,
          -0.27470397798688656,
          -1.3120954580845827,
          0.8276891494136229,
          -0.980367071594073,
          -0.04462247327438354,
          1.7759901461121241,
          0.19542388409024997,
          -0.13794027312975354,
          -2.244810442035269,
          1.140100134219041,
          -0.07762929188667533,
          0.9865114345836813,
          -0.33191983063864333,
          -0.4927775935775253,
          -0.41706644247887215,
          -0.9506510221488315,
          0.32331265996069625,
          0.12018968834740629,
          1.1090243442109413,
          -0.15391658451186283,
          -1.8478056324649534,
          0.7164486019595993,
          -1.0500354676498393,
          -2.573872198975193,
          -0.805911709339272,
          -0.369358056939599,
          0.5729898387862129,
          1.619496005508339,
          0.381073260793748,
          0.5465425470776235,
          0.8295352203740076,
          0.6860406524629331,
          -1.4466022690225124
         ],
         "yaxis": "y12"
        },
        {
         "line": {
          "color": "rgba(128, 128, 128, 1.0)",
          "dash": "solid",
          "shape": "linear",
          "width": 1.3
         },
         "marker": {
          "size": 2,
          "symbol": "circle"
         },
         "mode": "markers",
         "name": "D",
         "text": "",
         "type": "scatter",
         "x": [
          -1.4138153976580274,
          0.08455022128887005,
          1.5471984510871117,
          1.6967637029976672,
          -0.7507050193197625,
          0.6144492892274529,
          0.10523618232753329,
          1.207121390424313,
          1.7326766078557791,
          -0.21328491944561068,
          2.008579499791018,
          0.21547481593456028,
          0.3808402686537413,
          -0.06092935790697329,
          0.8370766754499239,
          0.8274287807229304,
          -0.4126127693231269,
          -0.16929922544402398,
          0.7208595301409876,
          0.7733136383374829,
          -0.28892514206321673,
          -0.8762071774130635,
          -0.80619652439963,
          1.2305229116274847,
          -0.38858088186267853,
          0.7897841741518612,
          -0.8489199189374191,
          -1.3654506088764375,
          0.48549328430965677,
          0.35924680412438875,
          1.1114054429854745,
          0.0886027064970111,
          -0.4636103442398656,
          -0.20840951954222545,
          0.1405922012276346,
          -0.24064485943761077,
          -0.8334111091782375,
          1.842590317603657,
          -0.3371466088321572,
          -0.2034175748337479,
          -2.3459567831821633,
          -0.4017961959202484,
          0.4723198933313565,
          0.7501448239663938,
          -1.0693669073862617,
          1.5986290804606074,
          -0.24461314844453189,
          0.10368147740607012,
          -1.4969890118186504,
          -0.12435682418267893,
          1.274839898045271,
          -0.5169915646947392,
          -1.0712305609778643,
          -0.48659733893741813,
          0.3587922256913342,
          1.0999910285647592,
          0.9149839476261293,
          -0.486099575812348,
          -0.7608301228828495,
          -0.43453947979910407,
          -0.4378707689182603,
          0.01856409953642223,
          0.3832610655005692,
          -2.0933524665046948,
          1.7283265223487883,
          0.9869190365137367,
          0.40571454260259016,
          -0.5152470857611197,
          0.8786939279620871,
          0.4279175871191947,
          -2.601024184701134,
          -0.683284735855935,
          0.849927363712278,
          0.8857275580349077,
          1.2882816361582505,
          -0.519059352346447,
          -0.6904750615623734,
          0.8241614462286408,
          -0.46459047977908063,
          0.11913998254705363,
          0.13758868739779878,
          0.24332496851049237,
          0.018205797429998904,
          0.358933107643315,
          1.1315519087511798,
          -0.7637852405135656,
          0.3135604813218632,
          0.2377824938105682,
          1.2657677242286454,
          0.7290062940756441,
          0.6480948280599899,
          -0.1565135938137894,
          0.4133359631767297,
          0.7647690463317591,
          -1.4126303876542592,
          -0.24760521350475748,
          1.5285367941102805,
          -1.1365724953019072,
          0.21258239309873145,
          1.4010067851622496
         ],
         "xaxis": "x13",
         "y": [
          0.5189726602233986,
          -0.09129733315409432,
          0.1232450306540208,
          -1.1698580196273767,
          -0.04934799474724009,
          -1.0001989210507714,
          0.5671806384021019,
          -0.28322068966089176,
          0.8555481328512194,
          -2.3713348063524196,
          0.27455014331253624,
          -0.7645072216676173,
          0.009307993448969716,
          0.3343775413198073,
          -1.2046224912048202,
          0.7413828651746952,
          0.4615406725797837,
          -1.2669350311968313,
          -0.206471635708302,
          -1.0687192524195723,
          1.158143552837741,
          -1.6594438359757115,
          0.8786415727511163,
          0.8618120176457761,
          -1.501183653156108,
          0.411665844779012,
          1.8727217322971192,
          -0.09692668792631587,
          -0.24644458423235868,
          -0.5232506859459267,
          -0.47758769627830877,
          0.18243714102800973,
          -2.3370642938658537,
          -1.8018043637588312,
          -1.870929987970339,
          0.8683836430926027,
          -0.16384969934716526,
          -1.1272793605378462,
          -1.696879722687243,
          0.7803404884546775,
          -0.35183954212625357,
          0.23508808803152917,
          -1.860281736205346,
          0.17863224075601442,
          -0.41598731174391135,
          1.5465734315420336,
          0.13391237276777,
          0.22546968713775464,
          -1.4280462028944116,
          -2.144388215577554,
          1.6654778132648989,
          -0.4134961144007236,
          0.32398281812293517,
          -0.5135466930834046,
          -1.1883419275290195,
          0.30158716822126985,
          -0.26610784830215434,
          -0.09465805847480475,
          -0.7200737767470347,
          -0.9164077836785587,
          1.6856301459780483,
          -1.2188237072435504,
          -0.484695122602499,
          -0.4479755552260965,
          -1.2829861550124635,
          -0.2668949890344071,
          -0.29167000944686006,
          -0.24165020645813834,
          0.7848481932228031,
          0.7827043654352501,
          -0.08514518620383253,
          0.693585834540342,
          -0.08846670193598202,
          1.048411574235362,
          0.02364572431188195,
          -0.18204325608428804,
          1.3286872900926754,
          -0.6877893356884016,
          -0.7554584348984519,
          0.15582072289182852,
          -0.6040671721288594,
          -0.2804775497038172,
          1.2423593013253391,
          0.49894076286355454,
          0.006366188841875799,
          -0.06276809632860639,
          1.0922551650960837,
          1.0494241728382323,
          -1.2545572237268587,
          0.85454698485536,
          -1.0565770016989955,
          0.4272278508761094,
          0.5260487566362079,
          0.3612195036176259,
          1.3512716106464608,
          -1.950044478595946,
          -1.2573193534478841,
          -0.25056150412233086,
          0.7037066439697688,
          -1.7049248033653637
         ],
         "yaxis": "y13"
        },
        {
         "line": {
          "color": "rgba(128, 128, 128, 1.0)",
          "dash": "solid",
          "shape": "linear",
          "width": 1.3
         },
         "marker": {
          "size": 2,
          "symbol": "circle"
         },
         "mode": "markers",
         "name": "D",
         "text": "",
         "type": "scatter",
         "x": [
          0.6307750025445071,
          2.1165649393990944,
          -0.13402531428069492,
          -1.0980616376530266,
          -2.434586496069079,
          -1.3053078896558565,
          -0.07090686858487011,
          0.2058256171970834,
          -0.399262838679452,
          -0.14038606848181132,
          0.9187536646281099,
          -0.8442053961123566,
          -0.2203312366099077,
          0.6148352056947539,
          0.5487157074264113,
          -0.8815647579995127,
          -0.34319730713674246,
          -1.0520874575465975,
          -0.5654422884296576,
          -0.09868497816887367,
          -0.4968289089377307,
          0.2716017943118359,
          0.9226989164424838,
          -0.5239432560546522,
          -0.8805108560299565,
          1.0291913615050854,
          -0.09431283356381821,
          -0.9703360343139987,
          0.47166862549484884,
          -1.2700349012817091,
          0.413275586679944,
          -0.04254191220658984,
          -0.3338980359576901,
          -0.675195513492032,
          1.550294420863555,
          1.1516766730039087,
          0.6535287491249111,
          0.6144648993585563,
          0.789565666569126,
          -0.3433168130690615,
          -0.05275694170220859,
          0.3020462133498991,
          -0.06943522706603063,
          -0.35192362829665536,
          0.6126596333884724,
          1.5578365933599612,
          -0.1253060804619179,
          -1.3902002070743285,
          -0.8174637537749673,
          0.11333678312936613,
          1.3356891122813224,
          0.19964929894159641,
          0.08236990727602006,
          1.2201019912024953,
          -0.5511844759854739,
          -0.8289846840857326,
          0.33884864688721744,
          1.0881768989607006,
          -0.7703403348773846,
          -0.2946516470282624,
          0.06536745681673374,
          0.7892622385305326,
          1.6351318760725766,
          -0.3738887659267329,
          0.5705852579762929,
          1.7567400703602254,
          1.5658507756576097,
          -0.32738934219238813,
          -3.4188171677438355,
          -0.8446793972616198,
          -0.0745933598454902,
          0.9009946023546918,
          0.04500369804380455,
          -0.16211529173578793,
          -1.612928599166473,
          -0.010132569394765995,
          0.17953472500659787,
          0.0064179642326903244,
          0.1326959809776376,
          1.946233101865483,
          0.03252092127965211,
          -0.5130179934757979,
          0.1429766964487547,
          -1.0395116288148776,
          -1.160703594319139,
          0.4435732597243696,
          1.5891745109922495,
          0.31166755938333734,
          -0.9900532640822058,
          0.6440787128368036,
          0.5558862615610557,
          0.2982157252903566,
          0.653861307961139,
          -0.9103614368183744,
          -0.20579788187733009,
          1.2582778382184772,
          -0.8122835465461327,
          -0.2767951603430714,
          -1.3958080501251722,
          0.6847098823556407
         ],
         "xaxis": "x14",
         "y": [
          0.5189726602233986,
          -0.09129733315409432,
          0.1232450306540208,
          -1.1698580196273767,
          -0.04934799474724009,
          -1.0001989210507714,
          0.5671806384021019,
          -0.28322068966089176,
          0.8555481328512194,
          -2.3713348063524196,
          0.27455014331253624,
          -0.7645072216676173,
          0.009307993448969716,
          0.3343775413198073,
          -1.2046224912048202,
          0.7413828651746952,
          0.4615406725797837,
          -1.2669350311968313,
          -0.206471635708302,
          -1.0687192524195723,
          1.158143552837741,
          -1.6594438359757115,
          0.8786415727511163,
          0.8618120176457761,
          -1.501183653156108,
          0.411665844779012,
          1.8727217322971192,
          -0.09692668792631587,
          -0.24644458423235868,
          -0.5232506859459267,
          -0.47758769627830877,
          0.18243714102800973,
          -2.3370642938658537,
          -1.8018043637588312,
          -1.870929987970339,
          0.8683836430926027,
          -0.16384969934716526,
          -1.1272793605378462,
          -1.696879722687243,
          0.7803404884546775,
          -0.35183954212625357,
          0.23508808803152917,
          -1.860281736205346,
          0.17863224075601442,
          -0.41598731174391135,
          1.5465734315420336,
          0.13391237276777,
          0.22546968713775464,
          -1.4280462028944116,
          -2.144388215577554,
          1.6654778132648989,
          -0.4134961144007236,
          0.32398281812293517,
          -0.5135466930834046,
          -1.1883419275290195,
          0.30158716822126985,
          -0.26610784830215434,
          -0.09465805847480475,
          -0.7200737767470347,
          -0.9164077836785587,
          1.6856301459780483,
          -1.2188237072435504,
          -0.484695122602499,
          -0.4479755552260965,
          -1.2829861550124635,
          -0.2668949890344071,
          -0.29167000944686006,
          -0.24165020645813834,
          0.7848481932228031,
          0.7827043654352501,
          -0.08514518620383253,
          0.693585834540342,
          -0.08846670193598202,
          1.048411574235362,
          0.02364572431188195,
          -0.18204325608428804,
          1.3286872900926754,
          -0.6877893356884016,
          -0.7554584348984519,
          0.15582072289182852,
          -0.6040671721288594,
          -0.2804775497038172,
          1.2423593013253391,
          0.49894076286355454,
          0.006366188841875799,
          -0.06276809632860639,
          1.0922551650960837,
          1.0494241728382323,
          -1.2545572237268587,
          0.85454698485536,
          -1.0565770016989955,
          0.4272278508761094,
          0.5260487566362079,
          0.3612195036176259,
          1.3512716106464608,
          -1.950044478595946,
          -1.2573193534478841,
          -0.25056150412233086,
          0.7037066439697688,
          -1.7049248033653637
         ],
         "yaxis": "y14"
        },
        {
         "line": {
          "color": "rgba(128, 128, 128, 1.0)",
          "dash": "solid",
          "shape": "linear",
          "width": 1.3
         },
         "marker": {
          "size": 2,
          "symbol": "circle"
         },
         "mode": "markers",
         "name": "D",
         "text": "",
         "type": "scatter",
         "x": [
          -0.46340373251531897,
          -1.2458082668067412,
          -1.2544869635350833,
          0.7992798174825069,
          -0.6920536741082177,
          -0.9039402715935553,
          -0.5318693601620845,
          0.36622384671901065,
          1.734636291744235,
          0.4919645545584108,
          -1.2114597598608754,
          0.45078559077266145,
          0.1572546695747489,
          0.2931161256889199,
          -2.019960738755273,
          1.9786741394069225,
          -0.25705990841031306,
          0.6258033617564331,
          -0.565313370019214,
          -0.871242691574864,
          -0.9072413358597263,
          -0.4352159828031252,
          -0.3152789420605196,
          0.3343274016001478,
          -0.8355510389853845,
          -0.08063233193136128,
          1.2085798566116208,
          -1.4467876496884895,
          0.38203123547837603,
          0.46426729140012724,
          1.6401217079434836,
          -0.854238034593468,
          1.5407210744037485,
          -0.14436325819618617,
          -0.2605810656404103,
          -1.0667650476360888,
          -1.056067245591354,
          1.9574704984813092,
          -0.28548161395355387,
          0.3630299765906264,
          1.8717410623106905,
          -1.2885519087872637,
          0.2047593692732163,
          -0.5974228245989848,
          1.6814383513171696,
          0.820360064671196,
          -0.17586988934263895,
          -0.4083214975570279,
          -0.05674128881314127,
          -1.8152612188116326,
          -0.8864130113250144,
          1.4603451453226415,
          1.4297458915209527,
          0.6231188334979672,
          -0.8101152307172,
          1.6812865981628995,
          0.2536332988253022,
          -0.21639811344208956,
          -0.7350529452943216,
          -0.148659510206894,
          0.3782443081771902,
          -1.2849059090569048,
          -1.9032548143075259,
          -0.39613707656414376,
          0.40350296821948145,
          -0.11486122769817589,
          -0.0305981534114856,
          -0.27470397798688656,
          -1.3120954580845827,
          0.8276891494136229,
          -0.980367071594073,
          -0.04462247327438354,
          1.7759901461121241,
          0.19542388409024997,
          -0.13794027312975354,
          -2.244810442035269,
          1.140100134219041,
          -0.07762929188667533,
          0.9865114345836813,
          -0.33191983063864333,
          -0.4927775935775253,
          -0.41706644247887215,
          -0.9506510221488315,
          0.32331265996069625,
          0.12018968834740629,
          1.1090243442109413,
          -0.15391658451186283,
          -1.8478056324649534,
          0.7164486019595993,
          -1.0500354676498393,
          -2.573872198975193,
          -0.805911709339272,
          -0.369358056939599,
          0.5729898387862129,
          1.619496005508339,
          0.381073260793748,
          0.5465425470776235,
          0.8295352203740076,
          0.6860406524629331,
          -1.4466022690225124
         ],
         "xaxis": "x15",
         "y": [
          0.5189726602233986,
          -0.09129733315409432,
          0.1232450306540208,
          -1.1698580196273767,
          -0.04934799474724009,
          -1.0001989210507714,
          0.5671806384021019,
          -0.28322068966089176,
          0.8555481328512194,
          -2.3713348063524196,
          0.27455014331253624,
          -0.7645072216676173,
          0.009307993448969716,
          0.3343775413198073,
          -1.2046224912048202,
          0.7413828651746952,
          0.4615406725797837,
          -1.2669350311968313,
          -0.206471635708302,
          -1.0687192524195723,
          1.158143552837741,
          -1.6594438359757115,
          0.8786415727511163,
          0.8618120176457761,
          -1.501183653156108,
          0.411665844779012,
          1.8727217322971192,
          -0.09692668792631587,
          -0.24644458423235868,
          -0.5232506859459267,
          -0.47758769627830877,
          0.18243714102800973,
          -2.3370642938658537,
          -1.8018043637588312,
          -1.870929987970339,
          0.8683836430926027,
          -0.16384969934716526,
          -1.1272793605378462,
          -1.696879722687243,
          0.7803404884546775,
          -0.35183954212625357,
          0.23508808803152917,
          -1.860281736205346,
          0.17863224075601442,
          -0.41598731174391135,
          1.5465734315420336,
          0.13391237276777,
          0.22546968713775464,
          -1.4280462028944116,
          -2.144388215577554,
          1.6654778132648989,
          -0.4134961144007236,
          0.32398281812293517,
          -0.5135466930834046,
          -1.1883419275290195,
          0.30158716822126985,
          -0.26610784830215434,
          -0.09465805847480475,
          -0.7200737767470347,
          -0.9164077836785587,
          1.6856301459780483,
          -1.2188237072435504,
          -0.484695122602499,
          -0.4479755552260965,
          -1.2829861550124635,
          -0.2668949890344071,
          -0.29167000944686006,
          -0.24165020645813834,
          0.7848481932228031,
          0.7827043654352501,
          -0.08514518620383253,
          0.693585834540342,
          -0.08846670193598202,
          1.048411574235362,
          0.02364572431188195,
          -0.18204325608428804,
          1.3286872900926754,
          -0.6877893356884016,
          -0.7554584348984519,
          0.15582072289182852,
          -0.6040671721288594,
          -0.2804775497038172,
          1.2423593013253391,
          0.49894076286355454,
          0.006366188841875799,
          -0.06276809632860639,
          1.0922551650960837,
          1.0494241728382323,
          -1.2545572237268587,
          0.85454698485536,
          -1.0565770016989955,
          0.4272278508761094,
          0.5260487566362079,
          0.3612195036176259,
          1.3512716106464608,
          -1.950044478595946,
          -1.2573193534478841,
          -0.25056150412233086,
          0.7037066439697688,
          -1.7049248033653637
         ],
         "yaxis": "y15"
        },
        {
         "histfunc": "count",
         "histnorm": "",
         "marker": {
          "color": "rgba(128, 0, 128, 1.0)",
          "line": {
           "color": "#4D5663",
           "width": 1.3
          }
         },
         "name": "D",
         "nbinsx": 10,
         "opacity": 0.8,
         "orientation": "v",
         "type": "histogram",
         "x": [
          0.5189726602233986,
          -0.09129733315409432,
          0.1232450306540208,
          -1.1698580196273767,
          -0.04934799474724009,
          -1.0001989210507714,
          0.5671806384021019,
          -0.28322068966089176,
          0.8555481328512194,
          -2.3713348063524196,
          0.27455014331253624,
          -0.7645072216676173,
          0.009307993448969716,
          0.3343775413198073,
          -1.2046224912048202,
          0.7413828651746952,
          0.4615406725797837,
          -1.2669350311968313,
          -0.206471635708302,
          -1.0687192524195723,
          1.158143552837741,
          -1.6594438359757115,
          0.8786415727511163,
          0.8618120176457761,
          -1.501183653156108,
          0.411665844779012,
          1.8727217322971192,
          -0.09692668792631587,
          -0.24644458423235868,
          -0.5232506859459267,
          -0.47758769627830877,
          0.18243714102800973,
          -2.3370642938658537,
          -1.8018043637588312,
          -1.870929987970339,
          0.8683836430926027,
          -0.16384969934716526,
          -1.1272793605378462,
          -1.696879722687243,
          0.7803404884546775,
          -0.35183954212625357,
          0.23508808803152917,
          -1.860281736205346,
          0.17863224075601442,
          -0.41598731174391135,
          1.5465734315420336,
          0.13391237276777,
          0.22546968713775464,
          -1.4280462028944116,
          -2.144388215577554,
          1.6654778132648989,
          -0.4134961144007236,
          0.32398281812293517,
          -0.5135466930834046,
          -1.1883419275290195,
          0.30158716822126985,
          -0.26610784830215434,
          -0.09465805847480475,
          -0.7200737767470347,
          -0.9164077836785587,
          1.6856301459780483,
          -1.2188237072435504,
          -0.484695122602499,
          -0.4479755552260965,
          -1.2829861550124635,
          -0.2668949890344071,
          -0.29167000944686006,
          -0.24165020645813834,
          0.7848481932228031,
          0.7827043654352501,
          -0.08514518620383253,
          0.693585834540342,
          -0.08846670193598202,
          1.048411574235362,
          0.02364572431188195,
          -0.18204325608428804,
          1.3286872900926754,
          -0.6877893356884016,
          -0.7554584348984519,
          0.15582072289182852,
          -0.6040671721288594,
          -0.2804775497038172,
          1.2423593013253391,
          0.49894076286355454,
          0.006366188841875799,
          -0.06276809632860639,
          1.0922551650960837,
          1.0494241728382323,
          -1.2545572237268587,
          0.85454698485536,
          -1.0565770016989955,
          0.4272278508761094,
          0.5260487566362079,
          0.3612195036176259,
          1.3512716106464608,
          -1.950044478595946,
          -1.2573193534478841,
          -0.25056150412233086,
          0.7037066439697688,
          -1.7049248033653637
         ],
         "xaxis": "x16",
         "yaxis": "y16"
        }
       ],
       "layout": {
        "bargap": 0.02,
        "legend": {
         "bgcolor": "#F5F6F9",
         "font": {
          "color": "#4D5663"
         }
        },
        "paper_bgcolor": "#F5F6F9",
        "plot_bgcolor": "#F5F6F9",
        "showlegend": false,
        "template": {
         "data": {
          "bar": [
           {
            "error_x": {
             "color": "#2a3f5f"
            },
            "error_y": {
             "color": "#2a3f5f"
            },
            "marker": {
             "line": {
              "color": "#E5ECF6",
              "width": 0.5
             }
            },
            "type": "bar"
           }
          ],
          "barpolar": [
           {
            "marker": {
             "line": {
              "color": "#E5ECF6",
              "width": 0.5
             }
            },
            "type": "barpolar"
           }
          ],
          "carpet": [
           {
            "aaxis": {
             "endlinecolor": "#2a3f5f",
             "gridcolor": "white",
             "linecolor": "white",
             "minorgridcolor": "white",
             "startlinecolor": "#2a3f5f"
            },
            "baxis": {
             "endlinecolor": "#2a3f5f",
             "gridcolor": "white",
             "linecolor": "white",
             "minorgridcolor": "white",
             "startlinecolor": "#2a3f5f"
            },
            "type": "carpet"
           }
          ],
          "choropleth": [
           {
            "colorbar": {
             "outlinewidth": 0,
             "ticks": ""
            },
            "type": "choropleth"
           }
          ],
          "contour": [
           {
            "colorbar": {
             "outlinewidth": 0,
             "ticks": ""
            },
            "colorscale": [
             [
              0,
              "#0d0887"
             ],
             [
              0.1111111111111111,
              "#46039f"
             ],
             [
              0.2222222222222222,
              "#7201a8"
             ],
             [
              0.3333333333333333,
              "#9c179e"
             ],
             [
              0.4444444444444444,
              "#bd3786"
             ],
             [
              0.5555555555555556,
              "#d8576b"
             ],
             [
              0.6666666666666666,
              "#ed7953"
             ],
             [
              0.7777777777777778,
              "#fb9f3a"
             ],
             [
              0.8888888888888888,
              "#fdca26"
             ],
             [
              1,
              "#f0f921"
             ]
            ],
            "type": "contour"
           }
          ],
          "contourcarpet": [
           {
            "colorbar": {
             "outlinewidth": 0,
             "ticks": ""
            },
            "type": "contourcarpet"
           }
          ],
          "heatmap": [
           {
            "colorbar": {
             "outlinewidth": 0,
             "ticks": ""
            },
            "colorscale": [
             [
              0,
              "#0d0887"
             ],
             [
              0.1111111111111111,
              "#46039f"
             ],
             [
              0.2222222222222222,
              "#7201a8"
             ],
             [
              0.3333333333333333,
              "#9c179e"
             ],
             [
              0.4444444444444444,
              "#bd3786"
             ],
             [
              0.5555555555555556,
              "#d8576b"
             ],
             [
              0.6666666666666666,
              "#ed7953"
             ],
             [
              0.7777777777777778,
              "#fb9f3a"
             ],
             [
              0.8888888888888888,
              "#fdca26"
             ],
             [
              1,
              "#f0f921"
             ]
            ],
            "type": "heatmap"
           }
          ],
          "heatmapgl": [
           {
            "colorbar": {
             "outlinewidth": 0,
             "ticks": ""
            },
            "colorscale": [
             [
              0,
              "#0d0887"
             ],
             [
              0.1111111111111111,
              "#46039f"
             ],
             [
              0.2222222222222222,
              "#7201a8"
             ],
             [
              0.3333333333333333,
              "#9c179e"
             ],
             [
              0.4444444444444444,
              "#bd3786"
             ],
             [
              0.5555555555555556,
              "#d8576b"
             ],
             [
              0.6666666666666666,
              "#ed7953"
             ],
             [
              0.7777777777777778,
              "#fb9f3a"
             ],
             [
              0.8888888888888888,
              "#fdca26"
             ],
             [
              1,
              "#f0f921"
             ]
            ],
            "type": "heatmapgl"
           }
          ],
          "histogram": [
           {
            "marker": {
             "colorbar": {
              "outlinewidth": 0,
              "ticks": ""
             }
            },
            "type": "histogram"
           }
          ],
          "histogram2d": [
           {
            "colorbar": {
             "outlinewidth": 0,
             "ticks": ""
            },
            "colorscale": [
             [
              0,
              "#0d0887"
             ],
             [
              0.1111111111111111,
              "#46039f"
             ],
             [
              0.2222222222222222,
              "#7201a8"
             ],
             [
              0.3333333333333333,
              "#9c179e"
             ],
             [
              0.4444444444444444,
              "#bd3786"
             ],
             [
              0.5555555555555556,
              "#d8576b"
             ],
             [
              0.6666666666666666,
              "#ed7953"
             ],
             [
              0.7777777777777778,
              "#fb9f3a"
             ],
             [
              0.8888888888888888,
              "#fdca26"
             ],
             [
              1,
              "#f0f921"
             ]
            ],
            "type": "histogram2d"
           }
          ],
          "histogram2dcontour": [
           {
            "colorbar": {
             "outlinewidth": 0,
             "ticks": ""
            },
            "colorscale": [
             [
              0,
              "#0d0887"
             ],
             [
              0.1111111111111111,
              "#46039f"
             ],
             [
              0.2222222222222222,
              "#7201a8"
             ],
             [
              0.3333333333333333,
              "#9c179e"
             ],
             [
              0.4444444444444444,
              "#bd3786"
             ],
             [
              0.5555555555555556,
              "#d8576b"
             ],
             [
              0.6666666666666666,
              "#ed7953"
             ],
             [
              0.7777777777777778,
              "#fb9f3a"
             ],
             [
              0.8888888888888888,
              "#fdca26"
             ],
             [
              1,
              "#f0f921"
             ]
            ],
            "type": "histogram2dcontour"
           }
          ],
          "mesh3d": [
           {
            "colorbar": {
             "outlinewidth": 0,
             "ticks": ""
            },
            "type": "mesh3d"
           }
          ],
          "parcoords": [
           {
            "line": {
             "colorbar": {
              "outlinewidth": 0,
              "ticks": ""
             }
            },
            "type": "parcoords"
           }
          ],
          "pie": [
           {
            "automargin": true,
            "type": "pie"
           }
          ],
          "scatter": [
           {
            "marker": {
             "colorbar": {
              "outlinewidth": 0,
              "ticks": ""
             }
            },
            "type": "scatter"
           }
          ],
          "scatter3d": [
           {
            "line": {
             "colorbar": {
              "outlinewidth": 0,
              "ticks": ""
             }
            },
            "marker": {
             "colorbar": {
              "outlinewidth": 0,
              "ticks": ""
             }
            },
            "type": "scatter3d"
           }
          ],
          "scattercarpet": [
           {
            "marker": {
             "colorbar": {
              "outlinewidth": 0,
              "ticks": ""
             }
            },
            "type": "scattercarpet"
           }
          ],
          "scattergeo": [
           {
            "marker": {
             "colorbar": {
              "outlinewidth": 0,
              "ticks": ""
             }
            },
            "type": "scattergeo"
           }
          ],
          "scattergl": [
           {
            "marker": {
             "colorbar": {
              "outlinewidth": 0,
              "ticks": ""
             }
            },
            "type": "scattergl"
           }
          ],
          "scattermapbox": [
           {
            "marker": {
             "colorbar": {
              "outlinewidth": 0,
              "ticks": ""
             }
            },
            "type": "scattermapbox"
           }
          ],
          "scatterpolar": [
           {
            "marker": {
             "colorbar": {
              "outlinewidth": 0,
              "ticks": ""
             }
            },
            "type": "scatterpolar"
           }
          ],
          "scatterpolargl": [
           {
            "marker": {
             "colorbar": {
              "outlinewidth": 0,
              "ticks": ""
             }
            },
            "type": "scatterpolargl"
           }
          ],
          "scatterternary": [
           {
            "marker": {
             "colorbar": {
              "outlinewidth": 0,
              "ticks": ""
             }
            },
            "type": "scatterternary"
           }
          ],
          "surface": [
           {
            "colorbar": {
             "outlinewidth": 0,
             "ticks": ""
            },
            "colorscale": [
             [
              0,
              "#0d0887"
             ],
             [
              0.1111111111111111,
              "#46039f"
             ],
             [
              0.2222222222222222,
              "#7201a8"
             ],
             [
              0.3333333333333333,
              "#9c179e"
             ],
             [
              0.4444444444444444,
              "#bd3786"
             ],
             [
              0.5555555555555556,
              "#d8576b"
             ],
             [
              0.6666666666666666,
              "#ed7953"
             ],
             [
              0.7777777777777778,
              "#fb9f3a"
             ],
             [
              0.8888888888888888,
              "#fdca26"
             ],
             [
              1,
              "#f0f921"
             ]
            ],
            "type": "surface"
           }
          ],
          "table": [
           {
            "cells": {
             "fill": {
              "color": "#EBF0F8"
             },
             "line": {
              "color": "white"
             }
            },
            "header": {
             "fill": {
              "color": "#C8D4E3"
             },
             "line": {
              "color": "white"
             }
            },
            "type": "table"
           }
          ]
         },
         "layout": {
          "annotationdefaults": {
           "arrowcolor": "#2a3f5f",
           "arrowhead": 0,
           "arrowwidth": 1
          },
          "coloraxis": {
           "colorbar": {
            "outlinewidth": 0,
            "ticks": ""
           }
          },
          "colorscale": {
           "diverging": [
            [
             0,
             "#8e0152"
            ],
            [
             0.1,
             "#c51b7d"
            ],
            [
             0.2,
             "#de77ae"
            ],
            [
             0.3,
             "#f1b6da"
            ],
            [
             0.4,
             "#fde0ef"
            ],
            [
             0.5,
             "#f7f7f7"
            ],
            [
             0.6,
             "#e6f5d0"
            ],
            [
             0.7,
             "#b8e186"
            ],
            [
             0.8,
             "#7fbc41"
            ],
            [
             0.9,
             "#4d9221"
            ],
            [
             1,
             "#276419"
            ]
           ],
           "sequential": [
            [
             0,
             "#0d0887"
            ],
            [
             0.1111111111111111,
             "#46039f"
            ],
            [
             0.2222222222222222,
             "#7201a8"
            ],
            [
             0.3333333333333333,
             "#9c179e"
            ],
            [
             0.4444444444444444,
             "#bd3786"
            ],
            [
             0.5555555555555556,
             "#d8576b"
            ],
            [
             0.6666666666666666,
             "#ed7953"
            ],
            [
             0.7777777777777778,
             "#fb9f3a"
            ],
            [
             0.8888888888888888,
             "#fdca26"
            ],
            [
             1,
             "#f0f921"
            ]
           ],
           "sequentialminus": [
            [
             0,
             "#0d0887"
            ],
            [
             0.1111111111111111,
             "#46039f"
            ],
            [
             0.2222222222222222,
             "#7201a8"
            ],
            [
             0.3333333333333333,
             "#9c179e"
            ],
            [
             0.4444444444444444,
             "#bd3786"
            ],
            [
             0.5555555555555556,
             "#d8576b"
            ],
            [
             0.6666666666666666,
             "#ed7953"
            ],
            [
             0.7777777777777778,
             "#fb9f3a"
            ],
            [
             0.8888888888888888,
             "#fdca26"
            ],
            [
             1,
             "#f0f921"
            ]
           ]
          },
          "colorway": [
           "#636efa",
           "#EF553B",
           "#00cc96",
           "#ab63fa",
           "#FFA15A",
           "#19d3f3",
           "#FF6692",
           "#B6E880",
           "#FF97FF",
           "#FECB52"
          ],
          "font": {
           "color": "#2a3f5f"
          },
          "geo": {
           "bgcolor": "white",
           "lakecolor": "white",
           "landcolor": "#E5ECF6",
           "showlakes": true,
           "showland": true,
           "subunitcolor": "white"
          },
          "hoverlabel": {
           "align": "left"
          },
          "hovermode": "closest",
          "mapbox": {
           "style": "light"
          },
          "paper_bgcolor": "white",
          "plot_bgcolor": "#E5ECF6",
          "polar": {
           "angularaxis": {
            "gridcolor": "white",
            "linecolor": "white",
            "ticks": ""
           },
           "bgcolor": "#E5ECF6",
           "radialaxis": {
            "gridcolor": "white",
            "linecolor": "white",
            "ticks": ""
           }
          },
          "scene": {
           "xaxis": {
            "backgroundcolor": "#E5ECF6",
            "gridcolor": "white",
            "gridwidth": 2,
            "linecolor": "white",
            "showbackground": true,
            "ticks": "",
            "zerolinecolor": "white"
           },
           "yaxis": {
            "backgroundcolor": "#E5ECF6",
            "gridcolor": "white",
            "gridwidth": 2,
            "linecolor": "white",
            "showbackground": true,
            "ticks": "",
            "zerolinecolor": "white"
           },
           "zaxis": {
            "backgroundcolor": "#E5ECF6",
            "gridcolor": "white",
            "gridwidth": 2,
            "linecolor": "white",
            "showbackground": true,
            "ticks": "",
            "zerolinecolor": "white"
           }
          },
          "shapedefaults": {
           "line": {
            "color": "#2a3f5f"
           }
          },
          "ternary": {
           "aaxis": {
            "gridcolor": "white",
            "linecolor": "white",
            "ticks": ""
           },
           "baxis": {
            "gridcolor": "white",
            "linecolor": "white",
            "ticks": ""
           },
           "bgcolor": "#E5ECF6",
           "caxis": {
            "gridcolor": "white",
            "linecolor": "white",
            "ticks": ""
           }
          },
          "title": {
           "x": 0.05
          },
          "xaxis": {
           "automargin": true,
           "gridcolor": "white",
           "linecolor": "white",
           "ticks": "",
           "title": {
            "standoff": 15
           },
           "zerolinecolor": "white",
           "zerolinewidth": 2
          },
          "yaxis": {
           "automargin": true,
           "gridcolor": "white",
           "linecolor": "white",
           "ticks": "",
           "title": {
            "standoff": 15
           },
           "zerolinecolor": "white",
           "zerolinewidth": 2
          }
         }
        },
        "title": {
         "font": {
          "color": "#4D5663"
         }
        },
        "xaxis": {
         "anchor": "y",
         "domain": [
          0,
          0.2125
         ],
         "gridcolor": "#E1E5ED",
         "showgrid": false,
         "tickfont": {
          "color": "#4D5663"
         },
         "title": {
          "font": {
           "color": "#4D5663"
          },
          "text": ""
         },
         "zerolinecolor": "#E1E5ED"
        },
        "xaxis10": {
         "anchor": "y10",
         "domain": [
          0.2625,
          0.475
         ],
         "gridcolor": "#E1E5ED",
         "showgrid": false,
         "tickfont": {
          "color": "#4D5663"
         },
         "title": {
          "font": {
           "color": "#4D5663"
          },
          "text": ""
         },
         "zerolinecolor": "#E1E5ED"
        },
        "xaxis11": {
         "anchor": "y11",
         "domain": [
          0.525,
          0.7375
         ],
         "gridcolor": "#E1E5ED",
         "showgrid": false,
         "tickfont": {
          "color": "#4D5663"
         },
         "title": {
          "font": {
           "color": "#4D5663"
          },
          "text": ""
         },
         "zerolinecolor": "#E1E5ED"
        },
        "xaxis12": {
         "anchor": "y12",
         "domain": [
          0.7875,
          1
         ],
         "gridcolor": "#E1E5ED",
         "showgrid": false,
         "tickfont": {
          "color": "#4D5663"
         },
         "title": {
          "font": {
           "color": "#4D5663"
          },
          "text": ""
         },
         "zerolinecolor": "#E1E5ED"
        },
        "xaxis13": {
         "anchor": "y13",
         "domain": [
          0,
          0.2125
         ],
         "gridcolor": "#E1E5ED",
         "showgrid": false,
         "tickfont": {
          "color": "#4D5663"
         },
         "title": {
          "font": {
           "color": "#4D5663"
          },
          "text": ""
         },
         "zerolinecolor": "#E1E5ED"
        },
        "xaxis14": {
         "anchor": "y14",
         "domain": [
          0.2625,
          0.475
         ],
         "gridcolor": "#E1E5ED",
         "showgrid": false,
         "tickfont": {
          "color": "#4D5663"
         },
         "title": {
          "font": {
           "color": "#4D5663"
          },
          "text": ""
         },
         "zerolinecolor": "#E1E5ED"
        },
        "xaxis15": {
         "anchor": "y15",
         "domain": [
          0.525,
          0.7375
         ],
         "gridcolor": "#E1E5ED",
         "showgrid": false,
         "tickfont": {
          "color": "#4D5663"
         },
         "title": {
          "font": {
           "color": "#4D5663"
          },
          "text": ""
         },
         "zerolinecolor": "#E1E5ED"
        },
        "xaxis16": {
         "anchor": "y16",
         "domain": [
          0.7875,
          1
         ],
         "gridcolor": "#E1E5ED",
         "showgrid": false,
         "tickfont": {
          "color": "#4D5663"
         },
         "title": {
          "font": {
           "color": "#4D5663"
          },
          "text": ""
         },
         "zerolinecolor": "#E1E5ED"
        },
        "xaxis2": {
         "anchor": "y2",
         "domain": [
          0.2625,
          0.475
         ],
         "gridcolor": "#E1E5ED",
         "showgrid": false,
         "tickfont": {
          "color": "#4D5663"
         },
         "title": {
          "font": {
           "color": "#4D5663"
          },
          "text": ""
         },
         "zerolinecolor": "#E1E5ED"
        },
        "xaxis3": {
         "anchor": "y3",
         "domain": [
          0.525,
          0.7375
         ],
         "gridcolor": "#E1E5ED",
         "showgrid": false,
         "tickfont": {
          "color": "#4D5663"
         },
         "title": {
          "font": {
           "color": "#4D5663"
          },
          "text": ""
         },
         "zerolinecolor": "#E1E5ED"
        },
        "xaxis4": {
         "anchor": "y4",
         "domain": [
          0.7875,
          1
         ],
         "gridcolor": "#E1E5ED",
         "showgrid": false,
         "tickfont": {
          "color": "#4D5663"
         },
         "title": {
          "font": {
           "color": "#4D5663"
          },
          "text": ""
         },
         "zerolinecolor": "#E1E5ED"
        },
        "xaxis5": {
         "anchor": "y5",
         "domain": [
          0,
          0.2125
         ],
         "gridcolor": "#E1E5ED",
         "showgrid": false,
         "tickfont": {
          "color": "#4D5663"
         },
         "title": {
          "font": {
           "color": "#4D5663"
          },
          "text": ""
         },
         "zerolinecolor": "#E1E5ED"
        },
        "xaxis6": {
         "anchor": "y6",
         "domain": [
          0.2625,
          0.475
         ],
         "gridcolor": "#E1E5ED",
         "showgrid": false,
         "tickfont": {
          "color": "#4D5663"
         },
         "title": {
          "font": {
           "color": "#4D5663"
          },
          "text": ""
         },
         "zerolinecolor": "#E1E5ED"
        },
        "xaxis7": {
         "anchor": "y7",
         "domain": [
          0.525,
          0.7375
         ],
         "gridcolor": "#E1E5ED",
         "showgrid": false,
         "tickfont": {
          "color": "#4D5663"
         },
         "title": {
          "font": {
           "color": "#4D5663"
          },
          "text": ""
         },
         "zerolinecolor": "#E1E5ED"
        },
        "xaxis8": {
         "anchor": "y8",
         "domain": [
          0.7875,
          1
         ],
         "gridcolor": "#E1E5ED",
         "showgrid": false,
         "tickfont": {
          "color": "#4D5663"
         },
         "title": {
          "font": {
           "color": "#4D5663"
          },
          "text": ""
         },
         "zerolinecolor": "#E1E5ED"
        },
        "xaxis9": {
         "anchor": "y9",
         "domain": [
          0,
          0.2125
         ],
         "gridcolor": "#E1E5ED",
         "showgrid": false,
         "tickfont": {
          "color": "#4D5663"
         },
         "title": {
          "font": {
           "color": "#4D5663"
          },
          "text": ""
         },
         "zerolinecolor": "#E1E5ED"
        },
        "yaxis": {
         "anchor": "x",
         "domain": [
          0.8025,
          1
         ],
         "gridcolor": "#E1E5ED",
         "showgrid": false,
         "tickfont": {
          "color": "#4D5663"
         },
         "title": {
          "font": {
           "color": "#4D5663"
          },
          "text": ""
         },
         "zerolinecolor": "#E1E5ED"
        },
        "yaxis10": {
         "anchor": "x10",
         "domain": [
          0.2675,
          0.465
         ],
         "gridcolor": "#E1E5ED",
         "showgrid": false,
         "tickfont": {
          "color": "#4D5663"
         },
         "title": {
          "font": {
           "color": "#4D5663"
          },
          "text": ""
         },
         "zerolinecolor": "#E1E5ED"
        },
        "yaxis11": {
         "anchor": "x11",
         "domain": [
          0.2675,
          0.465
         ],
         "gridcolor": "#E1E5ED",
         "showgrid": false,
         "tickfont": {
          "color": "#4D5663"
         },
         "title": {
          "font": {
           "color": "#4D5663"
          },
          "text": ""
         },
         "zerolinecolor": "#E1E5ED"
        },
        "yaxis12": {
         "anchor": "x12",
         "domain": [
          0.2675,
          0.465
         ],
         "gridcolor": "#E1E5ED",
         "showgrid": false,
         "tickfont": {
          "color": "#4D5663"
         },
         "title": {
          "font": {
           "color": "#4D5663"
          },
          "text": ""
         },
         "zerolinecolor": "#E1E5ED"
        },
        "yaxis13": {
         "anchor": "x13",
         "domain": [
          0,
          0.1975
         ],
         "gridcolor": "#E1E5ED",
         "showgrid": false,
         "tickfont": {
          "color": "#4D5663"
         },
         "title": {
          "font": {
           "color": "#4D5663"
          },
          "text": ""
         },
         "zerolinecolor": "#E1E5ED"
        },
        "yaxis14": {
         "anchor": "x14",
         "domain": [
          0,
          0.1975
         ],
         "gridcolor": "#E1E5ED",
         "showgrid": false,
         "tickfont": {
          "color": "#4D5663"
         },
         "title": {
          "font": {
           "color": "#4D5663"
          },
          "text": ""
         },
         "zerolinecolor": "#E1E5ED"
        },
        "yaxis15": {
         "anchor": "x15",
         "domain": [
          0,
          0.1975
         ],
         "gridcolor": "#E1E5ED",
         "showgrid": false,
         "tickfont": {
          "color": "#4D5663"
         },
         "title": {
          "font": {
           "color": "#4D5663"
          },
          "text": ""
         },
         "zerolinecolor": "#E1E5ED"
        },
        "yaxis16": {
         "anchor": "x16",
         "domain": [
          0,
          0.1975
         ],
         "gridcolor": "#E1E5ED",
         "showgrid": false,
         "tickfont": {
          "color": "#4D5663"
         },
         "title": {
          "font": {
           "color": "#4D5663"
          },
          "text": ""
         },
         "zerolinecolor": "#E1E5ED"
        },
        "yaxis2": {
         "anchor": "x2",
         "domain": [
          0.8025,
          1
         ],
         "gridcolor": "#E1E5ED",
         "showgrid": false,
         "tickfont": {
          "color": "#4D5663"
         },
         "title": {
          "font": {
           "color": "#4D5663"
          },
          "text": ""
         },
         "zerolinecolor": "#E1E5ED"
        },
        "yaxis3": {
         "anchor": "x3",
         "domain": [
          0.8025,
          1
         ],
         "gridcolor": "#E1E5ED",
         "showgrid": false,
         "tickfont": {
          "color": "#4D5663"
         },
         "title": {
          "font": {
           "color": "#4D5663"
          },
          "text": ""
         },
         "zerolinecolor": "#E1E5ED"
        },
        "yaxis4": {
         "anchor": "x4",
         "domain": [
          0.8025,
          1
         ],
         "gridcolor": "#E1E5ED",
         "showgrid": false,
         "tickfont": {
          "color": "#4D5663"
         },
         "title": {
          "font": {
           "color": "#4D5663"
          },
          "text": ""
         },
         "zerolinecolor": "#E1E5ED"
        },
        "yaxis5": {
         "anchor": "x5",
         "domain": [
          0.535,
          0.7325
         ],
         "gridcolor": "#E1E5ED",
         "showgrid": false,
         "tickfont": {
          "color": "#4D5663"
         },
         "title": {
          "font": {
           "color": "#4D5663"
          },
          "text": ""
         },
         "zerolinecolor": "#E1E5ED"
        },
        "yaxis6": {
         "anchor": "x6",
         "domain": [
          0.535,
          0.7325
         ],
         "gridcolor": "#E1E5ED",
         "showgrid": false,
         "tickfont": {
          "color": "#4D5663"
         },
         "title": {
          "font": {
           "color": "#4D5663"
          },
          "text": ""
         },
         "zerolinecolor": "#E1E5ED"
        },
        "yaxis7": {
         "anchor": "x7",
         "domain": [
          0.535,
          0.7325
         ],
         "gridcolor": "#E1E5ED",
         "showgrid": false,
         "tickfont": {
          "color": "#4D5663"
         },
         "title": {
          "font": {
           "color": "#4D5663"
          },
          "text": ""
         },
         "zerolinecolor": "#E1E5ED"
        },
        "yaxis8": {
         "anchor": "x8",
         "domain": [
          0.535,
          0.7325
         ],
         "gridcolor": "#E1E5ED",
         "showgrid": false,
         "tickfont": {
          "color": "#4D5663"
         },
         "title": {
          "font": {
           "color": "#4D5663"
          },
          "text": ""
         },
         "zerolinecolor": "#E1E5ED"
        },
        "yaxis9": {
         "anchor": "x9",
         "domain": [
          0.2675,
          0.465
         ],
         "gridcolor": "#E1E5ED",
         "showgrid": false,
         "tickfont": {
          "color": "#4D5663"
         },
         "title": {
          "font": {
           "color": "#4D5663"
          },
          "text": ""
         },
         "zerolinecolor": "#E1E5ED"
        }
       }
      },
      "text/html": [
       "<div>\n",
       "        \n",
       "        \n",
       "            <div id=\"bfe2c06c-f69b-4b1a-a415-d5593f4ab6d5\" class=\"plotly-graph-div\" style=\"height:525px; width:100%;\"></div>\n",
       "            <script type=\"text/javascript\">\n",
       "                require([\"plotly\"], function(Plotly) {\n",
       "                    window.PLOTLYENV=window.PLOTLYENV || {};\n",
       "                    window.PLOTLYENV.BASE_URL='https://plot.ly';\n",
       "                    \n",
       "                if (document.getElementById(\"bfe2c06c-f69b-4b1a-a415-d5593f4ab6d5\")) {\n",
       "                    Plotly.newPlot(\n",
       "                        'bfe2c06c-f69b-4b1a-a415-d5593f4ab6d5',\n",
       "                        [{\"histfunc\": \"count\", \"histnorm\": \"\", \"marker\": {\"color\": \"rgba(255, 153, 51, 1.0)\", \"line\": {\"color\": \"#4D5663\", \"width\": 1.3}}, \"name\": \"A\", \"nbinsx\": 10, \"opacity\": 0.8, \"orientation\": \"v\", \"type\": \"histogram\", \"x\": [-1.4138153976580274, 0.08455022128887005, 1.5471984510871117, 1.6967637029976672, -0.7507050193197625, 0.6144492892274529, 0.10523618232753329, 1.207121390424313, 1.7326766078557791, -0.21328491944561068, 2.008579499791018, 0.21547481593456028, 0.3808402686537413, -0.06092935790697329, 0.8370766754499239, 0.8274287807229304, -0.4126127693231269, -0.16929922544402398, 0.7208595301409876, 0.7733136383374829, -0.28892514206321673, -0.8762071774130635, -0.80619652439963, 1.2305229116274847, -0.38858088186267853, 0.7897841741518612, -0.8489199189374191, -1.3654506088764375, 0.48549328430965677, 0.35924680412438875, 1.1114054429854745, 0.0886027064970111, -0.4636103442398656, -0.20840951954222545, 0.1405922012276346, -0.24064485943761077, -0.8334111091782375, 1.842590317603657, -0.3371466088321572, -0.2034175748337479, -2.3459567831821633, -0.4017961959202484, 0.4723198933313565, 0.7501448239663938, -1.0693669073862617, 1.5986290804606074, -0.24461314844453189, 0.10368147740607012, -1.4969890118186504, -0.12435682418267893, 1.274839898045271, -0.5169915646947392, -1.0712305609778643, -0.48659733893741813, 0.3587922256913342, 1.0999910285647592, 0.9149839476261293, -0.486099575812348, -0.7608301228828495, -0.43453947979910407, -0.4378707689182603, 0.01856409953642223, 0.3832610655005692, -2.0933524665046948, 1.7283265223487883, 0.9869190365137367, 0.40571454260259016, -0.5152470857611197, 0.8786939279620871, 0.4279175871191947, -2.601024184701134, -0.683284735855935, 0.849927363712278, 0.8857275580349077, 1.2882816361582505, -0.519059352346447, -0.6904750615623734, 0.8241614462286408, -0.46459047977908063, 0.11913998254705363, 0.13758868739779878, 0.24332496851049237, 0.018205797429998904, 0.358933107643315, 1.1315519087511798, -0.7637852405135656, 0.3135604813218632, 0.2377824938105682, 1.2657677242286454, 0.7290062940756441, 0.6480948280599899, -0.1565135938137894, 0.4133359631767297, 0.7647690463317591, -1.4126303876542592, -0.24760521350475748, 1.5285367941102805, -1.1365724953019072, 0.21258239309873145, 1.4010067851622496], \"xaxis\": \"x\", \"yaxis\": \"y\"}, {\"line\": {\"color\": \"rgba(128, 128, 128, 1.0)\", \"dash\": \"solid\", \"shape\": \"linear\", \"width\": 1.3}, \"marker\": {\"size\": 2, \"symbol\": \"circle\"}, \"mode\": \"markers\", \"name\": \"A\", \"text\": \"\", \"type\": \"scatter\", \"x\": [0.6307750025445071, 2.1165649393990944, -0.13402531428069492, -1.0980616376530266, -2.434586496069079, -1.3053078896558565, -0.07090686858487011, 0.2058256171970834, -0.399262838679452, -0.14038606848181132, 0.9187536646281099, -0.8442053961123566, -0.2203312366099077, 0.6148352056947539, 0.5487157074264113, -0.8815647579995127, -0.34319730713674246, -1.0520874575465975, -0.5654422884296576, -0.09868497816887367, -0.4968289089377307, 0.2716017943118359, 0.9226989164424838, -0.5239432560546522, -0.8805108560299565, 1.0291913615050854, -0.09431283356381821, -0.9703360343139987, 0.47166862549484884, -1.2700349012817091, 0.413275586679944, -0.04254191220658984, -0.3338980359576901, -0.675195513492032, 1.550294420863555, 1.1516766730039087, 0.6535287491249111, 0.6144648993585563, 0.789565666569126, -0.3433168130690615, -0.05275694170220859, 0.3020462133498991, -0.06943522706603063, -0.35192362829665536, 0.6126596333884724, 1.5578365933599612, -0.1253060804619179, -1.3902002070743285, -0.8174637537749673, 0.11333678312936613, 1.3356891122813224, 0.19964929894159641, 0.08236990727602006, 1.2201019912024953, -0.5511844759854739, -0.8289846840857326, 0.33884864688721744, 1.0881768989607006, -0.7703403348773846, -0.2946516470282624, 0.06536745681673374, 0.7892622385305326, 1.6351318760725766, -0.3738887659267329, 0.5705852579762929, 1.7567400703602254, 1.5658507756576097, -0.32738934219238813, -3.4188171677438355, -0.8446793972616198, -0.0745933598454902, 0.9009946023546918, 0.04500369804380455, -0.16211529173578793, -1.612928599166473, -0.010132569394765995, 0.17953472500659787, 0.0064179642326903244, 0.1326959809776376, 1.946233101865483, 0.03252092127965211, -0.5130179934757979, 0.1429766964487547, -1.0395116288148776, -1.160703594319139, 0.4435732597243696, 1.5891745109922495, 0.31166755938333734, -0.9900532640822058, 0.6440787128368036, 0.5558862615610557, 0.2982157252903566, 0.653861307961139, -0.9103614368183744, -0.20579788187733009, 1.2582778382184772, -0.8122835465461327, -0.2767951603430714, -1.3958080501251722, 0.6847098823556407], \"xaxis\": \"x2\", \"y\": [-1.4138153976580274, 0.08455022128887005, 1.5471984510871117, 1.6967637029976672, -0.7507050193197625, 0.6144492892274529, 0.10523618232753329, 1.207121390424313, 1.7326766078557791, -0.21328491944561068, 2.008579499791018, 0.21547481593456028, 0.3808402686537413, -0.06092935790697329, 0.8370766754499239, 0.8274287807229304, -0.4126127693231269, -0.16929922544402398, 0.7208595301409876, 0.7733136383374829, -0.28892514206321673, -0.8762071774130635, -0.80619652439963, 1.2305229116274847, -0.38858088186267853, 0.7897841741518612, -0.8489199189374191, -1.3654506088764375, 0.48549328430965677, 0.35924680412438875, 1.1114054429854745, 0.0886027064970111, -0.4636103442398656, -0.20840951954222545, 0.1405922012276346, -0.24064485943761077, -0.8334111091782375, 1.842590317603657, -0.3371466088321572, -0.2034175748337479, -2.3459567831821633, -0.4017961959202484, 0.4723198933313565, 0.7501448239663938, -1.0693669073862617, 1.5986290804606074, -0.24461314844453189, 0.10368147740607012, -1.4969890118186504, -0.12435682418267893, 1.274839898045271, -0.5169915646947392, -1.0712305609778643, -0.48659733893741813, 0.3587922256913342, 1.0999910285647592, 0.9149839476261293, -0.486099575812348, -0.7608301228828495, -0.43453947979910407, -0.4378707689182603, 0.01856409953642223, 0.3832610655005692, -2.0933524665046948, 1.7283265223487883, 0.9869190365137367, 0.40571454260259016, -0.5152470857611197, 0.8786939279620871, 0.4279175871191947, -2.601024184701134, -0.683284735855935, 0.849927363712278, 0.8857275580349077, 1.2882816361582505, -0.519059352346447, -0.6904750615623734, 0.8241614462286408, -0.46459047977908063, 0.11913998254705363, 0.13758868739779878, 0.24332496851049237, 0.018205797429998904, 0.358933107643315, 1.1315519087511798, -0.7637852405135656, 0.3135604813218632, 0.2377824938105682, 1.2657677242286454, 0.7290062940756441, 0.6480948280599899, -0.1565135938137894, 0.4133359631767297, 0.7647690463317591, -1.4126303876542592, -0.24760521350475748, 1.5285367941102805, -1.1365724953019072, 0.21258239309873145, 1.4010067851622496], \"yaxis\": \"y2\"}, {\"line\": {\"color\": \"rgba(128, 128, 128, 1.0)\", \"dash\": \"solid\", \"shape\": \"linear\", \"width\": 1.3}, \"marker\": {\"size\": 2, \"symbol\": \"circle\"}, \"mode\": \"markers\", \"name\": \"A\", \"text\": \"\", \"type\": \"scatter\", \"x\": [-0.46340373251531897, -1.2458082668067412, -1.2544869635350833, 0.7992798174825069, -0.6920536741082177, -0.9039402715935553, -0.5318693601620845, 0.36622384671901065, 1.734636291744235, 0.4919645545584108, -1.2114597598608754, 0.45078559077266145, 0.1572546695747489, 0.2931161256889199, -2.019960738755273, 1.9786741394069225, -0.25705990841031306, 0.6258033617564331, -0.565313370019214, -0.871242691574864, -0.9072413358597263, -0.4352159828031252, -0.3152789420605196, 0.3343274016001478, -0.8355510389853845, -0.08063233193136128, 1.2085798566116208, -1.4467876496884895, 0.38203123547837603, 0.46426729140012724, 1.6401217079434836, -0.854238034593468, 1.5407210744037485, -0.14436325819618617, -0.2605810656404103, -1.0667650476360888, -1.056067245591354, 1.9574704984813092, -0.28548161395355387, 0.3630299765906264, 1.8717410623106905, -1.2885519087872637, 0.2047593692732163, -0.5974228245989848, 1.6814383513171696, 0.820360064671196, -0.17586988934263895, -0.4083214975570279, -0.05674128881314127, -1.8152612188116326, -0.8864130113250144, 1.4603451453226415, 1.4297458915209527, 0.6231188334979672, -0.8101152307172, 1.6812865981628995, 0.2536332988253022, -0.21639811344208956, -0.7350529452943216, -0.148659510206894, 0.3782443081771902, -1.2849059090569048, -1.9032548143075259, -0.39613707656414376, 0.40350296821948145, -0.11486122769817589, -0.0305981534114856, -0.27470397798688656, -1.3120954580845827, 0.8276891494136229, -0.980367071594073, -0.04462247327438354, 1.7759901461121241, 0.19542388409024997, -0.13794027312975354, -2.244810442035269, 1.140100134219041, -0.07762929188667533, 0.9865114345836813, -0.33191983063864333, -0.4927775935775253, -0.41706644247887215, -0.9506510221488315, 0.32331265996069625, 0.12018968834740629, 1.1090243442109413, -0.15391658451186283, -1.8478056324649534, 0.7164486019595993, -1.0500354676498393, -2.573872198975193, -0.805911709339272, -0.369358056939599, 0.5729898387862129, 1.619496005508339, 0.381073260793748, 0.5465425470776235, 0.8295352203740076, 0.6860406524629331, -1.4466022690225124], \"xaxis\": \"x3\", \"y\": [-1.4138153976580274, 0.08455022128887005, 1.5471984510871117, 1.6967637029976672, -0.7507050193197625, 0.6144492892274529, 0.10523618232753329, 1.207121390424313, 1.7326766078557791, -0.21328491944561068, 2.008579499791018, 0.21547481593456028, 0.3808402686537413, -0.06092935790697329, 0.8370766754499239, 0.8274287807229304, -0.4126127693231269, -0.16929922544402398, 0.7208595301409876, 0.7733136383374829, -0.28892514206321673, -0.8762071774130635, -0.80619652439963, 1.2305229116274847, -0.38858088186267853, 0.7897841741518612, -0.8489199189374191, -1.3654506088764375, 0.48549328430965677, 0.35924680412438875, 1.1114054429854745, 0.0886027064970111, -0.4636103442398656, -0.20840951954222545, 0.1405922012276346, -0.24064485943761077, -0.8334111091782375, 1.842590317603657, -0.3371466088321572, -0.2034175748337479, -2.3459567831821633, -0.4017961959202484, 0.4723198933313565, 0.7501448239663938, -1.0693669073862617, 1.5986290804606074, -0.24461314844453189, 0.10368147740607012, -1.4969890118186504, -0.12435682418267893, 1.274839898045271, -0.5169915646947392, -1.0712305609778643, -0.48659733893741813, 0.3587922256913342, 1.0999910285647592, 0.9149839476261293, -0.486099575812348, -0.7608301228828495, -0.43453947979910407, -0.4378707689182603, 0.01856409953642223, 0.3832610655005692, -2.0933524665046948, 1.7283265223487883, 0.9869190365137367, 0.40571454260259016, -0.5152470857611197, 0.8786939279620871, 0.4279175871191947, -2.601024184701134, -0.683284735855935, 0.849927363712278, 0.8857275580349077, 1.2882816361582505, -0.519059352346447, -0.6904750615623734, 0.8241614462286408, -0.46459047977908063, 0.11913998254705363, 0.13758868739779878, 0.24332496851049237, 0.018205797429998904, 0.358933107643315, 1.1315519087511798, -0.7637852405135656, 0.3135604813218632, 0.2377824938105682, 1.2657677242286454, 0.7290062940756441, 0.6480948280599899, -0.1565135938137894, 0.4133359631767297, 0.7647690463317591, -1.4126303876542592, -0.24760521350475748, 1.5285367941102805, -1.1365724953019072, 0.21258239309873145, 1.4010067851622496], \"yaxis\": \"y3\"}, {\"line\": {\"color\": \"rgba(128, 128, 128, 1.0)\", \"dash\": \"solid\", \"shape\": \"linear\", \"width\": 1.3}, \"marker\": {\"size\": 2, \"symbol\": \"circle\"}, \"mode\": \"markers\", \"name\": \"A\", \"text\": \"\", \"type\": \"scatter\", \"x\": [0.5189726602233986, -0.09129733315409432, 0.1232450306540208, -1.1698580196273767, -0.04934799474724009, -1.0001989210507714, 0.5671806384021019, -0.28322068966089176, 0.8555481328512194, -2.3713348063524196, 0.27455014331253624, -0.7645072216676173, 0.009307993448969716, 0.3343775413198073, -1.2046224912048202, 0.7413828651746952, 0.4615406725797837, -1.2669350311968313, -0.206471635708302, -1.0687192524195723, 1.158143552837741, -1.6594438359757115, 0.8786415727511163, 0.8618120176457761, -1.501183653156108, 0.411665844779012, 1.8727217322971192, -0.09692668792631587, -0.24644458423235868, -0.5232506859459267, -0.47758769627830877, 0.18243714102800973, -2.3370642938658537, -1.8018043637588312, -1.870929987970339, 0.8683836430926027, -0.16384969934716526, -1.1272793605378462, -1.696879722687243, 0.7803404884546775, -0.35183954212625357, 0.23508808803152917, -1.860281736205346, 0.17863224075601442, -0.41598731174391135, 1.5465734315420336, 0.13391237276777, 0.22546968713775464, -1.4280462028944116, -2.144388215577554, 1.6654778132648989, -0.4134961144007236, 0.32398281812293517, -0.5135466930834046, -1.1883419275290195, 0.30158716822126985, -0.26610784830215434, -0.09465805847480475, -0.7200737767470347, -0.9164077836785587, 1.6856301459780483, -1.2188237072435504, -0.484695122602499, -0.4479755552260965, -1.2829861550124635, -0.2668949890344071, -0.29167000944686006, -0.24165020645813834, 0.7848481932228031, 0.7827043654352501, -0.08514518620383253, 0.693585834540342, -0.08846670193598202, 1.048411574235362, 0.02364572431188195, -0.18204325608428804, 1.3286872900926754, -0.6877893356884016, -0.7554584348984519, 0.15582072289182852, -0.6040671721288594, -0.2804775497038172, 1.2423593013253391, 0.49894076286355454, 0.006366188841875799, -0.06276809632860639, 1.0922551650960837, 1.0494241728382323, -1.2545572237268587, 0.85454698485536, -1.0565770016989955, 0.4272278508761094, 0.5260487566362079, 0.3612195036176259, 1.3512716106464608, -1.950044478595946, -1.2573193534478841, -0.25056150412233086, 0.7037066439697688, -1.7049248033653637], \"xaxis\": \"x4\", \"y\": [-1.4138153976580274, 0.08455022128887005, 1.5471984510871117, 1.6967637029976672, -0.7507050193197625, 0.6144492892274529, 0.10523618232753329, 1.207121390424313, 1.7326766078557791, -0.21328491944561068, 2.008579499791018, 0.21547481593456028, 0.3808402686537413, -0.06092935790697329, 0.8370766754499239, 0.8274287807229304, -0.4126127693231269, -0.16929922544402398, 0.7208595301409876, 0.7733136383374829, -0.28892514206321673, -0.8762071774130635, -0.80619652439963, 1.2305229116274847, -0.38858088186267853, 0.7897841741518612, -0.8489199189374191, -1.3654506088764375, 0.48549328430965677, 0.35924680412438875, 1.1114054429854745, 0.0886027064970111, -0.4636103442398656, -0.20840951954222545, 0.1405922012276346, -0.24064485943761077, -0.8334111091782375, 1.842590317603657, -0.3371466088321572, -0.2034175748337479, -2.3459567831821633, -0.4017961959202484, 0.4723198933313565, 0.7501448239663938, -1.0693669073862617, 1.5986290804606074, -0.24461314844453189, 0.10368147740607012, -1.4969890118186504, -0.12435682418267893, 1.274839898045271, -0.5169915646947392, -1.0712305609778643, -0.48659733893741813, 0.3587922256913342, 1.0999910285647592, 0.9149839476261293, -0.486099575812348, -0.7608301228828495, -0.43453947979910407, -0.4378707689182603, 0.01856409953642223, 0.3832610655005692, -2.0933524665046948, 1.7283265223487883, 0.9869190365137367, 0.40571454260259016, -0.5152470857611197, 0.8786939279620871, 0.4279175871191947, -2.601024184701134, -0.683284735855935, 0.849927363712278, 0.8857275580349077, 1.2882816361582505, -0.519059352346447, -0.6904750615623734, 0.8241614462286408, -0.46459047977908063, 0.11913998254705363, 0.13758868739779878, 0.24332496851049237, 0.018205797429998904, 0.358933107643315, 1.1315519087511798, -0.7637852405135656, 0.3135604813218632, 0.2377824938105682, 1.2657677242286454, 0.7290062940756441, 0.6480948280599899, -0.1565135938137894, 0.4133359631767297, 0.7647690463317591, -1.4126303876542592, -0.24760521350475748, 1.5285367941102805, -1.1365724953019072, 0.21258239309873145, 1.4010067851622496], \"yaxis\": \"y4\"}, {\"line\": {\"color\": \"rgba(128, 128, 128, 1.0)\", \"dash\": \"solid\", \"shape\": \"linear\", \"width\": 1.3}, \"marker\": {\"size\": 2, \"symbol\": \"circle\"}, \"mode\": \"markers\", \"name\": \"B\", \"text\": \"\", \"type\": \"scatter\", \"x\": [-1.4138153976580274, 0.08455022128887005, 1.5471984510871117, 1.6967637029976672, -0.7507050193197625, 0.6144492892274529, 0.10523618232753329, 1.207121390424313, 1.7326766078557791, -0.21328491944561068, 2.008579499791018, 0.21547481593456028, 0.3808402686537413, -0.06092935790697329, 0.8370766754499239, 0.8274287807229304, -0.4126127693231269, -0.16929922544402398, 0.7208595301409876, 0.7733136383374829, -0.28892514206321673, -0.8762071774130635, -0.80619652439963, 1.2305229116274847, -0.38858088186267853, 0.7897841741518612, -0.8489199189374191, -1.3654506088764375, 0.48549328430965677, 0.35924680412438875, 1.1114054429854745, 0.0886027064970111, -0.4636103442398656, -0.20840951954222545, 0.1405922012276346, -0.24064485943761077, -0.8334111091782375, 1.842590317603657, -0.3371466088321572, -0.2034175748337479, -2.3459567831821633, -0.4017961959202484, 0.4723198933313565, 0.7501448239663938, -1.0693669073862617, 1.5986290804606074, -0.24461314844453189, 0.10368147740607012, -1.4969890118186504, -0.12435682418267893, 1.274839898045271, -0.5169915646947392, -1.0712305609778643, -0.48659733893741813, 0.3587922256913342, 1.0999910285647592, 0.9149839476261293, -0.486099575812348, -0.7608301228828495, -0.43453947979910407, -0.4378707689182603, 0.01856409953642223, 0.3832610655005692, -2.0933524665046948, 1.7283265223487883, 0.9869190365137367, 0.40571454260259016, -0.5152470857611197, 0.8786939279620871, 0.4279175871191947, -2.601024184701134, -0.683284735855935, 0.849927363712278, 0.8857275580349077, 1.2882816361582505, -0.519059352346447, -0.6904750615623734, 0.8241614462286408, -0.46459047977908063, 0.11913998254705363, 0.13758868739779878, 0.24332496851049237, 0.018205797429998904, 0.358933107643315, 1.1315519087511798, -0.7637852405135656, 0.3135604813218632, 0.2377824938105682, 1.2657677242286454, 0.7290062940756441, 0.6480948280599899, -0.1565135938137894, 0.4133359631767297, 0.7647690463317591, -1.4126303876542592, -0.24760521350475748, 1.5285367941102805, -1.1365724953019072, 0.21258239309873145, 1.4010067851622496], \"xaxis\": \"x5\", \"y\": [0.6307750025445071, 2.1165649393990944, -0.13402531428069492, -1.0980616376530266, -2.434586496069079, -1.3053078896558565, -0.07090686858487011, 0.2058256171970834, -0.399262838679452, -0.14038606848181132, 0.9187536646281099, -0.8442053961123566, -0.2203312366099077, 0.6148352056947539, 0.5487157074264113, -0.8815647579995127, -0.34319730713674246, -1.0520874575465975, -0.5654422884296576, -0.09868497816887367, -0.4968289089377307, 0.2716017943118359, 0.9226989164424838, -0.5239432560546522, -0.8805108560299565, 1.0291913615050854, -0.09431283356381821, -0.9703360343139987, 0.47166862549484884, -1.2700349012817091, 0.413275586679944, -0.04254191220658984, -0.3338980359576901, -0.675195513492032, 1.550294420863555, 1.1516766730039087, 0.6535287491249111, 0.6144648993585563, 0.789565666569126, -0.3433168130690615, -0.05275694170220859, 0.3020462133498991, -0.06943522706603063, -0.35192362829665536, 0.6126596333884724, 1.5578365933599612, -0.1253060804619179, -1.3902002070743285, -0.8174637537749673, 0.11333678312936613, 1.3356891122813224, 0.19964929894159641, 0.08236990727602006, 1.2201019912024953, -0.5511844759854739, -0.8289846840857326, 0.33884864688721744, 1.0881768989607006, -0.7703403348773846, -0.2946516470282624, 0.06536745681673374, 0.7892622385305326, 1.6351318760725766, -0.3738887659267329, 0.5705852579762929, 1.7567400703602254, 1.5658507756576097, -0.32738934219238813, -3.4188171677438355, -0.8446793972616198, -0.0745933598454902, 0.9009946023546918, 0.04500369804380455, -0.16211529173578793, -1.612928599166473, -0.010132569394765995, 0.17953472500659787, 0.0064179642326903244, 0.1326959809776376, 1.946233101865483, 0.03252092127965211, -0.5130179934757979, 0.1429766964487547, -1.0395116288148776, -1.160703594319139, 0.4435732597243696, 1.5891745109922495, 0.31166755938333734, -0.9900532640822058, 0.6440787128368036, 0.5558862615610557, 0.2982157252903566, 0.653861307961139, -0.9103614368183744, -0.20579788187733009, 1.2582778382184772, -0.8122835465461327, -0.2767951603430714, -1.3958080501251722, 0.6847098823556407], \"yaxis\": \"y5\"}, {\"histfunc\": \"count\", \"histnorm\": \"\", \"marker\": {\"color\": \"rgba(55, 128, 191, 1.0)\", \"line\": {\"color\": \"#4D5663\", \"width\": 1.3}}, \"name\": \"B\", \"nbinsx\": 10, \"opacity\": 0.8, \"orientation\": \"v\", \"type\": \"histogram\", \"x\": [0.6307750025445071, 2.1165649393990944, -0.13402531428069492, -1.0980616376530266, -2.434586496069079, -1.3053078896558565, -0.07090686858487011, 0.2058256171970834, -0.399262838679452, -0.14038606848181132, 0.9187536646281099, -0.8442053961123566, -0.2203312366099077, 0.6148352056947539, 0.5487157074264113, -0.8815647579995127, -0.34319730713674246, -1.0520874575465975, -0.5654422884296576, -0.09868497816887367, -0.4968289089377307, 0.2716017943118359, 0.9226989164424838, -0.5239432560546522, -0.8805108560299565, 1.0291913615050854, -0.09431283356381821, -0.9703360343139987, 0.47166862549484884, -1.2700349012817091, 0.413275586679944, -0.04254191220658984, -0.3338980359576901, -0.675195513492032, 1.550294420863555, 1.1516766730039087, 0.6535287491249111, 0.6144648993585563, 0.789565666569126, -0.3433168130690615, -0.05275694170220859, 0.3020462133498991, -0.06943522706603063, -0.35192362829665536, 0.6126596333884724, 1.5578365933599612, -0.1253060804619179, -1.3902002070743285, -0.8174637537749673, 0.11333678312936613, 1.3356891122813224, 0.19964929894159641, 0.08236990727602006, 1.2201019912024953, -0.5511844759854739, -0.8289846840857326, 0.33884864688721744, 1.0881768989607006, -0.7703403348773846, -0.2946516470282624, 0.06536745681673374, 0.7892622385305326, 1.6351318760725766, -0.3738887659267329, 0.5705852579762929, 1.7567400703602254, 1.5658507756576097, -0.32738934219238813, -3.4188171677438355, -0.8446793972616198, -0.0745933598454902, 0.9009946023546918, 0.04500369804380455, -0.16211529173578793, -1.612928599166473, -0.010132569394765995, 0.17953472500659787, 0.0064179642326903244, 0.1326959809776376, 1.946233101865483, 0.03252092127965211, -0.5130179934757979, 0.1429766964487547, -1.0395116288148776, -1.160703594319139, 0.4435732597243696, 1.5891745109922495, 0.31166755938333734, -0.9900532640822058, 0.6440787128368036, 0.5558862615610557, 0.2982157252903566, 0.653861307961139, -0.9103614368183744, -0.20579788187733009, 1.2582778382184772, -0.8122835465461327, -0.2767951603430714, -1.3958080501251722, 0.6847098823556407], \"xaxis\": \"x6\", \"yaxis\": \"y6\"}, {\"line\": {\"color\": \"rgba(128, 128, 128, 1.0)\", \"dash\": \"solid\", \"shape\": \"linear\", \"width\": 1.3}, \"marker\": {\"size\": 2, \"symbol\": \"circle\"}, \"mode\": \"markers\", \"name\": \"B\", \"text\": \"\", \"type\": \"scatter\", \"x\": [-0.46340373251531897, -1.2458082668067412, -1.2544869635350833, 0.7992798174825069, -0.6920536741082177, -0.9039402715935553, -0.5318693601620845, 0.36622384671901065, 1.734636291744235, 0.4919645545584108, -1.2114597598608754, 0.45078559077266145, 0.1572546695747489, 0.2931161256889199, -2.019960738755273, 1.9786741394069225, -0.25705990841031306, 0.6258033617564331, -0.565313370019214, -0.871242691574864, -0.9072413358597263, -0.4352159828031252, -0.3152789420605196, 0.3343274016001478, -0.8355510389853845, -0.08063233193136128, 1.2085798566116208, -1.4467876496884895, 0.38203123547837603, 0.46426729140012724, 1.6401217079434836, -0.854238034593468, 1.5407210744037485, -0.14436325819618617, -0.2605810656404103, -1.0667650476360888, -1.056067245591354, 1.9574704984813092, -0.28548161395355387, 0.3630299765906264, 1.8717410623106905, -1.2885519087872637, 0.2047593692732163, -0.5974228245989848, 1.6814383513171696, 0.820360064671196, -0.17586988934263895, -0.4083214975570279, -0.05674128881314127, -1.8152612188116326, -0.8864130113250144, 1.4603451453226415, 1.4297458915209527, 0.6231188334979672, -0.8101152307172, 1.6812865981628995, 0.2536332988253022, -0.21639811344208956, -0.7350529452943216, -0.148659510206894, 0.3782443081771902, -1.2849059090569048, -1.9032548143075259, -0.39613707656414376, 0.40350296821948145, -0.11486122769817589, -0.0305981534114856, -0.27470397798688656, -1.3120954580845827, 0.8276891494136229, -0.980367071594073, -0.04462247327438354, 1.7759901461121241, 0.19542388409024997, -0.13794027312975354, -2.244810442035269, 1.140100134219041, -0.07762929188667533, 0.9865114345836813, -0.33191983063864333, -0.4927775935775253, -0.41706644247887215, -0.9506510221488315, 0.32331265996069625, 0.12018968834740629, 1.1090243442109413, -0.15391658451186283, -1.8478056324649534, 0.7164486019595993, -1.0500354676498393, -2.573872198975193, -0.805911709339272, -0.369358056939599, 0.5729898387862129, 1.619496005508339, 0.381073260793748, 0.5465425470776235, 0.8295352203740076, 0.6860406524629331, -1.4466022690225124], \"xaxis\": \"x7\", \"y\": [0.6307750025445071, 2.1165649393990944, -0.13402531428069492, -1.0980616376530266, -2.434586496069079, -1.3053078896558565, -0.07090686858487011, 0.2058256171970834, -0.399262838679452, -0.14038606848181132, 0.9187536646281099, -0.8442053961123566, -0.2203312366099077, 0.6148352056947539, 0.5487157074264113, -0.8815647579995127, -0.34319730713674246, -1.0520874575465975, -0.5654422884296576, -0.09868497816887367, -0.4968289089377307, 0.2716017943118359, 0.9226989164424838, -0.5239432560546522, -0.8805108560299565, 1.0291913615050854, -0.09431283356381821, -0.9703360343139987, 0.47166862549484884, -1.2700349012817091, 0.413275586679944, -0.04254191220658984, -0.3338980359576901, -0.675195513492032, 1.550294420863555, 1.1516766730039087, 0.6535287491249111, 0.6144648993585563, 0.789565666569126, -0.3433168130690615, -0.05275694170220859, 0.3020462133498991, -0.06943522706603063, -0.35192362829665536, 0.6126596333884724, 1.5578365933599612, -0.1253060804619179, -1.3902002070743285, -0.8174637537749673, 0.11333678312936613, 1.3356891122813224, 0.19964929894159641, 0.08236990727602006, 1.2201019912024953, -0.5511844759854739, -0.8289846840857326, 0.33884864688721744, 1.0881768989607006, -0.7703403348773846, -0.2946516470282624, 0.06536745681673374, 0.7892622385305326, 1.6351318760725766, -0.3738887659267329, 0.5705852579762929, 1.7567400703602254, 1.5658507756576097, -0.32738934219238813, -3.4188171677438355, -0.8446793972616198, -0.0745933598454902, 0.9009946023546918, 0.04500369804380455, -0.16211529173578793, -1.612928599166473, -0.010132569394765995, 0.17953472500659787, 0.0064179642326903244, 0.1326959809776376, 1.946233101865483, 0.03252092127965211, -0.5130179934757979, 0.1429766964487547, -1.0395116288148776, -1.160703594319139, 0.4435732597243696, 1.5891745109922495, 0.31166755938333734, -0.9900532640822058, 0.6440787128368036, 0.5558862615610557, 0.2982157252903566, 0.653861307961139, -0.9103614368183744, -0.20579788187733009, 1.2582778382184772, -0.8122835465461327, -0.2767951603430714, -1.3958080501251722, 0.6847098823556407], \"yaxis\": \"y7\"}, {\"line\": {\"color\": \"rgba(128, 128, 128, 1.0)\", \"dash\": \"solid\", \"shape\": \"linear\", \"width\": 1.3}, \"marker\": {\"size\": 2, \"symbol\": \"circle\"}, \"mode\": \"markers\", \"name\": \"B\", \"text\": \"\", \"type\": \"scatter\", \"x\": [0.5189726602233986, -0.09129733315409432, 0.1232450306540208, -1.1698580196273767, -0.04934799474724009, -1.0001989210507714, 0.5671806384021019, -0.28322068966089176, 0.8555481328512194, -2.3713348063524196, 0.27455014331253624, -0.7645072216676173, 0.009307993448969716, 0.3343775413198073, -1.2046224912048202, 0.7413828651746952, 0.4615406725797837, -1.2669350311968313, -0.206471635708302, -1.0687192524195723, 1.158143552837741, -1.6594438359757115, 0.8786415727511163, 0.8618120176457761, -1.501183653156108, 0.411665844779012, 1.8727217322971192, -0.09692668792631587, -0.24644458423235868, -0.5232506859459267, -0.47758769627830877, 0.18243714102800973, -2.3370642938658537, -1.8018043637588312, -1.870929987970339, 0.8683836430926027, -0.16384969934716526, -1.1272793605378462, -1.696879722687243, 0.7803404884546775, -0.35183954212625357, 0.23508808803152917, -1.860281736205346, 0.17863224075601442, -0.41598731174391135, 1.5465734315420336, 0.13391237276777, 0.22546968713775464, -1.4280462028944116, -2.144388215577554, 1.6654778132648989, -0.4134961144007236, 0.32398281812293517, -0.5135466930834046, -1.1883419275290195, 0.30158716822126985, -0.26610784830215434, -0.09465805847480475, -0.7200737767470347, -0.9164077836785587, 1.6856301459780483, -1.2188237072435504, -0.484695122602499, -0.4479755552260965, -1.2829861550124635, -0.2668949890344071, -0.29167000944686006, -0.24165020645813834, 0.7848481932228031, 0.7827043654352501, -0.08514518620383253, 0.693585834540342, -0.08846670193598202, 1.048411574235362, 0.02364572431188195, -0.18204325608428804, 1.3286872900926754, -0.6877893356884016, -0.7554584348984519, 0.15582072289182852, -0.6040671721288594, -0.2804775497038172, 1.2423593013253391, 0.49894076286355454, 0.006366188841875799, -0.06276809632860639, 1.0922551650960837, 1.0494241728382323, -1.2545572237268587, 0.85454698485536, -1.0565770016989955, 0.4272278508761094, 0.5260487566362079, 0.3612195036176259, 1.3512716106464608, -1.950044478595946, -1.2573193534478841, -0.25056150412233086, 0.7037066439697688, -1.7049248033653637], \"xaxis\": \"x8\", \"y\": [0.6307750025445071, 2.1165649393990944, -0.13402531428069492, -1.0980616376530266, -2.434586496069079, -1.3053078896558565, -0.07090686858487011, 0.2058256171970834, -0.399262838679452, -0.14038606848181132, 0.9187536646281099, -0.8442053961123566, -0.2203312366099077, 0.6148352056947539, 0.5487157074264113, -0.8815647579995127, -0.34319730713674246, -1.0520874575465975, -0.5654422884296576, -0.09868497816887367, -0.4968289089377307, 0.2716017943118359, 0.9226989164424838, -0.5239432560546522, -0.8805108560299565, 1.0291913615050854, -0.09431283356381821, -0.9703360343139987, 0.47166862549484884, -1.2700349012817091, 0.413275586679944, -0.04254191220658984, -0.3338980359576901, -0.675195513492032, 1.550294420863555, 1.1516766730039087, 0.6535287491249111, 0.6144648993585563, 0.789565666569126, -0.3433168130690615, -0.05275694170220859, 0.3020462133498991, -0.06943522706603063, -0.35192362829665536, 0.6126596333884724, 1.5578365933599612, -0.1253060804619179, -1.3902002070743285, -0.8174637537749673, 0.11333678312936613, 1.3356891122813224, 0.19964929894159641, 0.08236990727602006, 1.2201019912024953, -0.5511844759854739, -0.8289846840857326, 0.33884864688721744, 1.0881768989607006, -0.7703403348773846, -0.2946516470282624, 0.06536745681673374, 0.7892622385305326, 1.6351318760725766, -0.3738887659267329, 0.5705852579762929, 1.7567400703602254, 1.5658507756576097, -0.32738934219238813, -3.4188171677438355, -0.8446793972616198, -0.0745933598454902, 0.9009946023546918, 0.04500369804380455, -0.16211529173578793, -1.612928599166473, -0.010132569394765995, 0.17953472500659787, 0.0064179642326903244, 0.1326959809776376, 1.946233101865483, 0.03252092127965211, -0.5130179934757979, 0.1429766964487547, -1.0395116288148776, -1.160703594319139, 0.4435732597243696, 1.5891745109922495, 0.31166755938333734, -0.9900532640822058, 0.6440787128368036, 0.5558862615610557, 0.2982157252903566, 0.653861307961139, -0.9103614368183744, -0.20579788187733009, 1.2582778382184772, -0.8122835465461327, -0.2767951603430714, -1.3958080501251722, 0.6847098823556407], \"yaxis\": \"y8\"}, {\"line\": {\"color\": \"rgba(128, 128, 128, 1.0)\", \"dash\": \"solid\", \"shape\": \"linear\", \"width\": 1.3}, \"marker\": {\"size\": 2, \"symbol\": \"circle\"}, \"mode\": \"markers\", \"name\": \"C\", \"text\": \"\", \"type\": \"scatter\", \"x\": [-1.4138153976580274, 0.08455022128887005, 1.5471984510871117, 1.6967637029976672, -0.7507050193197625, 0.6144492892274529, 0.10523618232753329, 1.207121390424313, 1.7326766078557791, -0.21328491944561068, 2.008579499791018, 0.21547481593456028, 0.3808402686537413, -0.06092935790697329, 0.8370766754499239, 0.8274287807229304, -0.4126127693231269, -0.16929922544402398, 0.7208595301409876, 0.7733136383374829, -0.28892514206321673, -0.8762071774130635, -0.80619652439963, 1.2305229116274847, -0.38858088186267853, 0.7897841741518612, -0.8489199189374191, -1.3654506088764375, 0.48549328430965677, 0.35924680412438875, 1.1114054429854745, 0.0886027064970111, -0.4636103442398656, -0.20840951954222545, 0.1405922012276346, -0.24064485943761077, -0.8334111091782375, 1.842590317603657, -0.3371466088321572, -0.2034175748337479, -2.3459567831821633, -0.4017961959202484, 0.4723198933313565, 0.7501448239663938, -1.0693669073862617, 1.5986290804606074, -0.24461314844453189, 0.10368147740607012, -1.4969890118186504, -0.12435682418267893, 1.274839898045271, -0.5169915646947392, -1.0712305609778643, -0.48659733893741813, 0.3587922256913342, 1.0999910285647592, 0.9149839476261293, -0.486099575812348, -0.7608301228828495, -0.43453947979910407, -0.4378707689182603, 0.01856409953642223, 0.3832610655005692, -2.0933524665046948, 1.7283265223487883, 0.9869190365137367, 0.40571454260259016, -0.5152470857611197, 0.8786939279620871, 0.4279175871191947, -2.601024184701134, -0.683284735855935, 0.849927363712278, 0.8857275580349077, 1.2882816361582505, -0.519059352346447, -0.6904750615623734, 0.8241614462286408, -0.46459047977908063, 0.11913998254705363, 0.13758868739779878, 0.24332496851049237, 0.018205797429998904, 0.358933107643315, 1.1315519087511798, -0.7637852405135656, 0.3135604813218632, 0.2377824938105682, 1.2657677242286454, 0.7290062940756441, 0.6480948280599899, -0.1565135938137894, 0.4133359631767297, 0.7647690463317591, -1.4126303876542592, -0.24760521350475748, 1.5285367941102805, -1.1365724953019072, 0.21258239309873145, 1.4010067851622496], \"xaxis\": \"x9\", \"y\": [-0.46340373251531897, -1.2458082668067412, -1.2544869635350833, 0.7992798174825069, -0.6920536741082177, -0.9039402715935553, -0.5318693601620845, 0.36622384671901065, 1.734636291744235, 0.4919645545584108, -1.2114597598608754, 0.45078559077266145, 0.1572546695747489, 0.2931161256889199, -2.019960738755273, 1.9786741394069225, -0.25705990841031306, 0.6258033617564331, -0.565313370019214, -0.871242691574864, -0.9072413358597263, -0.4352159828031252, -0.3152789420605196, 0.3343274016001478, -0.8355510389853845, -0.08063233193136128, 1.2085798566116208, -1.4467876496884895, 0.38203123547837603, 0.46426729140012724, 1.6401217079434836, -0.854238034593468, 1.5407210744037485, -0.14436325819618617, -0.2605810656404103, -1.0667650476360888, -1.056067245591354, 1.9574704984813092, -0.28548161395355387, 0.3630299765906264, 1.8717410623106905, -1.2885519087872637, 0.2047593692732163, -0.5974228245989848, 1.6814383513171696, 0.820360064671196, -0.17586988934263895, -0.4083214975570279, -0.05674128881314127, -1.8152612188116326, -0.8864130113250144, 1.4603451453226415, 1.4297458915209527, 0.6231188334979672, -0.8101152307172, 1.6812865981628995, 0.2536332988253022, -0.21639811344208956, -0.7350529452943216, -0.148659510206894, 0.3782443081771902, -1.2849059090569048, -1.9032548143075259, -0.39613707656414376, 0.40350296821948145, -0.11486122769817589, -0.0305981534114856, -0.27470397798688656, -1.3120954580845827, 0.8276891494136229, -0.980367071594073, -0.04462247327438354, 1.7759901461121241, 0.19542388409024997, -0.13794027312975354, -2.244810442035269, 1.140100134219041, -0.07762929188667533, 0.9865114345836813, -0.33191983063864333, -0.4927775935775253, -0.41706644247887215, -0.9506510221488315, 0.32331265996069625, 0.12018968834740629, 1.1090243442109413, -0.15391658451186283, -1.8478056324649534, 0.7164486019595993, -1.0500354676498393, -2.573872198975193, -0.805911709339272, -0.369358056939599, 0.5729898387862129, 1.619496005508339, 0.381073260793748, 0.5465425470776235, 0.8295352203740076, 0.6860406524629331, -1.4466022690225124], \"yaxis\": \"y9\"}, {\"line\": {\"color\": \"rgba(128, 128, 128, 1.0)\", \"dash\": \"solid\", \"shape\": \"linear\", \"width\": 1.3}, \"marker\": {\"size\": 2, \"symbol\": \"circle\"}, \"mode\": \"markers\", \"name\": \"C\", \"text\": \"\", \"type\": \"scatter\", \"x\": [0.6307750025445071, 2.1165649393990944, -0.13402531428069492, -1.0980616376530266, -2.434586496069079, -1.3053078896558565, -0.07090686858487011, 0.2058256171970834, -0.399262838679452, -0.14038606848181132, 0.9187536646281099, -0.8442053961123566, -0.2203312366099077, 0.6148352056947539, 0.5487157074264113, -0.8815647579995127, -0.34319730713674246, -1.0520874575465975, -0.5654422884296576, -0.09868497816887367, -0.4968289089377307, 0.2716017943118359, 0.9226989164424838, -0.5239432560546522, -0.8805108560299565, 1.0291913615050854, -0.09431283356381821, -0.9703360343139987, 0.47166862549484884, -1.2700349012817091, 0.413275586679944, -0.04254191220658984, -0.3338980359576901, -0.675195513492032, 1.550294420863555, 1.1516766730039087, 0.6535287491249111, 0.6144648993585563, 0.789565666569126, -0.3433168130690615, -0.05275694170220859, 0.3020462133498991, -0.06943522706603063, -0.35192362829665536, 0.6126596333884724, 1.5578365933599612, -0.1253060804619179, -1.3902002070743285, -0.8174637537749673, 0.11333678312936613, 1.3356891122813224, 0.19964929894159641, 0.08236990727602006, 1.2201019912024953, -0.5511844759854739, -0.8289846840857326, 0.33884864688721744, 1.0881768989607006, -0.7703403348773846, -0.2946516470282624, 0.06536745681673374, 0.7892622385305326, 1.6351318760725766, -0.3738887659267329, 0.5705852579762929, 1.7567400703602254, 1.5658507756576097, -0.32738934219238813, -3.4188171677438355, -0.8446793972616198, -0.0745933598454902, 0.9009946023546918, 0.04500369804380455, -0.16211529173578793, -1.612928599166473, -0.010132569394765995, 0.17953472500659787, 0.0064179642326903244, 0.1326959809776376, 1.946233101865483, 0.03252092127965211, -0.5130179934757979, 0.1429766964487547, -1.0395116288148776, -1.160703594319139, 0.4435732597243696, 1.5891745109922495, 0.31166755938333734, -0.9900532640822058, 0.6440787128368036, 0.5558862615610557, 0.2982157252903566, 0.653861307961139, -0.9103614368183744, -0.20579788187733009, 1.2582778382184772, -0.8122835465461327, -0.2767951603430714, -1.3958080501251722, 0.6847098823556407], \"xaxis\": \"x10\", \"y\": [-0.46340373251531897, -1.2458082668067412, -1.2544869635350833, 0.7992798174825069, -0.6920536741082177, -0.9039402715935553, -0.5318693601620845, 0.36622384671901065, 1.734636291744235, 0.4919645545584108, -1.2114597598608754, 0.45078559077266145, 0.1572546695747489, 0.2931161256889199, -2.019960738755273, 1.9786741394069225, -0.25705990841031306, 0.6258033617564331, -0.565313370019214, -0.871242691574864, -0.9072413358597263, -0.4352159828031252, -0.3152789420605196, 0.3343274016001478, -0.8355510389853845, -0.08063233193136128, 1.2085798566116208, -1.4467876496884895, 0.38203123547837603, 0.46426729140012724, 1.6401217079434836, -0.854238034593468, 1.5407210744037485, -0.14436325819618617, -0.2605810656404103, -1.0667650476360888, -1.056067245591354, 1.9574704984813092, -0.28548161395355387, 0.3630299765906264, 1.8717410623106905, -1.2885519087872637, 0.2047593692732163, -0.5974228245989848, 1.6814383513171696, 0.820360064671196, -0.17586988934263895, -0.4083214975570279, -0.05674128881314127, -1.8152612188116326, -0.8864130113250144, 1.4603451453226415, 1.4297458915209527, 0.6231188334979672, -0.8101152307172, 1.6812865981628995, 0.2536332988253022, -0.21639811344208956, -0.7350529452943216, -0.148659510206894, 0.3782443081771902, -1.2849059090569048, -1.9032548143075259, -0.39613707656414376, 0.40350296821948145, -0.11486122769817589, -0.0305981534114856, -0.27470397798688656, -1.3120954580845827, 0.8276891494136229, -0.980367071594073, -0.04462247327438354, 1.7759901461121241, 0.19542388409024997, -0.13794027312975354, -2.244810442035269, 1.140100134219041, -0.07762929188667533, 0.9865114345836813, -0.33191983063864333, -0.4927775935775253, -0.41706644247887215, -0.9506510221488315, 0.32331265996069625, 0.12018968834740629, 1.1090243442109413, -0.15391658451186283, -1.8478056324649534, 0.7164486019595993, -1.0500354676498393, -2.573872198975193, -0.805911709339272, -0.369358056939599, 0.5729898387862129, 1.619496005508339, 0.381073260793748, 0.5465425470776235, 0.8295352203740076, 0.6860406524629331, -1.4466022690225124], \"yaxis\": \"y10\"}, {\"histfunc\": \"count\", \"histnorm\": \"\", \"marker\": {\"color\": \"rgba(50, 171, 96, 1.0)\", \"line\": {\"color\": \"#4D5663\", \"width\": 1.3}}, \"name\": \"C\", \"nbinsx\": 10, \"opacity\": 0.8, \"orientation\": \"v\", \"type\": \"histogram\", \"x\": [-0.46340373251531897, -1.2458082668067412, -1.2544869635350833, 0.7992798174825069, -0.6920536741082177, -0.9039402715935553, -0.5318693601620845, 0.36622384671901065, 1.734636291744235, 0.4919645545584108, -1.2114597598608754, 0.45078559077266145, 0.1572546695747489, 0.2931161256889199, -2.019960738755273, 1.9786741394069225, -0.25705990841031306, 0.6258033617564331, -0.565313370019214, -0.871242691574864, -0.9072413358597263, -0.4352159828031252, -0.3152789420605196, 0.3343274016001478, -0.8355510389853845, -0.08063233193136128, 1.2085798566116208, -1.4467876496884895, 0.38203123547837603, 0.46426729140012724, 1.6401217079434836, -0.854238034593468, 1.5407210744037485, -0.14436325819618617, -0.2605810656404103, -1.0667650476360888, -1.056067245591354, 1.9574704984813092, -0.28548161395355387, 0.3630299765906264, 1.8717410623106905, -1.2885519087872637, 0.2047593692732163, -0.5974228245989848, 1.6814383513171696, 0.820360064671196, -0.17586988934263895, -0.4083214975570279, -0.05674128881314127, -1.8152612188116326, -0.8864130113250144, 1.4603451453226415, 1.4297458915209527, 0.6231188334979672, -0.8101152307172, 1.6812865981628995, 0.2536332988253022, -0.21639811344208956, -0.7350529452943216, -0.148659510206894, 0.3782443081771902, -1.2849059090569048, -1.9032548143075259, -0.39613707656414376, 0.40350296821948145, -0.11486122769817589, -0.0305981534114856, -0.27470397798688656, -1.3120954580845827, 0.8276891494136229, -0.980367071594073, -0.04462247327438354, 1.7759901461121241, 0.19542388409024997, -0.13794027312975354, -2.244810442035269, 1.140100134219041, -0.07762929188667533, 0.9865114345836813, -0.33191983063864333, -0.4927775935775253, -0.41706644247887215, -0.9506510221488315, 0.32331265996069625, 0.12018968834740629, 1.1090243442109413, -0.15391658451186283, -1.8478056324649534, 0.7164486019595993, -1.0500354676498393, -2.573872198975193, -0.805911709339272, -0.369358056939599, 0.5729898387862129, 1.619496005508339, 0.381073260793748, 0.5465425470776235, 0.8295352203740076, 0.6860406524629331, -1.4466022690225124], \"xaxis\": \"x11\", \"yaxis\": \"y11\"}, {\"line\": {\"color\": \"rgba(128, 128, 128, 1.0)\", \"dash\": \"solid\", \"shape\": \"linear\", \"width\": 1.3}, \"marker\": {\"size\": 2, \"symbol\": \"circle\"}, \"mode\": \"markers\", \"name\": \"C\", \"text\": \"\", \"type\": \"scatter\", \"x\": [0.5189726602233986, -0.09129733315409432, 0.1232450306540208, -1.1698580196273767, -0.04934799474724009, -1.0001989210507714, 0.5671806384021019, -0.28322068966089176, 0.8555481328512194, -2.3713348063524196, 0.27455014331253624, -0.7645072216676173, 0.009307993448969716, 0.3343775413198073, -1.2046224912048202, 0.7413828651746952, 0.4615406725797837, -1.2669350311968313, -0.206471635708302, -1.0687192524195723, 1.158143552837741, -1.6594438359757115, 0.8786415727511163, 0.8618120176457761, -1.501183653156108, 0.411665844779012, 1.8727217322971192, -0.09692668792631587, -0.24644458423235868, -0.5232506859459267, -0.47758769627830877, 0.18243714102800973, -2.3370642938658537, -1.8018043637588312, -1.870929987970339, 0.8683836430926027, -0.16384969934716526, -1.1272793605378462, -1.696879722687243, 0.7803404884546775, -0.35183954212625357, 0.23508808803152917, -1.860281736205346, 0.17863224075601442, -0.41598731174391135, 1.5465734315420336, 0.13391237276777, 0.22546968713775464, -1.4280462028944116, -2.144388215577554, 1.6654778132648989, -0.4134961144007236, 0.32398281812293517, -0.5135466930834046, -1.1883419275290195, 0.30158716822126985, -0.26610784830215434, -0.09465805847480475, -0.7200737767470347, -0.9164077836785587, 1.6856301459780483, -1.2188237072435504, -0.484695122602499, -0.4479755552260965, -1.2829861550124635, -0.2668949890344071, -0.29167000944686006, -0.24165020645813834, 0.7848481932228031, 0.7827043654352501, -0.08514518620383253, 0.693585834540342, -0.08846670193598202, 1.048411574235362, 0.02364572431188195, -0.18204325608428804, 1.3286872900926754, -0.6877893356884016, -0.7554584348984519, 0.15582072289182852, -0.6040671721288594, -0.2804775497038172, 1.2423593013253391, 0.49894076286355454, 0.006366188841875799, -0.06276809632860639, 1.0922551650960837, 1.0494241728382323, -1.2545572237268587, 0.85454698485536, -1.0565770016989955, 0.4272278508761094, 0.5260487566362079, 0.3612195036176259, 1.3512716106464608, -1.950044478595946, -1.2573193534478841, -0.25056150412233086, 0.7037066439697688, -1.7049248033653637], \"xaxis\": \"x12\", \"y\": [-0.46340373251531897, -1.2458082668067412, -1.2544869635350833, 0.7992798174825069, -0.6920536741082177, -0.9039402715935553, -0.5318693601620845, 0.36622384671901065, 1.734636291744235, 0.4919645545584108, -1.2114597598608754, 0.45078559077266145, 0.1572546695747489, 0.2931161256889199, -2.019960738755273, 1.9786741394069225, -0.25705990841031306, 0.6258033617564331, -0.565313370019214, -0.871242691574864, -0.9072413358597263, -0.4352159828031252, -0.3152789420605196, 0.3343274016001478, -0.8355510389853845, -0.08063233193136128, 1.2085798566116208, -1.4467876496884895, 0.38203123547837603, 0.46426729140012724, 1.6401217079434836, -0.854238034593468, 1.5407210744037485, -0.14436325819618617, -0.2605810656404103, -1.0667650476360888, -1.056067245591354, 1.9574704984813092, -0.28548161395355387, 0.3630299765906264, 1.8717410623106905, -1.2885519087872637, 0.2047593692732163, -0.5974228245989848, 1.6814383513171696, 0.820360064671196, -0.17586988934263895, -0.4083214975570279, -0.05674128881314127, -1.8152612188116326, -0.8864130113250144, 1.4603451453226415, 1.4297458915209527, 0.6231188334979672, -0.8101152307172, 1.6812865981628995, 0.2536332988253022, -0.21639811344208956, -0.7350529452943216, -0.148659510206894, 0.3782443081771902, -1.2849059090569048, -1.9032548143075259, -0.39613707656414376, 0.40350296821948145, -0.11486122769817589, -0.0305981534114856, -0.27470397798688656, -1.3120954580845827, 0.8276891494136229, -0.980367071594073, -0.04462247327438354, 1.7759901461121241, 0.19542388409024997, -0.13794027312975354, -2.244810442035269, 1.140100134219041, -0.07762929188667533, 0.9865114345836813, -0.33191983063864333, -0.4927775935775253, -0.41706644247887215, -0.9506510221488315, 0.32331265996069625, 0.12018968834740629, 1.1090243442109413, -0.15391658451186283, -1.8478056324649534, 0.7164486019595993, -1.0500354676498393, -2.573872198975193, -0.805911709339272, -0.369358056939599, 0.5729898387862129, 1.619496005508339, 0.381073260793748, 0.5465425470776235, 0.8295352203740076, 0.6860406524629331, -1.4466022690225124], \"yaxis\": \"y12\"}, {\"line\": {\"color\": \"rgba(128, 128, 128, 1.0)\", \"dash\": \"solid\", \"shape\": \"linear\", \"width\": 1.3}, \"marker\": {\"size\": 2, \"symbol\": \"circle\"}, \"mode\": \"markers\", \"name\": \"D\", \"text\": \"\", \"type\": \"scatter\", \"x\": [-1.4138153976580274, 0.08455022128887005, 1.5471984510871117, 1.6967637029976672, -0.7507050193197625, 0.6144492892274529, 0.10523618232753329, 1.207121390424313, 1.7326766078557791, -0.21328491944561068, 2.008579499791018, 0.21547481593456028, 0.3808402686537413, -0.06092935790697329, 0.8370766754499239, 0.8274287807229304, -0.4126127693231269, -0.16929922544402398, 0.7208595301409876, 0.7733136383374829, -0.28892514206321673, -0.8762071774130635, -0.80619652439963, 1.2305229116274847, -0.38858088186267853, 0.7897841741518612, -0.8489199189374191, -1.3654506088764375, 0.48549328430965677, 0.35924680412438875, 1.1114054429854745, 0.0886027064970111, -0.4636103442398656, -0.20840951954222545, 0.1405922012276346, -0.24064485943761077, -0.8334111091782375, 1.842590317603657, -0.3371466088321572, -0.2034175748337479, -2.3459567831821633, -0.4017961959202484, 0.4723198933313565, 0.7501448239663938, -1.0693669073862617, 1.5986290804606074, -0.24461314844453189, 0.10368147740607012, -1.4969890118186504, -0.12435682418267893, 1.274839898045271, -0.5169915646947392, -1.0712305609778643, -0.48659733893741813, 0.3587922256913342, 1.0999910285647592, 0.9149839476261293, -0.486099575812348, -0.7608301228828495, -0.43453947979910407, -0.4378707689182603, 0.01856409953642223, 0.3832610655005692, -2.0933524665046948, 1.7283265223487883, 0.9869190365137367, 0.40571454260259016, -0.5152470857611197, 0.8786939279620871, 0.4279175871191947, -2.601024184701134, -0.683284735855935, 0.849927363712278, 0.8857275580349077, 1.2882816361582505, -0.519059352346447, -0.6904750615623734, 0.8241614462286408, -0.46459047977908063, 0.11913998254705363, 0.13758868739779878, 0.24332496851049237, 0.018205797429998904, 0.358933107643315, 1.1315519087511798, -0.7637852405135656, 0.3135604813218632, 0.2377824938105682, 1.2657677242286454, 0.7290062940756441, 0.6480948280599899, -0.1565135938137894, 0.4133359631767297, 0.7647690463317591, -1.4126303876542592, -0.24760521350475748, 1.5285367941102805, -1.1365724953019072, 0.21258239309873145, 1.4010067851622496], \"xaxis\": \"x13\", \"y\": [0.5189726602233986, -0.09129733315409432, 0.1232450306540208, -1.1698580196273767, -0.04934799474724009, -1.0001989210507714, 0.5671806384021019, -0.28322068966089176, 0.8555481328512194, -2.3713348063524196, 0.27455014331253624, -0.7645072216676173, 0.009307993448969716, 0.3343775413198073, -1.2046224912048202, 0.7413828651746952, 0.4615406725797837, -1.2669350311968313, -0.206471635708302, -1.0687192524195723, 1.158143552837741, -1.6594438359757115, 0.8786415727511163, 0.8618120176457761, -1.501183653156108, 0.411665844779012, 1.8727217322971192, -0.09692668792631587, -0.24644458423235868, -0.5232506859459267, -0.47758769627830877, 0.18243714102800973, -2.3370642938658537, -1.8018043637588312, -1.870929987970339, 0.8683836430926027, -0.16384969934716526, -1.1272793605378462, -1.696879722687243, 0.7803404884546775, -0.35183954212625357, 0.23508808803152917, -1.860281736205346, 0.17863224075601442, -0.41598731174391135, 1.5465734315420336, 0.13391237276777, 0.22546968713775464, -1.4280462028944116, -2.144388215577554, 1.6654778132648989, -0.4134961144007236, 0.32398281812293517, -0.5135466930834046, -1.1883419275290195, 0.30158716822126985, -0.26610784830215434, -0.09465805847480475, -0.7200737767470347, -0.9164077836785587, 1.6856301459780483, -1.2188237072435504, -0.484695122602499, -0.4479755552260965, -1.2829861550124635, -0.2668949890344071, -0.29167000944686006, -0.24165020645813834, 0.7848481932228031, 0.7827043654352501, -0.08514518620383253, 0.693585834540342, -0.08846670193598202, 1.048411574235362, 0.02364572431188195, -0.18204325608428804, 1.3286872900926754, -0.6877893356884016, -0.7554584348984519, 0.15582072289182852, -0.6040671721288594, -0.2804775497038172, 1.2423593013253391, 0.49894076286355454, 0.006366188841875799, -0.06276809632860639, 1.0922551650960837, 1.0494241728382323, -1.2545572237268587, 0.85454698485536, -1.0565770016989955, 0.4272278508761094, 0.5260487566362079, 0.3612195036176259, 1.3512716106464608, -1.950044478595946, -1.2573193534478841, -0.25056150412233086, 0.7037066439697688, -1.7049248033653637], \"yaxis\": \"y13\"}, {\"line\": {\"color\": \"rgba(128, 128, 128, 1.0)\", \"dash\": \"solid\", \"shape\": \"linear\", \"width\": 1.3}, \"marker\": {\"size\": 2, \"symbol\": \"circle\"}, \"mode\": \"markers\", \"name\": \"D\", \"text\": \"\", \"type\": \"scatter\", \"x\": [0.6307750025445071, 2.1165649393990944, -0.13402531428069492, -1.0980616376530266, -2.434586496069079, -1.3053078896558565, -0.07090686858487011, 0.2058256171970834, -0.399262838679452, -0.14038606848181132, 0.9187536646281099, -0.8442053961123566, -0.2203312366099077, 0.6148352056947539, 0.5487157074264113, -0.8815647579995127, -0.34319730713674246, -1.0520874575465975, -0.5654422884296576, -0.09868497816887367, -0.4968289089377307, 0.2716017943118359, 0.9226989164424838, -0.5239432560546522, -0.8805108560299565, 1.0291913615050854, -0.09431283356381821, -0.9703360343139987, 0.47166862549484884, -1.2700349012817091, 0.413275586679944, -0.04254191220658984, -0.3338980359576901, -0.675195513492032, 1.550294420863555, 1.1516766730039087, 0.6535287491249111, 0.6144648993585563, 0.789565666569126, -0.3433168130690615, -0.05275694170220859, 0.3020462133498991, -0.06943522706603063, -0.35192362829665536, 0.6126596333884724, 1.5578365933599612, -0.1253060804619179, -1.3902002070743285, -0.8174637537749673, 0.11333678312936613, 1.3356891122813224, 0.19964929894159641, 0.08236990727602006, 1.2201019912024953, -0.5511844759854739, -0.8289846840857326, 0.33884864688721744, 1.0881768989607006, -0.7703403348773846, -0.2946516470282624, 0.06536745681673374, 0.7892622385305326, 1.6351318760725766, -0.3738887659267329, 0.5705852579762929, 1.7567400703602254, 1.5658507756576097, -0.32738934219238813, -3.4188171677438355, -0.8446793972616198, -0.0745933598454902, 0.9009946023546918, 0.04500369804380455, -0.16211529173578793, -1.612928599166473, -0.010132569394765995, 0.17953472500659787, 0.0064179642326903244, 0.1326959809776376, 1.946233101865483, 0.03252092127965211, -0.5130179934757979, 0.1429766964487547, -1.0395116288148776, -1.160703594319139, 0.4435732597243696, 1.5891745109922495, 0.31166755938333734, -0.9900532640822058, 0.6440787128368036, 0.5558862615610557, 0.2982157252903566, 0.653861307961139, -0.9103614368183744, -0.20579788187733009, 1.2582778382184772, -0.8122835465461327, -0.2767951603430714, -1.3958080501251722, 0.6847098823556407], \"xaxis\": \"x14\", \"y\": [0.5189726602233986, -0.09129733315409432, 0.1232450306540208, -1.1698580196273767, -0.04934799474724009, -1.0001989210507714, 0.5671806384021019, -0.28322068966089176, 0.8555481328512194, -2.3713348063524196, 0.27455014331253624, -0.7645072216676173, 0.009307993448969716, 0.3343775413198073, -1.2046224912048202, 0.7413828651746952, 0.4615406725797837, -1.2669350311968313, -0.206471635708302, -1.0687192524195723, 1.158143552837741, -1.6594438359757115, 0.8786415727511163, 0.8618120176457761, -1.501183653156108, 0.411665844779012, 1.8727217322971192, -0.09692668792631587, -0.24644458423235868, -0.5232506859459267, -0.47758769627830877, 0.18243714102800973, -2.3370642938658537, -1.8018043637588312, -1.870929987970339, 0.8683836430926027, -0.16384969934716526, -1.1272793605378462, -1.696879722687243, 0.7803404884546775, -0.35183954212625357, 0.23508808803152917, -1.860281736205346, 0.17863224075601442, -0.41598731174391135, 1.5465734315420336, 0.13391237276777, 0.22546968713775464, -1.4280462028944116, -2.144388215577554, 1.6654778132648989, -0.4134961144007236, 0.32398281812293517, -0.5135466930834046, -1.1883419275290195, 0.30158716822126985, -0.26610784830215434, -0.09465805847480475, -0.7200737767470347, -0.9164077836785587, 1.6856301459780483, -1.2188237072435504, -0.484695122602499, -0.4479755552260965, -1.2829861550124635, -0.2668949890344071, -0.29167000944686006, -0.24165020645813834, 0.7848481932228031, 0.7827043654352501, -0.08514518620383253, 0.693585834540342, -0.08846670193598202, 1.048411574235362, 0.02364572431188195, -0.18204325608428804, 1.3286872900926754, -0.6877893356884016, -0.7554584348984519, 0.15582072289182852, -0.6040671721288594, -0.2804775497038172, 1.2423593013253391, 0.49894076286355454, 0.006366188841875799, -0.06276809632860639, 1.0922551650960837, 1.0494241728382323, -1.2545572237268587, 0.85454698485536, -1.0565770016989955, 0.4272278508761094, 0.5260487566362079, 0.3612195036176259, 1.3512716106464608, -1.950044478595946, -1.2573193534478841, -0.25056150412233086, 0.7037066439697688, -1.7049248033653637], \"yaxis\": \"y14\"}, {\"line\": {\"color\": \"rgba(128, 128, 128, 1.0)\", \"dash\": \"solid\", \"shape\": \"linear\", \"width\": 1.3}, \"marker\": {\"size\": 2, \"symbol\": \"circle\"}, \"mode\": \"markers\", \"name\": \"D\", \"text\": \"\", \"type\": \"scatter\", \"x\": [-0.46340373251531897, -1.2458082668067412, -1.2544869635350833, 0.7992798174825069, -0.6920536741082177, -0.9039402715935553, -0.5318693601620845, 0.36622384671901065, 1.734636291744235, 0.4919645545584108, -1.2114597598608754, 0.45078559077266145, 0.1572546695747489, 0.2931161256889199, -2.019960738755273, 1.9786741394069225, -0.25705990841031306, 0.6258033617564331, -0.565313370019214, -0.871242691574864, -0.9072413358597263, -0.4352159828031252, -0.3152789420605196, 0.3343274016001478, -0.8355510389853845, -0.08063233193136128, 1.2085798566116208, -1.4467876496884895, 0.38203123547837603, 0.46426729140012724, 1.6401217079434836, -0.854238034593468, 1.5407210744037485, -0.14436325819618617, -0.2605810656404103, -1.0667650476360888, -1.056067245591354, 1.9574704984813092, -0.28548161395355387, 0.3630299765906264, 1.8717410623106905, -1.2885519087872637, 0.2047593692732163, -0.5974228245989848, 1.6814383513171696, 0.820360064671196, -0.17586988934263895, -0.4083214975570279, -0.05674128881314127, -1.8152612188116326, -0.8864130113250144, 1.4603451453226415, 1.4297458915209527, 0.6231188334979672, -0.8101152307172, 1.6812865981628995, 0.2536332988253022, -0.21639811344208956, -0.7350529452943216, -0.148659510206894, 0.3782443081771902, -1.2849059090569048, -1.9032548143075259, -0.39613707656414376, 0.40350296821948145, -0.11486122769817589, -0.0305981534114856, -0.27470397798688656, -1.3120954580845827, 0.8276891494136229, -0.980367071594073, -0.04462247327438354, 1.7759901461121241, 0.19542388409024997, -0.13794027312975354, -2.244810442035269, 1.140100134219041, -0.07762929188667533, 0.9865114345836813, -0.33191983063864333, -0.4927775935775253, -0.41706644247887215, -0.9506510221488315, 0.32331265996069625, 0.12018968834740629, 1.1090243442109413, -0.15391658451186283, -1.8478056324649534, 0.7164486019595993, -1.0500354676498393, -2.573872198975193, -0.805911709339272, -0.369358056939599, 0.5729898387862129, 1.619496005508339, 0.381073260793748, 0.5465425470776235, 0.8295352203740076, 0.6860406524629331, -1.4466022690225124], \"xaxis\": \"x15\", \"y\": [0.5189726602233986, -0.09129733315409432, 0.1232450306540208, -1.1698580196273767, -0.04934799474724009, -1.0001989210507714, 0.5671806384021019, -0.28322068966089176, 0.8555481328512194, -2.3713348063524196, 0.27455014331253624, -0.7645072216676173, 0.009307993448969716, 0.3343775413198073, -1.2046224912048202, 0.7413828651746952, 0.4615406725797837, -1.2669350311968313, -0.206471635708302, -1.0687192524195723, 1.158143552837741, -1.6594438359757115, 0.8786415727511163, 0.8618120176457761, -1.501183653156108, 0.411665844779012, 1.8727217322971192, -0.09692668792631587, -0.24644458423235868, -0.5232506859459267, -0.47758769627830877, 0.18243714102800973, -2.3370642938658537, -1.8018043637588312, -1.870929987970339, 0.8683836430926027, -0.16384969934716526, -1.1272793605378462, -1.696879722687243, 0.7803404884546775, -0.35183954212625357, 0.23508808803152917, -1.860281736205346, 0.17863224075601442, -0.41598731174391135, 1.5465734315420336, 0.13391237276777, 0.22546968713775464, -1.4280462028944116, -2.144388215577554, 1.6654778132648989, -0.4134961144007236, 0.32398281812293517, -0.5135466930834046, -1.1883419275290195, 0.30158716822126985, -0.26610784830215434, -0.09465805847480475, -0.7200737767470347, -0.9164077836785587, 1.6856301459780483, -1.2188237072435504, -0.484695122602499, -0.4479755552260965, -1.2829861550124635, -0.2668949890344071, -0.29167000944686006, -0.24165020645813834, 0.7848481932228031, 0.7827043654352501, -0.08514518620383253, 0.693585834540342, -0.08846670193598202, 1.048411574235362, 0.02364572431188195, -0.18204325608428804, 1.3286872900926754, -0.6877893356884016, -0.7554584348984519, 0.15582072289182852, -0.6040671721288594, -0.2804775497038172, 1.2423593013253391, 0.49894076286355454, 0.006366188841875799, -0.06276809632860639, 1.0922551650960837, 1.0494241728382323, -1.2545572237268587, 0.85454698485536, -1.0565770016989955, 0.4272278508761094, 0.5260487566362079, 0.3612195036176259, 1.3512716106464608, -1.950044478595946, -1.2573193534478841, -0.25056150412233086, 0.7037066439697688, -1.7049248033653637], \"yaxis\": \"y15\"}, {\"histfunc\": \"count\", \"histnorm\": \"\", \"marker\": {\"color\": \"rgba(128, 0, 128, 1.0)\", \"line\": {\"color\": \"#4D5663\", \"width\": 1.3}}, \"name\": \"D\", \"nbinsx\": 10, \"opacity\": 0.8, \"orientation\": \"v\", \"type\": \"histogram\", \"x\": [0.5189726602233986, -0.09129733315409432, 0.1232450306540208, -1.1698580196273767, -0.04934799474724009, -1.0001989210507714, 0.5671806384021019, -0.28322068966089176, 0.8555481328512194, -2.3713348063524196, 0.27455014331253624, -0.7645072216676173, 0.009307993448969716, 0.3343775413198073, -1.2046224912048202, 0.7413828651746952, 0.4615406725797837, -1.2669350311968313, -0.206471635708302, -1.0687192524195723, 1.158143552837741, -1.6594438359757115, 0.8786415727511163, 0.8618120176457761, -1.501183653156108, 0.411665844779012, 1.8727217322971192, -0.09692668792631587, -0.24644458423235868, -0.5232506859459267, -0.47758769627830877, 0.18243714102800973, -2.3370642938658537, -1.8018043637588312, -1.870929987970339, 0.8683836430926027, -0.16384969934716526, -1.1272793605378462, -1.696879722687243, 0.7803404884546775, -0.35183954212625357, 0.23508808803152917, -1.860281736205346, 0.17863224075601442, -0.41598731174391135, 1.5465734315420336, 0.13391237276777, 0.22546968713775464, -1.4280462028944116, -2.144388215577554, 1.6654778132648989, -0.4134961144007236, 0.32398281812293517, -0.5135466930834046, -1.1883419275290195, 0.30158716822126985, -0.26610784830215434, -0.09465805847480475, -0.7200737767470347, -0.9164077836785587, 1.6856301459780483, -1.2188237072435504, -0.484695122602499, -0.4479755552260965, -1.2829861550124635, -0.2668949890344071, -0.29167000944686006, -0.24165020645813834, 0.7848481932228031, 0.7827043654352501, -0.08514518620383253, 0.693585834540342, -0.08846670193598202, 1.048411574235362, 0.02364572431188195, -0.18204325608428804, 1.3286872900926754, -0.6877893356884016, -0.7554584348984519, 0.15582072289182852, -0.6040671721288594, -0.2804775497038172, 1.2423593013253391, 0.49894076286355454, 0.006366188841875799, -0.06276809632860639, 1.0922551650960837, 1.0494241728382323, -1.2545572237268587, 0.85454698485536, -1.0565770016989955, 0.4272278508761094, 0.5260487566362079, 0.3612195036176259, 1.3512716106464608, -1.950044478595946, -1.2573193534478841, -0.25056150412233086, 0.7037066439697688, -1.7049248033653637], \"xaxis\": \"x16\", \"yaxis\": \"y16\"}],\n",
       "                        {\"bargap\": 0.02, \"legend\": {\"bgcolor\": \"#F5F6F9\", \"font\": {\"color\": \"#4D5663\"}}, \"paper_bgcolor\": \"#F5F6F9\", \"plot_bgcolor\": \"#F5F6F9\", \"showlegend\": false, \"template\": {\"data\": {\"bar\": [{\"error_x\": {\"color\": \"#2a3f5f\"}, \"error_y\": {\"color\": \"#2a3f5f\"}, \"marker\": {\"line\": {\"color\": \"#E5ECF6\", \"width\": 0.5}}, \"type\": \"bar\"}], \"barpolar\": [{\"marker\": {\"line\": {\"color\": \"#E5ECF6\", \"width\": 0.5}}, \"type\": \"barpolar\"}], \"carpet\": [{\"aaxis\": {\"endlinecolor\": \"#2a3f5f\", \"gridcolor\": \"white\", \"linecolor\": \"white\", \"minorgridcolor\": \"white\", \"startlinecolor\": \"#2a3f5f\"}, \"baxis\": {\"endlinecolor\": \"#2a3f5f\", \"gridcolor\": \"white\", \"linecolor\": \"white\", \"minorgridcolor\": \"white\", \"startlinecolor\": \"#2a3f5f\"}, \"type\": \"carpet\"}], \"choropleth\": [{\"colorbar\": {\"outlinewidth\": 0, \"ticks\": \"\"}, \"type\": \"choropleth\"}], \"contour\": [{\"colorbar\": {\"outlinewidth\": 0, \"ticks\": \"\"}, \"colorscale\": [[0.0, \"#0d0887\"], [0.1111111111111111, \"#46039f\"], [0.2222222222222222, \"#7201a8\"], [0.3333333333333333, \"#9c179e\"], [0.4444444444444444, \"#bd3786\"], [0.5555555555555556, \"#d8576b\"], [0.6666666666666666, \"#ed7953\"], [0.7777777777777778, \"#fb9f3a\"], [0.8888888888888888, \"#fdca26\"], [1.0, \"#f0f921\"]], \"type\": \"contour\"}], \"contourcarpet\": [{\"colorbar\": {\"outlinewidth\": 0, \"ticks\": \"\"}, \"type\": \"contourcarpet\"}], \"heatmap\": [{\"colorbar\": {\"outlinewidth\": 0, \"ticks\": \"\"}, \"colorscale\": [[0.0, \"#0d0887\"], [0.1111111111111111, \"#46039f\"], [0.2222222222222222, \"#7201a8\"], [0.3333333333333333, \"#9c179e\"], [0.4444444444444444, \"#bd3786\"], [0.5555555555555556, \"#d8576b\"], [0.6666666666666666, \"#ed7953\"], [0.7777777777777778, \"#fb9f3a\"], [0.8888888888888888, \"#fdca26\"], [1.0, \"#f0f921\"]], \"type\": \"heatmap\"}], \"heatmapgl\": [{\"colorbar\": {\"outlinewidth\": 0, \"ticks\": \"\"}, \"colorscale\": [[0.0, \"#0d0887\"], [0.1111111111111111, \"#46039f\"], [0.2222222222222222, \"#7201a8\"], [0.3333333333333333, \"#9c179e\"], [0.4444444444444444, \"#bd3786\"], [0.5555555555555556, \"#d8576b\"], [0.6666666666666666, \"#ed7953\"], [0.7777777777777778, \"#fb9f3a\"], [0.8888888888888888, \"#fdca26\"], [1.0, \"#f0f921\"]], \"type\": \"heatmapgl\"}], \"histogram\": [{\"marker\": {\"colorbar\": {\"outlinewidth\": 0, \"ticks\": \"\"}}, \"type\": \"histogram\"}], \"histogram2d\": [{\"colorbar\": {\"outlinewidth\": 0, \"ticks\": \"\"}, \"colorscale\": [[0.0, \"#0d0887\"], [0.1111111111111111, \"#46039f\"], [0.2222222222222222, \"#7201a8\"], [0.3333333333333333, \"#9c179e\"], [0.4444444444444444, \"#bd3786\"], [0.5555555555555556, \"#d8576b\"], [0.6666666666666666, \"#ed7953\"], [0.7777777777777778, \"#fb9f3a\"], [0.8888888888888888, \"#fdca26\"], [1.0, \"#f0f921\"]], \"type\": \"histogram2d\"}], \"histogram2dcontour\": [{\"colorbar\": {\"outlinewidth\": 0, \"ticks\": \"\"}, \"colorscale\": [[0.0, \"#0d0887\"], [0.1111111111111111, \"#46039f\"], [0.2222222222222222, \"#7201a8\"], [0.3333333333333333, \"#9c179e\"], [0.4444444444444444, \"#bd3786\"], [0.5555555555555556, \"#d8576b\"], [0.6666666666666666, \"#ed7953\"], [0.7777777777777778, \"#fb9f3a\"], [0.8888888888888888, \"#fdca26\"], [1.0, \"#f0f921\"]], \"type\": \"histogram2dcontour\"}], \"mesh3d\": [{\"colorbar\": {\"outlinewidth\": 0, \"ticks\": \"\"}, \"type\": \"mesh3d\"}], \"parcoords\": [{\"line\": {\"colorbar\": {\"outlinewidth\": 0, \"ticks\": \"\"}}, \"type\": \"parcoords\"}], \"pie\": [{\"automargin\": true, \"type\": \"pie\"}], \"scatter\": [{\"marker\": {\"colorbar\": {\"outlinewidth\": 0, \"ticks\": \"\"}}, \"type\": \"scatter\"}], \"scatter3d\": [{\"line\": {\"colorbar\": {\"outlinewidth\": 0, \"ticks\": \"\"}}, \"marker\": {\"colorbar\": {\"outlinewidth\": 0, \"ticks\": \"\"}}, \"type\": \"scatter3d\"}], \"scattercarpet\": [{\"marker\": {\"colorbar\": {\"outlinewidth\": 0, \"ticks\": \"\"}}, \"type\": \"scattercarpet\"}], \"scattergeo\": [{\"marker\": {\"colorbar\": {\"outlinewidth\": 0, \"ticks\": \"\"}}, \"type\": \"scattergeo\"}], \"scattergl\": [{\"marker\": {\"colorbar\": {\"outlinewidth\": 0, \"ticks\": \"\"}}, \"type\": \"scattergl\"}], \"scattermapbox\": [{\"marker\": {\"colorbar\": {\"outlinewidth\": 0, \"ticks\": \"\"}}, \"type\": \"scattermapbox\"}], \"scatterpolar\": [{\"marker\": {\"colorbar\": {\"outlinewidth\": 0, \"ticks\": \"\"}}, \"type\": \"scatterpolar\"}], \"scatterpolargl\": [{\"marker\": {\"colorbar\": {\"outlinewidth\": 0, \"ticks\": \"\"}}, \"type\": \"scatterpolargl\"}], \"scatterternary\": [{\"marker\": {\"colorbar\": {\"outlinewidth\": 0, \"ticks\": \"\"}}, \"type\": \"scatterternary\"}], \"surface\": [{\"colorbar\": {\"outlinewidth\": 0, \"ticks\": \"\"}, \"colorscale\": [[0.0, \"#0d0887\"], [0.1111111111111111, \"#46039f\"], [0.2222222222222222, \"#7201a8\"], [0.3333333333333333, \"#9c179e\"], [0.4444444444444444, \"#bd3786\"], [0.5555555555555556, \"#d8576b\"], [0.6666666666666666, \"#ed7953\"], [0.7777777777777778, \"#fb9f3a\"], [0.8888888888888888, \"#fdca26\"], [1.0, \"#f0f921\"]], \"type\": \"surface\"}], \"table\": [{\"cells\": {\"fill\": {\"color\": \"#EBF0F8\"}, \"line\": {\"color\": \"white\"}}, \"header\": {\"fill\": {\"color\": \"#C8D4E3\"}, \"line\": {\"color\": \"white\"}}, \"type\": \"table\"}]}, \"layout\": {\"annotationdefaults\": {\"arrowcolor\": \"#2a3f5f\", \"arrowhead\": 0, \"arrowwidth\": 1}, \"coloraxis\": {\"colorbar\": {\"outlinewidth\": 0, \"ticks\": \"\"}}, \"colorscale\": {\"diverging\": [[0, \"#8e0152\"], [0.1, \"#c51b7d\"], [0.2, \"#de77ae\"], [0.3, \"#f1b6da\"], [0.4, \"#fde0ef\"], [0.5, \"#f7f7f7\"], [0.6, \"#e6f5d0\"], [0.7, \"#b8e186\"], [0.8, \"#7fbc41\"], [0.9, \"#4d9221\"], [1, \"#276419\"]], \"sequential\": [[0.0, \"#0d0887\"], [0.1111111111111111, \"#46039f\"], [0.2222222222222222, \"#7201a8\"], [0.3333333333333333, \"#9c179e\"], [0.4444444444444444, \"#bd3786\"], [0.5555555555555556, \"#d8576b\"], [0.6666666666666666, \"#ed7953\"], [0.7777777777777778, \"#fb9f3a\"], [0.8888888888888888, \"#fdca26\"], [1.0, \"#f0f921\"]], \"sequentialminus\": [[0.0, \"#0d0887\"], [0.1111111111111111, \"#46039f\"], [0.2222222222222222, \"#7201a8\"], [0.3333333333333333, \"#9c179e\"], [0.4444444444444444, \"#bd3786\"], [0.5555555555555556, \"#d8576b\"], [0.6666666666666666, \"#ed7953\"], [0.7777777777777778, \"#fb9f3a\"], [0.8888888888888888, \"#fdca26\"], [1.0, \"#f0f921\"]]}, \"colorway\": [\"#636efa\", \"#EF553B\", \"#00cc96\", \"#ab63fa\", \"#FFA15A\", \"#19d3f3\", \"#FF6692\", \"#B6E880\", \"#FF97FF\", \"#FECB52\"], \"font\": {\"color\": \"#2a3f5f\"}, \"geo\": {\"bgcolor\": \"white\", \"lakecolor\": \"white\", \"landcolor\": \"#E5ECF6\", \"showlakes\": true, \"showland\": true, \"subunitcolor\": \"white\"}, \"hoverlabel\": {\"align\": \"left\"}, \"hovermode\": \"closest\", \"mapbox\": {\"style\": \"light\"}, \"paper_bgcolor\": \"white\", \"plot_bgcolor\": \"#E5ECF6\", \"polar\": {\"angularaxis\": {\"gridcolor\": \"white\", \"linecolor\": \"white\", \"ticks\": \"\"}, \"bgcolor\": \"#E5ECF6\", \"radialaxis\": {\"gridcolor\": \"white\", \"linecolor\": \"white\", \"ticks\": \"\"}}, \"scene\": {\"xaxis\": {\"backgroundcolor\": \"#E5ECF6\", \"gridcolor\": \"white\", \"gridwidth\": 2, \"linecolor\": \"white\", \"showbackground\": true, \"ticks\": \"\", \"zerolinecolor\": \"white\"}, \"yaxis\": {\"backgroundcolor\": \"#E5ECF6\", \"gridcolor\": \"white\", \"gridwidth\": 2, \"linecolor\": \"white\", \"showbackground\": true, \"ticks\": \"\", \"zerolinecolor\": \"white\"}, \"zaxis\": {\"backgroundcolor\": \"#E5ECF6\", \"gridcolor\": \"white\", \"gridwidth\": 2, \"linecolor\": \"white\", \"showbackground\": true, \"ticks\": \"\", \"zerolinecolor\": \"white\"}}, \"shapedefaults\": {\"line\": {\"color\": \"#2a3f5f\"}}, \"ternary\": {\"aaxis\": {\"gridcolor\": \"white\", \"linecolor\": \"white\", \"ticks\": \"\"}, \"baxis\": {\"gridcolor\": \"white\", \"linecolor\": \"white\", \"ticks\": \"\"}, \"bgcolor\": \"#E5ECF6\", \"caxis\": {\"gridcolor\": \"white\", \"linecolor\": \"white\", \"ticks\": \"\"}}, \"title\": {\"x\": 0.05}, \"xaxis\": {\"automargin\": true, \"gridcolor\": \"white\", \"linecolor\": \"white\", \"ticks\": \"\", \"title\": {\"standoff\": 15}, \"zerolinecolor\": \"white\", \"zerolinewidth\": 2}, \"yaxis\": {\"automargin\": true, \"gridcolor\": \"white\", \"linecolor\": \"white\", \"ticks\": \"\", \"title\": {\"standoff\": 15}, \"zerolinecolor\": \"white\", \"zerolinewidth\": 2}}}, \"title\": {\"font\": {\"color\": \"#4D5663\"}}, \"xaxis\": {\"anchor\": \"y\", \"domain\": [0.0, 0.2125], \"gridcolor\": \"#E1E5ED\", \"showgrid\": false, \"tickfont\": {\"color\": \"#4D5663\"}, \"title\": {\"font\": {\"color\": \"#4D5663\"}, \"text\": \"\"}, \"zerolinecolor\": \"#E1E5ED\"}, \"xaxis10\": {\"anchor\": \"y10\", \"domain\": [0.2625, 0.475], \"gridcolor\": \"#E1E5ED\", \"showgrid\": false, \"tickfont\": {\"color\": \"#4D5663\"}, \"title\": {\"font\": {\"color\": \"#4D5663\"}, \"text\": \"\"}, \"zerolinecolor\": \"#E1E5ED\"}, \"xaxis11\": {\"anchor\": \"y11\", \"domain\": [0.525, 0.7375], \"gridcolor\": \"#E1E5ED\", \"showgrid\": false, \"tickfont\": {\"color\": \"#4D5663\"}, \"title\": {\"font\": {\"color\": \"#4D5663\"}, \"text\": \"\"}, \"zerolinecolor\": \"#E1E5ED\"}, \"xaxis12\": {\"anchor\": \"y12\", \"domain\": [0.7875, 1.0], \"gridcolor\": \"#E1E5ED\", \"showgrid\": false, \"tickfont\": {\"color\": \"#4D5663\"}, \"title\": {\"font\": {\"color\": \"#4D5663\"}, \"text\": \"\"}, \"zerolinecolor\": \"#E1E5ED\"}, \"xaxis13\": {\"anchor\": \"y13\", \"domain\": [0.0, 0.2125], \"gridcolor\": \"#E1E5ED\", \"showgrid\": false, \"tickfont\": {\"color\": \"#4D5663\"}, \"title\": {\"font\": {\"color\": \"#4D5663\"}, \"text\": \"\"}, \"zerolinecolor\": \"#E1E5ED\"}, \"xaxis14\": {\"anchor\": \"y14\", \"domain\": [0.2625, 0.475], \"gridcolor\": \"#E1E5ED\", \"showgrid\": false, \"tickfont\": {\"color\": \"#4D5663\"}, \"title\": {\"font\": {\"color\": \"#4D5663\"}, \"text\": \"\"}, \"zerolinecolor\": \"#E1E5ED\"}, \"xaxis15\": {\"anchor\": \"y15\", \"domain\": [0.525, 0.7375], \"gridcolor\": \"#E1E5ED\", \"showgrid\": false, \"tickfont\": {\"color\": \"#4D5663\"}, \"title\": {\"font\": {\"color\": \"#4D5663\"}, \"text\": \"\"}, \"zerolinecolor\": \"#E1E5ED\"}, \"xaxis16\": {\"anchor\": \"y16\", \"domain\": [0.7875, 1.0], \"gridcolor\": \"#E1E5ED\", \"showgrid\": false, \"tickfont\": {\"color\": \"#4D5663\"}, \"title\": {\"font\": {\"color\": \"#4D5663\"}, \"text\": \"\"}, \"zerolinecolor\": \"#E1E5ED\"}, \"xaxis2\": {\"anchor\": \"y2\", \"domain\": [0.2625, 0.475], \"gridcolor\": \"#E1E5ED\", \"showgrid\": false, \"tickfont\": {\"color\": \"#4D5663\"}, \"title\": {\"font\": {\"color\": \"#4D5663\"}, \"text\": \"\"}, \"zerolinecolor\": \"#E1E5ED\"}, \"xaxis3\": {\"anchor\": \"y3\", \"domain\": [0.525, 0.7375], \"gridcolor\": \"#E1E5ED\", \"showgrid\": false, \"tickfont\": {\"color\": \"#4D5663\"}, \"title\": {\"font\": {\"color\": \"#4D5663\"}, \"text\": \"\"}, \"zerolinecolor\": \"#E1E5ED\"}, \"xaxis4\": {\"anchor\": \"y4\", \"domain\": [0.7875, 1.0], \"gridcolor\": \"#E1E5ED\", \"showgrid\": false, \"tickfont\": {\"color\": \"#4D5663\"}, \"title\": {\"font\": {\"color\": \"#4D5663\"}, \"text\": \"\"}, \"zerolinecolor\": \"#E1E5ED\"}, \"xaxis5\": {\"anchor\": \"y5\", \"domain\": [0.0, 0.2125], \"gridcolor\": \"#E1E5ED\", \"showgrid\": false, \"tickfont\": {\"color\": \"#4D5663\"}, \"title\": {\"font\": {\"color\": \"#4D5663\"}, \"text\": \"\"}, \"zerolinecolor\": \"#E1E5ED\"}, \"xaxis6\": {\"anchor\": \"y6\", \"domain\": [0.2625, 0.475], \"gridcolor\": \"#E1E5ED\", \"showgrid\": false, \"tickfont\": {\"color\": \"#4D5663\"}, \"title\": {\"font\": {\"color\": \"#4D5663\"}, \"text\": \"\"}, \"zerolinecolor\": \"#E1E5ED\"}, \"xaxis7\": {\"anchor\": \"y7\", \"domain\": [0.525, 0.7375], \"gridcolor\": \"#E1E5ED\", \"showgrid\": false, \"tickfont\": {\"color\": \"#4D5663\"}, \"title\": {\"font\": {\"color\": \"#4D5663\"}, \"text\": \"\"}, \"zerolinecolor\": \"#E1E5ED\"}, \"xaxis8\": {\"anchor\": \"y8\", \"domain\": [0.7875, 1.0], \"gridcolor\": \"#E1E5ED\", \"showgrid\": false, \"tickfont\": {\"color\": \"#4D5663\"}, \"title\": {\"font\": {\"color\": \"#4D5663\"}, \"text\": \"\"}, \"zerolinecolor\": \"#E1E5ED\"}, \"xaxis9\": {\"anchor\": \"y9\", \"domain\": [0.0, 0.2125], \"gridcolor\": \"#E1E5ED\", \"showgrid\": false, \"tickfont\": {\"color\": \"#4D5663\"}, \"title\": {\"font\": {\"color\": \"#4D5663\"}, \"text\": \"\"}, \"zerolinecolor\": \"#E1E5ED\"}, \"yaxis\": {\"anchor\": \"x\", \"domain\": [0.8025, 1.0], \"gridcolor\": \"#E1E5ED\", \"showgrid\": false, \"tickfont\": {\"color\": \"#4D5663\"}, \"title\": {\"font\": {\"color\": \"#4D5663\"}, \"text\": \"\"}, \"zerolinecolor\": \"#E1E5ED\"}, \"yaxis10\": {\"anchor\": \"x10\", \"domain\": [0.2675, 0.465], \"gridcolor\": \"#E1E5ED\", \"showgrid\": false, \"tickfont\": {\"color\": \"#4D5663\"}, \"title\": {\"font\": {\"color\": \"#4D5663\"}, \"text\": \"\"}, \"zerolinecolor\": \"#E1E5ED\"}, \"yaxis11\": {\"anchor\": \"x11\", \"domain\": [0.2675, 0.465], \"gridcolor\": \"#E1E5ED\", \"showgrid\": false, \"tickfont\": {\"color\": \"#4D5663\"}, \"title\": {\"font\": {\"color\": \"#4D5663\"}, \"text\": \"\"}, \"zerolinecolor\": \"#E1E5ED\"}, \"yaxis12\": {\"anchor\": \"x12\", \"domain\": [0.2675, 0.465], \"gridcolor\": \"#E1E5ED\", \"showgrid\": false, \"tickfont\": {\"color\": \"#4D5663\"}, \"title\": {\"font\": {\"color\": \"#4D5663\"}, \"text\": \"\"}, \"zerolinecolor\": \"#E1E5ED\"}, \"yaxis13\": {\"anchor\": \"x13\", \"domain\": [0.0, 0.1975], \"gridcolor\": \"#E1E5ED\", \"showgrid\": false, \"tickfont\": {\"color\": \"#4D5663\"}, \"title\": {\"font\": {\"color\": \"#4D5663\"}, \"text\": \"\"}, \"zerolinecolor\": \"#E1E5ED\"}, \"yaxis14\": {\"anchor\": \"x14\", \"domain\": [0.0, 0.1975], \"gridcolor\": \"#E1E5ED\", \"showgrid\": false, \"tickfont\": {\"color\": \"#4D5663\"}, \"title\": {\"font\": {\"color\": \"#4D5663\"}, \"text\": \"\"}, \"zerolinecolor\": \"#E1E5ED\"}, \"yaxis15\": {\"anchor\": \"x15\", \"domain\": [0.0, 0.1975], \"gridcolor\": \"#E1E5ED\", \"showgrid\": false, \"tickfont\": {\"color\": \"#4D5663\"}, \"title\": {\"font\": {\"color\": \"#4D5663\"}, \"text\": \"\"}, \"zerolinecolor\": \"#E1E5ED\"}, \"yaxis16\": {\"anchor\": \"x16\", \"domain\": [0.0, 0.1975], \"gridcolor\": \"#E1E5ED\", \"showgrid\": false, \"tickfont\": {\"color\": \"#4D5663\"}, \"title\": {\"font\": {\"color\": \"#4D5663\"}, \"text\": \"\"}, \"zerolinecolor\": \"#E1E5ED\"}, \"yaxis2\": {\"anchor\": \"x2\", \"domain\": [0.8025, 1.0], \"gridcolor\": \"#E1E5ED\", \"showgrid\": false, \"tickfont\": {\"color\": \"#4D5663\"}, \"title\": {\"font\": {\"color\": \"#4D5663\"}, \"text\": \"\"}, \"zerolinecolor\": \"#E1E5ED\"}, \"yaxis3\": {\"anchor\": \"x3\", \"domain\": [0.8025, 1.0], \"gridcolor\": \"#E1E5ED\", \"showgrid\": false, \"tickfont\": {\"color\": \"#4D5663\"}, \"title\": {\"font\": {\"color\": \"#4D5663\"}, \"text\": \"\"}, \"zerolinecolor\": \"#E1E5ED\"}, \"yaxis4\": {\"anchor\": \"x4\", \"domain\": [0.8025, 1.0], \"gridcolor\": \"#E1E5ED\", \"showgrid\": false, \"tickfont\": {\"color\": \"#4D5663\"}, \"title\": {\"font\": {\"color\": \"#4D5663\"}, \"text\": \"\"}, \"zerolinecolor\": \"#E1E5ED\"}, \"yaxis5\": {\"anchor\": \"x5\", \"domain\": [0.535, 0.7325], \"gridcolor\": \"#E1E5ED\", \"showgrid\": false, \"tickfont\": {\"color\": \"#4D5663\"}, \"title\": {\"font\": {\"color\": \"#4D5663\"}, \"text\": \"\"}, \"zerolinecolor\": \"#E1E5ED\"}, \"yaxis6\": {\"anchor\": \"x6\", \"domain\": [0.535, 0.7325], \"gridcolor\": \"#E1E5ED\", \"showgrid\": false, \"tickfont\": {\"color\": \"#4D5663\"}, \"title\": {\"font\": {\"color\": \"#4D5663\"}, \"text\": \"\"}, \"zerolinecolor\": \"#E1E5ED\"}, \"yaxis7\": {\"anchor\": \"x7\", \"domain\": [0.535, 0.7325], \"gridcolor\": \"#E1E5ED\", \"showgrid\": false, \"tickfont\": {\"color\": \"#4D5663\"}, \"title\": {\"font\": {\"color\": \"#4D5663\"}, \"text\": \"\"}, \"zerolinecolor\": \"#E1E5ED\"}, \"yaxis8\": {\"anchor\": \"x8\", \"domain\": [0.535, 0.7325], \"gridcolor\": \"#E1E5ED\", \"showgrid\": false, \"tickfont\": {\"color\": \"#4D5663\"}, \"title\": {\"font\": {\"color\": \"#4D5663\"}, \"text\": \"\"}, \"zerolinecolor\": \"#E1E5ED\"}, \"yaxis9\": {\"anchor\": \"x9\", \"domain\": [0.2675, 0.465], \"gridcolor\": \"#E1E5ED\", \"showgrid\": false, \"tickfont\": {\"color\": \"#4D5663\"}, \"title\": {\"font\": {\"color\": \"#4D5663\"}, \"text\": \"\"}, \"zerolinecolor\": \"#E1E5ED\"}},\n",
       "                        {\"showLink\": true, \"linkText\": \"Export to plot.ly\", \"plotlyServerURL\": \"https://plot.ly\", \"responsive\": true}\n",
       "                    ).then(function(){\n",
       "                            \n",
       "var gd = document.getElementById('bfe2c06c-f69b-4b1a-a415-d5593f4ab6d5');\n",
       "var x = new MutationObserver(function (mutations, observer) {{\n",
       "        var display = window.getComputedStyle(gd).display;\n",
       "        if (!display || display === 'none') {{\n",
       "            console.log([gd, 'removed!']);\n",
       "            Plotly.purge(gd);\n",
       "            observer.disconnect();\n",
       "        }}\n",
       "}});\n",
       "\n",
       "// Listen for the removal of the full notebook cells\n",
       "var notebookContainer = gd.closest('#notebook-container');\n",
       "if (notebookContainer) {{\n",
       "    x.observe(notebookContainer, {childList: true});\n",
       "}}\n",
       "\n",
       "// Listen for the clearing of the current output cell\n",
       "var outputEl = gd.closest('.output');\n",
       "if (outputEl) {{\n",
       "    x.observe(outputEl, {childList: true});\n",
       "}}\n",
       "\n",
       "                        })\n",
       "                };\n",
       "                });\n",
       "            </script>\n",
       "        </div>"
      ]
     },
     "metadata": {},
     "output_type": "display_data"
    }
   ],
   "source": [
    "df.scatter_matrix()"
   ]
  },
  {
   "cell_type": "markdown",
   "metadata": {
    "collapsed": true
   },
   "source": [
    "# Great Job!"
   ]
  }
 ],
 "metadata": {
  "kernelspec": {
   "display_name": "Python 3",
   "language": "python",
   "name": "python3"
  },
  "language_info": {
   "codemirror_mode": {
    "name": "ipython",
    "version": 3
   },
   "file_extension": ".py",
   "mimetype": "text/x-python",
   "name": "python",
   "nbconvert_exporter": "python",
   "pygments_lexer": "ipython3",
   "version": "3.7.6"
  }
 },
 "nbformat": 4,
 "nbformat_minor": 1
}
